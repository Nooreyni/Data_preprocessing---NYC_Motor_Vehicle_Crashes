{
 "metadata": {
  "language_info": {
   "codemirror_mode": {
    "name": "ipython",
    "version": 3
   },
   "file_extension": ".py",
   "mimetype": "text/x-python",
   "name": "python",
   "nbconvert_exporter": "python",
   "pygments_lexer": "ipython3",
   "version": "3.8.5-final"
  },
  "orig_nbformat": 2,
  "kernelspec": {
   "name": "python38564bit5f2391659b0b4e51a5ae522873c52736",
   "display_name": "Python 3.8.5 64-bit",
   "language": "python"
  }
 },
 "nbformat": 4,
 "nbformat_minor": 2,
 "cells": [
  {
   "cell_type": "code",
   "execution_count": 20,
   "metadata": {},
   "outputs": [],
   "source": [
    "import pandas as pd\n",
    "import numpy as np\n",
    "import matplotlib\n",
    "import seaborn as sns\n",
    "from matplotlib import pyplot as plt\n",
    "from datetime import date\n",
    "import cv2"
   ]
  },
  {
   "cell_type": "code",
   "execution_count": 21,
   "metadata": {},
   "outputs": [
    {
     "output_type": "execute_result",
     "data": {
      "text/plain": [
       "                           crash_date crash_time        borough  zip_code  \\\n",
       "collision_id                                                                \n",
       "3654181       2017-04-18T00:00:00.000      23:10  STATEN ISLAND   10312.0   \n",
       "3665311       2017-05-06T00:00:00.000      13:00          BRONX   10472.0   \n",
       "3658491       2017-04-27T00:00:00.000      17:15         QUEENS   11420.0   \n",
       "3666554       2017-05-09T00:00:00.000      20:10            NaN       NaN   \n",
       "3653269       2017-04-18T00:00:00.000      14:00          BRONX   10456.0   \n",
       "3666365       2017-05-08T00:00:00.000      10:33            NaN       NaN   \n",
       "3666842       2017-05-10T00:00:00.000       6:10            NaN       NaN   \n",
       "3657123       2017-04-24T00:00:00.000       9:30       BROOKLYN   11203.0   \n",
       "3651039       2017-04-14T00:00:00.000      13:00            NaN       NaN   \n",
       "3661896       2017-05-02T00:00:00.000       1:00          BRONX   10474.0   \n",
       "3661330       2017-05-01T00:00:00.000      14:30  STATEN ISLAND   10301.0   \n",
       "3659418       2017-04-29T00:00:00.000       8:45            NaN       NaN   \n",
       "3661943       2017-05-01T00:00:00.000      10:30       BROOKLYN   11223.0   \n",
       "3654121       2017-04-16T00:00:00.000      15:50       BROOKLYN   11203.0   \n",
       "3673696       2017-04-25T00:00:00.000      18:00       BROOKLYN   11234.0   \n",
       "3655451       2017-04-22T00:00:00.000       7:00            NaN       NaN   \n",
       "3654545       2017-04-20T00:00:00.000      18:00          BRONX   10463.0   \n",
       "3665559       2017-05-06T00:00:00.000      14:10         QUEENS   11419.0   \n",
       "3662987       2017-04-28T00:00:00.000      22:14            NaN       NaN   \n",
       "3663956       2017-05-05T00:00:00.000      16:30          BRONX   10453.0   \n",
       "\n",
       "               latitude  longitude                 location  \\\n",
       "collision_id                                                  \n",
       "3654181       40.536728 -74.193344  (40.536728, -74.193344)   \n",
       "3665311       40.829052 -73.850380   (40.829052, -73.85038)   \n",
       "3658491       40.677303 -73.804565  (40.677303, -73.804565)   \n",
       "3666554       40.624958 -74.145775  (40.624958, -74.145775)   \n",
       "3653269       40.828846 -73.903120   (40.828846, -73.90312)   \n",
       "3666365       40.556454 -74.207770   (40.556454, -74.20777)   \n",
       "3666842       40.740025 -73.976260   (40.740025, -73.97626)   \n",
       "3657123       40.651646 -73.932330   (40.651646, -73.93233)   \n",
       "3651039       40.751800 -73.817314    (40.7518, -73.817314)   \n",
       "3661896       40.816864 -73.882744  (40.816864, -73.882744)   \n",
       "3661330       40.639614 -74.087270   (40.639614, -74.08727)   \n",
       "3659418       40.714230 -73.853860    (40.71423, -73.85386)   \n",
       "3661943       40.602757 -73.963770   (40.602757, -73.96377)   \n",
       "3654121       40.652973 -73.944010   (40.652973, -73.94401)   \n",
       "3673696       40.610740 -73.922410    (40.61074, -73.92241)   \n",
       "3655451       40.691680 -73.999344   (40.69168, -73.999344)   \n",
       "3654545       40.886536 -73.899850   (40.886536, -73.89985)   \n",
       "3665559       40.686234 -73.824180   (40.686234, -73.82418)   \n",
       "3662987       40.859875 -73.893230   (40.859875, -73.89323)   \n",
       "3663956       40.848255 -73.909760   (40.848255, -73.90976)   \n",
       "\n",
       "                                on_street_name   off_street_name  \\\n",
       "collision_id                                                       \n",
       "3654181                                    NaN               NaN   \n",
       "3665311       CASTLE HILL AVENUE                BLACKROCK AVENUE   \n",
       "3658491       135 STREET                          FOCH BOULEVARD   \n",
       "3666554       FOREST AVENUE                      RICHMOND AVENUE   \n",
       "3653269                                    NaN               NaN   \n",
       "3666365       WEST SHORE EXPRESSWAY                          NaN   \n",
       "3666842       1 AVENUE                            EAST 28 STREET   \n",
       "3657123       EAST 48 STREET                       CHURCH AVENUE   \n",
       "3651039       ROBINSON STREET                                NaN   \n",
       "3661896                                    NaN               NaN   \n",
       "3661330                                    NaN               NaN   \n",
       "3659418       LOUBET STREET                                  NaN   \n",
       "3661943                                    NaN               NaN   \n",
       "3654121       BROOKLYN AVENUE                   LINDEN BOULEVARD   \n",
       "3673696                                    NaN               NaN   \n",
       "3655451       BROOKLYN QUEENS EXPRESSWAY                     NaN   \n",
       "3654545       WEST 240 STREET                           BROADWAY   \n",
       "3665559       LEFFERTS BOULEVARD                  LIBERTY AVENUE   \n",
       "3662987       WEBSTER AVENUE                                 NaN   \n",
       "3663956       WALTON AVENUE                      EAST 176 STREET   \n",
       "\n",
       "                                     cross_street_name  \\\n",
       "collision_id                                             \n",
       "3654181       243       DARLINGTON AVENUE                \n",
       "3665311                                            NaN   \n",
       "3658491                                            NaN   \n",
       "3666554                                            NaN   \n",
       "3653269       1167      BOSTON ROAD                      \n",
       "3666365                                            NaN   \n",
       "3666842                                            NaN   \n",
       "3657123                                            NaN   \n",
       "3651039                                            NaN   \n",
       "3661896       772       EDGEWATER ROAD                   \n",
       "3661330       361       JERSEY STREET                    \n",
       "3659418                                            NaN   \n",
       "3661943       802       AVENUE S                         \n",
       "3654121                                            NaN   \n",
       "3673696       2074      EAST 52 STREET                   \n",
       "3655451                                            NaN   \n",
       "3654545                                            NaN   \n",
       "3665559                                            NaN   \n",
       "3662987                                            NaN   \n",
       "3663956                                            NaN   \n",
       "\n",
       "              number_of_persons_injured  number_of_persons_killed  \\\n",
       "collision_id                                                        \n",
       "3654181                               0                         0   \n",
       "3665311                               1                         0   \n",
       "3658491                               0                         0   \n",
       "3666554                               1                         0   \n",
       "3653269                               0                         0   \n",
       "3666365                               0                         0   \n",
       "3666842                               0                         0   \n",
       "3657123                               0                         0   \n",
       "3651039                               0                         0   \n",
       "3661896                               0                         0   \n",
       "3661330                               0                         0   \n",
       "3659418                               0                         0   \n",
       "3661943                               0                         0   \n",
       "3654121                               3                         0   \n",
       "3673696                               0                         0   \n",
       "3655451                               1                         0   \n",
       "3654545                               0                         0   \n",
       "3665559                               0                         0   \n",
       "3662987                               3                         0   \n",
       "3663956                               0                         0   \n",
       "\n",
       "              number_of_pedestrians_injured  number_of_pedestrians_killed  \\\n",
       "collision_id                                                                \n",
       "3654181                                   0                             0   \n",
       "3665311                                   1                             0   \n",
       "3658491                                   0                             0   \n",
       "3666554                                   0                             0   \n",
       "3653269                                   0                             0   \n",
       "3666365                                   0                             0   \n",
       "3666842                                   0                             0   \n",
       "3657123                                   0                             0   \n",
       "3651039                                   0                             0   \n",
       "3661896                                   0                             0   \n",
       "3661330                                   0                             0   \n",
       "3659418                                   0                             0   \n",
       "3661943                                   0                             0   \n",
       "3654121                                   0                             0   \n",
       "3673696                                   0                             0   \n",
       "3655451                                   0                             0   \n",
       "3654545                                   0                             0   \n",
       "3665559                                   0                             0   \n",
       "3662987                                   0                             0   \n",
       "3663956                                   0                             0   \n",
       "\n",
       "              number_of_cyclist_injured  number_of_cyclist_killed  \\\n",
       "collision_id                                                        \n",
       "3654181                               0                         0   \n",
       "3665311                               0                         0   \n",
       "3658491                               0                         0   \n",
       "3666554                               0                         0   \n",
       "3653269                               0                         0   \n",
       "3666365                               0                         0   \n",
       "3666842                               0                         0   \n",
       "3657123                               0                         0   \n",
       "3651039                               0                         0   \n",
       "3661896                               0                         0   \n",
       "3661330                               0                         0   \n",
       "3659418                               0                         0   \n",
       "3661943                               0                         0   \n",
       "3654121                               0                         0   \n",
       "3673696                               0                         0   \n",
       "3655451                               0                         0   \n",
       "3654545                               0                         0   \n",
       "3665559                               0                         0   \n",
       "3662987                               0                         0   \n",
       "3663956                               0                         0   \n",
       "\n",
       "              number_of_motorist_injured  number_of_motorist_killed  \\\n",
       "collision_id                                                          \n",
       "3654181                                0                          0   \n",
       "3665311                                0                          0   \n",
       "3658491                                0                          0   \n",
       "3666554                                1                          0   \n",
       "3653269                                0                          0   \n",
       "3666365                                0                          0   \n",
       "3666842                                0                          0   \n",
       "3657123                                0                          0   \n",
       "3651039                                0                          0   \n",
       "3661896                                0                          0   \n",
       "3661330                                0                          0   \n",
       "3659418                                0                          0   \n",
       "3661943                                0                          0   \n",
       "3654121                                3                          0   \n",
       "3673696                                0                          0   \n",
       "3655451                                1                          0   \n",
       "3654545                                0                          0   \n",
       "3665559                                0                          0   \n",
       "3662987                                3                          0   \n",
       "3663956                                0                          0   \n",
       "\n",
       "               contributing_factor_vehicle_1 contributing_factor_vehicle_2  \\\n",
       "collision_id                                                                 \n",
       "3654181       Driver Inattention/Distraction                   Unspecified   \n",
       "3665311        Failure to Yield Right-of-Way                           NaN   \n",
       "3658491       Driver Inattention/Distraction                   Unspecified   \n",
       "3666554                          Unspecified                   Unspecified   \n",
       "3653269       Driver Inattention/Distraction                   Unspecified   \n",
       "3666365                 Unsafe Lane Changing                   Unspecified   \n",
       "3666842       Passing or Lane Usage Improper                   Unspecified   \n",
       "3657123                      Other Vehicular               Other Vehicular   \n",
       "3651039                  Passing Too Closely                   Unspecified   \n",
       "3661896                          Unspecified                           NaN   \n",
       "3661330                          Unspecified                   Unspecified   \n",
       "3659418                          Unspecified                           NaN   \n",
       "3661943                          Unspecified                   Unspecified   \n",
       "3654121                          Unspecified                   Unspecified   \n",
       "3673696       Driver Inattention/Distraction                   Unspecified   \n",
       "3655451                          Unspecified                           NaN   \n",
       "3654545                          Unspecified                           NaN   \n",
       "3665559                     Backing Unsafely                   Unspecified   \n",
       "3662987                          Unspecified                   Unspecified   \n",
       "3663956                          Unspecified                   Unspecified   \n",
       "\n",
       "             contributing_factor_vehicle_3 contributing_factor_vehicle_4  \\\n",
       "collision_id                                                               \n",
       "3654181                                NaN                           NaN   \n",
       "3665311                                NaN                           NaN   \n",
       "3658491                                NaN                           NaN   \n",
       "3666554                        Unspecified                           NaN   \n",
       "3653269                                NaN                           NaN   \n",
       "3666365                                NaN                           NaN   \n",
       "3666842                                NaN                           NaN   \n",
       "3657123                                NaN                           NaN   \n",
       "3651039                                NaN                           NaN   \n",
       "3661896                                NaN                           NaN   \n",
       "3661330                                NaN                           NaN   \n",
       "3659418                                NaN                           NaN   \n",
       "3661943                                NaN                           NaN   \n",
       "3654121                                NaN                           NaN   \n",
       "3673696                                NaN                           NaN   \n",
       "3655451                                NaN                           NaN   \n",
       "3654545                                NaN                           NaN   \n",
       "3665559                                NaN                           NaN   \n",
       "3662987                                NaN                           NaN   \n",
       "3663956                                NaN                           NaN   \n",
       "\n",
       "             contributing_factor_vehicle_5  \\\n",
       "collision_id                                 \n",
       "3654181                                NaN   \n",
       "3665311                                NaN   \n",
       "3658491                                NaN   \n",
       "3666554                                NaN   \n",
       "3653269                                NaN   \n",
       "3666365                                NaN   \n",
       "3666842                                NaN   \n",
       "3657123                                NaN   \n",
       "3651039                                NaN   \n",
       "3661896                                NaN   \n",
       "3661330                                NaN   \n",
       "3659418                                NaN   \n",
       "3661943                                NaN   \n",
       "3654121                                NaN   \n",
       "3673696                                NaN   \n",
       "3655451                                NaN   \n",
       "3654545                                NaN   \n",
       "3665559                                NaN   \n",
       "3662987                                NaN   \n",
       "3663956                                NaN   \n",
       "\n",
       "                               vehicle_type_code1  \\\n",
       "collision_id                                        \n",
       "3654181       Station Wagon/Sport Utility Vehicle   \n",
       "3665311                                     Sedan   \n",
       "3658491                                     Sedan   \n",
       "3666554                                Motorcycle   \n",
       "3653269                                     Sedan   \n",
       "3666365                                     Sedan   \n",
       "3666842                                      Taxi   \n",
       "3657123       Station Wagon/Sport Utility Vehicle   \n",
       "3651039                                     Sedan   \n",
       "3661896                             Pick-up Truck   \n",
       "3661330       Station Wagon/Sport Utility Vehicle   \n",
       "3659418                                     Sedan   \n",
       "3661943       Station Wagon/Sport Utility Vehicle   \n",
       "3654121       Station Wagon/Sport Utility Vehicle   \n",
       "3673696       Station Wagon/Sport Utility Vehicle   \n",
       "3655451                             Pick-up Truck   \n",
       "3654545       Station Wagon/Sport Utility Vehicle   \n",
       "3665559       Station Wagon/Sport Utility Vehicle   \n",
       "3662987       Station Wagon/Sport Utility Vehicle   \n",
       "3663956       Station Wagon/Sport Utility Vehicle   \n",
       "\n",
       "                               vehicle_type_code2 vehicle_type_code_3  \\\n",
       "collision_id                                                            \n",
       "3654181                                       NaN                 NaN   \n",
       "3665311                                       NaN                 NaN   \n",
       "3658491                                     Sedan                 NaN   \n",
       "3666554                                     Sedan                 Bus   \n",
       "3653269       Station Wagon/Sport Utility Vehicle                 NaN   \n",
       "3666365                                     Sedan                 NaN   \n",
       "3666842                                 Box Truck                 NaN   \n",
       "3657123       Station Wagon/Sport Utility Vehicle                 NaN   \n",
       "3651039       Station Wagon/Sport Utility Vehicle                 NaN   \n",
       "3661896                                       NaN                 NaN   \n",
       "3661330                                       PAS                 NaN   \n",
       "3659418                                       NaN                 NaN   \n",
       "3661943       Station Wagon/Sport Utility Vehicle                 NaN   \n",
       "3654121                                     Sedan                 NaN   \n",
       "3673696                                       NaN                 NaN   \n",
       "3655451                                       NaN                 NaN   \n",
       "3654545                                       NaN                 NaN   \n",
       "3665559                                     Sedan                 NaN   \n",
       "3662987       Station Wagon/Sport Utility Vehicle                 NaN   \n",
       "3663956                                     Sedan                 NaN   \n",
       "\n",
       "             vehicle_type_code_4 vehicle_type_code_5  \n",
       "collision_id                                          \n",
       "3654181                      NaN                 NaN  \n",
       "3665311                      NaN                 NaN  \n",
       "3658491                      NaN                 NaN  \n",
       "3666554                      NaN                 NaN  \n",
       "3653269                      NaN                 NaN  \n",
       "3666365                      NaN                 NaN  \n",
       "3666842                      NaN                 NaN  \n",
       "3657123                      NaN                 NaN  \n",
       "3651039                      NaN                 NaN  \n",
       "3661896                      NaN                 NaN  \n",
       "3661330                      NaN                 NaN  \n",
       "3659418                      NaN                 NaN  \n",
       "3661943                      NaN                 NaN  \n",
       "3654121                      NaN                 NaN  \n",
       "3673696                      NaN                 NaN  \n",
       "3655451                      NaN                 NaN  \n",
       "3654545                      NaN                 NaN  \n",
       "3665559                      NaN                 NaN  \n",
       "3662987                      NaN                 NaN  \n",
       "3663956                      NaN                 NaN  "
      ],
      "text/html": "<div>\n<style scoped>\n    .dataframe tbody tr th:only-of-type {\n        vertical-align: middle;\n    }\n\n    .dataframe tbody tr th {\n        vertical-align: top;\n    }\n\n    .dataframe thead th {\n        text-align: right;\n    }\n</style>\n<table border=\"1\" class=\"dataframe\">\n  <thead>\n    <tr style=\"text-align: right;\">\n      <th></th>\n      <th>crash_date</th>\n      <th>crash_time</th>\n      <th>borough</th>\n      <th>zip_code</th>\n      <th>latitude</th>\n      <th>longitude</th>\n      <th>location</th>\n      <th>on_street_name</th>\n      <th>off_street_name</th>\n      <th>cross_street_name</th>\n      <th>number_of_persons_injured</th>\n      <th>number_of_persons_killed</th>\n      <th>number_of_pedestrians_injured</th>\n      <th>number_of_pedestrians_killed</th>\n      <th>number_of_cyclist_injured</th>\n      <th>number_of_cyclist_killed</th>\n      <th>number_of_motorist_injured</th>\n      <th>number_of_motorist_killed</th>\n      <th>contributing_factor_vehicle_1</th>\n      <th>contributing_factor_vehicle_2</th>\n      <th>contributing_factor_vehicle_3</th>\n      <th>contributing_factor_vehicle_4</th>\n      <th>contributing_factor_vehicle_5</th>\n      <th>vehicle_type_code1</th>\n      <th>vehicle_type_code2</th>\n      <th>vehicle_type_code_3</th>\n      <th>vehicle_type_code_4</th>\n      <th>vehicle_type_code_5</th>\n    </tr>\n    <tr>\n      <th>collision_id</th>\n      <th></th>\n      <th></th>\n      <th></th>\n      <th></th>\n      <th></th>\n      <th></th>\n      <th></th>\n      <th></th>\n      <th></th>\n      <th></th>\n      <th></th>\n      <th></th>\n      <th></th>\n      <th></th>\n      <th></th>\n      <th></th>\n      <th></th>\n      <th></th>\n      <th></th>\n      <th></th>\n      <th></th>\n      <th></th>\n      <th></th>\n      <th></th>\n      <th></th>\n      <th></th>\n      <th></th>\n      <th></th>\n    </tr>\n  </thead>\n  <tbody>\n    <tr>\n      <th>3654181</th>\n      <td>2017-04-18T00:00:00.000</td>\n      <td>23:10</td>\n      <td>STATEN ISLAND</td>\n      <td>10312.0</td>\n      <td>40.536728</td>\n      <td>-74.193344</td>\n      <td>(40.536728, -74.193344)</td>\n      <td>NaN</td>\n      <td>NaN</td>\n      <td>243       DARLINGTON AVENUE</td>\n      <td>0</td>\n      <td>0</td>\n      <td>0</td>\n      <td>0</td>\n      <td>0</td>\n      <td>0</td>\n      <td>0</td>\n      <td>0</td>\n      <td>Driver Inattention/Distraction</td>\n      <td>Unspecified</td>\n      <td>NaN</td>\n      <td>NaN</td>\n      <td>NaN</td>\n      <td>Station Wagon/Sport Utility Vehicle</td>\n      <td>NaN</td>\n      <td>NaN</td>\n      <td>NaN</td>\n      <td>NaN</td>\n    </tr>\n    <tr>\n      <th>3665311</th>\n      <td>2017-05-06T00:00:00.000</td>\n      <td>13:00</td>\n      <td>BRONX</td>\n      <td>10472.0</td>\n      <td>40.829052</td>\n      <td>-73.850380</td>\n      <td>(40.829052, -73.85038)</td>\n      <td>CASTLE HILL AVENUE</td>\n      <td>BLACKROCK AVENUE</td>\n      <td>NaN</td>\n      <td>1</td>\n      <td>0</td>\n      <td>1</td>\n      <td>0</td>\n      <td>0</td>\n      <td>0</td>\n      <td>0</td>\n      <td>0</td>\n      <td>Failure to Yield Right-of-Way</td>\n      <td>NaN</td>\n      <td>NaN</td>\n      <td>NaN</td>\n      <td>NaN</td>\n      <td>Sedan</td>\n      <td>NaN</td>\n      <td>NaN</td>\n      <td>NaN</td>\n      <td>NaN</td>\n    </tr>\n    <tr>\n      <th>3658491</th>\n      <td>2017-04-27T00:00:00.000</td>\n      <td>17:15</td>\n      <td>QUEENS</td>\n      <td>11420.0</td>\n      <td>40.677303</td>\n      <td>-73.804565</td>\n      <td>(40.677303, -73.804565)</td>\n      <td>135 STREET</td>\n      <td>FOCH BOULEVARD</td>\n      <td>NaN</td>\n      <td>0</td>\n      <td>0</td>\n      <td>0</td>\n      <td>0</td>\n      <td>0</td>\n      <td>0</td>\n      <td>0</td>\n      <td>0</td>\n      <td>Driver Inattention/Distraction</td>\n      <td>Unspecified</td>\n      <td>NaN</td>\n      <td>NaN</td>\n      <td>NaN</td>\n      <td>Sedan</td>\n      <td>Sedan</td>\n      <td>NaN</td>\n      <td>NaN</td>\n      <td>NaN</td>\n    </tr>\n    <tr>\n      <th>3666554</th>\n      <td>2017-05-09T00:00:00.000</td>\n      <td>20:10</td>\n      <td>NaN</td>\n      <td>NaN</td>\n      <td>40.624958</td>\n      <td>-74.145775</td>\n      <td>(40.624958, -74.145775)</td>\n      <td>FOREST AVENUE</td>\n      <td>RICHMOND AVENUE</td>\n      <td>NaN</td>\n      <td>1</td>\n      <td>0</td>\n      <td>0</td>\n      <td>0</td>\n      <td>0</td>\n      <td>0</td>\n      <td>1</td>\n      <td>0</td>\n      <td>Unspecified</td>\n      <td>Unspecified</td>\n      <td>Unspecified</td>\n      <td>NaN</td>\n      <td>NaN</td>\n      <td>Motorcycle</td>\n      <td>Sedan</td>\n      <td>Bus</td>\n      <td>NaN</td>\n      <td>NaN</td>\n    </tr>\n    <tr>\n      <th>3653269</th>\n      <td>2017-04-18T00:00:00.000</td>\n      <td>14:00</td>\n      <td>BRONX</td>\n      <td>10456.0</td>\n      <td>40.828846</td>\n      <td>-73.903120</td>\n      <td>(40.828846, -73.90312)</td>\n      <td>NaN</td>\n      <td>NaN</td>\n      <td>1167      BOSTON ROAD</td>\n      <td>0</td>\n      <td>0</td>\n      <td>0</td>\n      <td>0</td>\n      <td>0</td>\n      <td>0</td>\n      <td>0</td>\n      <td>0</td>\n      <td>Driver Inattention/Distraction</td>\n      <td>Unspecified</td>\n      <td>NaN</td>\n      <td>NaN</td>\n      <td>NaN</td>\n      <td>Sedan</td>\n      <td>Station Wagon/Sport Utility Vehicle</td>\n      <td>NaN</td>\n      <td>NaN</td>\n      <td>NaN</td>\n    </tr>\n    <tr>\n      <th>3666365</th>\n      <td>2017-05-08T00:00:00.000</td>\n      <td>10:33</td>\n      <td>NaN</td>\n      <td>NaN</td>\n      <td>40.556454</td>\n      <td>-74.207770</td>\n      <td>(40.556454, -74.20777)</td>\n      <td>WEST SHORE EXPRESSWAY</td>\n      <td>NaN</td>\n      <td>NaN</td>\n      <td>0</td>\n      <td>0</td>\n      <td>0</td>\n      <td>0</td>\n      <td>0</td>\n      <td>0</td>\n      <td>0</td>\n      <td>0</td>\n      <td>Unsafe Lane Changing</td>\n      <td>Unspecified</td>\n      <td>NaN</td>\n      <td>NaN</td>\n      <td>NaN</td>\n      <td>Sedan</td>\n      <td>Sedan</td>\n      <td>NaN</td>\n      <td>NaN</td>\n      <td>NaN</td>\n    </tr>\n    <tr>\n      <th>3666842</th>\n      <td>2017-05-10T00:00:00.000</td>\n      <td>6:10</td>\n      <td>NaN</td>\n      <td>NaN</td>\n      <td>40.740025</td>\n      <td>-73.976260</td>\n      <td>(40.740025, -73.97626)</td>\n      <td>1 AVENUE</td>\n      <td>EAST 28 STREET</td>\n      <td>NaN</td>\n      <td>0</td>\n      <td>0</td>\n      <td>0</td>\n      <td>0</td>\n      <td>0</td>\n      <td>0</td>\n      <td>0</td>\n      <td>0</td>\n      <td>Passing or Lane Usage Improper</td>\n      <td>Unspecified</td>\n      <td>NaN</td>\n      <td>NaN</td>\n      <td>NaN</td>\n      <td>Taxi</td>\n      <td>Box Truck</td>\n      <td>NaN</td>\n      <td>NaN</td>\n      <td>NaN</td>\n    </tr>\n    <tr>\n      <th>3657123</th>\n      <td>2017-04-24T00:00:00.000</td>\n      <td>9:30</td>\n      <td>BROOKLYN</td>\n      <td>11203.0</td>\n      <td>40.651646</td>\n      <td>-73.932330</td>\n      <td>(40.651646, -73.93233)</td>\n      <td>EAST 48 STREET</td>\n      <td>CHURCH AVENUE</td>\n      <td>NaN</td>\n      <td>0</td>\n      <td>0</td>\n      <td>0</td>\n      <td>0</td>\n      <td>0</td>\n      <td>0</td>\n      <td>0</td>\n      <td>0</td>\n      <td>Other Vehicular</td>\n      <td>Other Vehicular</td>\n      <td>NaN</td>\n      <td>NaN</td>\n      <td>NaN</td>\n      <td>Station Wagon/Sport Utility Vehicle</td>\n      <td>Station Wagon/Sport Utility Vehicle</td>\n      <td>NaN</td>\n      <td>NaN</td>\n      <td>NaN</td>\n    </tr>\n    <tr>\n      <th>3651039</th>\n      <td>2017-04-14T00:00:00.000</td>\n      <td>13:00</td>\n      <td>NaN</td>\n      <td>NaN</td>\n      <td>40.751800</td>\n      <td>-73.817314</td>\n      <td>(40.7518, -73.817314)</td>\n      <td>ROBINSON STREET</td>\n      <td>NaN</td>\n      <td>NaN</td>\n      <td>0</td>\n      <td>0</td>\n      <td>0</td>\n      <td>0</td>\n      <td>0</td>\n      <td>0</td>\n      <td>0</td>\n      <td>0</td>\n      <td>Passing Too Closely</td>\n      <td>Unspecified</td>\n      <td>NaN</td>\n      <td>NaN</td>\n      <td>NaN</td>\n      <td>Sedan</td>\n      <td>Station Wagon/Sport Utility Vehicle</td>\n      <td>NaN</td>\n      <td>NaN</td>\n      <td>NaN</td>\n    </tr>\n    <tr>\n      <th>3661896</th>\n      <td>2017-05-02T00:00:00.000</td>\n      <td>1:00</td>\n      <td>BRONX</td>\n      <td>10474.0</td>\n      <td>40.816864</td>\n      <td>-73.882744</td>\n      <td>(40.816864, -73.882744)</td>\n      <td>NaN</td>\n      <td>NaN</td>\n      <td>772       EDGEWATER ROAD</td>\n      <td>0</td>\n      <td>0</td>\n      <td>0</td>\n      <td>0</td>\n      <td>0</td>\n      <td>0</td>\n      <td>0</td>\n      <td>0</td>\n      <td>Unspecified</td>\n      <td>NaN</td>\n      <td>NaN</td>\n      <td>NaN</td>\n      <td>NaN</td>\n      <td>Pick-up Truck</td>\n      <td>NaN</td>\n      <td>NaN</td>\n      <td>NaN</td>\n      <td>NaN</td>\n    </tr>\n    <tr>\n      <th>3661330</th>\n      <td>2017-05-01T00:00:00.000</td>\n      <td>14:30</td>\n      <td>STATEN ISLAND</td>\n      <td>10301.0</td>\n      <td>40.639614</td>\n      <td>-74.087270</td>\n      <td>(40.639614, -74.08727)</td>\n      <td>NaN</td>\n      <td>NaN</td>\n      <td>361       JERSEY STREET</td>\n      <td>0</td>\n      <td>0</td>\n      <td>0</td>\n      <td>0</td>\n      <td>0</td>\n      <td>0</td>\n      <td>0</td>\n      <td>0</td>\n      <td>Unspecified</td>\n      <td>Unspecified</td>\n      <td>NaN</td>\n      <td>NaN</td>\n      <td>NaN</td>\n      <td>Station Wagon/Sport Utility Vehicle</td>\n      <td>PAS</td>\n      <td>NaN</td>\n      <td>NaN</td>\n      <td>NaN</td>\n    </tr>\n    <tr>\n      <th>3659418</th>\n      <td>2017-04-29T00:00:00.000</td>\n      <td>8:45</td>\n      <td>NaN</td>\n      <td>NaN</td>\n      <td>40.714230</td>\n      <td>-73.853860</td>\n      <td>(40.71423, -73.85386)</td>\n      <td>LOUBET STREET</td>\n      <td>NaN</td>\n      <td>NaN</td>\n      <td>0</td>\n      <td>0</td>\n      <td>0</td>\n      <td>0</td>\n      <td>0</td>\n      <td>0</td>\n      <td>0</td>\n      <td>0</td>\n      <td>Unspecified</td>\n      <td>NaN</td>\n      <td>NaN</td>\n      <td>NaN</td>\n      <td>NaN</td>\n      <td>Sedan</td>\n      <td>NaN</td>\n      <td>NaN</td>\n      <td>NaN</td>\n      <td>NaN</td>\n    </tr>\n    <tr>\n      <th>3661943</th>\n      <td>2017-05-01T00:00:00.000</td>\n      <td>10:30</td>\n      <td>BROOKLYN</td>\n      <td>11223.0</td>\n      <td>40.602757</td>\n      <td>-73.963770</td>\n      <td>(40.602757, -73.96377)</td>\n      <td>NaN</td>\n      <td>NaN</td>\n      <td>802       AVENUE S</td>\n      <td>0</td>\n      <td>0</td>\n      <td>0</td>\n      <td>0</td>\n      <td>0</td>\n      <td>0</td>\n      <td>0</td>\n      <td>0</td>\n      <td>Unspecified</td>\n      <td>Unspecified</td>\n      <td>NaN</td>\n      <td>NaN</td>\n      <td>NaN</td>\n      <td>Station Wagon/Sport Utility Vehicle</td>\n      <td>Station Wagon/Sport Utility Vehicle</td>\n      <td>NaN</td>\n      <td>NaN</td>\n      <td>NaN</td>\n    </tr>\n    <tr>\n      <th>3654121</th>\n      <td>2017-04-16T00:00:00.000</td>\n      <td>15:50</td>\n      <td>BROOKLYN</td>\n      <td>11203.0</td>\n      <td>40.652973</td>\n      <td>-73.944010</td>\n      <td>(40.652973, -73.94401)</td>\n      <td>BROOKLYN AVENUE</td>\n      <td>LINDEN BOULEVARD</td>\n      <td>NaN</td>\n      <td>3</td>\n      <td>0</td>\n      <td>0</td>\n      <td>0</td>\n      <td>0</td>\n      <td>0</td>\n      <td>3</td>\n      <td>0</td>\n      <td>Unspecified</td>\n      <td>Unspecified</td>\n      <td>NaN</td>\n      <td>NaN</td>\n      <td>NaN</td>\n      <td>Station Wagon/Sport Utility Vehicle</td>\n      <td>Sedan</td>\n      <td>NaN</td>\n      <td>NaN</td>\n      <td>NaN</td>\n    </tr>\n    <tr>\n      <th>3673696</th>\n      <td>2017-04-25T00:00:00.000</td>\n      <td>18:00</td>\n      <td>BROOKLYN</td>\n      <td>11234.0</td>\n      <td>40.610740</td>\n      <td>-73.922410</td>\n      <td>(40.61074, -73.92241)</td>\n      <td>NaN</td>\n      <td>NaN</td>\n      <td>2074      EAST 52 STREET</td>\n      <td>0</td>\n      <td>0</td>\n      <td>0</td>\n      <td>0</td>\n      <td>0</td>\n      <td>0</td>\n      <td>0</td>\n      <td>0</td>\n      <td>Driver Inattention/Distraction</td>\n      <td>Unspecified</td>\n      <td>NaN</td>\n      <td>NaN</td>\n      <td>NaN</td>\n      <td>Station Wagon/Sport Utility Vehicle</td>\n      <td>NaN</td>\n      <td>NaN</td>\n      <td>NaN</td>\n      <td>NaN</td>\n    </tr>\n    <tr>\n      <th>3655451</th>\n      <td>2017-04-22T00:00:00.000</td>\n      <td>7:00</td>\n      <td>NaN</td>\n      <td>NaN</td>\n      <td>40.691680</td>\n      <td>-73.999344</td>\n      <td>(40.69168, -73.999344)</td>\n      <td>BROOKLYN QUEENS EXPRESSWAY</td>\n      <td>NaN</td>\n      <td>NaN</td>\n      <td>1</td>\n      <td>0</td>\n      <td>0</td>\n      <td>0</td>\n      <td>0</td>\n      <td>0</td>\n      <td>1</td>\n      <td>0</td>\n      <td>Unspecified</td>\n      <td>NaN</td>\n      <td>NaN</td>\n      <td>NaN</td>\n      <td>NaN</td>\n      <td>Pick-up Truck</td>\n      <td>NaN</td>\n      <td>NaN</td>\n      <td>NaN</td>\n      <td>NaN</td>\n    </tr>\n    <tr>\n      <th>3654545</th>\n      <td>2017-04-20T00:00:00.000</td>\n      <td>18:00</td>\n      <td>BRONX</td>\n      <td>10463.0</td>\n      <td>40.886536</td>\n      <td>-73.899850</td>\n      <td>(40.886536, -73.89985)</td>\n      <td>WEST 240 STREET</td>\n      <td>BROADWAY</td>\n      <td>NaN</td>\n      <td>0</td>\n      <td>0</td>\n      <td>0</td>\n      <td>0</td>\n      <td>0</td>\n      <td>0</td>\n      <td>0</td>\n      <td>0</td>\n      <td>Unspecified</td>\n      <td>NaN</td>\n      <td>NaN</td>\n      <td>NaN</td>\n      <td>NaN</td>\n      <td>Station Wagon/Sport Utility Vehicle</td>\n      <td>NaN</td>\n      <td>NaN</td>\n      <td>NaN</td>\n      <td>NaN</td>\n    </tr>\n    <tr>\n      <th>3665559</th>\n      <td>2017-05-06T00:00:00.000</td>\n      <td>14:10</td>\n      <td>QUEENS</td>\n      <td>11419.0</td>\n      <td>40.686234</td>\n      <td>-73.824180</td>\n      <td>(40.686234, -73.82418)</td>\n      <td>LEFFERTS BOULEVARD</td>\n      <td>LIBERTY AVENUE</td>\n      <td>NaN</td>\n      <td>0</td>\n      <td>0</td>\n      <td>0</td>\n      <td>0</td>\n      <td>0</td>\n      <td>0</td>\n      <td>0</td>\n      <td>0</td>\n      <td>Backing Unsafely</td>\n      <td>Unspecified</td>\n      <td>NaN</td>\n      <td>NaN</td>\n      <td>NaN</td>\n      <td>Station Wagon/Sport Utility Vehicle</td>\n      <td>Sedan</td>\n      <td>NaN</td>\n      <td>NaN</td>\n      <td>NaN</td>\n    </tr>\n    <tr>\n      <th>3662987</th>\n      <td>2017-04-28T00:00:00.000</td>\n      <td>22:14</td>\n      <td>NaN</td>\n      <td>NaN</td>\n      <td>40.859875</td>\n      <td>-73.893230</td>\n      <td>(40.859875, -73.89323)</td>\n      <td>WEBSTER AVENUE</td>\n      <td>NaN</td>\n      <td>NaN</td>\n      <td>3</td>\n      <td>0</td>\n      <td>0</td>\n      <td>0</td>\n      <td>0</td>\n      <td>0</td>\n      <td>3</td>\n      <td>0</td>\n      <td>Unspecified</td>\n      <td>Unspecified</td>\n      <td>NaN</td>\n      <td>NaN</td>\n      <td>NaN</td>\n      <td>Station Wagon/Sport Utility Vehicle</td>\n      <td>Station Wagon/Sport Utility Vehicle</td>\n      <td>NaN</td>\n      <td>NaN</td>\n      <td>NaN</td>\n    </tr>\n    <tr>\n      <th>3663956</th>\n      <td>2017-05-05T00:00:00.000</td>\n      <td>16:30</td>\n      <td>BRONX</td>\n      <td>10453.0</td>\n      <td>40.848255</td>\n      <td>-73.909760</td>\n      <td>(40.848255, -73.90976)</td>\n      <td>WALTON AVENUE</td>\n      <td>EAST 176 STREET</td>\n      <td>NaN</td>\n      <td>0</td>\n      <td>0</td>\n      <td>0</td>\n      <td>0</td>\n      <td>0</td>\n      <td>0</td>\n      <td>0</td>\n      <td>0</td>\n      <td>Unspecified</td>\n      <td>Unspecified</td>\n      <td>NaN</td>\n      <td>NaN</td>\n      <td>NaN</td>\n      <td>Station Wagon/Sport Utility Vehicle</td>\n      <td>Sedan</td>\n      <td>NaN</td>\n      <td>NaN</td>\n      <td>NaN</td>\n    </tr>\n  </tbody>\n</table>\n</div>"
     },
     "metadata": {},
     "execution_count": 21
    }
   ],
   "source": [
    "#import the dataset and reading it with pandas\n",
    "\n",
    "df = pd.read_csv('NYC Motor Vehicle Crashes/data_100000.csv', index_col= 'collision_id')\n",
    "\n",
    "#showing all columns\n",
    "pd.options.display.max_columns= 30\n",
    "df.head(20)"
   ]
  },
  {
   "cell_type": "code",
   "execution_count": 22,
   "metadata": {},
   "outputs": [
    {
     "output_type": "execute_result",
     "data": {
      "text/plain": [
       "(100000, 28)"
      ]
     },
     "metadata": {},
     "execution_count": 22
    }
   ],
   "source": [
    "#checking the initial shape\n",
    "df.shape"
   ]
  },
  {
   "cell_type": "code",
   "execution_count": 23,
   "metadata": {},
   "outputs": [
    {
     "output_type": "execute_result",
     "data": {
      "text/plain": [
       "871235"
      ]
     },
     "metadata": {},
     "execution_count": 23
    }
   ],
   "source": [
    "df.isna().sum().sum()"
   ]
  },
  {
   "cell_type": "code",
   "execution_count": 24,
   "metadata": {},
   "outputs": [
    {
     "output_type": "execute_result",
     "data": {
      "text/plain": [
       "                                  count          mean         std  \\\n",
       "zip_code                        64966.0  10901.653188  523.494905   \n",
       "latitude                        91965.0     40.651917    1.746143   \n",
       "longitude                       91965.0    -73.781995    3.276307   \n",
       "number_of_persons_injured      100000.0      0.371960    0.743916   \n",
       "number_of_persons_killed       100000.0      0.001930    0.046112   \n",
       "number_of_pedestrians_injured  100000.0      0.047390    0.223438   \n",
       "number_of_pedestrians_killed   100000.0      0.000640    0.025290   \n",
       "number_of_cyclist_injured      100000.0      0.049640    0.222343   \n",
       "number_of_cyclist_killed       100000.0      0.000250    0.015809   \n",
       "number_of_motorist_injured     100000.0      0.274920    0.711058   \n",
       "number_of_motorist_killed      100000.0      0.001040    0.034913   \n",
       "\n",
       "                                       min           25%           50%  \\\n",
       "zip_code                       10000.00000  10457.000000  11209.000000   \n",
       "latitude                           0.00000     40.667915     40.717724   \n",
       "longitude                       -201.23706    -73.960870    -73.918110   \n",
       "number_of_persons_injured          0.00000      0.000000      0.000000   \n",
       "number_of_persons_killed           0.00000      0.000000      0.000000   \n",
       "number_of_pedestrians_injured      0.00000      0.000000      0.000000   \n",
       "number_of_pedestrians_killed       0.00000      0.000000      0.000000   \n",
       "number_of_cyclist_injured          0.00000      0.000000      0.000000   \n",
       "number_of_cyclist_killed           0.00000      0.000000      0.000000   \n",
       "number_of_motorist_injured         0.00000      0.000000      0.000000   \n",
       "number_of_motorist_killed          0.00000      0.000000      0.000000   \n",
       "\n",
       "                                        75%          max  \n",
       "zip_code                       11354.000000  11697.00000  \n",
       "latitude                          40.785595     40.91217  \n",
       "longitude                        -73.862860      0.00000  \n",
       "number_of_persons_injured          1.000000     15.00000  \n",
       "number_of_persons_killed           0.000000      3.00000  \n",
       "number_of_pedestrians_injured      0.000000      6.00000  \n",
       "number_of_pedestrians_killed       0.000000      1.00000  \n",
       "number_of_cyclist_injured          0.000000      3.00000  \n",
       "number_of_cyclist_killed           0.000000      1.00000  \n",
       "number_of_motorist_injured         0.000000     15.00000  \n",
       "number_of_motorist_killed          0.000000      3.00000  "
      ],
      "text/html": "<div>\n<style scoped>\n    .dataframe tbody tr th:only-of-type {\n        vertical-align: middle;\n    }\n\n    .dataframe tbody tr th {\n        vertical-align: top;\n    }\n\n    .dataframe thead th {\n        text-align: right;\n    }\n</style>\n<table border=\"1\" class=\"dataframe\">\n  <thead>\n    <tr style=\"text-align: right;\">\n      <th></th>\n      <th>count</th>\n      <th>mean</th>\n      <th>std</th>\n      <th>min</th>\n      <th>25%</th>\n      <th>50%</th>\n      <th>75%</th>\n      <th>max</th>\n    </tr>\n  </thead>\n  <tbody>\n    <tr>\n      <th>zip_code</th>\n      <td>64966.0</td>\n      <td>10901.653188</td>\n      <td>523.494905</td>\n      <td>10000.00000</td>\n      <td>10457.000000</td>\n      <td>11209.000000</td>\n      <td>11354.000000</td>\n      <td>11697.00000</td>\n    </tr>\n    <tr>\n      <th>latitude</th>\n      <td>91965.0</td>\n      <td>40.651917</td>\n      <td>1.746143</td>\n      <td>0.00000</td>\n      <td>40.667915</td>\n      <td>40.717724</td>\n      <td>40.785595</td>\n      <td>40.91217</td>\n    </tr>\n    <tr>\n      <th>longitude</th>\n      <td>91965.0</td>\n      <td>-73.781995</td>\n      <td>3.276307</td>\n      <td>-201.23706</td>\n      <td>-73.960870</td>\n      <td>-73.918110</td>\n      <td>-73.862860</td>\n      <td>0.00000</td>\n    </tr>\n    <tr>\n      <th>number_of_persons_injured</th>\n      <td>100000.0</td>\n      <td>0.371960</td>\n      <td>0.743916</td>\n      <td>0.00000</td>\n      <td>0.000000</td>\n      <td>0.000000</td>\n      <td>1.000000</td>\n      <td>15.00000</td>\n    </tr>\n    <tr>\n      <th>number_of_persons_killed</th>\n      <td>100000.0</td>\n      <td>0.001930</td>\n      <td>0.046112</td>\n      <td>0.00000</td>\n      <td>0.000000</td>\n      <td>0.000000</td>\n      <td>0.000000</td>\n      <td>3.00000</td>\n    </tr>\n    <tr>\n      <th>number_of_pedestrians_injured</th>\n      <td>100000.0</td>\n      <td>0.047390</td>\n      <td>0.223438</td>\n      <td>0.00000</td>\n      <td>0.000000</td>\n      <td>0.000000</td>\n      <td>0.000000</td>\n      <td>6.00000</td>\n    </tr>\n    <tr>\n      <th>number_of_pedestrians_killed</th>\n      <td>100000.0</td>\n      <td>0.000640</td>\n      <td>0.025290</td>\n      <td>0.00000</td>\n      <td>0.000000</td>\n      <td>0.000000</td>\n      <td>0.000000</td>\n      <td>1.00000</td>\n    </tr>\n    <tr>\n      <th>number_of_cyclist_injured</th>\n      <td>100000.0</td>\n      <td>0.049640</td>\n      <td>0.222343</td>\n      <td>0.00000</td>\n      <td>0.000000</td>\n      <td>0.000000</td>\n      <td>0.000000</td>\n      <td>3.00000</td>\n    </tr>\n    <tr>\n      <th>number_of_cyclist_killed</th>\n      <td>100000.0</td>\n      <td>0.000250</td>\n      <td>0.015809</td>\n      <td>0.00000</td>\n      <td>0.000000</td>\n      <td>0.000000</td>\n      <td>0.000000</td>\n      <td>1.00000</td>\n    </tr>\n    <tr>\n      <th>number_of_motorist_injured</th>\n      <td>100000.0</td>\n      <td>0.274920</td>\n      <td>0.711058</td>\n      <td>0.00000</td>\n      <td>0.000000</td>\n      <td>0.000000</td>\n      <td>0.000000</td>\n      <td>15.00000</td>\n    </tr>\n    <tr>\n      <th>number_of_motorist_killed</th>\n      <td>100000.0</td>\n      <td>0.001040</td>\n      <td>0.034913</td>\n      <td>0.00000</td>\n      <td>0.000000</td>\n      <td>0.000000</td>\n      <td>0.000000</td>\n      <td>3.00000</td>\n    </tr>\n  </tbody>\n</table>\n</div>"
     },
     "metadata": {},
     "execution_count": 24
    }
   ],
   "source": [
    "df.describe().T"
   ]
  },
  {
   "cell_type": "code",
   "execution_count": 25,
   "metadata": {},
   "outputs": [
    {
     "output_type": "display_data",
     "data": {
      "text/plain": "<Figure size 864x576 with 2 Axes>",
      "image/svg+xml": "<?xml version=\"1.0\" encoding=\"utf-8\" standalone=\"no\"?>\n<!DOCTYPE svg PUBLIC \"-//W3C//DTD SVG 1.1//EN\"\n  \"http://www.w3.org/Graphics/SVG/1.1/DTD/svg11.dtd\">\n<!-- Created with matplotlib (https://matplotlib.org/) -->\n<svg height=\"617.062031pt\" version=\"1.1\" viewBox=\"0 0 806.932125 617.062031\" width=\"806.932125pt\" xmlns=\"http://www.w3.org/2000/svg\" xmlns:xlink=\"http://www.w3.org/1999/xlink\">\n <metadata>\n  <rdf:RDF xmlns:cc=\"http://creativecommons.org/ns#\" xmlns:dc=\"http://purl.org/dc/elements/1.1/\" xmlns:rdf=\"http://www.w3.org/1999/02/22-rdf-syntax-ns#\">\n   <cc:Work>\n    <dc:type rdf:resource=\"http://purl.org/dc/dcmitype/StillImage\"/>\n    <dc:date>2020-12-13T19:13:51.373048</dc:date>\n    <dc:format>image/svg+xml</dc:format>\n    <dc:creator>\n     <cc:Agent>\n      <dc:title>Matplotlib v3.3.3, https://matplotlib.org/</dc:title>\n     </cc:Agent>\n    </dc:creator>\n   </cc:Work>\n  </rdf:RDF>\n </metadata>\n <defs>\n  <style type=\"text/css\">*{stroke-linecap:butt;stroke-linejoin:round;}</style>\n </defs>\n <g id=\"figure_1\">\n  <g id=\"patch_1\">\n   <path d=\"M 0 617.062031 \nL 806.932125 617.062031 \nL 806.932125 0 \nL 0 0 \nz\n\" style=\"fill:none;\"/>\n  </g>\n  <g id=\"axes_1\">\n   <g id=\"patch_2\">\n    <path d=\"M 171.182813 445.879219 \nL 706.862813 445.879219 \nL 706.862813 10.999219 \nL 171.182813 10.999219 \nz\n\" style=\"fill:#ffffff;\"/>\n   </g>\n   <g id=\"QuadMesh_1\">\n    <path clip-path=\"url(#pe3c582c576)\" d=\"M 171.182813 10.999219 \nL 219.880994 10.999219 \nL 219.880994 50.533764 \nL 171.182813 50.533764 \nL 171.182813 10.999219 \n\" style=\"fill:#faebdd;\"/>\n    <path clip-path=\"url(#pe3c582c576)\" d=\"M 219.880994 10.999219 \nL 268.579176 10.999219 \nL 268.579176 50.533764 \nL 219.880994 50.533764 \nL 219.880994 10.999219 \n\" style=\"fill:#c21753;\"/>\n    <path clip-path=\"url(#pe3c582c576)\" d=\"M 268.579176 10.999219 \nL 317.277358 10.999219 \nL 317.277358 50.533764 \nL 268.579176 50.533764 \nL 268.579176 10.999219 \n\" style=\"fill:#c81951;\"/>\n    <path clip-path=\"url(#pe3c582c576)\" d=\"M 317.277358 10.999219 \nL 365.97554 10.999219 \nL 365.97554 50.533764 \nL 317.277358 50.533764 \nL 317.277358 10.999219 \n\" style=\"fill:#cb1b4f;\"/>\n    <path clip-path=\"url(#pe3c582c576)\" d=\"M 365.97554 10.999219 \nL 414.673722 10.999219 \nL 414.673722 50.533764 \nL 365.97554 50.533764 \nL 365.97554 10.999219 \n\" style=\"fill:#c71951;\"/>\n    <path clip-path=\"url(#pe3c582c576)\" d=\"M 414.673722 10.999219 \nL 463.371903 10.999219 \nL 463.371903 50.533764 \nL 414.673722 50.533764 \nL 414.673722 10.999219 \n\" style=\"fill:#c41753;\"/>\n    <path clip-path=\"url(#pe3c582c576)\" d=\"M 463.371903 10.999219 \nL 512.070085 10.999219 \nL 512.070085 50.533764 \nL 463.371903 50.533764 \nL 463.371903 10.999219 \n\" style=\"fill:#c71951;\"/>\n    <path clip-path=\"url(#pe3c582c576)\" d=\"M 512.070085 10.999219 \nL 560.768267 10.999219 \nL 560.768267 50.533764 \nL 512.070085 50.533764 \nL 512.070085 10.999219 \n\" style=\"fill:#c11754;\"/>\n    <path clip-path=\"url(#pe3c582c576)\" d=\"M 560.768267 10.999219 \nL 609.466449 10.999219 \nL 609.466449 50.533764 \nL 560.768267 50.533764 \nL 560.768267 10.999219 \n\" style=\"fill:#c71951;\"/>\n    <path clip-path=\"url(#pe3c582c576)\" d=\"M 609.466449 10.999219 \nL 658.164631 10.999219 \nL 658.164631 50.533764 \nL 609.466449 50.533764 \nL 609.466449 10.999219 \n\" style=\"fill:#ce1d4e;\"/>\n    <path clip-path=\"url(#pe3c582c576)\" d=\"M 658.164631 10.999219 \nL 706.862813 10.999219 \nL 706.862813 50.533764 \nL 658.164631 50.533764 \nL 658.164631 10.999219 \n\" style=\"fill:#c81951;\"/>\n    <path clip-path=\"url(#pe3c582c576)\" d=\"M 171.182813 50.533764 \nL 219.880994 50.533764 \nL 219.880994 90.06831 \nL 171.182813 90.06831 \nL 171.182813 50.533764 \n\" style=\"fill:#c21753;\"/>\n    <path clip-path=\"url(#pe3c582c576)\" d=\"M 219.880994 50.533764 \nL 268.579176 50.533764 \nL 268.579176 90.06831 \nL 219.880994 90.06831 \nL 219.880994 50.533764 \n\" style=\"fill:#faebdd;\"/>\n    <path clip-path=\"url(#pe3c582c576)\" d=\"M 268.579176 50.533764 \nL 317.277358 50.533764 \nL 317.277358 90.06831 \nL 268.579176 90.06831 \nL 268.579176 50.533764 \n\" style=\"fill:#03051a;\"/>\n    <path clip-path=\"url(#pe3c582c576)\" d=\"M 317.277358 50.533764 \nL 365.97554 50.533764 \nL 365.97554 90.06831 \nL 317.277358 90.06831 \nL 317.277358 50.533764 \n\" style=\"fill:#c71951;\"/>\n    <path clip-path=\"url(#pe3c582c576)\" d=\"M 365.97554 50.533764 \nL 414.673722 50.533764 \nL 414.673722 90.06831 \nL 365.97554 90.06831 \nL 365.97554 50.533764 \n\" style=\"fill:#c71951;\"/>\n    <path clip-path=\"url(#pe3c582c576)\" d=\"M 414.673722 50.533764 \nL 463.371903 50.533764 \nL 463.371903 90.06831 \nL 414.673722 90.06831 \nL 414.673722 50.533764 \n\" style=\"fill:#c71951;\"/>\n    <path clip-path=\"url(#pe3c582c576)\" d=\"M 463.371903 50.533764 \nL 512.070085 50.533764 \nL 512.070085 90.06831 \nL 463.371903 90.06831 \nL 463.371903 50.533764 \n\" style=\"fill:#c51852;\"/>\n    <path clip-path=\"url(#pe3c582c576)\" d=\"M 512.070085 50.533764 \nL 560.768267 50.533764 \nL 560.768267 90.06831 \nL 512.070085 90.06831 \nL 512.070085 50.533764 \n\" style=\"fill:#c71951;\"/>\n    <path clip-path=\"url(#pe3c582c576)\" d=\"M 560.768267 50.533764 \nL 609.466449 50.533764 \nL 609.466449 90.06831 \nL 560.768267 90.06831 \nL 560.768267 50.533764 \n\" style=\"fill:#c71951;\"/>\n    <path clip-path=\"url(#pe3c582c576)\" d=\"M 609.466449 50.533764 \nL 658.164631 50.533764 \nL 658.164631 90.06831 \nL 609.466449 90.06831 \nL 609.466449 50.533764 \n\" style=\"fill:#c71951;\"/>\n    <path clip-path=\"url(#pe3c582c576)\" d=\"M 658.164631 50.533764 \nL 706.862813 50.533764 \nL 706.862813 90.06831 \nL 658.164631 90.06831 \nL 658.164631 50.533764 \n\" style=\"fill:#c71951;\"/>\n    <path clip-path=\"url(#pe3c582c576)\" d=\"M 171.182813 90.06831 \nL 219.880994 90.06831 \nL 219.880994 129.602855 \nL 171.182813 129.602855 \nL 171.182813 90.06831 \n\" style=\"fill:#c81951;\"/>\n    <path clip-path=\"url(#pe3c582c576)\" d=\"M 219.880994 90.06831 \nL 268.579176 90.06831 \nL 268.579176 129.602855 \nL 219.880994 129.602855 \nL 219.880994 90.06831 \n\" style=\"fill:#03051a;\"/>\n    <path clip-path=\"url(#pe3c582c576)\" d=\"M 268.579176 90.06831 \nL 317.277358 90.06831 \nL 317.277358 129.602855 \nL 268.579176 129.602855 \nL 268.579176 90.06831 \n\" style=\"fill:#faebdd;\"/>\n    <path clip-path=\"url(#pe3c582c576)\" d=\"M 317.277358 90.06831 \nL 365.97554 90.06831 \nL 365.97554 129.602855 \nL 317.277358 129.602855 \nL 317.277358 90.06831 \n\" style=\"fill:#c71951;\"/>\n    <path clip-path=\"url(#pe3c582c576)\" d=\"M 365.97554 90.06831 \nL 414.673722 90.06831 \nL 414.673722 129.602855 \nL 365.97554 129.602855 \nL 365.97554 90.06831 \n\" style=\"fill:#c81951;\"/>\n    <path clip-path=\"url(#pe3c582c576)\" d=\"M 414.673722 90.06831 \nL 463.371903 90.06831 \nL 463.371903 129.602855 \nL 414.673722 129.602855 \nL 414.673722 90.06831 \n\" style=\"fill:#c71951;\"/>\n    <path clip-path=\"url(#pe3c582c576)\" d=\"M 463.371903 90.06831 \nL 512.070085 90.06831 \nL 512.070085 129.602855 \nL 463.371903 129.602855 \nL 463.371903 90.06831 \n\" style=\"fill:#c81951;\"/>\n    <path clip-path=\"url(#pe3c582c576)\" d=\"M 512.070085 90.06831 \nL 560.768267 90.06831 \nL 560.768267 129.602855 \nL 512.070085 129.602855 \nL 512.070085 90.06831 \n\" style=\"fill:#c71951;\"/>\n    <path clip-path=\"url(#pe3c582c576)\" d=\"M 560.768267 90.06831 \nL 609.466449 90.06831 \nL 609.466449 129.602855 \nL 560.768267 129.602855 \nL 560.768267 90.06831 \n\" style=\"fill:#c71951;\"/>\n    <path clip-path=\"url(#pe3c582c576)\" d=\"M 609.466449 90.06831 \nL 658.164631 90.06831 \nL 658.164631 129.602855 \nL 609.466449 129.602855 \nL 609.466449 90.06831 \n\" style=\"fill:#c71951;\"/>\n    <path clip-path=\"url(#pe3c582c576)\" d=\"M 658.164631 90.06831 \nL 706.862813 90.06831 \nL 706.862813 129.602855 \nL 658.164631 129.602855 \nL 658.164631 90.06831 \n\" style=\"fill:#c71951;\"/>\n    <path clip-path=\"url(#pe3c582c576)\" d=\"M 171.182813 129.602855 \nL 219.880994 129.602855 \nL 219.880994 169.137401 \nL 171.182813 169.137401 \nL 171.182813 129.602855 \n\" style=\"fill:#cb1b4f;\"/>\n    <path clip-path=\"url(#pe3c582c576)\" d=\"M 219.880994 129.602855 \nL 268.579176 129.602855 \nL 268.579176 169.137401 \nL 219.880994 169.137401 \nL 219.880994 129.602855 \n\" style=\"fill:#c71951;\"/>\n    <path clip-path=\"url(#pe3c582c576)\" d=\"M 268.579176 129.602855 \nL 317.277358 129.602855 \nL 317.277358 169.137401 \nL 268.579176 169.137401 \nL 268.579176 129.602855 \n\" style=\"fill:#c71951;\"/>\n    <path clip-path=\"url(#pe3c582c576)\" d=\"M 317.277358 129.602855 \nL 365.97554 129.602855 \nL 365.97554 169.137401 \nL 317.277358 169.137401 \nL 317.277358 129.602855 \n\" style=\"fill:#faebdd;\"/>\n    <path clip-path=\"url(#pe3c582c576)\" d=\"M 365.97554 129.602855 \nL 414.673722 129.602855 \nL 414.673722 169.137401 \nL 365.97554 169.137401 \nL 365.97554 129.602855 \n\" style=\"fill:#cb1b4f;\"/>\n    <path clip-path=\"url(#pe3c582c576)\" d=\"M 414.673722 129.602855 \nL 463.371903 129.602855 \nL 463.371903 169.137401 \nL 414.673722 169.137401 \nL 414.673722 129.602855 \n\" style=\"fill:#e8403e;\"/>\n    <path clip-path=\"url(#pe3c582c576)\" d=\"M 463.371903 129.602855 \nL 512.070085 129.602855 \nL 512.070085 169.137401 \nL 463.371903 169.137401 \nL 463.371903 129.602855 \n\" style=\"fill:#c71951;\"/>\n    <path clip-path=\"url(#pe3c582c576)\" d=\"M 512.070085 129.602855 \nL 560.768267 129.602855 \nL 560.768267 169.137401 \nL 512.070085 169.137401 \nL 512.070085 129.602855 \n\" style=\"fill:#e73d3f;\"/>\n    <path clip-path=\"url(#pe3c582c576)\" d=\"M 560.768267 129.602855 \nL 609.466449 129.602855 \nL 609.466449 169.137401 \nL 560.768267 169.137401 \nL 560.768267 129.602855 \n\" style=\"fill:#c71951;\"/>\n    <path clip-path=\"url(#pe3c582c576)\" d=\"M 609.466449 129.602855 \nL 658.164631 129.602855 \nL 658.164631 169.137401 \nL 609.466449 169.137401 \nL 609.466449 129.602855 \n\" style=\"fill:#f8dac5;\"/>\n    <path clip-path=\"url(#pe3c582c576)\" d=\"M 658.164631 129.602855 \nL 706.862813 129.602855 \nL 706.862813 169.137401 \nL 658.164631 169.137401 \nL 658.164631 129.602855 \n\" style=\"fill:#cd1c4e;\"/>\n    <path clip-path=\"url(#pe3c582c576)\" d=\"M 171.182813 169.137401 \nL 219.880994 169.137401 \nL 219.880994 208.671946 \nL 171.182813 208.671946 \nL 171.182813 169.137401 \n\" style=\"fill:#c71951;\"/>\n    <path clip-path=\"url(#pe3c582c576)\" d=\"M 219.880994 169.137401 \nL 268.579176 169.137401 \nL 268.579176 208.671946 \nL 219.880994 208.671946 \nL 219.880994 169.137401 \n\" style=\"fill:#c71951;\"/>\n    <path clip-path=\"url(#pe3c582c576)\" d=\"M 268.579176 169.137401 \nL 317.277358 169.137401 \nL 317.277358 208.671946 \nL 268.579176 208.671946 \nL 268.579176 169.137401 \n\" style=\"fill:#c81951;\"/>\n    <path clip-path=\"url(#pe3c582c576)\" d=\"M 317.277358 169.137401 \nL 365.97554 169.137401 \nL 365.97554 208.671946 \nL 317.277358 208.671946 \nL 317.277358 169.137401 \n\" style=\"fill:#cb1b4f;\"/>\n    <path clip-path=\"url(#pe3c582c576)\" d=\"M 365.97554 169.137401 \nL 414.673722 169.137401 \nL 414.673722 208.671946 \nL 365.97554 208.671946 \nL 365.97554 169.137401 \n\" style=\"fill:#faebdd;\"/>\n    <path clip-path=\"url(#pe3c582c576)\" d=\"M 414.673722 169.137401 \nL 463.371903 169.137401 \nL 463.371903 208.671946 \nL 414.673722 208.671946 \nL 414.673722 169.137401 \n\" style=\"fill:#c71951;\"/>\n    <path clip-path=\"url(#pe3c582c576)\" d=\"M 463.371903 169.137401 \nL 512.070085 169.137401 \nL 512.070085 208.671946 \nL 463.371903 208.671946 \nL 463.371903 169.137401 \n\" style=\"fill:#f59269;\"/>\n    <path clip-path=\"url(#pe3c582c576)\" d=\"M 512.070085 169.137401 \nL 560.768267 169.137401 \nL 560.768267 208.671946 \nL 512.070085 208.671946 \nL 512.070085 169.137401 \n\" style=\"fill:#c51852;\"/>\n    <path clip-path=\"url(#pe3c582c576)\" d=\"M 560.768267 169.137401 \nL 609.466449 169.137401 \nL 609.466449 208.671946 \nL 560.768267 208.671946 \nL 560.768267 169.137401 \n\" style=\"fill:#f06043;\"/>\n    <path clip-path=\"url(#pe3c582c576)\" d=\"M 609.466449 169.137401 \nL 658.164631 169.137401 \nL 658.164631 208.671946 \nL 609.466449 208.671946 \nL 609.466449 169.137401 \n\" style=\"fill:#cb1b4f;\"/>\n    <path clip-path=\"url(#pe3c582c576)\" d=\"M 658.164631 169.137401 \nL 706.862813 169.137401 \nL 706.862813 208.671946 \nL 658.164631 208.671946 \nL 658.164631 169.137401 \n\" style=\"fill:#f6be9b;\"/>\n    <path clip-path=\"url(#pe3c582c576)\" d=\"M 171.182813 208.671946 \nL 219.880994 208.671946 \nL 219.880994 248.206491 \nL 171.182813 248.206491 \nL 171.182813 208.671946 \n\" style=\"fill:#c41753;\"/>\n    <path clip-path=\"url(#pe3c582c576)\" d=\"M 219.880994 208.671946 \nL 268.579176 208.671946 \nL 268.579176 248.206491 \nL 219.880994 248.206491 \nL 219.880994 208.671946 \n\" style=\"fill:#c71951;\"/>\n    <path clip-path=\"url(#pe3c582c576)\" d=\"M 268.579176 208.671946 \nL 317.277358 208.671946 \nL 317.277358 248.206491 \nL 268.579176 248.206491 \nL 268.579176 208.671946 \n\" style=\"fill:#c71951;\"/>\n    <path clip-path=\"url(#pe3c582c576)\" d=\"M 317.277358 208.671946 \nL 365.97554 208.671946 \nL 365.97554 248.206491 \nL 317.277358 248.206491 \nL 317.277358 208.671946 \n\" style=\"fill:#e8403e;\"/>\n    <path clip-path=\"url(#pe3c582c576)\" d=\"M 365.97554 208.671946 \nL 414.673722 208.671946 \nL 414.673722 248.206491 \nL 365.97554 248.206491 \nL 365.97554 208.671946 \n\" style=\"fill:#c71951;\"/>\n    <path clip-path=\"url(#pe3c582c576)\" d=\"M 414.673722 208.671946 \nL 463.371903 208.671946 \nL 463.371903 248.206491 \nL 414.673722 248.206491 \nL 414.673722 208.671946 \n\" style=\"fill:#faebdd;\"/>\n    <path clip-path=\"url(#pe3c582c576)\" d=\"M 463.371903 208.671946 \nL 512.070085 208.671946 \nL 512.070085 248.206491 \nL 463.371903 248.206491 \nL 463.371903 208.671946 \n\" style=\"fill:#c81951;\"/>\n    <path clip-path=\"url(#pe3c582c576)\" d=\"M 512.070085 208.671946 \nL 560.768267 208.671946 \nL 560.768267 248.206491 \nL 512.070085 248.206491 \nL 512.070085 208.671946 \n\" style=\"fill:#c11754;\"/>\n    <path clip-path=\"url(#pe3c582c576)\" d=\"M 560.768267 208.671946 \nL 609.466449 208.671946 \nL 609.466449 248.206491 \nL 560.768267 248.206491 \nL 560.768267 208.671946 \n\" style=\"fill:#c81951;\"/>\n    <path clip-path=\"url(#pe3c582c576)\" d=\"M 609.466449 208.671946 \nL 658.164631 208.671946 \nL 658.164631 248.206491 \nL 609.466449 248.206491 \nL 609.466449 208.671946 \n\" style=\"fill:#b91657;\"/>\n    <path clip-path=\"url(#pe3c582c576)\" d=\"M 658.164631 208.671946 \nL 706.862813 208.671946 \nL 706.862813 248.206491 \nL 658.164631 248.206491 \nL 658.164631 208.671946 \n\" style=\"fill:#c71951;\"/>\n    <path clip-path=\"url(#pe3c582c576)\" d=\"M 171.182813 248.206491 \nL 219.880994 248.206491 \nL 219.880994 287.741037 \nL 171.182813 287.741037 \nL 171.182813 248.206491 \n\" style=\"fill:#c71951;\"/>\n    <path clip-path=\"url(#pe3c582c576)\" d=\"M 219.880994 248.206491 \nL 268.579176 248.206491 \nL 268.579176 287.741037 \nL 219.880994 287.741037 \nL 219.880994 248.206491 \n\" style=\"fill:#c51852;\"/>\n    <path clip-path=\"url(#pe3c582c576)\" d=\"M 268.579176 248.206491 \nL 317.277358 248.206491 \nL 317.277358 287.741037 \nL 268.579176 287.741037 \nL 268.579176 248.206491 \n\" style=\"fill:#c81951;\"/>\n    <path clip-path=\"url(#pe3c582c576)\" d=\"M 317.277358 248.206491 \nL 365.97554 248.206491 \nL 365.97554 287.741037 \nL 317.277358 287.741037 \nL 317.277358 248.206491 \n\" style=\"fill:#c71951;\"/>\n    <path clip-path=\"url(#pe3c582c576)\" d=\"M 365.97554 248.206491 \nL 414.673722 248.206491 \nL 414.673722 287.741037 \nL 365.97554 287.741037 \nL 365.97554 248.206491 \n\" style=\"fill:#f59269;\"/>\n    <path clip-path=\"url(#pe3c582c576)\" d=\"M 414.673722 248.206491 \nL 463.371903 248.206491 \nL 463.371903 287.741037 \nL 414.673722 287.741037 \nL 414.673722 248.206491 \n\" style=\"fill:#c81951;\"/>\n    <path clip-path=\"url(#pe3c582c576)\" d=\"M 463.371903 248.206491 \nL 512.070085 248.206491 \nL 512.070085 287.741037 \nL 463.371903 287.741037 \nL 463.371903 248.206491 \n\" style=\"fill:#faebdd;\"/>\n    <path clip-path=\"url(#pe3c582c576)\" d=\"M 512.070085 248.206491 \nL 560.768267 248.206491 \nL 560.768267 287.741037 \nL 512.070085 287.741037 \nL 512.070085 248.206491 \n\" style=\"fill:#c51852;\"/>\n    <path clip-path=\"url(#pe3c582c576)\" d=\"M 560.768267 248.206491 \nL 609.466449 248.206491 \nL 609.466449 287.741037 \nL 560.768267 287.741037 \nL 560.768267 248.206491 \n\" style=\"fill:#c71951;\"/>\n    <path clip-path=\"url(#pe3c582c576)\" d=\"M 609.466449 248.206491 \nL 658.164631 248.206491 \nL 658.164631 287.741037 \nL 609.466449 287.741037 \nL 609.466449 248.206491 \n\" style=\"fill:#c71951;\"/>\n    <path clip-path=\"url(#pe3c582c576)\" d=\"M 658.164631 248.206491 \nL 706.862813 248.206491 \nL 706.862813 287.741037 \nL 658.164631 287.741037 \nL 658.164631 248.206491 \n\" style=\"fill:#ca1a50;\"/>\n    <path clip-path=\"url(#pe3c582c576)\" d=\"M 171.182813 287.741037 \nL 219.880994 287.741037 \nL 219.880994 327.275582 \nL 171.182813 327.275582 \nL 171.182813 287.741037 \n\" style=\"fill:#c11754;\"/>\n    <path clip-path=\"url(#pe3c582c576)\" d=\"M 219.880994 287.741037 \nL 268.579176 287.741037 \nL 268.579176 327.275582 \nL 219.880994 327.275582 \nL 219.880994 287.741037 \n\" style=\"fill:#c71951;\"/>\n    <path clip-path=\"url(#pe3c582c576)\" d=\"M 268.579176 287.741037 \nL 317.277358 287.741037 \nL 317.277358 327.275582 \nL 268.579176 327.275582 \nL 268.579176 287.741037 \n\" style=\"fill:#c71951;\"/>\n    <path clip-path=\"url(#pe3c582c576)\" d=\"M 317.277358 287.741037 \nL 365.97554 287.741037 \nL 365.97554 327.275582 \nL 317.277358 327.275582 \nL 317.277358 287.741037 \n\" style=\"fill:#e73d3f;\"/>\n    <path clip-path=\"url(#pe3c582c576)\" d=\"M 365.97554 287.741037 \nL 414.673722 287.741037 \nL 414.673722 327.275582 \nL 365.97554 327.275582 \nL 365.97554 287.741037 \n\" style=\"fill:#c51852;\"/>\n    <path clip-path=\"url(#pe3c582c576)\" d=\"M 414.673722 287.741037 \nL 463.371903 287.741037 \nL 463.371903 327.275582 \nL 414.673722 327.275582 \nL 414.673722 287.741037 \n\" style=\"fill:#c11754;\"/>\n    <path clip-path=\"url(#pe3c582c576)\" d=\"M 463.371903 287.741037 \nL 512.070085 287.741037 \nL 512.070085 327.275582 \nL 463.371903 327.275582 \nL 463.371903 287.741037 \n\" style=\"fill:#c51852;\"/>\n    <path clip-path=\"url(#pe3c582c576)\" d=\"M 512.070085 287.741037 \nL 560.768267 287.741037 \nL 560.768267 327.275582 \nL 512.070085 327.275582 \nL 512.070085 287.741037 \n\" style=\"fill:#faebdd;\"/>\n    <path clip-path=\"url(#pe3c582c576)\" d=\"M 560.768267 287.741037 \nL 609.466449 287.741037 \nL 609.466449 327.275582 \nL 560.768267 327.275582 \nL 560.768267 287.741037 \n\" style=\"fill:#c71951;\"/>\n    <path clip-path=\"url(#pe3c582c576)\" d=\"M 609.466449 287.741037 \nL 658.164631 287.741037 \nL 658.164631 327.275582 \nL 609.466449 327.275582 \nL 609.466449 287.741037 \n\" style=\"fill:#b51657;\"/>\n    <path clip-path=\"url(#pe3c582c576)\" d=\"M 658.164631 287.741037 \nL 706.862813 287.741037 \nL 706.862813 327.275582 \nL 658.164631 327.275582 \nL 658.164631 287.741037 \n\" style=\"fill:#c51852;\"/>\n    <path clip-path=\"url(#pe3c582c576)\" d=\"M 171.182813 327.275582 \nL 219.880994 327.275582 \nL 219.880994 366.810128 \nL 171.182813 366.810128 \nL 171.182813 327.275582 \n\" style=\"fill:#c71951;\"/>\n    <path clip-path=\"url(#pe3c582c576)\" d=\"M 219.880994 327.275582 \nL 268.579176 327.275582 \nL 268.579176 366.810128 \nL 219.880994 366.810128 \nL 219.880994 327.275582 \n\" style=\"fill:#c71951;\"/>\n    <path clip-path=\"url(#pe3c582c576)\" d=\"M 268.579176 327.275582 \nL 317.277358 327.275582 \nL 317.277358 366.810128 \nL 268.579176 366.810128 \nL 268.579176 327.275582 \n\" style=\"fill:#c71951;\"/>\n    <path clip-path=\"url(#pe3c582c576)\" d=\"M 317.277358 327.275582 \nL 365.97554 327.275582 \nL 365.97554 366.810128 \nL 317.277358 366.810128 \nL 317.277358 327.275582 \n\" style=\"fill:#c71951;\"/>\n    <path clip-path=\"url(#pe3c582c576)\" d=\"M 365.97554 327.275582 \nL 414.673722 327.275582 \nL 414.673722 366.810128 \nL 365.97554 366.810128 \nL 365.97554 327.275582 \n\" style=\"fill:#f06043;\"/>\n    <path clip-path=\"url(#pe3c582c576)\" d=\"M 414.673722 327.275582 \nL 463.371903 327.275582 \nL 463.371903 366.810128 \nL 414.673722 366.810128 \nL 414.673722 327.275582 \n\" style=\"fill:#c81951;\"/>\n    <path clip-path=\"url(#pe3c582c576)\" d=\"M 463.371903 327.275582 \nL 512.070085 327.275582 \nL 512.070085 366.810128 \nL 463.371903 366.810128 \nL 463.371903 327.275582 \n\" style=\"fill:#c71951;\"/>\n    <path clip-path=\"url(#pe3c582c576)\" d=\"M 512.070085 327.275582 \nL 560.768267 327.275582 \nL 560.768267 366.810128 \nL 512.070085 366.810128 \nL 512.070085 327.275582 \n\" style=\"fill:#c71951;\"/>\n    <path clip-path=\"url(#pe3c582c576)\" d=\"M 560.768267 327.275582 \nL 609.466449 327.275582 \nL 609.466449 366.810128 \nL 560.768267 366.810128 \nL 560.768267 327.275582 \n\" style=\"fill:#faebdd;\"/>\n    <path clip-path=\"url(#pe3c582c576)\" d=\"M 609.466449 327.275582 \nL 658.164631 327.275582 \nL 658.164631 366.810128 \nL 609.466449 366.810128 \nL 609.466449 327.275582 \n\" style=\"fill:#c71951;\"/>\n    <path clip-path=\"url(#pe3c582c576)\" d=\"M 658.164631 327.275582 \nL 706.862813 327.275582 \nL 706.862813 366.810128 \nL 658.164631 366.810128 \nL 658.164631 327.275582 \n\" style=\"fill:#c71951;\"/>\n    <path clip-path=\"url(#pe3c582c576)\" d=\"M 171.182813 366.810128 \nL 219.880994 366.810128 \nL 219.880994 406.344673 \nL 171.182813 406.344673 \nL 171.182813 366.810128 \n\" style=\"fill:#ce1d4e;\"/>\n    <path clip-path=\"url(#pe3c582c576)\" d=\"M 219.880994 366.810128 \nL 268.579176 366.810128 \nL 268.579176 406.344673 \nL 219.880994 406.344673 \nL 219.880994 366.810128 \n\" style=\"fill:#c71951;\"/>\n    <path clip-path=\"url(#pe3c582c576)\" d=\"M 268.579176 366.810128 \nL 317.277358 366.810128 \nL 317.277358 406.344673 \nL 268.579176 406.344673 \nL 268.579176 366.810128 \n\" style=\"fill:#c71951;\"/>\n    <path clip-path=\"url(#pe3c582c576)\" d=\"M 317.277358 366.810128 \nL 365.97554 366.810128 \nL 365.97554 406.344673 \nL 317.277358 406.344673 \nL 317.277358 366.810128 \n\" style=\"fill:#f8dac5;\"/>\n    <path clip-path=\"url(#pe3c582c576)\" d=\"M 365.97554 366.810128 \nL 414.673722 366.810128 \nL 414.673722 406.344673 \nL 365.97554 406.344673 \nL 365.97554 366.810128 \n\" style=\"fill:#cb1b4f;\"/>\n    <path clip-path=\"url(#pe3c582c576)\" d=\"M 414.673722 366.810128 \nL 463.371903 366.810128 \nL 463.371903 406.344673 \nL 414.673722 406.344673 \nL 414.673722 366.810128 \n\" style=\"fill:#b91657;\"/>\n    <path clip-path=\"url(#pe3c582c576)\" d=\"M 463.371903 366.810128 \nL 512.070085 366.810128 \nL 512.070085 406.344673 \nL 463.371903 406.344673 \nL 463.371903 366.810128 \n\" style=\"fill:#c71951;\"/>\n    <path clip-path=\"url(#pe3c582c576)\" d=\"M 512.070085 366.810128 \nL 560.768267 366.810128 \nL 560.768267 406.344673 \nL 512.070085 406.344673 \nL 512.070085 366.810128 \n\" style=\"fill:#b51657;\"/>\n    <path clip-path=\"url(#pe3c582c576)\" d=\"M 560.768267 366.810128 \nL 609.466449 366.810128 \nL 609.466449 406.344673 \nL 560.768267 406.344673 \nL 560.768267 366.810128 \n\" style=\"fill:#c71951;\"/>\n    <path clip-path=\"url(#pe3c582c576)\" d=\"M 609.466449 366.810128 \nL 658.164631 366.810128 \nL 658.164631 406.344673 \nL 609.466449 406.344673 \nL 609.466449 366.810128 \n\" style=\"fill:#faebdd;\"/>\n    <path clip-path=\"url(#pe3c582c576)\" d=\"M 658.164631 366.810128 \nL 706.862813 366.810128 \nL 706.862813 406.344673 \nL 658.164631 406.344673 \nL 658.164631 366.810128 \n\" style=\"fill:#ce1d4e;\"/>\n    <path clip-path=\"url(#pe3c582c576)\" d=\"M 171.182813 406.344673 \nL 219.880994 406.344673 \nL 219.880994 445.879219 \nL 171.182813 445.879219 \nL 171.182813 406.344673 \n\" style=\"fill:#c81951;\"/>\n    <path clip-path=\"url(#pe3c582c576)\" d=\"M 219.880994 406.344673 \nL 268.579176 406.344673 \nL 268.579176 445.879219 \nL 219.880994 445.879219 \nL 219.880994 406.344673 \n\" style=\"fill:#c71951;\"/>\n    <path clip-path=\"url(#pe3c582c576)\" d=\"M 268.579176 406.344673 \nL 317.277358 406.344673 \nL 317.277358 445.879219 \nL 268.579176 445.879219 \nL 268.579176 406.344673 \n\" style=\"fill:#c71951;\"/>\n    <path clip-path=\"url(#pe3c582c576)\" d=\"M 317.277358 406.344673 \nL 365.97554 406.344673 \nL 365.97554 445.879219 \nL 317.277358 445.879219 \nL 317.277358 406.344673 \n\" style=\"fill:#cd1c4e;\"/>\n    <path clip-path=\"url(#pe3c582c576)\" d=\"M 365.97554 406.344673 \nL 414.673722 406.344673 \nL 414.673722 445.879219 \nL 365.97554 445.879219 \nL 365.97554 406.344673 \n\" style=\"fill:#f6be9b;\"/>\n    <path clip-path=\"url(#pe3c582c576)\" d=\"M 414.673722 406.344673 \nL 463.371903 406.344673 \nL 463.371903 445.879219 \nL 414.673722 445.879219 \nL 414.673722 406.344673 \n\" style=\"fill:#c71951;\"/>\n    <path clip-path=\"url(#pe3c582c576)\" d=\"M 463.371903 406.344673 \nL 512.070085 406.344673 \nL 512.070085 445.879219 \nL 463.371903 445.879219 \nL 463.371903 406.344673 \n\" style=\"fill:#ca1a50;\"/>\n    <path clip-path=\"url(#pe3c582c576)\" d=\"M 512.070085 406.344673 \nL 560.768267 406.344673 \nL 560.768267 445.879219 \nL 512.070085 445.879219 \nL 512.070085 406.344673 \n\" style=\"fill:#c51852;\"/>\n    <path clip-path=\"url(#pe3c582c576)\" d=\"M 560.768267 406.344673 \nL 609.466449 406.344673 \nL 609.466449 445.879219 \nL 560.768267 445.879219 \nL 560.768267 406.344673 \n\" style=\"fill:#c71951;\"/>\n    <path clip-path=\"url(#pe3c582c576)\" d=\"M 609.466449 406.344673 \nL 658.164631 406.344673 \nL 658.164631 445.879219 \nL 609.466449 445.879219 \nL 609.466449 406.344673 \n\" style=\"fill:#ce1d4e;\"/>\n    <path clip-path=\"url(#pe3c582c576)\" d=\"M 658.164631 406.344673 \nL 706.862813 406.344673 \nL 706.862813 445.879219 \nL 658.164631 445.879219 \nL 658.164631 406.344673 \n\" style=\"fill:#faebdd;\"/>\n   </g>\n   <g id=\"matplotlib.axis_1\">\n    <g id=\"xtick_1\">\n     <g id=\"line2d_1\">\n      <defs>\n       <path d=\"M 0 0 \nL 0 3.5 \n\" id=\"m07fb2088fb\" style=\"stroke:#000000;stroke-width:0.8;\"/>\n      </defs>\n      <g>\n       <use style=\"stroke:#000000;stroke-width:0.8;\" x=\"195.531903\" xlink:href=\"#m07fb2088fb\" y=\"445.879219\"/>\n      </g>\n     </g>\n     <g id=\"text_1\">\n      <!-- zip_code -->\n      <g transform=\"translate(198.152216 496.372969)rotate(-90)scale(0.1 -0.1)\">\n       <defs>\n        <path d=\"M 5.515625 54.6875 \nL 48.1875 54.6875 \nL 48.1875 46.484375 \nL 14.40625 7.171875 \nL 48.1875 7.171875 \nL 48.1875 0 \nL 4.296875 0 \nL 4.296875 8.203125 \nL 38.09375 47.515625 \nL 5.515625 47.515625 \nz\n\" id=\"DejaVuSans-122\"/>\n        <path d=\"M 9.421875 54.6875 \nL 18.40625 54.6875 \nL 18.40625 0 \nL 9.421875 0 \nz\nM 9.421875 75.984375 \nL 18.40625 75.984375 \nL 18.40625 64.59375 \nL 9.421875 64.59375 \nz\n\" id=\"DejaVuSans-105\"/>\n        <path d=\"M 18.109375 8.203125 \nL 18.109375 -20.796875 \nL 9.078125 -20.796875 \nL 9.078125 54.6875 \nL 18.109375 54.6875 \nL 18.109375 46.390625 \nQ 20.953125 51.265625 25.265625 53.625 \nQ 29.59375 56 35.59375 56 \nQ 45.5625 56 51.78125 48.09375 \nQ 58.015625 40.1875 58.015625 27.296875 \nQ 58.015625 14.40625 51.78125 6.484375 \nQ 45.5625 -1.421875 35.59375 -1.421875 \nQ 29.59375 -1.421875 25.265625 0.953125 \nQ 20.953125 3.328125 18.109375 8.203125 \nz\nM 48.6875 27.296875 \nQ 48.6875 37.203125 44.609375 42.84375 \nQ 40.53125 48.484375 33.40625 48.484375 \nQ 26.265625 48.484375 22.1875 42.84375 \nQ 18.109375 37.203125 18.109375 27.296875 \nQ 18.109375 17.390625 22.1875 11.75 \nQ 26.265625 6.109375 33.40625 6.109375 \nQ 40.53125 6.109375 44.609375 11.75 \nQ 48.6875 17.390625 48.6875 27.296875 \nz\n\" id=\"DejaVuSans-112\"/>\n        <path d=\"M 50.984375 -16.609375 \nL 50.984375 -23.578125 \nL -0.984375 -23.578125 \nL -0.984375 -16.609375 \nz\n\" id=\"DejaVuSans-95\"/>\n        <path d=\"M 48.78125 52.59375 \nL 48.78125 44.1875 \nQ 44.96875 46.296875 41.140625 47.34375 \nQ 37.3125 48.390625 33.40625 48.390625 \nQ 24.65625 48.390625 19.8125 42.84375 \nQ 14.984375 37.3125 14.984375 27.296875 \nQ 14.984375 17.28125 19.8125 11.734375 \nQ 24.65625 6.203125 33.40625 6.203125 \nQ 37.3125 6.203125 41.140625 7.25 \nQ 44.96875 8.296875 48.78125 10.40625 \nL 48.78125 2.09375 \nQ 45.015625 0.34375 40.984375 -0.53125 \nQ 36.96875 -1.421875 32.421875 -1.421875 \nQ 20.0625 -1.421875 12.78125 6.34375 \nQ 5.515625 14.109375 5.515625 27.296875 \nQ 5.515625 40.671875 12.859375 48.328125 \nQ 20.21875 56 33.015625 56 \nQ 37.15625 56 41.109375 55.140625 \nQ 45.0625 54.296875 48.78125 52.59375 \nz\n\" id=\"DejaVuSans-99\"/>\n        <path d=\"M 30.609375 48.390625 \nQ 23.390625 48.390625 19.1875 42.75 \nQ 14.984375 37.109375 14.984375 27.296875 \nQ 14.984375 17.484375 19.15625 11.84375 \nQ 23.34375 6.203125 30.609375 6.203125 \nQ 37.796875 6.203125 41.984375 11.859375 \nQ 46.1875 17.53125 46.1875 27.296875 \nQ 46.1875 37.015625 41.984375 42.703125 \nQ 37.796875 48.390625 30.609375 48.390625 \nz\nM 30.609375 56 \nQ 42.328125 56 49.015625 48.375 \nQ 55.71875 40.765625 55.71875 27.296875 \nQ 55.71875 13.875 49.015625 6.21875 \nQ 42.328125 -1.421875 30.609375 -1.421875 \nQ 18.84375 -1.421875 12.171875 6.21875 \nQ 5.515625 13.875 5.515625 27.296875 \nQ 5.515625 40.765625 12.171875 48.375 \nQ 18.84375 56 30.609375 56 \nz\n\" id=\"DejaVuSans-111\"/>\n        <path d=\"M 45.40625 46.390625 \nL 45.40625 75.984375 \nL 54.390625 75.984375 \nL 54.390625 0 \nL 45.40625 0 \nL 45.40625 8.203125 \nQ 42.578125 3.328125 38.25 0.953125 \nQ 33.9375 -1.421875 27.875 -1.421875 \nQ 17.96875 -1.421875 11.734375 6.484375 \nQ 5.515625 14.40625 5.515625 27.296875 \nQ 5.515625 40.1875 11.734375 48.09375 \nQ 17.96875 56 27.875 56 \nQ 33.9375 56 38.25 53.625 \nQ 42.578125 51.265625 45.40625 46.390625 \nz\nM 14.796875 27.296875 \nQ 14.796875 17.390625 18.875 11.75 \nQ 22.953125 6.109375 30.078125 6.109375 \nQ 37.203125 6.109375 41.296875 11.75 \nQ 45.40625 17.390625 45.40625 27.296875 \nQ 45.40625 37.203125 41.296875 42.84375 \nQ 37.203125 48.484375 30.078125 48.484375 \nQ 22.953125 48.484375 18.875 42.84375 \nQ 14.796875 37.203125 14.796875 27.296875 \nz\n\" id=\"DejaVuSans-100\"/>\n        <path d=\"M 56.203125 29.59375 \nL 56.203125 25.203125 \nL 14.890625 25.203125 \nQ 15.484375 15.921875 20.484375 11.0625 \nQ 25.484375 6.203125 34.421875 6.203125 \nQ 39.59375 6.203125 44.453125 7.46875 \nQ 49.3125 8.734375 54.109375 11.28125 \nL 54.109375 2.78125 \nQ 49.265625 0.734375 44.1875 -0.34375 \nQ 39.109375 -1.421875 33.890625 -1.421875 \nQ 20.796875 -1.421875 13.15625 6.1875 \nQ 5.515625 13.8125 5.515625 26.8125 \nQ 5.515625 40.234375 12.765625 48.109375 \nQ 20.015625 56 32.328125 56 \nQ 43.359375 56 49.78125 48.890625 \nQ 56.203125 41.796875 56.203125 29.59375 \nz\nM 47.21875 32.234375 \nQ 47.125 39.59375 43.09375 43.984375 \nQ 39.0625 48.390625 32.421875 48.390625 \nQ 24.90625 48.390625 20.390625 44.140625 \nQ 15.875 39.890625 15.1875 32.171875 \nz\n\" id=\"DejaVuSans-101\"/>\n       </defs>\n       <use xlink:href=\"#DejaVuSans-122\"/>\n       <use x=\"52.490234\" xlink:href=\"#DejaVuSans-105\"/>\n       <use x=\"80.273438\" xlink:href=\"#DejaVuSans-112\"/>\n       <use x=\"143.75\" xlink:href=\"#DejaVuSans-95\"/>\n       <use x=\"193.75\" xlink:href=\"#DejaVuSans-99\"/>\n       <use x=\"248.730469\" xlink:href=\"#DejaVuSans-111\"/>\n       <use x=\"309.912109\" xlink:href=\"#DejaVuSans-100\"/>\n       <use x=\"373.388672\" xlink:href=\"#DejaVuSans-101\"/>\n      </g>\n     </g>\n    </g>\n    <g id=\"xtick_2\">\n     <g id=\"line2d_2\">\n      <g>\n       <use style=\"stroke:#000000;stroke-width:0.8;\" x=\"244.230085\" xlink:href=\"#m07fb2088fb\" y=\"445.879219\"/>\n      </g>\n     </g>\n     <g id=\"text_2\">\n      <!-- latitude -->\n      <g transform=\"translate(246.98946 491.243281)rotate(-90)scale(0.1 -0.1)\">\n       <defs>\n        <path d=\"M 9.421875 75.984375 \nL 18.40625 75.984375 \nL 18.40625 0 \nL 9.421875 0 \nz\n\" id=\"DejaVuSans-108\"/>\n        <path d=\"M 34.28125 27.484375 \nQ 23.390625 27.484375 19.1875 25 \nQ 14.984375 22.515625 14.984375 16.5 \nQ 14.984375 11.71875 18.140625 8.90625 \nQ 21.296875 6.109375 26.703125 6.109375 \nQ 34.1875 6.109375 38.703125 11.40625 \nQ 43.21875 16.703125 43.21875 25.484375 \nL 43.21875 27.484375 \nz\nM 52.203125 31.203125 \nL 52.203125 0 \nL 43.21875 0 \nL 43.21875 8.296875 \nQ 40.140625 3.328125 35.546875 0.953125 \nQ 30.953125 -1.421875 24.3125 -1.421875 \nQ 15.921875 -1.421875 10.953125 3.296875 \nQ 6 8.015625 6 15.921875 \nQ 6 25.140625 12.171875 29.828125 \nQ 18.359375 34.515625 30.609375 34.515625 \nL 43.21875 34.515625 \nL 43.21875 35.40625 \nQ 43.21875 41.609375 39.140625 45 \nQ 35.0625 48.390625 27.6875 48.390625 \nQ 23 48.390625 18.546875 47.265625 \nQ 14.109375 46.140625 10.015625 43.890625 \nL 10.015625 52.203125 \nQ 14.9375 54.109375 19.578125 55.046875 \nQ 24.21875 56 28.609375 56 \nQ 40.484375 56 46.34375 49.84375 \nQ 52.203125 43.703125 52.203125 31.203125 \nz\n\" id=\"DejaVuSans-97\"/>\n        <path d=\"M 18.3125 70.21875 \nL 18.3125 54.6875 \nL 36.8125 54.6875 \nL 36.8125 47.703125 \nL 18.3125 47.703125 \nL 18.3125 18.015625 \nQ 18.3125 11.328125 20.140625 9.421875 \nQ 21.96875 7.515625 27.59375 7.515625 \nL 36.8125 7.515625 \nL 36.8125 0 \nL 27.59375 0 \nQ 17.1875 0 13.234375 3.875 \nQ 9.28125 7.765625 9.28125 18.015625 \nL 9.28125 47.703125 \nL 2.6875 47.703125 \nL 2.6875 54.6875 \nL 9.28125 54.6875 \nL 9.28125 70.21875 \nz\n\" id=\"DejaVuSans-116\"/>\n        <path d=\"M 8.5 21.578125 \nL 8.5 54.6875 \nL 17.484375 54.6875 \nL 17.484375 21.921875 \nQ 17.484375 14.15625 20.5 10.265625 \nQ 23.53125 6.390625 29.59375 6.390625 \nQ 36.859375 6.390625 41.078125 11.03125 \nQ 45.3125 15.671875 45.3125 23.6875 \nL 45.3125 54.6875 \nL 54.296875 54.6875 \nL 54.296875 0 \nL 45.3125 0 \nL 45.3125 8.40625 \nQ 42.046875 3.421875 37.71875 1 \nQ 33.40625 -1.421875 27.6875 -1.421875 \nQ 18.265625 -1.421875 13.375 4.4375 \nQ 8.5 10.296875 8.5 21.578125 \nz\nM 31.109375 56 \nz\n\" id=\"DejaVuSans-117\"/>\n       </defs>\n       <use xlink:href=\"#DejaVuSans-108\"/>\n       <use x=\"27.783203\" xlink:href=\"#DejaVuSans-97\"/>\n       <use x=\"89.0625\" xlink:href=\"#DejaVuSans-116\"/>\n       <use x=\"128.271484\" xlink:href=\"#DejaVuSans-105\"/>\n       <use x=\"156.054688\" xlink:href=\"#DejaVuSans-116\"/>\n       <use x=\"195.263672\" xlink:href=\"#DejaVuSans-117\"/>\n       <use x=\"258.642578\" xlink:href=\"#DejaVuSans-100\"/>\n       <use x=\"322.119141\" xlink:href=\"#DejaVuSans-101\"/>\n      </g>\n     </g>\n    </g>\n    <g id=\"xtick_3\">\n     <g id=\"line2d_3\">\n      <g>\n       <use style=\"stroke:#000000;stroke-width:0.8;\" x=\"292.928267\" xlink:href=\"#m07fb2088fb\" y=\"445.879219\"/>\n      </g>\n     </g>\n     <g id=\"text_3\">\n      <!-- longitude -->\n      <g transform=\"translate(295.687642 499.999531)rotate(-90)scale(0.1 -0.1)\">\n       <defs>\n        <path d=\"M 54.890625 33.015625 \nL 54.890625 0 \nL 45.90625 0 \nL 45.90625 32.71875 \nQ 45.90625 40.484375 42.875 44.328125 \nQ 39.84375 48.1875 33.796875 48.1875 \nQ 26.515625 48.1875 22.3125 43.546875 \nQ 18.109375 38.921875 18.109375 30.90625 \nL 18.109375 0 \nL 9.078125 0 \nL 9.078125 54.6875 \nL 18.109375 54.6875 \nL 18.109375 46.1875 \nQ 21.34375 51.125 25.703125 53.5625 \nQ 30.078125 56 35.796875 56 \nQ 45.21875 56 50.046875 50.171875 \nQ 54.890625 44.34375 54.890625 33.015625 \nz\n\" id=\"DejaVuSans-110\"/>\n        <path d=\"M 45.40625 27.984375 \nQ 45.40625 37.75 41.375 43.109375 \nQ 37.359375 48.484375 30.078125 48.484375 \nQ 22.859375 48.484375 18.828125 43.109375 \nQ 14.796875 37.75 14.796875 27.984375 \nQ 14.796875 18.265625 18.828125 12.890625 \nQ 22.859375 7.515625 30.078125 7.515625 \nQ 37.359375 7.515625 41.375 12.890625 \nQ 45.40625 18.265625 45.40625 27.984375 \nz\nM 54.390625 6.78125 \nQ 54.390625 -7.171875 48.1875 -13.984375 \nQ 42 -20.796875 29.203125 -20.796875 \nQ 24.46875 -20.796875 20.265625 -20.09375 \nQ 16.0625 -19.390625 12.109375 -17.921875 \nL 12.109375 -9.1875 \nQ 16.0625 -11.328125 19.921875 -12.34375 \nQ 23.78125 -13.375 27.78125 -13.375 \nQ 36.625 -13.375 41.015625 -8.765625 \nQ 45.40625 -4.15625 45.40625 5.171875 \nL 45.40625 9.625 \nQ 42.625 4.78125 38.28125 2.390625 \nQ 33.9375 0 27.875 0 \nQ 17.828125 0 11.671875 7.65625 \nQ 5.515625 15.328125 5.515625 27.984375 \nQ 5.515625 40.671875 11.671875 48.328125 \nQ 17.828125 56 27.875 56 \nQ 33.9375 56 38.28125 53.609375 \nQ 42.625 51.21875 45.40625 46.390625 \nL 45.40625 54.6875 \nL 54.390625 54.6875 \nz\n\" id=\"DejaVuSans-103\"/>\n       </defs>\n       <use xlink:href=\"#DejaVuSans-108\"/>\n       <use x=\"27.783203\" xlink:href=\"#DejaVuSans-111\"/>\n       <use x=\"88.964844\" xlink:href=\"#DejaVuSans-110\"/>\n       <use x=\"152.34375\" xlink:href=\"#DejaVuSans-103\"/>\n       <use x=\"215.820312\" xlink:href=\"#DejaVuSans-105\"/>\n       <use x=\"243.603516\" xlink:href=\"#DejaVuSans-116\"/>\n       <use x=\"282.8125\" xlink:href=\"#DejaVuSans-117\"/>\n       <use x=\"346.191406\" xlink:href=\"#DejaVuSans-100\"/>\n       <use x=\"409.667969\" xlink:href=\"#DejaVuSans-101\"/>\n      </g>\n     </g>\n    </g>\n    <g id=\"xtick_4\">\n     <g id=\"line2d_4\">\n      <g>\n       <use style=\"stroke:#000000;stroke-width:0.8;\" x=\"341.626449\" xlink:href=\"#m07fb2088fb\" y=\"445.879219\"/>\n      </g>\n     </g>\n     <g id=\"text_4\">\n      <!-- number_of_persons_injured -->\n      <g transform=\"translate(344.246761 590.652656)rotate(-90)scale(0.1 -0.1)\">\n       <defs>\n        <path d=\"M 52 44.1875 \nQ 55.375 50.25 60.0625 53.125 \nQ 64.75 56 71.09375 56 \nQ 79.640625 56 84.28125 50.015625 \nQ 88.921875 44.046875 88.921875 33.015625 \nL 88.921875 0 \nL 79.890625 0 \nL 79.890625 32.71875 \nQ 79.890625 40.578125 77.09375 44.375 \nQ 74.3125 48.1875 68.609375 48.1875 \nQ 61.625 48.1875 57.5625 43.546875 \nQ 53.515625 38.921875 53.515625 30.90625 \nL 53.515625 0 \nL 44.484375 0 \nL 44.484375 32.71875 \nQ 44.484375 40.625 41.703125 44.40625 \nQ 38.921875 48.1875 33.109375 48.1875 \nQ 26.21875 48.1875 22.15625 43.53125 \nQ 18.109375 38.875 18.109375 30.90625 \nL 18.109375 0 \nL 9.078125 0 \nL 9.078125 54.6875 \nL 18.109375 54.6875 \nL 18.109375 46.1875 \nQ 21.1875 51.21875 25.484375 53.609375 \nQ 29.78125 56 35.6875 56 \nQ 41.65625 56 45.828125 52.96875 \nQ 50 49.953125 52 44.1875 \nz\n\" id=\"DejaVuSans-109\"/>\n        <path d=\"M 48.6875 27.296875 \nQ 48.6875 37.203125 44.609375 42.84375 \nQ 40.53125 48.484375 33.40625 48.484375 \nQ 26.265625 48.484375 22.1875 42.84375 \nQ 18.109375 37.203125 18.109375 27.296875 \nQ 18.109375 17.390625 22.1875 11.75 \nQ 26.265625 6.109375 33.40625 6.109375 \nQ 40.53125 6.109375 44.609375 11.75 \nQ 48.6875 17.390625 48.6875 27.296875 \nz\nM 18.109375 46.390625 \nQ 20.953125 51.265625 25.265625 53.625 \nQ 29.59375 56 35.59375 56 \nQ 45.5625 56 51.78125 48.09375 \nQ 58.015625 40.1875 58.015625 27.296875 \nQ 58.015625 14.40625 51.78125 6.484375 \nQ 45.5625 -1.421875 35.59375 -1.421875 \nQ 29.59375 -1.421875 25.265625 0.953125 \nQ 20.953125 3.328125 18.109375 8.203125 \nL 18.109375 0 \nL 9.078125 0 \nL 9.078125 75.984375 \nL 18.109375 75.984375 \nz\n\" id=\"DejaVuSans-98\"/>\n        <path d=\"M 41.109375 46.296875 \nQ 39.59375 47.171875 37.8125 47.578125 \nQ 36.03125 48 33.890625 48 \nQ 26.265625 48 22.1875 43.046875 \nQ 18.109375 38.09375 18.109375 28.8125 \nL 18.109375 0 \nL 9.078125 0 \nL 9.078125 54.6875 \nL 18.109375 54.6875 \nL 18.109375 46.1875 \nQ 20.953125 51.171875 25.484375 53.578125 \nQ 30.03125 56 36.53125 56 \nQ 37.453125 56 38.578125 55.875 \nQ 39.703125 55.765625 41.0625 55.515625 \nz\n\" id=\"DejaVuSans-114\"/>\n        <path d=\"M 37.109375 75.984375 \nL 37.109375 68.5 \nL 28.515625 68.5 \nQ 23.6875 68.5 21.796875 66.546875 \nQ 19.921875 64.59375 19.921875 59.515625 \nL 19.921875 54.6875 \nL 34.71875 54.6875 \nL 34.71875 47.703125 \nL 19.921875 47.703125 \nL 19.921875 0 \nL 10.890625 0 \nL 10.890625 47.703125 \nL 2.296875 47.703125 \nL 2.296875 54.6875 \nL 10.890625 54.6875 \nL 10.890625 58.5 \nQ 10.890625 67.625 15.140625 71.796875 \nQ 19.390625 75.984375 28.609375 75.984375 \nz\n\" id=\"DejaVuSans-102\"/>\n        <path d=\"M 44.28125 53.078125 \nL 44.28125 44.578125 \nQ 40.484375 46.53125 36.375 47.5 \nQ 32.28125 48.484375 27.875 48.484375 \nQ 21.1875 48.484375 17.84375 46.4375 \nQ 14.5 44.390625 14.5 40.28125 \nQ 14.5 37.15625 16.890625 35.375 \nQ 19.28125 33.59375 26.515625 31.984375 \nL 29.59375 31.296875 \nQ 39.15625 29.25 43.1875 25.515625 \nQ 47.21875 21.78125 47.21875 15.09375 \nQ 47.21875 7.46875 41.1875 3.015625 \nQ 35.15625 -1.421875 24.609375 -1.421875 \nQ 20.21875 -1.421875 15.453125 -0.5625 \nQ 10.6875 0.296875 5.421875 2 \nL 5.421875 11.28125 \nQ 10.40625 8.6875 15.234375 7.390625 \nQ 20.0625 6.109375 24.8125 6.109375 \nQ 31.15625 6.109375 34.5625 8.28125 \nQ 37.984375 10.453125 37.984375 14.40625 \nQ 37.984375 18.0625 35.515625 20.015625 \nQ 33.0625 21.96875 24.703125 23.78125 \nL 21.578125 24.515625 \nQ 13.234375 26.265625 9.515625 29.90625 \nQ 5.8125 33.546875 5.8125 39.890625 \nQ 5.8125 47.609375 11.28125 51.796875 \nQ 16.75 56 26.8125 56 \nQ 31.78125 56 36.171875 55.265625 \nQ 40.578125 54.546875 44.28125 53.078125 \nz\n\" id=\"DejaVuSans-115\"/>\n        <path d=\"M 9.421875 54.6875 \nL 18.40625 54.6875 \nL 18.40625 -0.984375 \nQ 18.40625 -11.421875 14.421875 -16.109375 \nQ 10.453125 -20.796875 1.609375 -20.796875 \nL -1.8125 -20.796875 \nL -1.8125 -13.1875 \nL 0.59375 -13.1875 \nQ 5.71875 -13.1875 7.5625 -10.8125 \nQ 9.421875 -8.453125 9.421875 -0.984375 \nz\nM 9.421875 75.984375 \nL 18.40625 75.984375 \nL 18.40625 64.59375 \nL 9.421875 64.59375 \nz\n\" id=\"DejaVuSans-106\"/>\n       </defs>\n       <use xlink:href=\"#DejaVuSans-110\"/>\n       <use x=\"63.378906\" xlink:href=\"#DejaVuSans-117\"/>\n       <use x=\"126.757812\" xlink:href=\"#DejaVuSans-109\"/>\n       <use x=\"224.169922\" xlink:href=\"#DejaVuSans-98\"/>\n       <use x=\"287.646484\" xlink:href=\"#DejaVuSans-101\"/>\n       <use x=\"349.169922\" xlink:href=\"#DejaVuSans-114\"/>\n       <use x=\"390.283203\" xlink:href=\"#DejaVuSans-95\"/>\n       <use x=\"440.283203\" xlink:href=\"#DejaVuSans-111\"/>\n       <use x=\"501.464844\" xlink:href=\"#DejaVuSans-102\"/>\n       <use x=\"536.669922\" xlink:href=\"#DejaVuSans-95\"/>\n       <use x=\"586.669922\" xlink:href=\"#DejaVuSans-112\"/>\n       <use x=\"650.146484\" xlink:href=\"#DejaVuSans-101\"/>\n       <use x=\"711.669922\" xlink:href=\"#DejaVuSans-114\"/>\n       <use x=\"752.783203\" xlink:href=\"#DejaVuSans-115\"/>\n       <use x=\"804.882812\" xlink:href=\"#DejaVuSans-111\"/>\n       <use x=\"866.064453\" xlink:href=\"#DejaVuSans-110\"/>\n       <use x=\"929.443359\" xlink:href=\"#DejaVuSans-115\"/>\n       <use x=\"981.542969\" xlink:href=\"#DejaVuSans-95\"/>\n       <use x=\"1031.542969\" xlink:href=\"#DejaVuSans-105\"/>\n       <use x=\"1059.326172\" xlink:href=\"#DejaVuSans-110\"/>\n       <use x=\"1122.705078\" xlink:href=\"#DejaVuSans-106\"/>\n       <use x=\"1150.488281\" xlink:href=\"#DejaVuSans-117\"/>\n       <use x=\"1213.867188\" xlink:href=\"#DejaVuSans-114\"/>\n       <use x=\"1252.730469\" xlink:href=\"#DejaVuSans-101\"/>\n       <use x=\"1314.253906\" xlink:href=\"#DejaVuSans-100\"/>\n      </g>\n     </g>\n    </g>\n    <g id=\"xtick_5\">\n     <g id=\"line2d_5\">\n      <g>\n       <use style=\"stroke:#000000;stroke-width:0.8;\" x=\"390.324631\" xlink:href=\"#m07fb2088fb\" y=\"445.879219\"/>\n      </g>\n     </g>\n     <g id=\"text_5\">\n      <!-- number_of_persons_killed -->\n      <g transform=\"translate(392.944943 582.660469)rotate(-90)scale(0.1 -0.1)\">\n       <defs>\n        <path d=\"M 9.078125 75.984375 \nL 18.109375 75.984375 \nL 18.109375 31.109375 \nL 44.921875 54.6875 \nL 56.390625 54.6875 \nL 27.390625 29.109375 \nL 57.625 0 \nL 45.90625 0 \nL 18.109375 26.703125 \nL 18.109375 0 \nL 9.078125 0 \nz\n\" id=\"DejaVuSans-107\"/>\n       </defs>\n       <use xlink:href=\"#DejaVuSans-110\"/>\n       <use x=\"63.378906\" xlink:href=\"#DejaVuSans-117\"/>\n       <use x=\"126.757812\" xlink:href=\"#DejaVuSans-109\"/>\n       <use x=\"224.169922\" xlink:href=\"#DejaVuSans-98\"/>\n       <use x=\"287.646484\" xlink:href=\"#DejaVuSans-101\"/>\n       <use x=\"349.169922\" xlink:href=\"#DejaVuSans-114\"/>\n       <use x=\"390.283203\" xlink:href=\"#DejaVuSans-95\"/>\n       <use x=\"440.283203\" xlink:href=\"#DejaVuSans-111\"/>\n       <use x=\"501.464844\" xlink:href=\"#DejaVuSans-102\"/>\n       <use x=\"536.669922\" xlink:href=\"#DejaVuSans-95\"/>\n       <use x=\"586.669922\" xlink:href=\"#DejaVuSans-112\"/>\n       <use x=\"650.146484\" xlink:href=\"#DejaVuSans-101\"/>\n       <use x=\"711.669922\" xlink:href=\"#DejaVuSans-114\"/>\n       <use x=\"752.783203\" xlink:href=\"#DejaVuSans-115\"/>\n       <use x=\"804.882812\" xlink:href=\"#DejaVuSans-111\"/>\n       <use x=\"866.064453\" xlink:href=\"#DejaVuSans-110\"/>\n       <use x=\"929.443359\" xlink:href=\"#DejaVuSans-115\"/>\n       <use x=\"981.542969\" xlink:href=\"#DejaVuSans-95\"/>\n       <use x=\"1031.542969\" xlink:href=\"#DejaVuSans-107\"/>\n       <use x=\"1089.453125\" xlink:href=\"#DejaVuSans-105\"/>\n       <use x=\"1117.236328\" xlink:href=\"#DejaVuSans-108\"/>\n       <use x=\"1145.019531\" xlink:href=\"#DejaVuSans-108\"/>\n       <use x=\"1172.802734\" xlink:href=\"#DejaVuSans-101\"/>\n       <use x=\"1234.326172\" xlink:href=\"#DejaVuSans-100\"/>\n      </g>\n     </g>\n    </g>\n    <g id=\"xtick_6\">\n     <g id=\"line2d_6\">\n      <g>\n       <use style=\"stroke:#000000;stroke-width:0.8;\" x=\"439.022813\" xlink:href=\"#m07fb2088fb\" y=\"445.879219\"/>\n      </g>\n     </g>\n     <g id=\"text_6\">\n      <!-- number_of_pedestrians_injured -->\n      <g transform=\"translate(441.643125 609.862031)rotate(-90)scale(0.1 -0.1)\">\n       <use xlink:href=\"#DejaVuSans-110\"/>\n       <use x=\"63.378906\" xlink:href=\"#DejaVuSans-117\"/>\n       <use x=\"126.757812\" xlink:href=\"#DejaVuSans-109\"/>\n       <use x=\"224.169922\" xlink:href=\"#DejaVuSans-98\"/>\n       <use x=\"287.646484\" xlink:href=\"#DejaVuSans-101\"/>\n       <use x=\"349.169922\" xlink:href=\"#DejaVuSans-114\"/>\n       <use x=\"390.283203\" xlink:href=\"#DejaVuSans-95\"/>\n       <use x=\"440.283203\" xlink:href=\"#DejaVuSans-111\"/>\n       <use x=\"501.464844\" xlink:href=\"#DejaVuSans-102\"/>\n       <use x=\"536.669922\" xlink:href=\"#DejaVuSans-95\"/>\n       <use x=\"586.669922\" xlink:href=\"#DejaVuSans-112\"/>\n       <use x=\"650.146484\" xlink:href=\"#DejaVuSans-101\"/>\n       <use x=\"711.669922\" xlink:href=\"#DejaVuSans-100\"/>\n       <use x=\"775.146484\" xlink:href=\"#DejaVuSans-101\"/>\n       <use x=\"836.669922\" xlink:href=\"#DejaVuSans-115\"/>\n       <use x=\"888.769531\" xlink:href=\"#DejaVuSans-116\"/>\n       <use x=\"927.978516\" xlink:href=\"#DejaVuSans-114\"/>\n       <use x=\"969.091797\" xlink:href=\"#DejaVuSans-105\"/>\n       <use x=\"996.875\" xlink:href=\"#DejaVuSans-97\"/>\n       <use x=\"1058.154297\" xlink:href=\"#DejaVuSans-110\"/>\n       <use x=\"1121.533203\" xlink:href=\"#DejaVuSans-115\"/>\n       <use x=\"1173.632812\" xlink:href=\"#DejaVuSans-95\"/>\n       <use x=\"1223.632812\" xlink:href=\"#DejaVuSans-105\"/>\n       <use x=\"1251.416016\" xlink:href=\"#DejaVuSans-110\"/>\n       <use x=\"1314.794922\" xlink:href=\"#DejaVuSans-106\"/>\n       <use x=\"1342.578125\" xlink:href=\"#DejaVuSans-117\"/>\n       <use x=\"1405.957031\" xlink:href=\"#DejaVuSans-114\"/>\n       <use x=\"1444.820312\" xlink:href=\"#DejaVuSans-101\"/>\n       <use x=\"1506.34375\" xlink:href=\"#DejaVuSans-100\"/>\n      </g>\n     </g>\n    </g>\n    <g id=\"xtick_7\">\n     <g id=\"line2d_7\">\n      <g>\n       <use style=\"stroke:#000000;stroke-width:0.8;\" x=\"487.720994\" xlink:href=\"#m07fb2088fb\" y=\"445.879219\"/>\n      </g>\n     </g>\n     <g id=\"text_7\">\n      <!-- number_of_pedestrians_killed -->\n      <g transform=\"translate(490.341307 601.869844)rotate(-90)scale(0.1 -0.1)\">\n       <use xlink:href=\"#DejaVuSans-110\"/>\n       <use x=\"63.378906\" xlink:href=\"#DejaVuSans-117\"/>\n       <use x=\"126.757812\" xlink:href=\"#DejaVuSans-109\"/>\n       <use x=\"224.169922\" xlink:href=\"#DejaVuSans-98\"/>\n       <use x=\"287.646484\" xlink:href=\"#DejaVuSans-101\"/>\n       <use x=\"349.169922\" xlink:href=\"#DejaVuSans-114\"/>\n       <use x=\"390.283203\" xlink:href=\"#DejaVuSans-95\"/>\n       <use x=\"440.283203\" xlink:href=\"#DejaVuSans-111\"/>\n       <use x=\"501.464844\" xlink:href=\"#DejaVuSans-102\"/>\n       <use x=\"536.669922\" xlink:href=\"#DejaVuSans-95\"/>\n       <use x=\"586.669922\" xlink:href=\"#DejaVuSans-112\"/>\n       <use x=\"650.146484\" xlink:href=\"#DejaVuSans-101\"/>\n       <use x=\"711.669922\" xlink:href=\"#DejaVuSans-100\"/>\n       <use x=\"775.146484\" xlink:href=\"#DejaVuSans-101\"/>\n       <use x=\"836.669922\" xlink:href=\"#DejaVuSans-115\"/>\n       <use x=\"888.769531\" xlink:href=\"#DejaVuSans-116\"/>\n       <use x=\"927.978516\" xlink:href=\"#DejaVuSans-114\"/>\n       <use x=\"969.091797\" xlink:href=\"#DejaVuSans-105\"/>\n       <use x=\"996.875\" xlink:href=\"#DejaVuSans-97\"/>\n       <use x=\"1058.154297\" xlink:href=\"#DejaVuSans-110\"/>\n       <use x=\"1121.533203\" xlink:href=\"#DejaVuSans-115\"/>\n       <use x=\"1173.632812\" xlink:href=\"#DejaVuSans-95\"/>\n       <use x=\"1223.632812\" xlink:href=\"#DejaVuSans-107\"/>\n       <use x=\"1281.542969\" xlink:href=\"#DejaVuSans-105\"/>\n       <use x=\"1309.326172\" xlink:href=\"#DejaVuSans-108\"/>\n       <use x=\"1337.109375\" xlink:href=\"#DejaVuSans-108\"/>\n       <use x=\"1364.892578\" xlink:href=\"#DejaVuSans-101\"/>\n       <use x=\"1426.416016\" xlink:href=\"#DejaVuSans-100\"/>\n      </g>\n     </g>\n    </g>\n    <g id=\"xtick_8\">\n     <g id=\"line2d_8\">\n      <g>\n       <use style=\"stroke:#000000;stroke-width:0.8;\" x=\"536.419176\" xlink:href=\"#m07fb2088fb\" y=\"445.879219\"/>\n      </g>\n     </g>\n     <g id=\"text_8\">\n      <!-- number_of_cyclist_injured -->\n      <g transform=\"translate(539.039489 582.766719)rotate(-90)scale(0.1 -0.1)\">\n       <defs>\n        <path d=\"M 32.171875 -5.078125 \nQ 28.375 -14.84375 24.75 -17.8125 \nQ 21.140625 -20.796875 15.09375 -20.796875 \nL 7.90625 -20.796875 \nL 7.90625 -13.28125 \nL 13.1875 -13.28125 \nQ 16.890625 -13.28125 18.9375 -11.515625 \nQ 21 -9.765625 23.484375 -3.21875 \nL 25.09375 0.875 \nL 2.984375 54.6875 \nL 12.5 54.6875 \nL 29.59375 11.921875 \nL 46.6875 54.6875 \nL 56.203125 54.6875 \nz\n\" id=\"DejaVuSans-121\"/>\n       </defs>\n       <use xlink:href=\"#DejaVuSans-110\"/>\n       <use x=\"63.378906\" xlink:href=\"#DejaVuSans-117\"/>\n       <use x=\"126.757812\" xlink:href=\"#DejaVuSans-109\"/>\n       <use x=\"224.169922\" xlink:href=\"#DejaVuSans-98\"/>\n       <use x=\"287.646484\" xlink:href=\"#DejaVuSans-101\"/>\n       <use x=\"349.169922\" xlink:href=\"#DejaVuSans-114\"/>\n       <use x=\"390.283203\" xlink:href=\"#DejaVuSans-95\"/>\n       <use x=\"440.283203\" xlink:href=\"#DejaVuSans-111\"/>\n       <use x=\"501.464844\" xlink:href=\"#DejaVuSans-102\"/>\n       <use x=\"536.669922\" xlink:href=\"#DejaVuSans-95\"/>\n       <use x=\"586.669922\" xlink:href=\"#DejaVuSans-99\"/>\n       <use x=\"641.650391\" xlink:href=\"#DejaVuSans-121\"/>\n       <use x=\"700.830078\" xlink:href=\"#DejaVuSans-99\"/>\n       <use x=\"755.810547\" xlink:href=\"#DejaVuSans-108\"/>\n       <use x=\"783.59375\" xlink:href=\"#DejaVuSans-105\"/>\n       <use x=\"811.376953\" xlink:href=\"#DejaVuSans-115\"/>\n       <use x=\"863.476562\" xlink:href=\"#DejaVuSans-116\"/>\n       <use x=\"902.685547\" xlink:href=\"#DejaVuSans-95\"/>\n       <use x=\"952.685547\" xlink:href=\"#DejaVuSans-105\"/>\n       <use x=\"980.46875\" xlink:href=\"#DejaVuSans-110\"/>\n       <use x=\"1043.847656\" xlink:href=\"#DejaVuSans-106\"/>\n       <use x=\"1071.630859\" xlink:href=\"#DejaVuSans-117\"/>\n       <use x=\"1135.009766\" xlink:href=\"#DejaVuSans-114\"/>\n       <use x=\"1173.873047\" xlink:href=\"#DejaVuSans-101\"/>\n       <use x=\"1235.396484\" xlink:href=\"#DejaVuSans-100\"/>\n      </g>\n     </g>\n    </g>\n    <g id=\"xtick_9\">\n     <g id=\"line2d_9\">\n      <g>\n       <use style=\"stroke:#000000;stroke-width:0.8;\" x=\"585.117358\" xlink:href=\"#m07fb2088fb\" y=\"445.879219\"/>\n      </g>\n     </g>\n     <g id=\"text_9\">\n      <!-- number_of_cyclist_killed -->\n      <g transform=\"translate(587.73767 574.774531)rotate(-90)scale(0.1 -0.1)\">\n       <use xlink:href=\"#DejaVuSans-110\"/>\n       <use x=\"63.378906\" xlink:href=\"#DejaVuSans-117\"/>\n       <use x=\"126.757812\" xlink:href=\"#DejaVuSans-109\"/>\n       <use x=\"224.169922\" xlink:href=\"#DejaVuSans-98\"/>\n       <use x=\"287.646484\" xlink:href=\"#DejaVuSans-101\"/>\n       <use x=\"349.169922\" xlink:href=\"#DejaVuSans-114\"/>\n       <use x=\"390.283203\" xlink:href=\"#DejaVuSans-95\"/>\n       <use x=\"440.283203\" xlink:href=\"#DejaVuSans-111\"/>\n       <use x=\"501.464844\" xlink:href=\"#DejaVuSans-102\"/>\n       <use x=\"536.669922\" xlink:href=\"#DejaVuSans-95\"/>\n       <use x=\"586.669922\" xlink:href=\"#DejaVuSans-99\"/>\n       <use x=\"641.650391\" xlink:href=\"#DejaVuSans-121\"/>\n       <use x=\"700.830078\" xlink:href=\"#DejaVuSans-99\"/>\n       <use x=\"755.810547\" xlink:href=\"#DejaVuSans-108\"/>\n       <use x=\"783.59375\" xlink:href=\"#DejaVuSans-105\"/>\n       <use x=\"811.376953\" xlink:href=\"#DejaVuSans-115\"/>\n       <use x=\"863.476562\" xlink:href=\"#DejaVuSans-116\"/>\n       <use x=\"902.685547\" xlink:href=\"#DejaVuSans-95\"/>\n       <use x=\"952.685547\" xlink:href=\"#DejaVuSans-107\"/>\n       <use x=\"1010.595703\" xlink:href=\"#DejaVuSans-105\"/>\n       <use x=\"1038.378906\" xlink:href=\"#DejaVuSans-108\"/>\n       <use x=\"1066.162109\" xlink:href=\"#DejaVuSans-108\"/>\n       <use x=\"1093.945312\" xlink:href=\"#DejaVuSans-101\"/>\n       <use x=\"1155.46875\" xlink:href=\"#DejaVuSans-100\"/>\n      </g>\n     </g>\n    </g>\n    <g id=\"xtick_10\">\n     <g id=\"line2d_10\">\n      <g>\n       <use style=\"stroke:#000000;stroke-width:0.8;\" x=\"633.81554\" xlink:href=\"#m07fb2088fb\" y=\"445.879219\"/>\n      </g>\n     </g>\n     <g id=\"text_10\">\n      <!-- number_of_motorist_injured -->\n      <g transform=\"translate(636.435852 593.082344)rotate(-90)scale(0.1 -0.1)\">\n       <use xlink:href=\"#DejaVuSans-110\"/>\n       <use x=\"63.378906\" xlink:href=\"#DejaVuSans-117\"/>\n       <use x=\"126.757812\" xlink:href=\"#DejaVuSans-109\"/>\n       <use x=\"224.169922\" xlink:href=\"#DejaVuSans-98\"/>\n       <use x=\"287.646484\" xlink:href=\"#DejaVuSans-101\"/>\n       <use x=\"349.169922\" xlink:href=\"#DejaVuSans-114\"/>\n       <use x=\"390.283203\" xlink:href=\"#DejaVuSans-95\"/>\n       <use x=\"440.283203\" xlink:href=\"#DejaVuSans-111\"/>\n       <use x=\"501.464844\" xlink:href=\"#DejaVuSans-102\"/>\n       <use x=\"536.669922\" xlink:href=\"#DejaVuSans-95\"/>\n       <use x=\"586.669922\" xlink:href=\"#DejaVuSans-109\"/>\n       <use x=\"684.082031\" xlink:href=\"#DejaVuSans-111\"/>\n       <use x=\"745.263672\" xlink:href=\"#DejaVuSans-116\"/>\n       <use x=\"784.472656\" xlink:href=\"#DejaVuSans-111\"/>\n       <use x=\"845.654297\" xlink:href=\"#DejaVuSans-114\"/>\n       <use x=\"886.767578\" xlink:href=\"#DejaVuSans-105\"/>\n       <use x=\"914.550781\" xlink:href=\"#DejaVuSans-115\"/>\n       <use x=\"966.650391\" xlink:href=\"#DejaVuSans-116\"/>\n       <use x=\"1005.859375\" xlink:href=\"#DejaVuSans-95\"/>\n       <use x=\"1055.859375\" xlink:href=\"#DejaVuSans-105\"/>\n       <use x=\"1083.642578\" xlink:href=\"#DejaVuSans-110\"/>\n       <use x=\"1147.021484\" xlink:href=\"#DejaVuSans-106\"/>\n       <use x=\"1174.804688\" xlink:href=\"#DejaVuSans-117\"/>\n       <use x=\"1238.183594\" xlink:href=\"#DejaVuSans-114\"/>\n       <use x=\"1277.046875\" xlink:href=\"#DejaVuSans-101\"/>\n       <use x=\"1338.570312\" xlink:href=\"#DejaVuSans-100\"/>\n      </g>\n     </g>\n    </g>\n    <g id=\"xtick_11\">\n     <g id=\"line2d_11\">\n      <g>\n       <use style=\"stroke:#000000;stroke-width:0.8;\" x=\"682.513722\" xlink:href=\"#m07fb2088fb\" y=\"445.879219\"/>\n      </g>\n     </g>\n     <g id=\"text_11\">\n      <!-- number_of_motorist_killed -->\n      <g transform=\"translate(685.134034 585.090156)rotate(-90)scale(0.1 -0.1)\">\n       <use xlink:href=\"#DejaVuSans-110\"/>\n       <use x=\"63.378906\" xlink:href=\"#DejaVuSans-117\"/>\n       <use x=\"126.757812\" xlink:href=\"#DejaVuSans-109\"/>\n       <use x=\"224.169922\" xlink:href=\"#DejaVuSans-98\"/>\n       <use x=\"287.646484\" xlink:href=\"#DejaVuSans-101\"/>\n       <use x=\"349.169922\" xlink:href=\"#DejaVuSans-114\"/>\n       <use x=\"390.283203\" xlink:href=\"#DejaVuSans-95\"/>\n       <use x=\"440.283203\" xlink:href=\"#DejaVuSans-111\"/>\n       <use x=\"501.464844\" xlink:href=\"#DejaVuSans-102\"/>\n       <use x=\"536.669922\" xlink:href=\"#DejaVuSans-95\"/>\n       <use x=\"586.669922\" xlink:href=\"#DejaVuSans-109\"/>\n       <use x=\"684.082031\" xlink:href=\"#DejaVuSans-111\"/>\n       <use x=\"745.263672\" xlink:href=\"#DejaVuSans-116\"/>\n       <use x=\"784.472656\" xlink:href=\"#DejaVuSans-111\"/>\n       <use x=\"845.654297\" xlink:href=\"#DejaVuSans-114\"/>\n       <use x=\"886.767578\" xlink:href=\"#DejaVuSans-105\"/>\n       <use x=\"914.550781\" xlink:href=\"#DejaVuSans-115\"/>\n       <use x=\"966.650391\" xlink:href=\"#DejaVuSans-116\"/>\n       <use x=\"1005.859375\" xlink:href=\"#DejaVuSans-95\"/>\n       <use x=\"1055.859375\" xlink:href=\"#DejaVuSans-107\"/>\n       <use x=\"1113.769531\" xlink:href=\"#DejaVuSans-105\"/>\n       <use x=\"1141.552734\" xlink:href=\"#DejaVuSans-108\"/>\n       <use x=\"1169.335938\" xlink:href=\"#DejaVuSans-108\"/>\n       <use x=\"1197.119141\" xlink:href=\"#DejaVuSans-101\"/>\n       <use x=\"1258.642578\" xlink:href=\"#DejaVuSans-100\"/>\n      </g>\n     </g>\n    </g>\n   </g>\n   <g id=\"matplotlib.axis_2\">\n    <g id=\"ytick_1\">\n     <g id=\"line2d_12\">\n      <defs>\n       <path d=\"M 0 0 \nL -3.5 0 \n\" id=\"m45e756e912\" style=\"stroke:#000000;stroke-width:0.8;\"/>\n      </defs>\n      <g>\n       <use style=\"stroke:#000000;stroke-width:0.8;\" x=\"171.182813\" xlink:href=\"#m45e756e912\" y=\"30.766491\"/>\n      </g>\n     </g>\n     <g id=\"text_12\">\n      <!-- zip_code -->\n      <g transform=\"translate(120.689063 34.56571)scale(0.1 -0.1)\">\n       <use xlink:href=\"#DejaVuSans-122\"/>\n       <use x=\"52.490234\" xlink:href=\"#DejaVuSans-105\"/>\n       <use x=\"80.273438\" xlink:href=\"#DejaVuSans-112\"/>\n       <use x=\"143.75\" xlink:href=\"#DejaVuSans-95\"/>\n       <use x=\"193.75\" xlink:href=\"#DejaVuSans-99\"/>\n       <use x=\"248.730469\" xlink:href=\"#DejaVuSans-111\"/>\n       <use x=\"309.912109\" xlink:href=\"#DejaVuSans-100\"/>\n       <use x=\"373.388672\" xlink:href=\"#DejaVuSans-101\"/>\n      </g>\n     </g>\n    </g>\n    <g id=\"ytick_2\">\n     <g id=\"line2d_13\">\n      <g>\n       <use style=\"stroke:#000000;stroke-width:0.8;\" x=\"171.182813\" xlink:href=\"#m45e756e912\" y=\"70.301037\"/>\n      </g>\n     </g>\n     <g id=\"text_13\">\n      <!-- latitude -->\n      <g transform=\"translate(125.81875 74.100256)scale(0.1 -0.1)\">\n       <use xlink:href=\"#DejaVuSans-108\"/>\n       <use x=\"27.783203\" xlink:href=\"#DejaVuSans-97\"/>\n       <use x=\"89.0625\" xlink:href=\"#DejaVuSans-116\"/>\n       <use x=\"128.271484\" xlink:href=\"#DejaVuSans-105\"/>\n       <use x=\"156.054688\" xlink:href=\"#DejaVuSans-116\"/>\n       <use x=\"195.263672\" xlink:href=\"#DejaVuSans-117\"/>\n       <use x=\"258.642578\" xlink:href=\"#DejaVuSans-100\"/>\n       <use x=\"322.119141\" xlink:href=\"#DejaVuSans-101\"/>\n      </g>\n     </g>\n    </g>\n    <g id=\"ytick_3\">\n     <g id=\"line2d_14\">\n      <g>\n       <use style=\"stroke:#000000;stroke-width:0.8;\" x=\"171.182813\" xlink:href=\"#m45e756e912\" y=\"109.835582\"/>\n      </g>\n     </g>\n     <g id=\"text_14\">\n      <!-- longitude -->\n      <g transform=\"translate(117.0625 113.634801)scale(0.1 -0.1)\">\n       <use xlink:href=\"#DejaVuSans-108\"/>\n       <use x=\"27.783203\" xlink:href=\"#DejaVuSans-111\"/>\n       <use x=\"88.964844\" xlink:href=\"#DejaVuSans-110\"/>\n       <use x=\"152.34375\" xlink:href=\"#DejaVuSans-103\"/>\n       <use x=\"215.820312\" xlink:href=\"#DejaVuSans-105\"/>\n       <use x=\"243.603516\" xlink:href=\"#DejaVuSans-116\"/>\n       <use x=\"282.8125\" xlink:href=\"#DejaVuSans-117\"/>\n       <use x=\"346.191406\" xlink:href=\"#DejaVuSans-100\"/>\n       <use x=\"409.667969\" xlink:href=\"#DejaVuSans-101\"/>\n      </g>\n     </g>\n    </g>\n    <g id=\"ytick_4\">\n     <g id=\"line2d_15\">\n      <g>\n       <use style=\"stroke:#000000;stroke-width:0.8;\" x=\"171.182813\" xlink:href=\"#m45e756e912\" y=\"149.370128\"/>\n      </g>\n     </g>\n     <g id=\"text_15\">\n      <!-- number_of_persons_injured -->\n      <g transform=\"translate(26.409375 153.169347)scale(0.1 -0.1)\">\n       <use xlink:href=\"#DejaVuSans-110\"/>\n       <use x=\"63.378906\" xlink:href=\"#DejaVuSans-117\"/>\n       <use x=\"126.757812\" xlink:href=\"#DejaVuSans-109\"/>\n       <use x=\"224.169922\" xlink:href=\"#DejaVuSans-98\"/>\n       <use x=\"287.646484\" xlink:href=\"#DejaVuSans-101\"/>\n       <use x=\"349.169922\" xlink:href=\"#DejaVuSans-114\"/>\n       <use x=\"390.283203\" xlink:href=\"#DejaVuSans-95\"/>\n       <use x=\"440.283203\" xlink:href=\"#DejaVuSans-111\"/>\n       <use x=\"501.464844\" xlink:href=\"#DejaVuSans-102\"/>\n       <use x=\"536.669922\" xlink:href=\"#DejaVuSans-95\"/>\n       <use x=\"586.669922\" xlink:href=\"#DejaVuSans-112\"/>\n       <use x=\"650.146484\" xlink:href=\"#DejaVuSans-101\"/>\n       <use x=\"711.669922\" xlink:href=\"#DejaVuSans-114\"/>\n       <use x=\"752.783203\" xlink:href=\"#DejaVuSans-115\"/>\n       <use x=\"804.882812\" xlink:href=\"#DejaVuSans-111\"/>\n       <use x=\"866.064453\" xlink:href=\"#DejaVuSans-110\"/>\n       <use x=\"929.443359\" xlink:href=\"#DejaVuSans-115\"/>\n       <use x=\"981.542969\" xlink:href=\"#DejaVuSans-95\"/>\n       <use x=\"1031.542969\" xlink:href=\"#DejaVuSans-105\"/>\n       <use x=\"1059.326172\" xlink:href=\"#DejaVuSans-110\"/>\n       <use x=\"1122.705078\" xlink:href=\"#DejaVuSans-106\"/>\n       <use x=\"1150.488281\" xlink:href=\"#DejaVuSans-117\"/>\n       <use x=\"1213.867188\" xlink:href=\"#DejaVuSans-114\"/>\n       <use x=\"1252.730469\" xlink:href=\"#DejaVuSans-101\"/>\n       <use x=\"1314.253906\" xlink:href=\"#DejaVuSans-100\"/>\n      </g>\n     </g>\n    </g>\n    <g id=\"ytick_5\">\n     <g id=\"line2d_16\">\n      <g>\n       <use style=\"stroke:#000000;stroke-width:0.8;\" x=\"171.182813\" xlink:href=\"#m45e756e912\" y=\"188.904673\"/>\n      </g>\n     </g>\n     <g id=\"text_16\">\n      <!-- number_of_persons_killed -->\n      <g transform=\"translate(34.401563 192.703892)scale(0.1 -0.1)\">\n       <use xlink:href=\"#DejaVuSans-110\"/>\n       <use x=\"63.378906\" xlink:href=\"#DejaVuSans-117\"/>\n       <use x=\"126.757812\" xlink:href=\"#DejaVuSans-109\"/>\n       <use x=\"224.169922\" xlink:href=\"#DejaVuSans-98\"/>\n       <use x=\"287.646484\" xlink:href=\"#DejaVuSans-101\"/>\n       <use x=\"349.169922\" xlink:href=\"#DejaVuSans-114\"/>\n       <use x=\"390.283203\" xlink:href=\"#DejaVuSans-95\"/>\n       <use x=\"440.283203\" xlink:href=\"#DejaVuSans-111\"/>\n       <use x=\"501.464844\" xlink:href=\"#DejaVuSans-102\"/>\n       <use x=\"536.669922\" xlink:href=\"#DejaVuSans-95\"/>\n       <use x=\"586.669922\" xlink:href=\"#DejaVuSans-112\"/>\n       <use x=\"650.146484\" xlink:href=\"#DejaVuSans-101\"/>\n       <use x=\"711.669922\" xlink:href=\"#DejaVuSans-114\"/>\n       <use x=\"752.783203\" xlink:href=\"#DejaVuSans-115\"/>\n       <use x=\"804.882812\" xlink:href=\"#DejaVuSans-111\"/>\n       <use x=\"866.064453\" xlink:href=\"#DejaVuSans-110\"/>\n       <use x=\"929.443359\" xlink:href=\"#DejaVuSans-115\"/>\n       <use x=\"981.542969\" xlink:href=\"#DejaVuSans-95\"/>\n       <use x=\"1031.542969\" xlink:href=\"#DejaVuSans-107\"/>\n       <use x=\"1089.453125\" xlink:href=\"#DejaVuSans-105\"/>\n       <use x=\"1117.236328\" xlink:href=\"#DejaVuSans-108\"/>\n       <use x=\"1145.019531\" xlink:href=\"#DejaVuSans-108\"/>\n       <use x=\"1172.802734\" xlink:href=\"#DejaVuSans-101\"/>\n       <use x=\"1234.326172\" xlink:href=\"#DejaVuSans-100\"/>\n      </g>\n     </g>\n    </g>\n    <g id=\"ytick_6\">\n     <g id=\"line2d_17\">\n      <g>\n       <use style=\"stroke:#000000;stroke-width:0.8;\" x=\"171.182813\" xlink:href=\"#m45e756e912\" y=\"228.439219\"/>\n      </g>\n     </g>\n     <g id=\"text_17\">\n      <!-- number_of_pedestrians_injured -->\n      <g transform=\"translate(7.2 232.238437)scale(0.1 -0.1)\">\n       <use xlink:href=\"#DejaVuSans-110\"/>\n       <use x=\"63.378906\" xlink:href=\"#DejaVuSans-117\"/>\n       <use x=\"126.757812\" xlink:href=\"#DejaVuSans-109\"/>\n       <use x=\"224.169922\" xlink:href=\"#DejaVuSans-98\"/>\n       <use x=\"287.646484\" xlink:href=\"#DejaVuSans-101\"/>\n       <use x=\"349.169922\" xlink:href=\"#DejaVuSans-114\"/>\n       <use x=\"390.283203\" xlink:href=\"#DejaVuSans-95\"/>\n       <use x=\"440.283203\" xlink:href=\"#DejaVuSans-111\"/>\n       <use x=\"501.464844\" xlink:href=\"#DejaVuSans-102\"/>\n       <use x=\"536.669922\" xlink:href=\"#DejaVuSans-95\"/>\n       <use x=\"586.669922\" xlink:href=\"#DejaVuSans-112\"/>\n       <use x=\"650.146484\" xlink:href=\"#DejaVuSans-101\"/>\n       <use x=\"711.669922\" xlink:href=\"#DejaVuSans-100\"/>\n       <use x=\"775.146484\" xlink:href=\"#DejaVuSans-101\"/>\n       <use x=\"836.669922\" xlink:href=\"#DejaVuSans-115\"/>\n       <use x=\"888.769531\" xlink:href=\"#DejaVuSans-116\"/>\n       <use x=\"927.978516\" xlink:href=\"#DejaVuSans-114\"/>\n       <use x=\"969.091797\" xlink:href=\"#DejaVuSans-105\"/>\n       <use x=\"996.875\" xlink:href=\"#DejaVuSans-97\"/>\n       <use x=\"1058.154297\" xlink:href=\"#DejaVuSans-110\"/>\n       <use x=\"1121.533203\" xlink:href=\"#DejaVuSans-115\"/>\n       <use x=\"1173.632812\" xlink:href=\"#DejaVuSans-95\"/>\n       <use x=\"1223.632812\" xlink:href=\"#DejaVuSans-105\"/>\n       <use x=\"1251.416016\" xlink:href=\"#DejaVuSans-110\"/>\n       <use x=\"1314.794922\" xlink:href=\"#DejaVuSans-106\"/>\n       <use x=\"1342.578125\" xlink:href=\"#DejaVuSans-117\"/>\n       <use x=\"1405.957031\" xlink:href=\"#DejaVuSans-114\"/>\n       <use x=\"1444.820312\" xlink:href=\"#DejaVuSans-101\"/>\n       <use x=\"1506.34375\" xlink:href=\"#DejaVuSans-100\"/>\n      </g>\n     </g>\n    </g>\n    <g id=\"ytick_7\">\n     <g id=\"line2d_18\">\n      <g>\n       <use style=\"stroke:#000000;stroke-width:0.8;\" x=\"171.182813\" xlink:href=\"#m45e756e912\" y=\"267.973764\"/>\n      </g>\n     </g>\n     <g id=\"text_18\">\n      <!-- number_of_pedestrians_killed -->\n      <g transform=\"translate(15.192188 271.772983)scale(0.1 -0.1)\">\n       <use xlink:href=\"#DejaVuSans-110\"/>\n       <use x=\"63.378906\" xlink:href=\"#DejaVuSans-117\"/>\n       <use x=\"126.757812\" xlink:href=\"#DejaVuSans-109\"/>\n       <use x=\"224.169922\" xlink:href=\"#DejaVuSans-98\"/>\n       <use x=\"287.646484\" xlink:href=\"#DejaVuSans-101\"/>\n       <use x=\"349.169922\" xlink:href=\"#DejaVuSans-114\"/>\n       <use x=\"390.283203\" xlink:href=\"#DejaVuSans-95\"/>\n       <use x=\"440.283203\" xlink:href=\"#DejaVuSans-111\"/>\n       <use x=\"501.464844\" xlink:href=\"#DejaVuSans-102\"/>\n       <use x=\"536.669922\" xlink:href=\"#DejaVuSans-95\"/>\n       <use x=\"586.669922\" xlink:href=\"#DejaVuSans-112\"/>\n       <use x=\"650.146484\" xlink:href=\"#DejaVuSans-101\"/>\n       <use x=\"711.669922\" xlink:href=\"#DejaVuSans-100\"/>\n       <use x=\"775.146484\" xlink:href=\"#DejaVuSans-101\"/>\n       <use x=\"836.669922\" xlink:href=\"#DejaVuSans-115\"/>\n       <use x=\"888.769531\" xlink:href=\"#DejaVuSans-116\"/>\n       <use x=\"927.978516\" xlink:href=\"#DejaVuSans-114\"/>\n       <use x=\"969.091797\" xlink:href=\"#DejaVuSans-105\"/>\n       <use x=\"996.875\" xlink:href=\"#DejaVuSans-97\"/>\n       <use x=\"1058.154297\" xlink:href=\"#DejaVuSans-110\"/>\n       <use x=\"1121.533203\" xlink:href=\"#DejaVuSans-115\"/>\n       <use x=\"1173.632812\" xlink:href=\"#DejaVuSans-95\"/>\n       <use x=\"1223.632812\" xlink:href=\"#DejaVuSans-107\"/>\n       <use x=\"1281.542969\" xlink:href=\"#DejaVuSans-105\"/>\n       <use x=\"1309.326172\" xlink:href=\"#DejaVuSans-108\"/>\n       <use x=\"1337.109375\" xlink:href=\"#DejaVuSans-108\"/>\n       <use x=\"1364.892578\" xlink:href=\"#DejaVuSans-101\"/>\n       <use x=\"1426.416016\" xlink:href=\"#DejaVuSans-100\"/>\n      </g>\n     </g>\n    </g>\n    <g id=\"ytick_8\">\n     <g id=\"line2d_19\">\n      <g>\n       <use style=\"stroke:#000000;stroke-width:0.8;\" x=\"171.182813\" xlink:href=\"#m45e756e912\" y=\"307.50831\"/>\n      </g>\n     </g>\n     <g id=\"text_19\">\n      <!-- number_of_cyclist_injured -->\n      <g transform=\"translate(34.295312 311.307528)scale(0.1 -0.1)\">\n       <use xlink:href=\"#DejaVuSans-110\"/>\n       <use x=\"63.378906\" xlink:href=\"#DejaVuSans-117\"/>\n       <use x=\"126.757812\" xlink:href=\"#DejaVuSans-109\"/>\n       <use x=\"224.169922\" xlink:href=\"#DejaVuSans-98\"/>\n       <use x=\"287.646484\" xlink:href=\"#DejaVuSans-101\"/>\n       <use x=\"349.169922\" xlink:href=\"#DejaVuSans-114\"/>\n       <use x=\"390.283203\" xlink:href=\"#DejaVuSans-95\"/>\n       <use x=\"440.283203\" xlink:href=\"#DejaVuSans-111\"/>\n       <use x=\"501.464844\" xlink:href=\"#DejaVuSans-102\"/>\n       <use x=\"536.669922\" xlink:href=\"#DejaVuSans-95\"/>\n       <use x=\"586.669922\" xlink:href=\"#DejaVuSans-99\"/>\n       <use x=\"641.650391\" xlink:href=\"#DejaVuSans-121\"/>\n       <use x=\"700.830078\" xlink:href=\"#DejaVuSans-99\"/>\n       <use x=\"755.810547\" xlink:href=\"#DejaVuSans-108\"/>\n       <use x=\"783.59375\" xlink:href=\"#DejaVuSans-105\"/>\n       <use x=\"811.376953\" xlink:href=\"#DejaVuSans-115\"/>\n       <use x=\"863.476562\" xlink:href=\"#DejaVuSans-116\"/>\n       <use x=\"902.685547\" xlink:href=\"#DejaVuSans-95\"/>\n       <use x=\"952.685547\" xlink:href=\"#DejaVuSans-105\"/>\n       <use x=\"980.46875\" xlink:href=\"#DejaVuSans-110\"/>\n       <use x=\"1043.847656\" xlink:href=\"#DejaVuSans-106\"/>\n       <use x=\"1071.630859\" xlink:href=\"#DejaVuSans-117\"/>\n       <use x=\"1135.009766\" xlink:href=\"#DejaVuSans-114\"/>\n       <use x=\"1173.873047\" xlink:href=\"#DejaVuSans-101\"/>\n       <use x=\"1235.396484\" xlink:href=\"#DejaVuSans-100\"/>\n      </g>\n     </g>\n    </g>\n    <g id=\"ytick_9\">\n     <g id=\"line2d_20\">\n      <g>\n       <use style=\"stroke:#000000;stroke-width:0.8;\" x=\"171.182813\" xlink:href=\"#m45e756e912\" y=\"347.042855\"/>\n      </g>\n     </g>\n     <g id=\"text_20\">\n      <!-- number_of_cyclist_killed -->\n      <g transform=\"translate(42.2875 350.842074)scale(0.1 -0.1)\">\n       <use xlink:href=\"#DejaVuSans-110\"/>\n       <use x=\"63.378906\" xlink:href=\"#DejaVuSans-117\"/>\n       <use x=\"126.757812\" xlink:href=\"#DejaVuSans-109\"/>\n       <use x=\"224.169922\" xlink:href=\"#DejaVuSans-98\"/>\n       <use x=\"287.646484\" xlink:href=\"#DejaVuSans-101\"/>\n       <use x=\"349.169922\" xlink:href=\"#DejaVuSans-114\"/>\n       <use x=\"390.283203\" xlink:href=\"#DejaVuSans-95\"/>\n       <use x=\"440.283203\" xlink:href=\"#DejaVuSans-111\"/>\n       <use x=\"501.464844\" xlink:href=\"#DejaVuSans-102\"/>\n       <use x=\"536.669922\" xlink:href=\"#DejaVuSans-95\"/>\n       <use x=\"586.669922\" xlink:href=\"#DejaVuSans-99\"/>\n       <use x=\"641.650391\" xlink:href=\"#DejaVuSans-121\"/>\n       <use x=\"700.830078\" xlink:href=\"#DejaVuSans-99\"/>\n       <use x=\"755.810547\" xlink:href=\"#DejaVuSans-108\"/>\n       <use x=\"783.59375\" xlink:href=\"#DejaVuSans-105\"/>\n       <use x=\"811.376953\" xlink:href=\"#DejaVuSans-115\"/>\n       <use x=\"863.476562\" xlink:href=\"#DejaVuSans-116\"/>\n       <use x=\"902.685547\" xlink:href=\"#DejaVuSans-95\"/>\n       <use x=\"952.685547\" xlink:href=\"#DejaVuSans-107\"/>\n       <use x=\"1010.595703\" xlink:href=\"#DejaVuSans-105\"/>\n       <use x=\"1038.378906\" xlink:href=\"#DejaVuSans-108\"/>\n       <use x=\"1066.162109\" xlink:href=\"#DejaVuSans-108\"/>\n       <use x=\"1093.945312\" xlink:href=\"#DejaVuSans-101\"/>\n       <use x=\"1155.46875\" xlink:href=\"#DejaVuSans-100\"/>\n      </g>\n     </g>\n    </g>\n    <g id=\"ytick_10\">\n     <g id=\"line2d_21\">\n      <g>\n       <use style=\"stroke:#000000;stroke-width:0.8;\" x=\"171.182813\" xlink:href=\"#m45e756e912\" y=\"386.577401\"/>\n      </g>\n     </g>\n     <g id=\"text_21\">\n      <!-- number_of_motorist_injured -->\n      <g transform=\"translate(23.979688 390.376619)scale(0.1 -0.1)\">\n       <use xlink:href=\"#DejaVuSans-110\"/>\n       <use x=\"63.378906\" xlink:href=\"#DejaVuSans-117\"/>\n       <use x=\"126.757812\" xlink:href=\"#DejaVuSans-109\"/>\n       <use x=\"224.169922\" xlink:href=\"#DejaVuSans-98\"/>\n       <use x=\"287.646484\" xlink:href=\"#DejaVuSans-101\"/>\n       <use x=\"349.169922\" xlink:href=\"#DejaVuSans-114\"/>\n       <use x=\"390.283203\" xlink:href=\"#DejaVuSans-95\"/>\n       <use x=\"440.283203\" xlink:href=\"#DejaVuSans-111\"/>\n       <use x=\"501.464844\" xlink:href=\"#DejaVuSans-102\"/>\n       <use x=\"536.669922\" xlink:href=\"#DejaVuSans-95\"/>\n       <use x=\"586.669922\" xlink:href=\"#DejaVuSans-109\"/>\n       <use x=\"684.082031\" xlink:href=\"#DejaVuSans-111\"/>\n       <use x=\"745.263672\" xlink:href=\"#DejaVuSans-116\"/>\n       <use x=\"784.472656\" xlink:href=\"#DejaVuSans-111\"/>\n       <use x=\"845.654297\" xlink:href=\"#DejaVuSans-114\"/>\n       <use x=\"886.767578\" xlink:href=\"#DejaVuSans-105\"/>\n       <use x=\"914.550781\" xlink:href=\"#DejaVuSans-115\"/>\n       <use x=\"966.650391\" xlink:href=\"#DejaVuSans-116\"/>\n       <use x=\"1005.859375\" xlink:href=\"#DejaVuSans-95\"/>\n       <use x=\"1055.859375\" xlink:href=\"#DejaVuSans-105\"/>\n       <use x=\"1083.642578\" xlink:href=\"#DejaVuSans-110\"/>\n       <use x=\"1147.021484\" xlink:href=\"#DejaVuSans-106\"/>\n       <use x=\"1174.804688\" xlink:href=\"#DejaVuSans-117\"/>\n       <use x=\"1238.183594\" xlink:href=\"#DejaVuSans-114\"/>\n       <use x=\"1277.046875\" xlink:href=\"#DejaVuSans-101\"/>\n       <use x=\"1338.570312\" xlink:href=\"#DejaVuSans-100\"/>\n      </g>\n     </g>\n    </g>\n    <g id=\"ytick_11\">\n     <g id=\"line2d_22\">\n      <g>\n       <use style=\"stroke:#000000;stroke-width:0.8;\" x=\"171.182813\" xlink:href=\"#m45e756e912\" y=\"426.111946\"/>\n      </g>\n     </g>\n     <g id=\"text_22\">\n      <!-- number_of_motorist_killed -->\n      <g transform=\"translate(31.971875 429.911165)scale(0.1 -0.1)\">\n       <use xlink:href=\"#DejaVuSans-110\"/>\n       <use x=\"63.378906\" xlink:href=\"#DejaVuSans-117\"/>\n       <use x=\"126.757812\" xlink:href=\"#DejaVuSans-109\"/>\n       <use x=\"224.169922\" xlink:href=\"#DejaVuSans-98\"/>\n       <use x=\"287.646484\" xlink:href=\"#DejaVuSans-101\"/>\n       <use x=\"349.169922\" xlink:href=\"#DejaVuSans-114\"/>\n       <use x=\"390.283203\" xlink:href=\"#DejaVuSans-95\"/>\n       <use x=\"440.283203\" xlink:href=\"#DejaVuSans-111\"/>\n       <use x=\"501.464844\" xlink:href=\"#DejaVuSans-102\"/>\n       <use x=\"536.669922\" xlink:href=\"#DejaVuSans-95\"/>\n       <use x=\"586.669922\" xlink:href=\"#DejaVuSans-109\"/>\n       <use x=\"684.082031\" xlink:href=\"#DejaVuSans-111\"/>\n       <use x=\"745.263672\" xlink:href=\"#DejaVuSans-116\"/>\n       <use x=\"784.472656\" xlink:href=\"#DejaVuSans-111\"/>\n       <use x=\"845.654297\" xlink:href=\"#DejaVuSans-114\"/>\n       <use x=\"886.767578\" xlink:href=\"#DejaVuSans-105\"/>\n       <use x=\"914.550781\" xlink:href=\"#DejaVuSans-115\"/>\n       <use x=\"966.650391\" xlink:href=\"#DejaVuSans-116\"/>\n       <use x=\"1005.859375\" xlink:href=\"#DejaVuSans-95\"/>\n       <use x=\"1055.859375\" xlink:href=\"#DejaVuSans-107\"/>\n       <use x=\"1113.769531\" xlink:href=\"#DejaVuSans-105\"/>\n       <use x=\"1141.552734\" xlink:href=\"#DejaVuSans-108\"/>\n       <use x=\"1169.335938\" xlink:href=\"#DejaVuSans-108\"/>\n       <use x=\"1197.119141\" xlink:href=\"#DejaVuSans-101\"/>\n       <use x=\"1258.642578\" xlink:href=\"#DejaVuSans-100\"/>\n      </g>\n     </g>\n    </g>\n   </g>\n   <g id=\"text_23\">\n    <!-- 1e+00 -->\n    <g style=\"fill:#262626;\" transform=\"translate(178.721747 33.525866)scale(0.1 -0.1)\">\n     <defs>\n      <path d=\"M 12.40625 8.296875 \nL 28.515625 8.296875 \nL 28.515625 63.921875 \nL 10.984375 60.40625 \nL 10.984375 69.390625 \nL 28.421875 72.90625 \nL 38.28125 72.90625 \nL 38.28125 8.296875 \nL 54.390625 8.296875 \nL 54.390625 0 \nL 12.40625 0 \nz\n\" id=\"DejaVuSans-49\"/>\n      <path d=\"M 46 62.703125 \nL 46 35.5 \nL 73.1875 35.5 \nL 73.1875 27.203125 \nL 46 27.203125 \nL 46 0 \nL 37.796875 0 \nL 37.796875 27.203125 \nL 10.59375 27.203125 \nL 10.59375 35.5 \nL 37.796875 35.5 \nL 37.796875 62.703125 \nz\n\" id=\"DejaVuSans-43\"/>\n      <path d=\"M 31.78125 66.40625 \nQ 24.171875 66.40625 20.328125 58.90625 \nQ 16.5 51.421875 16.5 36.375 \nQ 16.5 21.390625 20.328125 13.890625 \nQ 24.171875 6.390625 31.78125 6.390625 \nQ 39.453125 6.390625 43.28125 13.890625 \nQ 47.125 21.390625 47.125 36.375 \nQ 47.125 51.421875 43.28125 58.90625 \nQ 39.453125 66.40625 31.78125 66.40625 \nz\nM 31.78125 74.21875 \nQ 44.046875 74.21875 50.515625 64.515625 \nQ 56.984375 54.828125 56.984375 36.375 \nQ 56.984375 17.96875 50.515625 8.265625 \nQ 44.046875 -1.421875 31.78125 -1.421875 \nQ 19.53125 -1.421875 13.0625 8.265625 \nQ 6.59375 17.96875 6.59375 36.375 \nQ 6.59375 54.828125 13.0625 64.515625 \nQ 19.53125 74.21875 31.78125 74.21875 \nz\n\" id=\"DejaVuSans-48\"/>\n     </defs>\n     <use xlink:href=\"#DejaVuSans-49\"/>\n     <use x=\"63.623047\" xlink:href=\"#DejaVuSans-101\"/>\n     <use x=\"125.146484\" xlink:href=\"#DejaVuSans-43\"/>\n     <use x=\"208.935547\" xlink:href=\"#DejaVuSans-48\"/>\n     <use x=\"272.558594\" xlink:href=\"#DejaVuSans-48\"/>\n    </g>\n   </g>\n   <g id=\"text_24\">\n    <!-- -0.02 -->\n    <g style=\"fill:#ffffff;\" transform=\"translate(231.293366 33.525866)scale(0.1 -0.1)\">\n     <defs>\n      <path d=\"M 4.890625 31.390625 \nL 31.203125 31.390625 \nL 31.203125 23.390625 \nL 4.890625 23.390625 \nz\n\" id=\"DejaVuSans-45\"/>\n      <path d=\"M 10.6875 12.40625 \nL 21 12.40625 \nL 21 0 \nL 10.6875 0 \nz\n\" id=\"DejaVuSans-46\"/>\n      <path d=\"M 19.1875 8.296875 \nL 53.609375 8.296875 \nL 53.609375 0 \nL 7.328125 0 \nL 7.328125 8.296875 \nQ 12.9375 14.109375 22.625 23.890625 \nQ 32.328125 33.6875 34.8125 36.53125 \nQ 39.546875 41.84375 41.421875 45.53125 \nQ 43.3125 49.21875 43.3125 52.78125 \nQ 43.3125 58.59375 39.234375 62.25 \nQ 35.15625 65.921875 28.609375 65.921875 \nQ 23.96875 65.921875 18.8125 64.3125 \nQ 13.671875 62.703125 7.8125 59.421875 \nL 7.8125 69.390625 \nQ 13.765625 71.78125 18.9375 73 \nQ 24.125 74.21875 28.421875 74.21875 \nQ 39.75 74.21875 46.484375 68.546875 \nQ 53.21875 62.890625 53.21875 53.421875 \nQ 53.21875 48.921875 51.53125 44.890625 \nQ 49.859375 40.875 45.40625 35.40625 \nQ 44.1875 33.984375 37.640625 27.21875 \nQ 31.109375 20.453125 19.1875 8.296875 \nz\n\" id=\"DejaVuSans-50\"/>\n     </defs>\n     <use xlink:href=\"#DejaVuSans-45\"/>\n     <use x=\"36.083984\" xlink:href=\"#DejaVuSans-48\"/>\n     <use x=\"99.707031\" xlink:href=\"#DejaVuSans-46\"/>\n     <use x=\"131.494141\" xlink:href=\"#DejaVuSans-48\"/>\n     <use x=\"195.117188\" xlink:href=\"#DejaVuSans-50\"/>\n    </g>\n   </g>\n   <g id=\"text_25\">\n    <!-- 0.009 -->\n    <g style=\"fill:#ffffff;\" transform=\"translate(278.614205 33.525866)scale(0.1 -0.1)\">\n     <defs>\n      <path d=\"M 10.984375 1.515625 \nL 10.984375 10.5 \nQ 14.703125 8.734375 18.5 7.8125 \nQ 22.3125 6.890625 25.984375 6.890625 \nQ 35.75 6.890625 40.890625 13.453125 \nQ 46.046875 20.015625 46.78125 33.40625 \nQ 43.953125 29.203125 39.59375 26.953125 \nQ 35.25 24.703125 29.984375 24.703125 \nQ 19.046875 24.703125 12.671875 31.3125 \nQ 6.296875 37.9375 6.296875 49.421875 \nQ 6.296875 60.640625 12.9375 67.421875 \nQ 19.578125 74.21875 30.609375 74.21875 \nQ 43.265625 74.21875 49.921875 64.515625 \nQ 56.59375 54.828125 56.59375 36.375 \nQ 56.59375 19.140625 48.40625 8.859375 \nQ 40.234375 -1.421875 26.421875 -1.421875 \nQ 22.703125 -1.421875 18.890625 -0.6875 \nQ 15.09375 0.046875 10.984375 1.515625 \nz\nM 30.609375 32.421875 \nQ 37.25 32.421875 41.125 36.953125 \nQ 45.015625 41.5 45.015625 49.421875 \nQ 45.015625 57.28125 41.125 61.84375 \nQ 37.25 66.40625 30.609375 66.40625 \nQ 23.96875 66.40625 20.09375 61.84375 \nQ 16.21875 57.28125 16.21875 49.421875 \nQ 16.21875 41.5 20.09375 36.953125 \nQ 23.96875 32.421875 30.609375 32.421875 \nz\n\" id=\"DejaVuSans-57\"/>\n     </defs>\n     <use xlink:href=\"#DejaVuSans-48\"/>\n     <use x=\"63.623047\" xlink:href=\"#DejaVuSans-46\"/>\n     <use x=\"95.410156\" xlink:href=\"#DejaVuSans-48\"/>\n     <use x=\"159.033203\" xlink:href=\"#DejaVuSans-48\"/>\n     <use x=\"222.65625\" xlink:href=\"#DejaVuSans-57\"/>\n    </g>\n   </g>\n   <g id=\"text_26\">\n    <!-- 0.02 -->\n    <g style=\"fill:#ffffff;\" transform=\"translate(330.493636 33.525866)scale(0.1 -0.1)\">\n     <use xlink:href=\"#DejaVuSans-48\"/>\n     <use x=\"63.623047\" xlink:href=\"#DejaVuSans-46\"/>\n     <use x=\"95.410156\" xlink:href=\"#DejaVuSans-48\"/>\n     <use x=\"159.033203\" xlink:href=\"#DejaVuSans-50\"/>\n    </g>\n   </g>\n   <g id=\"text_27\">\n    <!-- 0.002 -->\n    <g style=\"fill:#ffffff;\" transform=\"translate(376.010568 33.525866)scale(0.1 -0.1)\">\n     <use xlink:href=\"#DejaVuSans-48\"/>\n     <use x=\"63.623047\" xlink:href=\"#DejaVuSans-46\"/>\n     <use x=\"95.410156\" xlink:href=\"#DejaVuSans-48\"/>\n     <use x=\"159.033203\" xlink:href=\"#DejaVuSans-48\"/>\n     <use x=\"222.65625\" xlink:href=\"#DejaVuSans-50\"/>\n    </g>\n   </g>\n   <g id=\"text_28\">\n    <!-- -0.02 -->\n    <g style=\"fill:#ffffff;\" transform=\"translate(426.086094 33.525866)scale(0.1 -0.1)\">\n     <use xlink:href=\"#DejaVuSans-45\"/>\n     <use x=\"36.083984\" xlink:href=\"#DejaVuSans-48\"/>\n     <use x=\"99.707031\" xlink:href=\"#DejaVuSans-46\"/>\n     <use x=\"131.494141\" xlink:href=\"#DejaVuSans-48\"/>\n     <use x=\"195.117188\" xlink:href=\"#DejaVuSans-50\"/>\n    </g>\n   </g>\n   <g id=\"text_29\">\n    <!-- 2e-05 -->\n    <g style=\"fill:#ffffff;\" transform=\"translate(473.296776 33.525866)scale(0.1 -0.1)\">\n     <defs>\n      <path d=\"M 10.796875 72.90625 \nL 49.515625 72.90625 \nL 49.515625 64.59375 \nL 19.828125 64.59375 \nL 19.828125 46.734375 \nQ 21.96875 47.46875 24.109375 47.828125 \nQ 26.265625 48.1875 28.421875 48.1875 \nQ 40.625 48.1875 47.75 41.5 \nQ 54.890625 34.8125 54.890625 23.390625 \nQ 54.890625 11.625 47.5625 5.09375 \nQ 40.234375 -1.421875 26.90625 -1.421875 \nQ 22.3125 -1.421875 17.546875 -0.640625 \nQ 12.796875 0.140625 7.71875 1.703125 \nL 7.71875 11.625 \nQ 12.109375 9.234375 16.796875 8.0625 \nQ 21.484375 6.890625 26.703125 6.890625 \nQ 35.15625 6.890625 40.078125 11.328125 \nQ 45.015625 15.765625 45.015625 23.390625 \nQ 45.015625 31 40.078125 35.4375 \nQ 35.15625 39.890625 26.703125 39.890625 \nQ 22.75 39.890625 18.8125 39.015625 \nQ 14.890625 38.140625 10.796875 36.28125 \nz\n\" id=\"DejaVuSans-53\"/>\n     </defs>\n     <use xlink:href=\"#DejaVuSans-50\"/>\n     <use x=\"63.623047\" xlink:href=\"#DejaVuSans-101\"/>\n     <use x=\"125.146484\" xlink:href=\"#DejaVuSans-45\"/>\n     <use x=\"161.230469\" xlink:href=\"#DejaVuSans-48\"/>\n     <use x=\"224.853516\" xlink:href=\"#DejaVuSans-53\"/>\n    </g>\n   </g>\n   <g id=\"text_30\">\n    <!-- -0.03 -->\n    <g style=\"fill:#ffffff;\" transform=\"translate(523.482457 33.525866)scale(0.1 -0.1)\">\n     <defs>\n      <path d=\"M 40.578125 39.3125 \nQ 47.65625 37.796875 51.625 33 \nQ 55.609375 28.21875 55.609375 21.1875 \nQ 55.609375 10.40625 48.1875 4.484375 \nQ 40.765625 -1.421875 27.09375 -1.421875 \nQ 22.515625 -1.421875 17.65625 -0.515625 \nQ 12.796875 0.390625 7.625 2.203125 \nL 7.625 11.71875 \nQ 11.71875 9.328125 16.59375 8.109375 \nQ 21.484375 6.890625 26.8125 6.890625 \nQ 36.078125 6.890625 40.9375 10.546875 \nQ 45.796875 14.203125 45.796875 21.1875 \nQ 45.796875 27.640625 41.28125 31.265625 \nQ 36.765625 34.90625 28.71875 34.90625 \nL 20.21875 34.90625 \nL 20.21875 43.015625 \nL 29.109375 43.015625 \nQ 36.375 43.015625 40.234375 45.921875 \nQ 44.09375 48.828125 44.09375 54.296875 \nQ 44.09375 59.90625 40.109375 62.90625 \nQ 36.140625 65.921875 28.71875 65.921875 \nQ 24.65625 65.921875 20.015625 65.03125 \nQ 15.375 64.15625 9.8125 62.3125 \nL 9.8125 71.09375 \nQ 15.4375 72.65625 20.34375 73.4375 \nQ 25.25 74.21875 29.59375 74.21875 \nQ 40.828125 74.21875 47.359375 69.109375 \nQ 53.90625 64.015625 53.90625 55.328125 \nQ 53.90625 49.265625 50.4375 45.09375 \nQ 46.96875 40.921875 40.578125 39.3125 \nz\n\" id=\"DejaVuSans-51\"/>\n     </defs>\n     <use xlink:href=\"#DejaVuSans-45\"/>\n     <use x=\"36.083984\" xlink:href=\"#DejaVuSans-48\"/>\n     <use x=\"99.707031\" xlink:href=\"#DejaVuSans-46\"/>\n     <use x=\"131.494141\" xlink:href=\"#DejaVuSans-48\"/>\n     <use x=\"195.117188\" xlink:href=\"#DejaVuSans-51\"/>\n    </g>\n   </g>\n   <g id=\"text_31\">\n    <!-- -0.002 -->\n    <g style=\"fill:#ffffff;\" transform=\"translate(568.999389 33.525866)scale(0.1 -0.1)\">\n     <use xlink:href=\"#DejaVuSans-45\"/>\n     <use x=\"36.083984\" xlink:href=\"#DejaVuSans-48\"/>\n     <use x=\"99.707031\" xlink:href=\"#DejaVuSans-46\"/>\n     <use x=\"131.494141\" xlink:href=\"#DejaVuSans-48\"/>\n     <use x=\"195.117188\" xlink:href=\"#DejaVuSans-48\"/>\n     <use x=\"258.740234\" xlink:href=\"#DejaVuSans-50\"/>\n    </g>\n   </g>\n   <g id=\"text_32\">\n    <!-- 0.04 -->\n    <g style=\"fill:#ffffff;\" transform=\"translate(622.682727 33.525866)scale(0.1 -0.1)\">\n     <defs>\n      <path d=\"M 37.796875 64.3125 \nL 12.890625 25.390625 \nL 37.796875 25.390625 \nz\nM 35.203125 72.90625 \nL 47.609375 72.90625 \nL 47.609375 25.390625 \nL 58.015625 25.390625 \nL 58.015625 17.1875 \nL 47.609375 17.1875 \nL 47.609375 0 \nL 37.796875 0 \nL 37.796875 17.1875 \nL 4.890625 17.1875 \nL 4.890625 26.703125 \nz\n\" id=\"DejaVuSans-52\"/>\n     </defs>\n     <use xlink:href=\"#DejaVuSans-48\"/>\n     <use x=\"63.623047\" xlink:href=\"#DejaVuSans-46\"/>\n     <use x=\"95.410156\" xlink:href=\"#DejaVuSans-48\"/>\n     <use x=\"159.033203\" xlink:href=\"#DejaVuSans-52\"/>\n    </g>\n   </g>\n   <g id=\"text_33\">\n    <!-- 0.004 -->\n    <g style=\"fill:#ffffff;\" transform=\"translate(668.199659 33.525866)scale(0.1 -0.1)\">\n     <use xlink:href=\"#DejaVuSans-48\"/>\n     <use x=\"63.623047\" xlink:href=\"#DejaVuSans-46\"/>\n     <use x=\"95.410156\" xlink:href=\"#DejaVuSans-48\"/>\n     <use x=\"159.033203\" xlink:href=\"#DejaVuSans-48\"/>\n     <use x=\"222.65625\" xlink:href=\"#DejaVuSans-52\"/>\n    </g>\n   </g>\n   <g id=\"text_34\">\n    <!-- -0.02 -->\n    <g style=\"fill:#ffffff;\" transform=\"translate(182.595185 73.060412)scale(0.1 -0.1)\">\n     <use xlink:href=\"#DejaVuSans-45\"/>\n     <use x=\"36.083984\" xlink:href=\"#DejaVuSans-48\"/>\n     <use x=\"99.707031\" xlink:href=\"#DejaVuSans-46\"/>\n     <use x=\"131.494141\" xlink:href=\"#DejaVuSans-48\"/>\n     <use x=\"195.117188\" xlink:href=\"#DejaVuSans-50\"/>\n    </g>\n   </g>\n   <g id=\"text_35\">\n    <!-- 1e+00 -->\n    <g style=\"fill:#262626;\" transform=\"translate(227.419929 73.060412)scale(0.1 -0.1)\">\n     <use xlink:href=\"#DejaVuSans-49\"/>\n     <use x=\"63.623047\" xlink:href=\"#DejaVuSans-101\"/>\n     <use x=\"125.146484\" xlink:href=\"#DejaVuSans-43\"/>\n     <use x=\"208.935547\" xlink:href=\"#DejaVuSans-48\"/>\n     <use x=\"272.558594\" xlink:href=\"#DejaVuSans-48\"/>\n    </g>\n   </g>\n   <g id=\"text_36\">\n    <!-- -1e+00 -->\n    <g style=\"fill:#ffffff;\" transform=\"translate(274.314205 73.060412)scale(0.1 -0.1)\">\n     <use xlink:href=\"#DejaVuSans-45\"/>\n     <use x=\"36.083984\" xlink:href=\"#DejaVuSans-49\"/>\n     <use x=\"99.707031\" xlink:href=\"#DejaVuSans-101\"/>\n     <use x=\"161.230469\" xlink:href=\"#DejaVuSans-43\"/>\n     <use x=\"245.019531\" xlink:href=\"#DejaVuSans-48\"/>\n     <use x=\"308.642578\" xlink:href=\"#DejaVuSans-48\"/>\n    </g>\n   </g>\n   <g id=\"text_37\">\n    <!-- 0.0006 -->\n    <g style=\"fill:#ffffff;\" transform=\"translate(324.131136 73.060412)scale(0.1 -0.1)\">\n     <defs>\n      <path d=\"M 33.015625 40.375 \nQ 26.375 40.375 22.484375 35.828125 \nQ 18.609375 31.296875 18.609375 23.390625 \nQ 18.609375 15.53125 22.484375 10.953125 \nQ 26.375 6.390625 33.015625 6.390625 \nQ 39.65625 6.390625 43.53125 10.953125 \nQ 47.40625 15.53125 47.40625 23.390625 \nQ 47.40625 31.296875 43.53125 35.828125 \nQ 39.65625 40.375 33.015625 40.375 \nz\nM 52.59375 71.296875 \nL 52.59375 62.3125 \nQ 48.875 64.0625 45.09375 64.984375 \nQ 41.3125 65.921875 37.59375 65.921875 \nQ 27.828125 65.921875 22.671875 59.328125 \nQ 17.53125 52.734375 16.796875 39.40625 \nQ 19.671875 43.65625 24.015625 45.921875 \nQ 28.375 48.1875 33.59375 48.1875 \nQ 44.578125 48.1875 50.953125 41.515625 \nQ 57.328125 34.859375 57.328125 23.390625 \nQ 57.328125 12.15625 50.6875 5.359375 \nQ 44.046875 -1.421875 33.015625 -1.421875 \nQ 20.359375 -1.421875 13.671875 8.265625 \nQ 6.984375 17.96875 6.984375 36.375 \nQ 6.984375 53.65625 15.1875 63.9375 \nQ 23.390625 74.21875 37.203125 74.21875 \nQ 40.921875 74.21875 44.703125 73.484375 \nQ 48.484375 72.75 52.59375 71.296875 \nz\n\" id=\"DejaVuSans-54\"/>\n     </defs>\n     <use xlink:href=\"#DejaVuSans-48\"/>\n     <use x=\"63.623047\" xlink:href=\"#DejaVuSans-46\"/>\n     <use x=\"95.410156\" xlink:href=\"#DejaVuSans-48\"/>\n     <use x=\"159.033203\" xlink:href=\"#DejaVuSans-48\"/>\n     <use x=\"222.65625\" xlink:href=\"#DejaVuSans-48\"/>\n     <use x=\"286.279297\" xlink:href=\"#DejaVuSans-54\"/>\n    </g>\n   </g>\n   <g id=\"text_38\">\n    <!-- -0.004 -->\n    <g style=\"fill:#ffffff;\" transform=\"translate(374.206662 73.060412)scale(0.1 -0.1)\">\n     <use xlink:href=\"#DejaVuSans-45\"/>\n     <use x=\"36.083984\" xlink:href=\"#DejaVuSans-48\"/>\n     <use x=\"99.707031\" xlink:href=\"#DejaVuSans-46\"/>\n     <use x=\"131.494141\" xlink:href=\"#DejaVuSans-48\"/>\n     <use x=\"195.117188\" xlink:href=\"#DejaVuSans-48\"/>\n     <use x=\"258.740234\" xlink:href=\"#DejaVuSans-52\"/>\n    </g>\n   </g>\n   <g id=\"text_39\">\n    <!-- -0.002 -->\n    <g style=\"fill:#ffffff;\" transform=\"translate(422.904844 73.060412)scale(0.1 -0.1)\">\n     <use xlink:href=\"#DejaVuSans-45\"/>\n     <use x=\"36.083984\" xlink:href=\"#DejaVuSans-48\"/>\n     <use x=\"99.707031\" xlink:href=\"#DejaVuSans-46\"/>\n     <use x=\"131.494141\" xlink:href=\"#DejaVuSans-48\"/>\n     <use x=\"195.117188\" xlink:href=\"#DejaVuSans-48\"/>\n     <use x=\"258.740234\" xlink:href=\"#DejaVuSans-50\"/>\n    </g>\n   </g>\n   <g id=\"text_40\">\n    <!-- -0.009 -->\n    <g style=\"fill:#ffffff;\" transform=\"translate(471.603026 73.060412)scale(0.1 -0.1)\">\n     <use xlink:href=\"#DejaVuSans-45\"/>\n     <use x=\"36.083984\" xlink:href=\"#DejaVuSans-48\"/>\n     <use x=\"99.707031\" xlink:href=\"#DejaVuSans-46\"/>\n     <use x=\"131.494141\" xlink:href=\"#DejaVuSans-48\"/>\n     <use x=\"195.117188\" xlink:href=\"#DejaVuSans-48\"/>\n     <use x=\"258.740234\" xlink:href=\"#DejaVuSans-57\"/>\n    </g>\n   </g>\n   <g id=\"text_41\">\n    <!-- -0.001 -->\n    <g style=\"fill:#ffffff;\" transform=\"translate(520.301207 73.060412)scale(0.1 -0.1)\">\n     <use xlink:href=\"#DejaVuSans-45\"/>\n     <use x=\"36.083984\" xlink:href=\"#DejaVuSans-48\"/>\n     <use x=\"99.707031\" xlink:href=\"#DejaVuSans-46\"/>\n     <use x=\"131.494141\" xlink:href=\"#DejaVuSans-48\"/>\n     <use x=\"195.117188\" xlink:href=\"#DejaVuSans-48\"/>\n     <use x=\"258.740234\" xlink:href=\"#DejaVuSans-49\"/>\n    </g>\n   </g>\n   <g id=\"text_42\">\n    <!-- 0.0006 -->\n    <g style=\"fill:#ffffff;\" transform=\"translate(567.622045 73.060412)scale(0.1 -0.1)\">\n     <use xlink:href=\"#DejaVuSans-48\"/>\n     <use x=\"63.623047\" xlink:href=\"#DejaVuSans-46\"/>\n     <use x=\"95.410156\" xlink:href=\"#DejaVuSans-48\"/>\n     <use x=\"159.033203\" xlink:href=\"#DejaVuSans-48\"/>\n     <use x=\"222.65625\" xlink:href=\"#DejaVuSans-48\"/>\n     <use x=\"286.279297\" xlink:href=\"#DejaVuSans-54\"/>\n    </g>\n   </g>\n   <g id=\"text_43\">\n    <!-- 0.002 -->\n    <g style=\"fill:#ffffff;\" transform=\"translate(619.501477 73.060412)scale(0.1 -0.1)\">\n     <use xlink:href=\"#DejaVuSans-48\"/>\n     <use x=\"63.623047\" xlink:href=\"#DejaVuSans-46\"/>\n     <use x=\"95.410156\" xlink:href=\"#DejaVuSans-48\"/>\n     <use x=\"159.033203\" xlink:href=\"#DejaVuSans-48\"/>\n     <use x=\"222.65625\" xlink:href=\"#DejaVuSans-50\"/>\n    </g>\n   </g>\n   <g id=\"text_44\">\n    <!-- 0.001 -->\n    <g style=\"fill:#ffffff;\" transform=\"translate(668.199659 73.060412)scale(0.1 -0.1)\">\n     <use xlink:href=\"#DejaVuSans-48\"/>\n     <use x=\"63.623047\" xlink:href=\"#DejaVuSans-46\"/>\n     <use x=\"95.410156\" xlink:href=\"#DejaVuSans-48\"/>\n     <use x=\"159.033203\" xlink:href=\"#DejaVuSans-48\"/>\n     <use x=\"222.65625\" xlink:href=\"#DejaVuSans-49\"/>\n    </g>\n   </g>\n   <g id=\"text_45\">\n    <!-- 0.009 -->\n    <g style=\"fill:#ffffff;\" transform=\"translate(181.217841 112.594957)scale(0.1 -0.1)\">\n     <use xlink:href=\"#DejaVuSans-48\"/>\n     <use x=\"63.623047\" xlink:href=\"#DejaVuSans-46\"/>\n     <use x=\"95.410156\" xlink:href=\"#DejaVuSans-48\"/>\n     <use x=\"159.033203\" xlink:href=\"#DejaVuSans-48\"/>\n     <use x=\"222.65625\" xlink:href=\"#DejaVuSans-57\"/>\n    </g>\n   </g>\n   <g id=\"text_46\">\n    <!-- -1e+00 -->\n    <g style=\"fill:#ffffff;\" transform=\"translate(225.616023 112.594957)scale(0.1 -0.1)\">\n     <use xlink:href=\"#DejaVuSans-45\"/>\n     <use x=\"36.083984\" xlink:href=\"#DejaVuSans-49\"/>\n     <use x=\"99.707031\" xlink:href=\"#DejaVuSans-101\"/>\n     <use x=\"161.230469\" xlink:href=\"#DejaVuSans-43\"/>\n     <use x=\"245.019531\" xlink:href=\"#DejaVuSans-48\"/>\n     <use x=\"308.642578\" xlink:href=\"#DejaVuSans-48\"/>\n    </g>\n   </g>\n   <g id=\"text_47\">\n    <!-- 1e+00 -->\n    <g style=\"fill:#262626;\" transform=\"translate(276.118111 112.594957)scale(0.1 -0.1)\">\n     <use xlink:href=\"#DejaVuSans-49\"/>\n     <use x=\"63.623047\" xlink:href=\"#DejaVuSans-101\"/>\n     <use x=\"125.146484\" xlink:href=\"#DejaVuSans-43\"/>\n     <use x=\"208.935547\" xlink:href=\"#DejaVuSans-48\"/>\n     <use x=\"272.558594\" xlink:href=\"#DejaVuSans-48\"/>\n    </g>\n   </g>\n   <g id=\"text_48\">\n    <!-- -0.0009 -->\n    <g style=\"fill:#ffffff;\" transform=\"translate(322.32723 112.594957)scale(0.1 -0.1)\">\n     <use xlink:href=\"#DejaVuSans-45\"/>\n     <use x=\"36.083984\" xlink:href=\"#DejaVuSans-48\"/>\n     <use x=\"99.707031\" xlink:href=\"#DejaVuSans-46\"/>\n     <use x=\"131.494141\" xlink:href=\"#DejaVuSans-48\"/>\n     <use x=\"195.117188\" xlink:href=\"#DejaVuSans-48\"/>\n     <use x=\"258.740234\" xlink:href=\"#DejaVuSans-48\"/>\n     <use x=\"322.363281\" xlink:href=\"#DejaVuSans-57\"/>\n    </g>\n   </g>\n   <g id=\"text_49\">\n    <!-- 0.004 -->\n    <g style=\"fill:#ffffff;\" transform=\"translate(376.010568 112.594957)scale(0.1 -0.1)\">\n     <use xlink:href=\"#DejaVuSans-48\"/>\n     <use x=\"63.623047\" xlink:href=\"#DejaVuSans-46\"/>\n     <use x=\"95.410156\" xlink:href=\"#DejaVuSans-48\"/>\n     <use x=\"159.033203\" xlink:href=\"#DejaVuSans-48\"/>\n     <use x=\"222.65625\" xlink:href=\"#DejaVuSans-52\"/>\n    </g>\n   </g>\n   <g id=\"text_50\">\n    <!-- 0.002 -->\n    <g style=\"fill:#ffffff;\" transform=\"translate(424.70875 112.594957)scale(0.1 -0.1)\">\n     <use xlink:href=\"#DejaVuSans-48\"/>\n     <use x=\"63.623047\" xlink:href=\"#DejaVuSans-46\"/>\n     <use x=\"95.410156\" xlink:href=\"#DejaVuSans-48\"/>\n     <use x=\"159.033203\" xlink:href=\"#DejaVuSans-48\"/>\n     <use x=\"222.65625\" xlink:href=\"#DejaVuSans-50\"/>\n    </g>\n   </g>\n   <g id=\"text_51\">\n    <!-- 0.009 -->\n    <g style=\"fill:#ffffff;\" transform=\"translate(473.406932 112.594957)scale(0.1 -0.1)\">\n     <use xlink:href=\"#DejaVuSans-48\"/>\n     <use x=\"63.623047\" xlink:href=\"#DejaVuSans-46\"/>\n     <use x=\"95.410156\" xlink:href=\"#DejaVuSans-48\"/>\n     <use x=\"159.033203\" xlink:href=\"#DejaVuSans-48\"/>\n     <use x=\"222.65625\" xlink:href=\"#DejaVuSans-57\"/>\n    </g>\n   </g>\n   <g id=\"text_52\">\n    <!-- 0.0005 -->\n    <g style=\"fill:#ffffff;\" transform=\"translate(518.923864 112.594957)scale(0.1 -0.1)\">\n     <use xlink:href=\"#DejaVuSans-48\"/>\n     <use x=\"63.623047\" xlink:href=\"#DejaVuSans-46\"/>\n     <use x=\"95.410156\" xlink:href=\"#DejaVuSans-48\"/>\n     <use x=\"159.033203\" xlink:href=\"#DejaVuSans-48\"/>\n     <use x=\"222.65625\" xlink:href=\"#DejaVuSans-48\"/>\n     <use x=\"286.279297\" xlink:href=\"#DejaVuSans-53\"/>\n    </g>\n   </g>\n   <g id=\"text_53\">\n    <!-- -0.0008 -->\n    <g style=\"fill:#ffffff;\" transform=\"translate(565.818139 112.594957)scale(0.1 -0.1)\">\n     <defs>\n      <path d=\"M 31.78125 34.625 \nQ 24.75 34.625 20.71875 30.859375 \nQ 16.703125 27.09375 16.703125 20.515625 \nQ 16.703125 13.921875 20.71875 10.15625 \nQ 24.75 6.390625 31.78125 6.390625 \nQ 38.8125 6.390625 42.859375 10.171875 \nQ 46.921875 13.96875 46.921875 20.515625 \nQ 46.921875 27.09375 42.890625 30.859375 \nQ 38.875 34.625 31.78125 34.625 \nz\nM 21.921875 38.8125 \nQ 15.578125 40.375 12.03125 44.71875 \nQ 8.5 49.078125 8.5 55.328125 \nQ 8.5 64.0625 14.71875 69.140625 \nQ 20.953125 74.21875 31.78125 74.21875 \nQ 42.671875 74.21875 48.875 69.140625 \nQ 55.078125 64.0625 55.078125 55.328125 \nQ 55.078125 49.078125 51.53125 44.71875 \nQ 48 40.375 41.703125 38.8125 \nQ 48.828125 37.15625 52.796875 32.3125 \nQ 56.78125 27.484375 56.78125 20.515625 \nQ 56.78125 9.90625 50.3125 4.234375 \nQ 43.84375 -1.421875 31.78125 -1.421875 \nQ 19.734375 -1.421875 13.25 4.234375 \nQ 6.78125 9.90625 6.78125 20.515625 \nQ 6.78125 27.484375 10.78125 32.3125 \nQ 14.796875 37.15625 21.921875 38.8125 \nz\nM 18.3125 54.390625 \nQ 18.3125 48.734375 21.84375 45.5625 \nQ 25.390625 42.390625 31.78125 42.390625 \nQ 38.140625 42.390625 41.71875 45.5625 \nQ 45.3125 48.734375 45.3125 54.390625 \nQ 45.3125 60.0625 41.71875 63.234375 \nQ 38.140625 66.40625 31.78125 66.40625 \nQ 25.390625 66.40625 21.84375 63.234375 \nQ 18.3125 60.0625 18.3125 54.390625 \nz\n\" id=\"DejaVuSans-56\"/>\n     </defs>\n     <use xlink:href=\"#DejaVuSans-45\"/>\n     <use x=\"36.083984\" xlink:href=\"#DejaVuSans-48\"/>\n     <use x=\"99.707031\" xlink:href=\"#DejaVuSans-46\"/>\n     <use x=\"131.494141\" xlink:href=\"#DejaVuSans-48\"/>\n     <use x=\"195.117188\" xlink:href=\"#DejaVuSans-48\"/>\n     <use x=\"258.740234\" xlink:href=\"#DejaVuSans-48\"/>\n     <use x=\"322.363281\" xlink:href=\"#DejaVuSans-56\"/>\n    </g>\n   </g>\n   <g id=\"text_54\">\n    <!-- -0.002 -->\n    <g style=\"fill:#ffffff;\" transform=\"translate(617.697571 112.594957)scale(0.1 -0.1)\">\n     <use xlink:href=\"#DejaVuSans-45\"/>\n     <use x=\"36.083984\" xlink:href=\"#DejaVuSans-48\"/>\n     <use x=\"99.707031\" xlink:href=\"#DejaVuSans-46\"/>\n     <use x=\"131.494141\" xlink:href=\"#DejaVuSans-48\"/>\n     <use x=\"195.117188\" xlink:href=\"#DejaVuSans-48\"/>\n     <use x=\"258.740234\" xlink:href=\"#DejaVuSans-50\"/>\n    </g>\n   </g>\n   <g id=\"text_55\">\n    <!-- -0.0009 -->\n    <g style=\"fill:#ffffff;\" transform=\"translate(663.214503 112.594957)scale(0.1 -0.1)\">\n     <use xlink:href=\"#DejaVuSans-45\"/>\n     <use x=\"36.083984\" xlink:href=\"#DejaVuSans-48\"/>\n     <use x=\"99.707031\" xlink:href=\"#DejaVuSans-46\"/>\n     <use x=\"131.494141\" xlink:href=\"#DejaVuSans-48\"/>\n     <use x=\"195.117188\" xlink:href=\"#DejaVuSans-48\"/>\n     <use x=\"258.740234\" xlink:href=\"#DejaVuSans-48\"/>\n     <use x=\"322.363281\" xlink:href=\"#DejaVuSans-57\"/>\n    </g>\n   </g>\n   <g id=\"text_56\">\n    <!-- 0.02 -->\n    <g style=\"fill:#ffffff;\" transform=\"translate(184.399091 152.129503)scale(0.1 -0.1)\">\n     <use xlink:href=\"#DejaVuSans-48\"/>\n     <use x=\"63.623047\" xlink:href=\"#DejaVuSans-46\"/>\n     <use x=\"95.410156\" xlink:href=\"#DejaVuSans-48\"/>\n     <use x=\"159.033203\" xlink:href=\"#DejaVuSans-50\"/>\n    </g>\n   </g>\n   <g id=\"text_57\">\n    <!-- 0.0006 -->\n    <g style=\"fill:#ffffff;\" transform=\"translate(226.734773 152.129503)scale(0.1 -0.1)\">\n     <use xlink:href=\"#DejaVuSans-48\"/>\n     <use x=\"63.623047\" xlink:href=\"#DejaVuSans-46\"/>\n     <use x=\"95.410156\" xlink:href=\"#DejaVuSans-48\"/>\n     <use x=\"159.033203\" xlink:href=\"#DejaVuSans-48\"/>\n     <use x=\"222.65625\" xlink:href=\"#DejaVuSans-48\"/>\n     <use x=\"286.279297\" xlink:href=\"#DejaVuSans-54\"/>\n    </g>\n   </g>\n   <g id=\"text_58\">\n    <!-- -0.0009 -->\n    <g style=\"fill:#ffffff;\" transform=\"translate(273.629048 152.129503)scale(0.1 -0.1)\">\n     <use xlink:href=\"#DejaVuSans-45\"/>\n     <use x=\"36.083984\" xlink:href=\"#DejaVuSans-48\"/>\n     <use x=\"99.707031\" xlink:href=\"#DejaVuSans-46\"/>\n     <use x=\"131.494141\" xlink:href=\"#DejaVuSans-48\"/>\n     <use x=\"195.117188\" xlink:href=\"#DejaVuSans-48\"/>\n     <use x=\"258.740234\" xlink:href=\"#DejaVuSans-48\"/>\n     <use x=\"322.363281\" xlink:href=\"#DejaVuSans-57\"/>\n    </g>\n   </g>\n   <g id=\"text_59\">\n    <!-- 1e+00 -->\n    <g style=\"fill:#262626;\" transform=\"translate(324.816293 152.129503)scale(0.1 -0.1)\">\n     <use xlink:href=\"#DejaVuSans-49\"/>\n     <use x=\"63.623047\" xlink:href=\"#DejaVuSans-101\"/>\n     <use x=\"125.146484\" xlink:href=\"#DejaVuSans-43\"/>\n     <use x=\"208.935547\" xlink:href=\"#DejaVuSans-48\"/>\n     <use x=\"272.558594\" xlink:href=\"#DejaVuSans-48\"/>\n    </g>\n   </g>\n   <g id=\"text_60\">\n    <!-- 0.02 -->\n    <g style=\"fill:#ffffff;\" transform=\"translate(379.191818 152.129503)scale(0.1 -0.1)\">\n     <use xlink:href=\"#DejaVuSans-48\"/>\n     <use x=\"63.623047\" xlink:href=\"#DejaVuSans-46\"/>\n     <use x=\"95.410156\" xlink:href=\"#DejaVuSans-48\"/>\n     <use x=\"159.033203\" xlink:href=\"#DejaVuSans-50\"/>\n    </g>\n   </g>\n   <g id=\"text_61\">\n    <!-- 0.2 -->\n    <g style=\"fill:#ffffff;\" transform=\"translate(431.07125 152.129503)scale(0.1 -0.1)\">\n     <use xlink:href=\"#DejaVuSans-48\"/>\n     <use x=\"63.623047\" xlink:href=\"#DejaVuSans-46\"/>\n     <use x=\"95.410156\" xlink:href=\"#DejaVuSans-50\"/>\n    </g>\n   </g>\n   <g id=\"text_62\">\n    <!-- -0.003 -->\n    <g style=\"fill:#ffffff;\" transform=\"translate(471.603026 152.129503)scale(0.1 -0.1)\">\n     <use xlink:href=\"#DejaVuSans-45\"/>\n     <use x=\"36.083984\" xlink:href=\"#DejaVuSans-48\"/>\n     <use x=\"99.707031\" xlink:href=\"#DejaVuSans-46\"/>\n     <use x=\"131.494141\" xlink:href=\"#DejaVuSans-48\"/>\n     <use x=\"195.117188\" xlink:href=\"#DejaVuSans-48\"/>\n     <use x=\"258.740234\" xlink:href=\"#DejaVuSans-51\"/>\n    </g>\n   </g>\n   <g id=\"text_63\">\n    <!-- 0.2 -->\n    <g style=\"fill:#ffffff;\" transform=\"translate(528.467614 152.129503)scale(0.1 -0.1)\">\n     <use xlink:href=\"#DejaVuSans-48\"/>\n     <use x=\"63.623047\" xlink:href=\"#DejaVuSans-46\"/>\n     <use x=\"95.410156\" xlink:href=\"#DejaVuSans-50\"/>\n    </g>\n   </g>\n   <g id=\"text_64\">\n    <!-- -0.005 -->\n    <g style=\"fill:#ffffff;\" transform=\"translate(568.999389 152.129503)scale(0.1 -0.1)\">\n     <use xlink:href=\"#DejaVuSans-45\"/>\n     <use x=\"36.083984\" xlink:href=\"#DejaVuSans-48\"/>\n     <use x=\"99.707031\" xlink:href=\"#DejaVuSans-46\"/>\n     <use x=\"131.494141\" xlink:href=\"#DejaVuSans-48\"/>\n     <use x=\"195.117188\" xlink:href=\"#DejaVuSans-48\"/>\n     <use x=\"258.740234\" xlink:href=\"#DejaVuSans-53\"/>\n    </g>\n   </g>\n   <g id=\"text_65\">\n    <!-- 0.9 -->\n    <g style=\"fill:#262626;\" transform=\"translate(625.863977 152.129503)scale(0.1 -0.1)\">\n     <use xlink:href=\"#DejaVuSans-48\"/>\n     <use x=\"63.623047\" xlink:href=\"#DejaVuSans-46\"/>\n     <use x=\"95.410156\" xlink:href=\"#DejaVuSans-57\"/>\n    </g>\n   </g>\n   <g id=\"text_66\">\n    <!-- 0.03 -->\n    <g style=\"fill:#ffffff;\" transform=\"translate(671.380909 152.129503)scale(0.1 -0.1)\">\n     <use xlink:href=\"#DejaVuSans-48\"/>\n     <use x=\"63.623047\" xlink:href=\"#DejaVuSans-46\"/>\n     <use x=\"95.410156\" xlink:href=\"#DejaVuSans-48\"/>\n     <use x=\"159.033203\" xlink:href=\"#DejaVuSans-51\"/>\n    </g>\n   </g>\n   <g id=\"text_67\">\n    <!-- 0.002 -->\n    <g style=\"fill:#ffffff;\" transform=\"translate(181.217841 191.664048)scale(0.1 -0.1)\">\n     <use xlink:href=\"#DejaVuSans-48\"/>\n     <use x=\"63.623047\" xlink:href=\"#DejaVuSans-46\"/>\n     <use x=\"95.410156\" xlink:href=\"#DejaVuSans-48\"/>\n     <use x=\"159.033203\" xlink:href=\"#DejaVuSans-48\"/>\n     <use x=\"222.65625\" xlink:href=\"#DejaVuSans-50\"/>\n    </g>\n   </g>\n   <g id=\"text_68\">\n    <!-- -0.004 -->\n    <g style=\"fill:#ffffff;\" transform=\"translate(228.112116 191.664048)scale(0.1 -0.1)\">\n     <use xlink:href=\"#DejaVuSans-45\"/>\n     <use x=\"36.083984\" xlink:href=\"#DejaVuSans-48\"/>\n     <use x=\"99.707031\" xlink:href=\"#DejaVuSans-46\"/>\n     <use x=\"131.494141\" xlink:href=\"#DejaVuSans-48\"/>\n     <use x=\"195.117188\" xlink:href=\"#DejaVuSans-48\"/>\n     <use x=\"258.740234\" xlink:href=\"#DejaVuSans-52\"/>\n    </g>\n   </g>\n   <g id=\"text_69\">\n    <!-- 0.004 -->\n    <g style=\"fill:#ffffff;\" transform=\"translate(278.614205 191.664048)scale(0.1 -0.1)\">\n     <use xlink:href=\"#DejaVuSans-48\"/>\n     <use x=\"63.623047\" xlink:href=\"#DejaVuSans-46\"/>\n     <use x=\"95.410156\" xlink:href=\"#DejaVuSans-48\"/>\n     <use x=\"159.033203\" xlink:href=\"#DejaVuSans-48\"/>\n     <use x=\"222.65625\" xlink:href=\"#DejaVuSans-52\"/>\n    </g>\n   </g>\n   <g id=\"text_70\">\n    <!-- 0.02 -->\n    <g style=\"fill:#ffffff;\" transform=\"translate(330.493636 191.664048)scale(0.1 -0.1)\">\n     <use xlink:href=\"#DejaVuSans-48\"/>\n     <use x=\"63.623047\" xlink:href=\"#DejaVuSans-46\"/>\n     <use x=\"95.410156\" xlink:href=\"#DejaVuSans-48\"/>\n     <use x=\"159.033203\" xlink:href=\"#DejaVuSans-50\"/>\n    </g>\n   </g>\n   <g id=\"text_71\">\n    <!-- 1e+00 -->\n    <g style=\"fill:#262626;\" transform=\"translate(373.514474 191.664048)scale(0.1 -0.1)\">\n     <use xlink:href=\"#DejaVuSans-49\"/>\n     <use x=\"63.623047\" xlink:href=\"#DejaVuSans-101\"/>\n     <use x=\"125.146484\" xlink:href=\"#DejaVuSans-43\"/>\n     <use x=\"208.935547\" xlink:href=\"#DejaVuSans-48\"/>\n     <use x=\"272.558594\" xlink:href=\"#DejaVuSans-48\"/>\n    </g>\n   </g>\n   <g id=\"text_72\">\n    <!-- -0.0001 -->\n    <g style=\"fill:#ffffff;\" transform=\"translate(419.723594 191.664048)scale(0.1 -0.1)\">\n     <use xlink:href=\"#DejaVuSans-45\"/>\n     <use x=\"36.083984\" xlink:href=\"#DejaVuSans-48\"/>\n     <use x=\"99.707031\" xlink:href=\"#DejaVuSans-46\"/>\n     <use x=\"131.494141\" xlink:href=\"#DejaVuSans-48\"/>\n     <use x=\"195.117188\" xlink:href=\"#DejaVuSans-48\"/>\n     <use x=\"258.740234\" xlink:href=\"#DejaVuSans-48\"/>\n     <use x=\"322.363281\" xlink:href=\"#DejaVuSans-49\"/>\n    </g>\n   </g>\n   <g id=\"text_73\">\n    <!-- 0.6 -->\n    <g style=\"fill:#262626;\" transform=\"translate(479.769432 191.664048)scale(0.1 -0.1)\">\n     <use xlink:href=\"#DejaVuSans-48\"/>\n     <use x=\"63.623047\" xlink:href=\"#DejaVuSans-46\"/>\n     <use x=\"95.410156\" xlink:href=\"#DejaVuSans-54\"/>\n    </g>\n   </g>\n   <g id=\"text_74\">\n    <!-- -0.009 -->\n    <g style=\"fill:#ffffff;\" transform=\"translate(520.301207 191.664048)scale(0.1 -0.1)\">\n     <use xlink:href=\"#DejaVuSans-45\"/>\n     <use x=\"36.083984\" xlink:href=\"#DejaVuSans-48\"/>\n     <use x=\"99.707031\" xlink:href=\"#DejaVuSans-46\"/>\n     <use x=\"131.494141\" xlink:href=\"#DejaVuSans-48\"/>\n     <use x=\"195.117188\" xlink:href=\"#DejaVuSans-48\"/>\n     <use x=\"258.740234\" xlink:href=\"#DejaVuSans-57\"/>\n    </g>\n   </g>\n   <g id=\"text_75\">\n    <!-- 0.3 -->\n    <g style=\"fill:#ffffff;\" transform=\"translate(577.165795 191.664048)scale(0.1 -0.1)\">\n     <use xlink:href=\"#DejaVuSans-48\"/>\n     <use x=\"63.623047\" xlink:href=\"#DejaVuSans-46\"/>\n     <use x=\"95.410156\" xlink:href=\"#DejaVuSans-51\"/>\n    </g>\n   </g>\n   <g id=\"text_76\">\n    <!-- 0.02 -->\n    <g style=\"fill:#ffffff;\" transform=\"translate(622.682727 191.664048)scale(0.1 -0.1)\">\n     <use xlink:href=\"#DejaVuSans-48\"/>\n     <use x=\"63.623047\" xlink:href=\"#DejaVuSans-46\"/>\n     <use x=\"95.410156\" xlink:href=\"#DejaVuSans-48\"/>\n     <use x=\"159.033203\" xlink:href=\"#DejaVuSans-50\"/>\n    </g>\n   </g>\n   <g id=\"text_77\">\n    <!-- 0.8 -->\n    <g style=\"fill:#262626;\" transform=\"translate(674.562159 191.664048)scale(0.1 -0.1)\">\n     <use xlink:href=\"#DejaVuSans-48\"/>\n     <use x=\"63.623047\" xlink:href=\"#DejaVuSans-46\"/>\n     <use x=\"95.410156\" xlink:href=\"#DejaVuSans-56\"/>\n    </g>\n   </g>\n   <g id=\"text_78\">\n    <!-- -0.02 -->\n    <g style=\"fill:#ffffff;\" transform=\"translate(182.595185 231.198594)scale(0.1 -0.1)\">\n     <use xlink:href=\"#DejaVuSans-45\"/>\n     <use x=\"36.083984\" xlink:href=\"#DejaVuSans-48\"/>\n     <use x=\"99.707031\" xlink:href=\"#DejaVuSans-46\"/>\n     <use x=\"131.494141\" xlink:href=\"#DejaVuSans-48\"/>\n     <use x=\"195.117188\" xlink:href=\"#DejaVuSans-50\"/>\n    </g>\n   </g>\n   <g id=\"text_79\">\n    <!-- -0.002 -->\n    <g style=\"fill:#ffffff;\" transform=\"translate(228.112116 231.198594)scale(0.1 -0.1)\">\n     <use xlink:href=\"#DejaVuSans-45\"/>\n     <use x=\"36.083984\" xlink:href=\"#DejaVuSans-48\"/>\n     <use x=\"99.707031\" xlink:href=\"#DejaVuSans-46\"/>\n     <use x=\"131.494141\" xlink:href=\"#DejaVuSans-48\"/>\n     <use x=\"195.117188\" xlink:href=\"#DejaVuSans-48\"/>\n     <use x=\"258.740234\" xlink:href=\"#DejaVuSans-50\"/>\n    </g>\n   </g>\n   <g id=\"text_80\">\n    <!-- 0.002 -->\n    <g style=\"fill:#ffffff;\" transform=\"translate(278.614205 231.198594)scale(0.1 -0.1)\">\n     <use xlink:href=\"#DejaVuSans-48\"/>\n     <use x=\"63.623047\" xlink:href=\"#DejaVuSans-46\"/>\n     <use x=\"95.410156\" xlink:href=\"#DejaVuSans-48\"/>\n     <use x=\"159.033203\" xlink:href=\"#DejaVuSans-48\"/>\n     <use x=\"222.65625\" xlink:href=\"#DejaVuSans-50\"/>\n    </g>\n   </g>\n   <g id=\"text_81\">\n    <!-- 0.2 -->\n    <g style=\"fill:#ffffff;\" transform=\"translate(333.674886 231.198594)scale(0.1 -0.1)\">\n     <use xlink:href=\"#DejaVuSans-48\"/>\n     <use x=\"63.623047\" xlink:href=\"#DejaVuSans-46\"/>\n     <use x=\"95.410156\" xlink:href=\"#DejaVuSans-50\"/>\n    </g>\n   </g>\n   <g id=\"text_82\">\n    <!-- -0.0001 -->\n    <g style=\"fill:#ffffff;\" transform=\"translate(371.025412 231.198594)scale(0.1 -0.1)\">\n     <use xlink:href=\"#DejaVuSans-45\"/>\n     <use x=\"36.083984\" xlink:href=\"#DejaVuSans-48\"/>\n     <use x=\"99.707031\" xlink:href=\"#DejaVuSans-46\"/>\n     <use x=\"131.494141\" xlink:href=\"#DejaVuSans-48\"/>\n     <use x=\"195.117188\" xlink:href=\"#DejaVuSans-48\"/>\n     <use x=\"258.740234\" xlink:href=\"#DejaVuSans-48\"/>\n     <use x=\"322.363281\" xlink:href=\"#DejaVuSans-49\"/>\n    </g>\n   </g>\n   <g id=\"text_83\">\n    <!-- 1e+00 -->\n    <g style=\"fill:#262626;\" transform=\"translate(422.212656 231.198594)scale(0.1 -0.1)\">\n     <use xlink:href=\"#DejaVuSans-49\"/>\n     <use x=\"63.623047\" xlink:href=\"#DejaVuSans-101\"/>\n     <use x=\"125.146484\" xlink:href=\"#DejaVuSans-43\"/>\n     <use x=\"208.935547\" xlink:href=\"#DejaVuSans-48\"/>\n     <use x=\"272.558594\" xlink:href=\"#DejaVuSans-48\"/>\n    </g>\n   </g>\n   <g id=\"text_84\">\n    <!-- 0.003 -->\n    <g style=\"fill:#ffffff;\" transform=\"translate(473.406932 231.198594)scale(0.1 -0.1)\">\n     <use xlink:href=\"#DejaVuSans-48\"/>\n     <use x=\"63.623047\" xlink:href=\"#DejaVuSans-46\"/>\n     <use x=\"95.410156\" xlink:href=\"#DejaVuSans-48\"/>\n     <use x=\"159.033203\" xlink:href=\"#DejaVuSans-48\"/>\n     <use x=\"222.65625\" xlink:href=\"#DejaVuSans-51\"/>\n    </g>\n   </g>\n   <g id=\"text_85\">\n    <!-- -0.04 -->\n    <g style=\"fill:#ffffff;\" transform=\"translate(523.482457 231.198594)scale(0.1 -0.1)\">\n     <use xlink:href=\"#DejaVuSans-45\"/>\n     <use x=\"36.083984\" xlink:href=\"#DejaVuSans-48\"/>\n     <use x=\"99.707031\" xlink:href=\"#DejaVuSans-46\"/>\n     <use x=\"131.494141\" xlink:href=\"#DejaVuSans-48\"/>\n     <use x=\"195.117188\" xlink:href=\"#DejaVuSans-52\"/>\n    </g>\n   </g>\n   <g id=\"text_86\">\n    <!-- 0.002 -->\n    <g style=\"fill:#ffffff;\" transform=\"translate(570.803295 231.198594)scale(0.1 -0.1)\">\n     <use xlink:href=\"#DejaVuSans-48\"/>\n     <use x=\"63.623047\" xlink:href=\"#DejaVuSans-46\"/>\n     <use x=\"95.410156\" xlink:href=\"#DejaVuSans-48\"/>\n     <use x=\"159.033203\" xlink:href=\"#DejaVuSans-48\"/>\n     <use x=\"222.65625\" xlink:href=\"#DejaVuSans-50\"/>\n    </g>\n   </g>\n   <g id=\"text_87\">\n    <!-- -0.07 -->\n    <g style=\"fill:#ffffff;\" transform=\"translate(620.878821 231.198594)scale(0.1 -0.1)\">\n     <defs>\n      <path d=\"M 8.203125 72.90625 \nL 55.078125 72.90625 \nL 55.078125 68.703125 \nL 28.609375 0 \nL 18.3125 0 \nL 43.21875 64.59375 \nL 8.203125 64.59375 \nz\n\" id=\"DejaVuSans-55\"/>\n     </defs>\n     <use xlink:href=\"#DejaVuSans-45\"/>\n     <use x=\"36.083984\" xlink:href=\"#DejaVuSans-48\"/>\n     <use x=\"99.707031\" xlink:href=\"#DejaVuSans-46\"/>\n     <use x=\"131.494141\" xlink:href=\"#DejaVuSans-48\"/>\n     <use x=\"195.117188\" xlink:href=\"#DejaVuSans-55\"/>\n    </g>\n   </g>\n   <g id=\"text_88\">\n    <!-- -0.004 -->\n    <g style=\"fill:#ffffff;\" transform=\"translate(666.395753 231.198594)scale(0.1 -0.1)\">\n     <use xlink:href=\"#DejaVuSans-45\"/>\n     <use x=\"36.083984\" xlink:href=\"#DejaVuSans-48\"/>\n     <use x=\"99.707031\" xlink:href=\"#DejaVuSans-46\"/>\n     <use x=\"131.494141\" xlink:href=\"#DejaVuSans-48\"/>\n     <use x=\"195.117188\" xlink:href=\"#DejaVuSans-48\"/>\n     <use x=\"258.740234\" xlink:href=\"#DejaVuSans-52\"/>\n    </g>\n   </g>\n   <g id=\"text_89\">\n    <!-- 2e-05 -->\n    <g style=\"fill:#ffffff;\" transform=\"translate(181.107685 270.733139)scale(0.1 -0.1)\">\n     <use xlink:href=\"#DejaVuSans-50\"/>\n     <use x=\"63.623047\" xlink:href=\"#DejaVuSans-101\"/>\n     <use x=\"125.146484\" xlink:href=\"#DejaVuSans-45\"/>\n     <use x=\"161.230469\" xlink:href=\"#DejaVuSans-48\"/>\n     <use x=\"224.853516\" xlink:href=\"#DejaVuSans-53\"/>\n    </g>\n   </g>\n   <g id=\"text_90\">\n    <!-- -0.009 -->\n    <g style=\"fill:#ffffff;\" transform=\"translate(228.112116 270.733139)scale(0.1 -0.1)\">\n     <use xlink:href=\"#DejaVuSans-45\"/>\n     <use x=\"36.083984\" xlink:href=\"#DejaVuSans-48\"/>\n     <use x=\"99.707031\" xlink:href=\"#DejaVuSans-46\"/>\n     <use x=\"131.494141\" xlink:href=\"#DejaVuSans-48\"/>\n     <use x=\"195.117188\" xlink:href=\"#DejaVuSans-48\"/>\n     <use x=\"258.740234\" xlink:href=\"#DejaVuSans-57\"/>\n    </g>\n   </g>\n   <g id=\"text_91\">\n    <!-- 0.009 -->\n    <g style=\"fill:#ffffff;\" transform=\"translate(278.614205 270.733139)scale(0.1 -0.1)\">\n     <use xlink:href=\"#DejaVuSans-48\"/>\n     <use x=\"63.623047\" xlink:href=\"#DejaVuSans-46\"/>\n     <use x=\"95.410156\" xlink:href=\"#DejaVuSans-48\"/>\n     <use x=\"159.033203\" xlink:href=\"#DejaVuSans-48\"/>\n     <use x=\"222.65625\" xlink:href=\"#DejaVuSans-57\"/>\n    </g>\n   </g>\n   <g id=\"text_92\">\n    <!-- -0.003 -->\n    <g style=\"fill:#ffffff;\" transform=\"translate(325.50848 270.733139)scale(0.1 -0.1)\">\n     <use xlink:href=\"#DejaVuSans-45\"/>\n     <use x=\"36.083984\" xlink:href=\"#DejaVuSans-48\"/>\n     <use x=\"99.707031\" xlink:href=\"#DejaVuSans-46\"/>\n     <use x=\"131.494141\" xlink:href=\"#DejaVuSans-48\"/>\n     <use x=\"195.117188\" xlink:href=\"#DejaVuSans-48\"/>\n     <use x=\"258.740234\" xlink:href=\"#DejaVuSans-51\"/>\n    </g>\n   </g>\n   <g id=\"text_93\">\n    <!-- 0.6 -->\n    <g style=\"fill:#262626;\" transform=\"translate(382.373068 270.733139)scale(0.1 -0.1)\">\n     <use xlink:href=\"#DejaVuSans-48\"/>\n     <use x=\"63.623047\" xlink:href=\"#DejaVuSans-46\"/>\n     <use x=\"95.410156\" xlink:href=\"#DejaVuSans-54\"/>\n    </g>\n   </g>\n   <g id=\"text_94\">\n    <!-- 0.003 -->\n    <g style=\"fill:#ffffff;\" transform=\"translate(424.70875 270.733139)scale(0.1 -0.1)\">\n     <use xlink:href=\"#DejaVuSans-48\"/>\n     <use x=\"63.623047\" xlink:href=\"#DejaVuSans-46\"/>\n     <use x=\"95.410156\" xlink:href=\"#DejaVuSans-48\"/>\n     <use x=\"159.033203\" xlink:href=\"#DejaVuSans-48\"/>\n     <use x=\"222.65625\" xlink:href=\"#DejaVuSans-51\"/>\n    </g>\n   </g>\n   <g id=\"text_95\">\n    <!-- 1e+00 -->\n    <g style=\"fill:#262626;\" transform=\"translate(470.910838 270.733139)scale(0.1 -0.1)\">\n     <use xlink:href=\"#DejaVuSans-49\"/>\n     <use x=\"63.623047\" xlink:href=\"#DejaVuSans-101\"/>\n     <use x=\"125.146484\" xlink:href=\"#DejaVuSans-43\"/>\n     <use x=\"208.935547\" xlink:href=\"#DejaVuSans-48\"/>\n     <use x=\"272.558594\" xlink:href=\"#DejaVuSans-48\"/>\n    </g>\n   </g>\n   <g id=\"text_96\">\n    <!-- -0.006 -->\n    <g style=\"fill:#ffffff;\" transform=\"translate(520.301207 270.733139)scale(0.1 -0.1)\">\n     <use xlink:href=\"#DejaVuSans-45\"/>\n     <use x=\"36.083984\" xlink:href=\"#DejaVuSans-48\"/>\n     <use x=\"99.707031\" xlink:href=\"#DejaVuSans-46\"/>\n     <use x=\"131.494141\" xlink:href=\"#DejaVuSans-48\"/>\n     <use x=\"195.117188\" xlink:href=\"#DejaVuSans-48\"/>\n     <use x=\"258.740234\" xlink:href=\"#DejaVuSans-54\"/>\n    </g>\n   </g>\n   <g id=\"text_97\">\n    <!-- -0.0004 -->\n    <g style=\"fill:#ffffff;\" transform=\"translate(565.818139 270.733139)scale(0.1 -0.1)\">\n     <use xlink:href=\"#DejaVuSans-45\"/>\n     <use x=\"36.083984\" xlink:href=\"#DejaVuSans-48\"/>\n     <use x=\"99.707031\" xlink:href=\"#DejaVuSans-46\"/>\n     <use x=\"131.494141\" xlink:href=\"#DejaVuSans-48\"/>\n     <use x=\"195.117188\" xlink:href=\"#DejaVuSans-48\"/>\n     <use x=\"258.740234\" xlink:href=\"#DejaVuSans-48\"/>\n     <use x=\"322.363281\" xlink:href=\"#DejaVuSans-52\"/>\n    </g>\n   </g>\n   <g id=\"text_98\">\n    <!-- -0.003 -->\n    <g style=\"fill:#ffffff;\" transform=\"translate(617.697571 270.733139)scale(0.1 -0.1)\">\n     <use xlink:href=\"#DejaVuSans-45\"/>\n     <use x=\"36.083984\" xlink:href=\"#DejaVuSans-48\"/>\n     <use x=\"99.707031\" xlink:href=\"#DejaVuSans-46\"/>\n     <use x=\"131.494141\" xlink:href=\"#DejaVuSans-48\"/>\n     <use x=\"195.117188\" xlink:href=\"#DejaVuSans-48\"/>\n     <use x=\"258.740234\" xlink:href=\"#DejaVuSans-51\"/>\n    </g>\n   </g>\n   <g id=\"text_99\">\n    <!-- 0.01 -->\n    <g style=\"fill:#ffffff;\" transform=\"translate(671.380909 270.733139)scale(0.1 -0.1)\">\n     <use xlink:href=\"#DejaVuSans-48\"/>\n     <use x=\"63.623047\" xlink:href=\"#DejaVuSans-46\"/>\n     <use x=\"95.410156\" xlink:href=\"#DejaVuSans-48\"/>\n     <use x=\"159.033203\" xlink:href=\"#DejaVuSans-49\"/>\n    </g>\n   </g>\n   <g id=\"text_100\">\n    <!-- -0.03 -->\n    <g style=\"fill:#ffffff;\" transform=\"translate(182.595185 310.267685)scale(0.1 -0.1)\">\n     <use xlink:href=\"#DejaVuSans-45\"/>\n     <use x=\"36.083984\" xlink:href=\"#DejaVuSans-48\"/>\n     <use x=\"99.707031\" xlink:href=\"#DejaVuSans-46\"/>\n     <use x=\"131.494141\" xlink:href=\"#DejaVuSans-48\"/>\n     <use x=\"195.117188\" xlink:href=\"#DejaVuSans-51\"/>\n    </g>\n   </g>\n   <g id=\"text_101\">\n    <!-- -0.001 -->\n    <g style=\"fill:#ffffff;\" transform=\"translate(228.112116 310.267685)scale(0.1 -0.1)\">\n     <use xlink:href=\"#DejaVuSans-45\"/>\n     <use x=\"36.083984\" xlink:href=\"#DejaVuSans-48\"/>\n     <use x=\"99.707031\" xlink:href=\"#DejaVuSans-46\"/>\n     <use x=\"131.494141\" xlink:href=\"#DejaVuSans-48\"/>\n     <use x=\"195.117188\" xlink:href=\"#DejaVuSans-48\"/>\n     <use x=\"258.740234\" xlink:href=\"#DejaVuSans-49\"/>\n    </g>\n   </g>\n   <g id=\"text_102\">\n    <!-- 0.0005 -->\n    <g style=\"fill:#ffffff;\" transform=\"translate(275.432955 310.267685)scale(0.1 -0.1)\">\n     <use xlink:href=\"#DejaVuSans-48\"/>\n     <use x=\"63.623047\" xlink:href=\"#DejaVuSans-46\"/>\n     <use x=\"95.410156\" xlink:href=\"#DejaVuSans-48\"/>\n     <use x=\"159.033203\" xlink:href=\"#DejaVuSans-48\"/>\n     <use x=\"222.65625\" xlink:href=\"#DejaVuSans-48\"/>\n     <use x=\"286.279297\" xlink:href=\"#DejaVuSans-53\"/>\n    </g>\n   </g>\n   <g id=\"text_103\">\n    <!-- 0.2 -->\n    <g style=\"fill:#ffffff;\" transform=\"translate(333.674886 310.267685)scale(0.1 -0.1)\">\n     <use xlink:href=\"#DejaVuSans-48\"/>\n     <use x=\"63.623047\" xlink:href=\"#DejaVuSans-46\"/>\n     <use x=\"95.410156\" xlink:href=\"#DejaVuSans-50\"/>\n    </g>\n   </g>\n   <g id=\"text_104\">\n    <!-- -0.009 -->\n    <g style=\"fill:#ffffff;\" transform=\"translate(374.206662 310.267685)scale(0.1 -0.1)\">\n     <use xlink:href=\"#DejaVuSans-45\"/>\n     <use x=\"36.083984\" xlink:href=\"#DejaVuSans-48\"/>\n     <use x=\"99.707031\" xlink:href=\"#DejaVuSans-46\"/>\n     <use x=\"131.494141\" xlink:href=\"#DejaVuSans-48\"/>\n     <use x=\"195.117188\" xlink:href=\"#DejaVuSans-48\"/>\n     <use x=\"258.740234\" xlink:href=\"#DejaVuSans-57\"/>\n    </g>\n   </g>\n   <g id=\"text_105\">\n    <!-- -0.04 -->\n    <g style=\"fill:#ffffff;\" transform=\"translate(426.086094 310.267685)scale(0.1 -0.1)\">\n     <use xlink:href=\"#DejaVuSans-45\"/>\n     <use x=\"36.083984\" xlink:href=\"#DejaVuSans-48\"/>\n     <use x=\"99.707031\" xlink:href=\"#DejaVuSans-46\"/>\n     <use x=\"131.494141\" xlink:href=\"#DejaVuSans-48\"/>\n     <use x=\"195.117188\" xlink:href=\"#DejaVuSans-52\"/>\n    </g>\n   </g>\n   <g id=\"text_106\">\n    <!-- -0.006 -->\n    <g style=\"fill:#ffffff;\" transform=\"translate(471.603026 310.267685)scale(0.1 -0.1)\">\n     <use xlink:href=\"#DejaVuSans-45\"/>\n     <use x=\"36.083984\" xlink:href=\"#DejaVuSans-48\"/>\n     <use x=\"99.707031\" xlink:href=\"#DejaVuSans-46\"/>\n     <use x=\"131.494141\" xlink:href=\"#DejaVuSans-48\"/>\n     <use x=\"195.117188\" xlink:href=\"#DejaVuSans-48\"/>\n     <use x=\"258.740234\" xlink:href=\"#DejaVuSans-54\"/>\n    </g>\n   </g>\n   <g id=\"text_107\">\n    <!-- 1e+00 -->\n    <g style=\"fill:#262626;\" transform=\"translate(519.60902 310.267685)scale(0.1 -0.1)\">\n     <use xlink:href=\"#DejaVuSans-49\"/>\n     <use x=\"63.623047\" xlink:href=\"#DejaVuSans-101\"/>\n     <use x=\"125.146484\" xlink:href=\"#DejaVuSans-43\"/>\n     <use x=\"208.935547\" xlink:href=\"#DejaVuSans-48\"/>\n     <use x=\"272.558594\" xlink:href=\"#DejaVuSans-48\"/>\n    </g>\n   </g>\n   <g id=\"text_108\">\n    <!-- -0.004 -->\n    <g style=\"fill:#ffffff;\" transform=\"translate(568.999389 310.267685)scale(0.1 -0.1)\">\n     <use xlink:href=\"#DejaVuSans-45\"/>\n     <use x=\"36.083984\" xlink:href=\"#DejaVuSans-48\"/>\n     <use x=\"99.707031\" xlink:href=\"#DejaVuSans-46\"/>\n     <use x=\"131.494141\" xlink:href=\"#DejaVuSans-48\"/>\n     <use x=\"195.117188\" xlink:href=\"#DejaVuSans-48\"/>\n     <use x=\"258.740234\" xlink:href=\"#DejaVuSans-52\"/>\n    </g>\n   </g>\n   <g id=\"text_109\">\n    <!-- -0.08 -->\n    <g style=\"fill:#ffffff;\" transform=\"translate(620.878821 310.267685)scale(0.1 -0.1)\">\n     <use xlink:href=\"#DejaVuSans-45\"/>\n     <use x=\"36.083984\" xlink:href=\"#DejaVuSans-48\"/>\n     <use x=\"99.707031\" xlink:href=\"#DejaVuSans-46\"/>\n     <use x=\"131.494141\" xlink:href=\"#DejaVuSans-48\"/>\n     <use x=\"195.117188\" xlink:href=\"#DejaVuSans-56\"/>\n    </g>\n   </g>\n   <g id=\"text_110\">\n    <!-- -0.007 -->\n    <g style=\"fill:#ffffff;\" transform=\"translate(666.395753 310.267685)scale(0.1 -0.1)\">\n     <use xlink:href=\"#DejaVuSans-45\"/>\n     <use x=\"36.083984\" xlink:href=\"#DejaVuSans-48\"/>\n     <use x=\"99.707031\" xlink:href=\"#DejaVuSans-46\"/>\n     <use x=\"131.494141\" xlink:href=\"#DejaVuSans-48\"/>\n     <use x=\"195.117188\" xlink:href=\"#DejaVuSans-48\"/>\n     <use x=\"258.740234\" xlink:href=\"#DejaVuSans-55\"/>\n    </g>\n   </g>\n   <g id=\"text_111\">\n    <!-- -0.002 -->\n    <g style=\"fill:#ffffff;\" transform=\"translate(179.413935 349.80223)scale(0.1 -0.1)\">\n     <use xlink:href=\"#DejaVuSans-45\"/>\n     <use x=\"36.083984\" xlink:href=\"#DejaVuSans-48\"/>\n     <use x=\"99.707031\" xlink:href=\"#DejaVuSans-46\"/>\n     <use x=\"131.494141\" xlink:href=\"#DejaVuSans-48\"/>\n     <use x=\"195.117188\" xlink:href=\"#DejaVuSans-48\"/>\n     <use x=\"258.740234\" xlink:href=\"#DejaVuSans-50\"/>\n    </g>\n   </g>\n   <g id=\"text_112\">\n    <!-- 0.0006 -->\n    <g style=\"fill:#ffffff;\" transform=\"translate(226.734773 349.80223)scale(0.1 -0.1)\">\n     <use xlink:href=\"#DejaVuSans-48\"/>\n     <use x=\"63.623047\" xlink:href=\"#DejaVuSans-46\"/>\n     <use x=\"95.410156\" xlink:href=\"#DejaVuSans-48\"/>\n     <use x=\"159.033203\" xlink:href=\"#DejaVuSans-48\"/>\n     <use x=\"222.65625\" xlink:href=\"#DejaVuSans-48\"/>\n     <use x=\"286.279297\" xlink:href=\"#DejaVuSans-54\"/>\n    </g>\n   </g>\n   <g id=\"text_113\">\n    <!-- -0.0008 -->\n    <g style=\"fill:#ffffff;\" transform=\"translate(273.629048 349.80223)scale(0.1 -0.1)\">\n     <use xlink:href=\"#DejaVuSans-45\"/>\n     <use x=\"36.083984\" xlink:href=\"#DejaVuSans-48\"/>\n     <use x=\"99.707031\" xlink:href=\"#DejaVuSans-46\"/>\n     <use x=\"131.494141\" xlink:href=\"#DejaVuSans-48\"/>\n     <use x=\"195.117188\" xlink:href=\"#DejaVuSans-48\"/>\n     <use x=\"258.740234\" xlink:href=\"#DejaVuSans-48\"/>\n     <use x=\"322.363281\" xlink:href=\"#DejaVuSans-56\"/>\n    </g>\n   </g>\n   <g id=\"text_114\">\n    <!-- -0.005 -->\n    <g style=\"fill:#ffffff;\" transform=\"translate(325.50848 349.80223)scale(0.1 -0.1)\">\n     <use xlink:href=\"#DejaVuSans-45\"/>\n     <use x=\"36.083984\" xlink:href=\"#DejaVuSans-48\"/>\n     <use x=\"99.707031\" xlink:href=\"#DejaVuSans-46\"/>\n     <use x=\"131.494141\" xlink:href=\"#DejaVuSans-48\"/>\n     <use x=\"195.117188\" xlink:href=\"#DejaVuSans-48\"/>\n     <use x=\"258.740234\" xlink:href=\"#DejaVuSans-53\"/>\n    </g>\n   </g>\n   <g id=\"text_115\">\n    <!-- 0.3 -->\n    <g style=\"fill:#ffffff;\" transform=\"translate(382.373068 349.80223)scale(0.1 -0.1)\">\n     <use xlink:href=\"#DejaVuSans-48\"/>\n     <use x=\"63.623047\" xlink:href=\"#DejaVuSans-46\"/>\n     <use x=\"95.410156\" xlink:href=\"#DejaVuSans-51\"/>\n    </g>\n   </g>\n   <g id=\"text_116\">\n    <!-- 0.002 -->\n    <g style=\"fill:#ffffff;\" transform=\"translate(424.70875 349.80223)scale(0.1 -0.1)\">\n     <use xlink:href=\"#DejaVuSans-48\"/>\n     <use x=\"63.623047\" xlink:href=\"#DejaVuSans-46\"/>\n     <use x=\"95.410156\" xlink:href=\"#DejaVuSans-48\"/>\n     <use x=\"159.033203\" xlink:href=\"#DejaVuSans-48\"/>\n     <use x=\"222.65625\" xlink:href=\"#DejaVuSans-50\"/>\n    </g>\n   </g>\n   <g id=\"text_117\">\n    <!-- -0.0004 -->\n    <g style=\"fill:#ffffff;\" transform=\"translate(468.421776 349.80223)scale(0.1 -0.1)\">\n     <use xlink:href=\"#DejaVuSans-45\"/>\n     <use x=\"36.083984\" xlink:href=\"#DejaVuSans-48\"/>\n     <use x=\"99.707031\" xlink:href=\"#DejaVuSans-46\"/>\n     <use x=\"131.494141\" xlink:href=\"#DejaVuSans-48\"/>\n     <use x=\"195.117188\" xlink:href=\"#DejaVuSans-48\"/>\n     <use x=\"258.740234\" xlink:href=\"#DejaVuSans-48\"/>\n     <use x=\"322.363281\" xlink:href=\"#DejaVuSans-52\"/>\n    </g>\n   </g>\n   <g id=\"text_118\">\n    <!-- -0.004 -->\n    <g style=\"fill:#ffffff;\" transform=\"translate(520.301207 349.80223)scale(0.1 -0.1)\">\n     <use xlink:href=\"#DejaVuSans-45\"/>\n     <use x=\"36.083984\" xlink:href=\"#DejaVuSans-48\"/>\n     <use x=\"99.707031\" xlink:href=\"#DejaVuSans-46\"/>\n     <use x=\"131.494141\" xlink:href=\"#DejaVuSans-48\"/>\n     <use x=\"195.117188\" xlink:href=\"#DejaVuSans-48\"/>\n     <use x=\"258.740234\" xlink:href=\"#DejaVuSans-52\"/>\n    </g>\n   </g>\n   <g id=\"text_119\">\n    <!-- 1e+00 -->\n    <g style=\"fill:#262626;\" transform=\"translate(568.307202 349.80223)scale(0.1 -0.1)\">\n     <use xlink:href=\"#DejaVuSans-49\"/>\n     <use x=\"63.623047\" xlink:href=\"#DejaVuSans-101\"/>\n     <use x=\"125.146484\" xlink:href=\"#DejaVuSans-43\"/>\n     <use x=\"208.935547\" xlink:href=\"#DejaVuSans-48\"/>\n     <use x=\"272.558594\" xlink:href=\"#DejaVuSans-48\"/>\n    </g>\n   </g>\n   <g id=\"text_120\">\n    <!-- -0.005 -->\n    <g style=\"fill:#ffffff;\" transform=\"translate(617.697571 349.80223)scale(0.1 -0.1)\">\n     <use xlink:href=\"#DejaVuSans-45\"/>\n     <use x=\"36.083984\" xlink:href=\"#DejaVuSans-48\"/>\n     <use x=\"99.707031\" xlink:href=\"#DejaVuSans-46\"/>\n     <use x=\"131.494141\" xlink:href=\"#DejaVuSans-48\"/>\n     <use x=\"195.117188\" xlink:href=\"#DejaVuSans-48\"/>\n     <use x=\"258.740234\" xlink:href=\"#DejaVuSans-53\"/>\n    </g>\n   </g>\n   <g id=\"text_121\">\n    <!-- -0.0005 -->\n    <g style=\"fill:#ffffff;\" transform=\"translate(663.214503 349.80223)scale(0.1 -0.1)\">\n     <use xlink:href=\"#DejaVuSans-45\"/>\n     <use x=\"36.083984\" xlink:href=\"#DejaVuSans-48\"/>\n     <use x=\"99.707031\" xlink:href=\"#DejaVuSans-46\"/>\n     <use x=\"131.494141\" xlink:href=\"#DejaVuSans-48\"/>\n     <use x=\"195.117188\" xlink:href=\"#DejaVuSans-48\"/>\n     <use x=\"258.740234\" xlink:href=\"#DejaVuSans-48\"/>\n     <use x=\"322.363281\" xlink:href=\"#DejaVuSans-53\"/>\n    </g>\n   </g>\n   <g id=\"text_122\">\n    <!-- 0.04 -->\n    <g style=\"fill:#ffffff;\" transform=\"translate(184.399091 389.336776)scale(0.1 -0.1)\">\n     <use xlink:href=\"#DejaVuSans-48\"/>\n     <use x=\"63.623047\" xlink:href=\"#DejaVuSans-46\"/>\n     <use x=\"95.410156\" xlink:href=\"#DejaVuSans-48\"/>\n     <use x=\"159.033203\" xlink:href=\"#DejaVuSans-52\"/>\n    </g>\n   </g>\n   <g id=\"text_123\">\n    <!-- 0.002 -->\n    <g style=\"fill:#ffffff;\" transform=\"translate(229.916023 389.336776)scale(0.1 -0.1)\">\n     <use xlink:href=\"#DejaVuSans-48\"/>\n     <use x=\"63.623047\" xlink:href=\"#DejaVuSans-46\"/>\n     <use x=\"95.410156\" xlink:href=\"#DejaVuSans-48\"/>\n     <use x=\"159.033203\" xlink:href=\"#DejaVuSans-48\"/>\n     <use x=\"222.65625\" xlink:href=\"#DejaVuSans-50\"/>\n    </g>\n   </g>\n   <g id=\"text_124\">\n    <!-- -0.002 -->\n    <g style=\"fill:#ffffff;\" transform=\"translate(276.810298 389.336776)scale(0.1 -0.1)\">\n     <use xlink:href=\"#DejaVuSans-45\"/>\n     <use x=\"36.083984\" xlink:href=\"#DejaVuSans-48\"/>\n     <use x=\"99.707031\" xlink:href=\"#DejaVuSans-46\"/>\n     <use x=\"131.494141\" xlink:href=\"#DejaVuSans-48\"/>\n     <use x=\"195.117188\" xlink:href=\"#DejaVuSans-48\"/>\n     <use x=\"258.740234\" xlink:href=\"#DejaVuSans-50\"/>\n    </g>\n   </g>\n   <g id=\"text_125\">\n    <!-- 0.9 -->\n    <g style=\"fill:#262626;\" transform=\"translate(333.674886 389.336776)scale(0.1 -0.1)\">\n     <use xlink:href=\"#DejaVuSans-48\"/>\n     <use x=\"63.623047\" xlink:href=\"#DejaVuSans-46\"/>\n     <use x=\"95.410156\" xlink:href=\"#DejaVuSans-57\"/>\n    </g>\n   </g>\n   <g id=\"text_126\">\n    <!-- 0.02 -->\n    <g style=\"fill:#ffffff;\" transform=\"translate(379.191818 389.336776)scale(0.1 -0.1)\">\n     <use xlink:href=\"#DejaVuSans-48\"/>\n     <use x=\"63.623047\" xlink:href=\"#DejaVuSans-46\"/>\n     <use x=\"95.410156\" xlink:href=\"#DejaVuSans-48\"/>\n     <use x=\"159.033203\" xlink:href=\"#DejaVuSans-50\"/>\n    </g>\n   </g>\n   <g id=\"text_127\">\n    <!-- -0.07 -->\n    <g style=\"fill:#ffffff;\" transform=\"translate(426.086094 389.336776)scale(0.1 -0.1)\">\n     <use xlink:href=\"#DejaVuSans-45\"/>\n     <use x=\"36.083984\" xlink:href=\"#DejaVuSans-48\"/>\n     <use x=\"99.707031\" xlink:href=\"#DejaVuSans-46\"/>\n     <use x=\"131.494141\" xlink:href=\"#DejaVuSans-48\"/>\n     <use x=\"195.117188\" xlink:href=\"#DejaVuSans-55\"/>\n    </g>\n   </g>\n   <g id=\"text_128\">\n    <!-- -0.003 -->\n    <g style=\"fill:#ffffff;\" transform=\"translate(471.603026 389.336776)scale(0.1 -0.1)\">\n     <use xlink:href=\"#DejaVuSans-45\"/>\n     <use x=\"36.083984\" xlink:href=\"#DejaVuSans-48\"/>\n     <use x=\"99.707031\" xlink:href=\"#DejaVuSans-46\"/>\n     <use x=\"131.494141\" xlink:href=\"#DejaVuSans-48\"/>\n     <use x=\"195.117188\" xlink:href=\"#DejaVuSans-48\"/>\n     <use x=\"258.740234\" xlink:href=\"#DejaVuSans-51\"/>\n    </g>\n   </g>\n   <g id=\"text_129\">\n    <!-- -0.08 -->\n    <g style=\"fill:#ffffff;\" transform=\"translate(523.482457 389.336776)scale(0.1 -0.1)\">\n     <use xlink:href=\"#DejaVuSans-45\"/>\n     <use x=\"36.083984\" xlink:href=\"#DejaVuSans-48\"/>\n     <use x=\"99.707031\" xlink:href=\"#DejaVuSans-46\"/>\n     <use x=\"131.494141\" xlink:href=\"#DejaVuSans-48\"/>\n     <use x=\"195.117188\" xlink:href=\"#DejaVuSans-56\"/>\n    </g>\n   </g>\n   <g id=\"text_130\">\n    <!-- -0.005 -->\n    <g style=\"fill:#ffffff;\" transform=\"translate(568.999389 389.336776)scale(0.1 -0.1)\">\n     <use xlink:href=\"#DejaVuSans-45\"/>\n     <use x=\"36.083984\" xlink:href=\"#DejaVuSans-48\"/>\n     <use x=\"99.707031\" xlink:href=\"#DejaVuSans-46\"/>\n     <use x=\"131.494141\" xlink:href=\"#DejaVuSans-48\"/>\n     <use x=\"195.117188\" xlink:href=\"#DejaVuSans-48\"/>\n     <use x=\"258.740234\" xlink:href=\"#DejaVuSans-53\"/>\n    </g>\n   </g>\n   <g id=\"text_131\">\n    <!-- 1e+00 -->\n    <g style=\"fill:#262626;\" transform=\"translate(617.005384 389.336776)scale(0.1 -0.1)\">\n     <use xlink:href=\"#DejaVuSans-49\"/>\n     <use x=\"63.623047\" xlink:href=\"#DejaVuSans-101\"/>\n     <use x=\"125.146484\" xlink:href=\"#DejaVuSans-43\"/>\n     <use x=\"208.935547\" xlink:href=\"#DejaVuSans-48\"/>\n     <use x=\"272.558594\" xlink:href=\"#DejaVuSans-48\"/>\n    </g>\n   </g>\n   <g id=\"text_132\">\n    <!-- 0.03 -->\n    <g style=\"fill:#ffffff;\" transform=\"translate(671.380909 389.336776)scale(0.1 -0.1)\">\n     <use xlink:href=\"#DejaVuSans-48\"/>\n     <use x=\"63.623047\" xlink:href=\"#DejaVuSans-46\"/>\n     <use x=\"95.410156\" xlink:href=\"#DejaVuSans-48\"/>\n     <use x=\"159.033203\" xlink:href=\"#DejaVuSans-51\"/>\n    </g>\n   </g>\n   <g id=\"text_133\">\n    <!-- 0.004 -->\n    <g style=\"fill:#ffffff;\" transform=\"translate(181.217841 428.871321)scale(0.1 -0.1)\">\n     <use xlink:href=\"#DejaVuSans-48\"/>\n     <use x=\"63.623047\" xlink:href=\"#DejaVuSans-46\"/>\n     <use x=\"95.410156\" xlink:href=\"#DejaVuSans-48\"/>\n     <use x=\"159.033203\" xlink:href=\"#DejaVuSans-48\"/>\n     <use x=\"222.65625\" xlink:href=\"#DejaVuSans-52\"/>\n    </g>\n   </g>\n   <g id=\"text_134\">\n    <!-- 0.001 -->\n    <g style=\"fill:#ffffff;\" transform=\"translate(229.916023 428.871321)scale(0.1 -0.1)\">\n     <use xlink:href=\"#DejaVuSans-48\"/>\n     <use x=\"63.623047\" xlink:href=\"#DejaVuSans-46\"/>\n     <use x=\"95.410156\" xlink:href=\"#DejaVuSans-48\"/>\n     <use x=\"159.033203\" xlink:href=\"#DejaVuSans-48\"/>\n     <use x=\"222.65625\" xlink:href=\"#DejaVuSans-49\"/>\n    </g>\n   </g>\n   <g id=\"text_135\">\n    <!-- -0.0009 -->\n    <g style=\"fill:#ffffff;\" transform=\"translate(273.629048 428.871321)scale(0.1 -0.1)\">\n     <use xlink:href=\"#DejaVuSans-45\"/>\n     <use x=\"36.083984\" xlink:href=\"#DejaVuSans-48\"/>\n     <use x=\"99.707031\" xlink:href=\"#DejaVuSans-46\"/>\n     <use x=\"131.494141\" xlink:href=\"#DejaVuSans-48\"/>\n     <use x=\"195.117188\" xlink:href=\"#DejaVuSans-48\"/>\n     <use x=\"258.740234\" xlink:href=\"#DejaVuSans-48\"/>\n     <use x=\"322.363281\" xlink:href=\"#DejaVuSans-57\"/>\n    </g>\n   </g>\n   <g id=\"text_136\">\n    <!-- 0.03 -->\n    <g style=\"fill:#ffffff;\" transform=\"translate(330.493636 428.871321)scale(0.1 -0.1)\">\n     <use xlink:href=\"#DejaVuSans-48\"/>\n     <use x=\"63.623047\" xlink:href=\"#DejaVuSans-46\"/>\n     <use x=\"95.410156\" xlink:href=\"#DejaVuSans-48\"/>\n     <use x=\"159.033203\" xlink:href=\"#DejaVuSans-51\"/>\n    </g>\n   </g>\n   <g id=\"text_137\">\n    <!-- 0.8 -->\n    <g style=\"fill:#262626;\" transform=\"translate(382.373068 428.871321)scale(0.1 -0.1)\">\n     <use xlink:href=\"#DejaVuSans-48\"/>\n     <use x=\"63.623047\" xlink:href=\"#DejaVuSans-46\"/>\n     <use x=\"95.410156\" xlink:href=\"#DejaVuSans-56\"/>\n    </g>\n   </g>\n   <g id=\"text_138\">\n    <!-- -0.004 -->\n    <g style=\"fill:#ffffff;\" transform=\"translate(422.904844 428.871321)scale(0.1 -0.1)\">\n     <use xlink:href=\"#DejaVuSans-45\"/>\n     <use x=\"36.083984\" xlink:href=\"#DejaVuSans-48\"/>\n     <use x=\"99.707031\" xlink:href=\"#DejaVuSans-46\"/>\n     <use x=\"131.494141\" xlink:href=\"#DejaVuSans-48\"/>\n     <use x=\"195.117188\" xlink:href=\"#DejaVuSans-48\"/>\n     <use x=\"258.740234\" xlink:href=\"#DejaVuSans-52\"/>\n    </g>\n   </g>\n   <g id=\"text_139\">\n    <!-- 0.01 -->\n    <g style=\"fill:#ffffff;\" transform=\"translate(476.588182 428.871321)scale(0.1 -0.1)\">\n     <use xlink:href=\"#DejaVuSans-48\"/>\n     <use x=\"63.623047\" xlink:href=\"#DejaVuSans-46\"/>\n     <use x=\"95.410156\" xlink:href=\"#DejaVuSans-48\"/>\n     <use x=\"159.033203\" xlink:href=\"#DejaVuSans-49\"/>\n    </g>\n   </g>\n   <g id=\"text_140\">\n    <!-- -0.007 -->\n    <g style=\"fill:#ffffff;\" transform=\"translate(520.301207 428.871321)scale(0.1 -0.1)\">\n     <use xlink:href=\"#DejaVuSans-45\"/>\n     <use x=\"36.083984\" xlink:href=\"#DejaVuSans-48\"/>\n     <use x=\"99.707031\" xlink:href=\"#DejaVuSans-46\"/>\n     <use x=\"131.494141\" xlink:href=\"#DejaVuSans-48\"/>\n     <use x=\"195.117188\" xlink:href=\"#DejaVuSans-48\"/>\n     <use x=\"258.740234\" xlink:href=\"#DejaVuSans-55\"/>\n    </g>\n   </g>\n   <g id=\"text_141\">\n    <!-- -0.0005 -->\n    <g style=\"fill:#ffffff;\" transform=\"translate(565.818139 428.871321)scale(0.1 -0.1)\">\n     <use xlink:href=\"#DejaVuSans-45\"/>\n     <use x=\"36.083984\" xlink:href=\"#DejaVuSans-48\"/>\n     <use x=\"99.707031\" xlink:href=\"#DejaVuSans-46\"/>\n     <use x=\"131.494141\" xlink:href=\"#DejaVuSans-48\"/>\n     <use x=\"195.117188\" xlink:href=\"#DejaVuSans-48\"/>\n     <use x=\"258.740234\" xlink:href=\"#DejaVuSans-48\"/>\n     <use x=\"322.363281\" xlink:href=\"#DejaVuSans-53\"/>\n    </g>\n   </g>\n   <g id=\"text_142\">\n    <!-- 0.03 -->\n    <g style=\"fill:#ffffff;\" transform=\"translate(622.682727 428.871321)scale(0.1 -0.1)\">\n     <use xlink:href=\"#DejaVuSans-48\"/>\n     <use x=\"63.623047\" xlink:href=\"#DejaVuSans-46\"/>\n     <use x=\"95.410156\" xlink:href=\"#DejaVuSans-48\"/>\n     <use x=\"159.033203\" xlink:href=\"#DejaVuSans-51\"/>\n    </g>\n   </g>\n   <g id=\"text_143\">\n    <!-- 1e+00 -->\n    <g style=\"fill:#262626;\" transform=\"translate(665.703565 428.871321)scale(0.1 -0.1)\">\n     <use xlink:href=\"#DejaVuSans-49\"/>\n     <use x=\"63.623047\" xlink:href=\"#DejaVuSans-101\"/>\n     <use x=\"125.146484\" xlink:href=\"#DejaVuSans-43\"/>\n     <use x=\"208.935547\" xlink:href=\"#DejaVuSans-48\"/>\n     <use x=\"272.558594\" xlink:href=\"#DejaVuSans-48\"/>\n    </g>\n   </g>\n  </g>\n  <g id=\"axes_2\">\n   <g id=\"patch_3\">\n    <path clip-path=\"url(#p2c1b630d4a)\" d=\"M 740.342813 445.879219 \nL 740.342813 444.180469 \nL 740.342813 12.697969 \nL 740.342813 10.999219 \nL 762.086813 10.999219 \nL 762.086813 12.697969 \nL 762.086813 444.180469 \nL 762.086813 445.879219 \nz\n\" style=\"fill:#ffffff;stroke:#ffffff;stroke-linejoin:miter;stroke-width:0.01;\"/>\n   </g>\n   <image height=\"435\" id=\"imagec5c170a7bb\" transform=\"scale(1 -1)translate(0 -435)\" width=\"22\" x=\"740\" xlink:href=\"data:image/png;base64,\niVBORw0KGgoAAAANSUhEUgAAABYAAAGzCAYAAAArEufSAAACPElEQVR4nO2cyY3EMBADJY82ic0/z5mHJdoJ8FFAVQCNBklR9h6en7//7yiwZmPqGOMqzR1rzs7OvI3XHEpx09v4wm3cSgVRCtzGV8s8oBS4jWtF30oFTwpebfIOCNA8D0gGE6XozOZ1BfHOw8VNjTNYKQ68uBGlwG3sLX0APhR6QDKYZx7vgPTMq4wl3nm8rgDm2K44IOPWwbiFZtHzpOhANA+Y4w682gTGTfMOQPN8oj/w2g2Z4w52RejFjfhy0wFY9J68A/DkmeOD5gXNC8h2Kw0Gmlf5hwJi3JBd0YHXbpoX7IrQLPoOxi3U4mZXBN7Ga+JKSPMOdkXQvKB5YV2jowXQPF6OgXH74uLWGgw0z644gydPitJg3saaF5pXE0/jzsbrKjW95oViV5Re/5t/MkXbuPdDU54UuI2JGtcG06TQvNdgmhRA80rvY7VU8KTwagq1A7JKH47RvAe7IhC7QvM2SPNag4El1Bls3EIvbsO4bXgbA6VojQaapxQH4xbWLP0iRCkCL25r4KTQvNdgmhRE89x4D+Z960bzXoM7S/Ok4LUbUIqB+7o7UONa0dsVG94BIUph3DLY2tw0b2k1PoON24bXbmsAX8d4cfOWvkF2BW3j3guk5m14G1v0gdduRCl4G3tA2oN5J49onlJseHEjSsHb2AOSwUqx4cUNKMWcn8pgXtyA5tkVz2CgFLiTB9TYuN1Y9K/BOPO8mp7B1ubGuIU1faLfIOPWOdJIKWgbe/IOyLjBLtMfX28vJSh3DxEAAAAASUVORK5CYII=\" y=\"-11\"/>\n   <g id=\"matplotlib.axis_3\"/>\n   <g id=\"matplotlib.axis_4\">\n    <g id=\"ytick_12\">\n     <g id=\"line2d_23\">\n      <defs>\n       <path d=\"M 0 0 \nL 3.5 0 \n\" id=\"m2e41e579c7\" style=\"stroke:#000000;stroke-width:0.8;\"/>\n      </defs>\n      <g>\n       <use style=\"stroke:#000000;stroke-width:0.8;\" x=\"762.086813\" xlink:href=\"#m2e41e579c7\" y=\"398.3063\"/>\n      </g>\n     </g>\n     <g id=\"text_144\">\n      <!-- −0.75 -->\n      <g transform=\"translate(769.086813 402.105519)scale(0.1 -0.1)\">\n       <defs>\n        <path d=\"M 10.59375 35.5 \nL 73.1875 35.5 \nL 73.1875 27.203125 \nL 10.59375 27.203125 \nz\n\" id=\"DejaVuSans-8722\"/>\n       </defs>\n       <use xlink:href=\"#DejaVuSans-8722\"/>\n       <use x=\"83.789062\" xlink:href=\"#DejaVuSans-48\"/>\n       <use x=\"147.412109\" xlink:href=\"#DejaVuSans-46\"/>\n       <use x=\"179.199219\" xlink:href=\"#DejaVuSans-55\"/>\n       <use x=\"242.822266\" xlink:href=\"#DejaVuSans-53\"/>\n      </g>\n     </g>\n    </g>\n    <g id=\"ytick_13\">\n     <g id=\"line2d_24\">\n      <g>\n       <use style=\"stroke:#000000;stroke-width:0.8;\" x=\"762.086813\" xlink:href=\"#m2e41e579c7\" y=\"342.976717\"/>\n      </g>\n     </g>\n     <g id=\"text_145\">\n      <!-- −0.50 -->\n      <g transform=\"translate(769.086813 346.775936)scale(0.1 -0.1)\">\n       <use xlink:href=\"#DejaVuSans-8722\"/>\n       <use x=\"83.789062\" xlink:href=\"#DejaVuSans-48\"/>\n       <use x=\"147.412109\" xlink:href=\"#DejaVuSans-46\"/>\n       <use x=\"179.199219\" xlink:href=\"#DejaVuSans-53\"/>\n       <use x=\"242.822266\" xlink:href=\"#DejaVuSans-48\"/>\n      </g>\n     </g>\n    </g>\n    <g id=\"ytick_14\">\n     <g id=\"line2d_25\">\n      <g>\n       <use style=\"stroke:#000000;stroke-width:0.8;\" x=\"762.086813\" xlink:href=\"#m2e41e579c7\" y=\"287.647134\"/>\n      </g>\n     </g>\n     <g id=\"text_146\">\n      <!-- −0.25 -->\n      <g transform=\"translate(769.086813 291.446353)scale(0.1 -0.1)\">\n       <use xlink:href=\"#DejaVuSans-8722\"/>\n       <use x=\"83.789062\" xlink:href=\"#DejaVuSans-48\"/>\n       <use x=\"147.412109\" xlink:href=\"#DejaVuSans-46\"/>\n       <use x=\"179.199219\" xlink:href=\"#DejaVuSans-50\"/>\n       <use x=\"242.822266\" xlink:href=\"#DejaVuSans-53\"/>\n      </g>\n     </g>\n    </g>\n    <g id=\"ytick_15\">\n     <g id=\"line2d_26\">\n      <g>\n       <use style=\"stroke:#000000;stroke-width:0.8;\" x=\"762.086813\" xlink:href=\"#m2e41e579c7\" y=\"232.317551\"/>\n      </g>\n     </g>\n     <g id=\"text_147\">\n      <!-- 0.00 -->\n      <g transform=\"translate(769.086813 236.11677)scale(0.1 -0.1)\">\n       <use xlink:href=\"#DejaVuSans-48\"/>\n       <use x=\"63.623047\" xlink:href=\"#DejaVuSans-46\"/>\n       <use x=\"95.410156\" xlink:href=\"#DejaVuSans-48\"/>\n       <use x=\"159.033203\" xlink:href=\"#DejaVuSans-48\"/>\n      </g>\n     </g>\n    </g>\n    <g id=\"ytick_16\">\n     <g id=\"line2d_27\">\n      <g>\n       <use style=\"stroke:#000000;stroke-width:0.8;\" x=\"762.086813\" xlink:href=\"#m2e41e579c7\" y=\"176.987968\"/>\n      </g>\n     </g>\n     <g id=\"text_148\">\n      <!-- 0.25 -->\n      <g transform=\"translate(769.086813 180.787187)scale(0.1 -0.1)\">\n       <use xlink:href=\"#DejaVuSans-48\"/>\n       <use x=\"63.623047\" xlink:href=\"#DejaVuSans-46\"/>\n       <use x=\"95.410156\" xlink:href=\"#DejaVuSans-50\"/>\n       <use x=\"159.033203\" xlink:href=\"#DejaVuSans-53\"/>\n      </g>\n     </g>\n    </g>\n    <g id=\"ytick_17\">\n     <g id=\"line2d_28\">\n      <g>\n       <use style=\"stroke:#000000;stroke-width:0.8;\" x=\"762.086813\" xlink:href=\"#m2e41e579c7\" y=\"121.658385\"/>\n      </g>\n     </g>\n     <g id=\"text_149\">\n      <!-- 0.50 -->\n      <g transform=\"translate(769.086813 125.457604)scale(0.1 -0.1)\">\n       <use xlink:href=\"#DejaVuSans-48\"/>\n       <use x=\"63.623047\" xlink:href=\"#DejaVuSans-46\"/>\n       <use x=\"95.410156\" xlink:href=\"#DejaVuSans-53\"/>\n       <use x=\"159.033203\" xlink:href=\"#DejaVuSans-48\"/>\n      </g>\n     </g>\n    </g>\n    <g id=\"ytick_18\">\n     <g id=\"line2d_29\">\n      <g>\n       <use style=\"stroke:#000000;stroke-width:0.8;\" x=\"762.086813\" xlink:href=\"#m2e41e579c7\" y=\"66.328802\"/>\n      </g>\n     </g>\n     <g id=\"text_150\">\n      <!-- 0.75 -->\n      <g transform=\"translate(769.086813 70.128021)scale(0.1 -0.1)\">\n       <use xlink:href=\"#DejaVuSans-48\"/>\n       <use x=\"63.623047\" xlink:href=\"#DejaVuSans-46\"/>\n       <use x=\"95.410156\" xlink:href=\"#DejaVuSans-55\"/>\n       <use x=\"159.033203\" xlink:href=\"#DejaVuSans-53\"/>\n      </g>\n     </g>\n    </g>\n    <g id=\"ytick_19\">\n     <g id=\"line2d_30\">\n      <g>\n       <use style=\"stroke:#000000;stroke-width:0.8;\" x=\"762.086813\" xlink:href=\"#m2e41e579c7\" y=\"10.999219\"/>\n      </g>\n     </g>\n     <g id=\"text_151\">\n      <!-- 1.00 -->\n      <g transform=\"translate(769.086813 14.798437)scale(0.1 -0.1)\">\n       <use xlink:href=\"#DejaVuSans-49\"/>\n       <use x=\"63.623047\" xlink:href=\"#DejaVuSans-46\"/>\n       <use x=\"95.410156\" xlink:href=\"#DejaVuSans-48\"/>\n       <use x=\"159.033203\" xlink:href=\"#DejaVuSans-48\"/>\n      </g>\n     </g>\n    </g>\n   </g>\n   <g id=\"patch_4\">\n    <path d=\"M 740.342813 445.879219 \nL 740.342813 444.180469 \nL 740.342813 12.697969 \nL 740.342813 10.999219 \nL 762.086813 10.999219 \nL 762.086813 12.697969 \nL 762.086813 444.180469 \nL 762.086813 445.879219 \nz\n\" style=\"fill:none;\"/>\n   </g>\n  </g>\n </g>\n <defs>\n  <clipPath id=\"pe3c582c576\">\n   <rect height=\"434.88\" width=\"535.68\" x=\"171.182813\" y=\"10.999219\"/>\n  </clipPath>\n  <clipPath id=\"p2c1b630d4a\">\n   <rect height=\"434.88\" width=\"21.744\" x=\"740.342813\" y=\"10.999219\"/>\n  </clipPath>\n </defs>\n</svg>\n",
      "image/png": "[encoded data removed]"
     },
     "metadata": {
      "needs_background": "light"
     }
    }
   ],
   "source": [
    "df1 = df.corr()\n",
    "fig_dims = (12, 8)\n",
    "fig, ax = plt.subplots(figsize=fig_dims)\n",
    "sns.heatmap(df1, annot=True, fmt='.1', ax = ax)\n",
    "plt.show()"
   ]
  },
  {
   "cell_type": "code",
   "execution_count": 26,
   "metadata": {},
   "outputs": [
    {
     "output_type": "execute_result",
     "data": {
      "text/plain": [
       "crash_date                        0.000\n",
       "crash_time                        0.000\n",
       "borough                          35.026\n",
       "zip_code                         35.034\n",
       "latitude                          8.035\n",
       "longitude                         8.035\n",
       "location                          8.035\n",
       "on_street_name                   26.009\n",
       "off_street_name                  52.875\n",
       "cross_street_name                74.033\n",
       "number_of_persons_injured         0.000\n",
       "number_of_persons_killed          0.000\n",
       "number_of_pedestrians_injured     0.000\n",
       "number_of_pedestrians_killed      0.000\n",
       "number_of_cyclist_injured         0.000\n",
       "number_of_cyclist_killed          0.000\n",
       "number_of_motorist_injured        0.000\n",
       "number_of_motorist_killed         0.000\n",
       "contributing_factor_vehicle_1     0.371\n",
       "contributing_factor_vehicle_2    19.243\n",
       "contributing_factor_vehicle_3    91.239\n",
       "contributing_factor_vehicle_4    97.760\n",
       "contributing_factor_vehicle_5    99.333\n",
       "vehicle_type_code1                0.740\n",
       "vehicle_type_code2               26.589\n",
       "vehicle_type_code_3              91.671\n",
       "vehicle_type_code_4              97.853\n",
       "vehicle_type_code_5              99.354\n",
       "dtype: float64"
      ]
     },
     "metadata": {},
     "execution_count": 26
    }
   ],
   "source": [
    "#checking the percentage of missing values for each column\n",
    "df.isna().sum() / len(df) * 100"
   ]
  },
  {
   "cell_type": "code",
   "execution_count": 27,
   "metadata": {},
   "outputs": [
    {
     "output_type": "execute_result",
     "data": {
      "text/plain": [
       "crash_date                           0\n",
       "crash_time                           0\n",
       "borough                          35026\n",
       "zip_code                         35034\n",
       "latitude                          8035\n",
       "longitude                         8035\n",
       "location                          8035\n",
       "on_street_name                   26009\n",
       "off_street_name                  52875\n",
       "cross_street_name                74033\n",
       "number_of_persons_injured            0\n",
       "number_of_persons_killed             0\n",
       "number_of_pedestrians_injured        0\n",
       "number_of_pedestrians_killed         0\n",
       "number_of_cyclist_injured            0\n",
       "number_of_cyclist_killed             0\n",
       "number_of_motorist_injured           0\n",
       "number_of_motorist_killed            0\n",
       "contributing_factor_vehicle_1      371\n",
       "contributing_factor_vehicle_2    19243\n",
       "contributing_factor_vehicle_3    91239\n",
       "contributing_factor_vehicle_4    97760\n",
       "contributing_factor_vehicle_5    99333\n",
       "vehicle_type_code1                 740\n",
       "vehicle_type_code2               26589\n",
       "vehicle_type_code_3              91671\n",
       "vehicle_type_code_4              97853\n",
       "vehicle_type_code_5              99354\n",
       "dtype: int64"
      ]
     },
     "metadata": {},
     "execution_count": 27
    }
   ],
   "source": [
    "#null columns before drop\n",
    "df.isnull().sum()"
   ]
  },
  {
   "cell_type": "code",
   "execution_count": 28,
   "metadata": {},
   "outputs": [],
   "source": [
    "#dropping columns that have more than 75000 null in it\n",
    "df.drop(df.columns[df.apply(lambda col: col.isnull().sum()) > 75000], axis= 1, inplace= True)"
   ]
  },
  {
   "cell_type": "code",
   "execution_count": 29,
   "metadata": {},
   "outputs": [
    {
     "output_type": "execute_result",
     "data": {
      "text/plain": [
       "crash_date                           0\n",
       "crash_time                           0\n",
       "borough                          35026\n",
       "zip_code                         35034\n",
       "latitude                          8035\n",
       "longitude                         8035\n",
       "location                          8035\n",
       "on_street_name                   26009\n",
       "off_street_name                  52875\n",
       "cross_street_name                74033\n",
       "number_of_persons_injured            0\n",
       "number_of_persons_killed             0\n",
       "number_of_pedestrians_injured        0\n",
       "number_of_pedestrians_killed         0\n",
       "number_of_cyclist_injured            0\n",
       "number_of_cyclist_killed             0\n",
       "number_of_motorist_injured           0\n",
       "number_of_motorist_killed            0\n",
       "contributing_factor_vehicle_1      371\n",
       "contributing_factor_vehicle_2    19243\n",
       "vehicle_type_code1                 740\n",
       "vehicle_type_code2               26589\n",
       "dtype: int64"
      ]
     },
     "metadata": {},
     "execution_count": 29
    }
   ],
   "source": [
    "#check columns after drop\n",
    "df.isnull().sum()"
   ]
  },
  {
   "cell_type": "code",
   "execution_count": 30,
   "metadata": {},
   "outputs": [
    {
     "output_type": "execute_result",
     "data": {
      "text/plain": [
       "crash_date                        object\n",
       "crash_time                        object\n",
       "borough                           object\n",
       "zip_code                         float64\n",
       "latitude                         float64\n",
       "longitude                        float64\n",
       "location                          object\n",
       "on_street_name                    object\n",
       "off_street_name                   object\n",
       "cross_street_name                 object\n",
       "number_of_persons_injured          int64\n",
       "number_of_persons_killed           int64\n",
       "number_of_pedestrians_injured      int64\n",
       "number_of_pedestrians_killed       int64\n",
       "number_of_cyclist_injured          int64\n",
       "number_of_cyclist_killed           int64\n",
       "number_of_motorist_injured         int64\n",
       "number_of_motorist_killed          int64\n",
       "contributing_factor_vehicle_1     object\n",
       "contributing_factor_vehicle_2     object\n",
       "vehicle_type_code1                object\n",
       "vehicle_type_code2                object\n",
       "dtype: object"
      ]
     },
     "metadata": {},
     "execution_count": 30
    }
   ],
   "source": [
    "df.dtypes"
   ]
  },
  {
   "cell_type": "code",
   "execution_count": 31,
   "metadata": {},
   "outputs": [
    {
     "output_type": "execute_result",
     "data": {
      "text/plain": [
       "crash_date                           0\n",
       "crash_time                           0\n",
       "borough                          35026\n",
       "zip_code                         35034\n",
       "latitude                          8035\n",
       "longitude                         8035\n",
       "location                          8035\n",
       "on_street_name                   26009\n",
       "off_street_name                  52875\n",
       "cross_street_name                74033\n",
       "number_of_persons_injured            0\n",
       "number_of_persons_killed             0\n",
       "number_of_pedestrians_injured        0\n",
       "number_of_pedestrians_killed         0\n",
       "number_of_cyclist_injured            0\n",
       "number_of_cyclist_killed             0\n",
       "number_of_motorist_injured           0\n",
       "number_of_motorist_killed            0\n",
       "contributing_factor_vehicle_1      371\n",
       "contributing_factor_vehicle_2    19243\n",
       "vehicle_type_code1                 740\n",
       "vehicle_type_code2               26589\n",
       "dtype: int64"
      ]
     },
     "metadata": {},
     "execution_count": 31
    }
   ],
   "source": [
    "df.isnull().sum()"
   ]
  },
  {
   "cell_type": "code",
   "execution_count": 32,
   "metadata": {},
   "outputs": [
    {
     "output_type": "execute_result",
     "data": {
      "text/plain": [
       "              crash_date crash_time   borough  zip_code   latitude  longitude  \\\n",
       "collision_id                                                                    \n",
       "4197657       2019-08-31      21:05    QUEENS   11411.0  40.690914 -73.728190   \n",
       "4315707       2020-05-24      20:00  BROOKLYN   11212.0  40.663690 -73.924805   \n",
       "4189208       2019-08-11      13:32       NaN       NaN  40.668648 -73.928350   \n",
       "4332478       2020-07-22      16:30       NaN       NaN  40.747150 -73.985504   \n",
       "4202145       2019-09-06      11:53     BRONX   10469.0  40.875990 -73.846890   \n",
       "\n",
       "                            location                    on_street_name  \\\n",
       "collision_id                                                             \n",
       "4197657       (40.690914, -73.72819)  234 STREET                         \n",
       "4315707       (40.66369, -73.924805)                               NaN   \n",
       "4189208       (40.668648, -73.92835)  EASTERN PARKWAY                    \n",
       "4332478       (40.74715, -73.985504)  5 AVENUE                           \n",
       "4202145        (40.87599, -73.84689)                               NaN   \n",
       "\n",
       "               off_street_name                         cross_street_name  \\\n",
       "collision_id                                                               \n",
       "4197657       LINDEN BOULEVARD                                       NaN   \n",
       "4315707                    NaN  1060      RUTLAND ROAD                     \n",
       "4189208                    NaN                                       NaN   \n",
       "4332478                    NaN                                       NaN   \n",
       "4202145                    NaN  3374      CORSA AVENUE                     \n",
       "\n",
       "              number_of_persons_injured  number_of_persons_killed  \\\n",
       "collision_id                                                        \n",
       "4197657                               0                         0   \n",
       "4315707                               0                         0   \n",
       "4189208                               1                         0   \n",
       "4332478                               1                         0   \n",
       "4202145                               0                         0   \n",
       "\n",
       "              number_of_pedestrians_injured  number_of_pedestrians_killed  \\\n",
       "collision_id                                                                \n",
       "4197657                                   0                             0   \n",
       "4315707                                   0                             0   \n",
       "4189208                                   0                             0   \n",
       "4332478                                   0                             0   \n",
       "4202145                                   0                             0   \n",
       "\n",
       "              number_of_cyclist_injured  number_of_cyclist_killed  \\\n",
       "collision_id                                                        \n",
       "4197657                               0                         0   \n",
       "4315707                               0                         0   \n",
       "4189208                               0                         0   \n",
       "4332478                               1                         0   \n",
       "4202145                               0                         0   \n",
       "\n",
       "              number_of_motorist_injured  number_of_motorist_killed  \\\n",
       "collision_id                                                          \n",
       "4197657                                0                          0   \n",
       "4315707                                0                          0   \n",
       "4189208                                1                          0   \n",
       "4332478                                0                          0   \n",
       "4202145                                0                          0   \n",
       "\n",
       "               contributing_factor_vehicle_1   contributing_factor_vehicle_2  \\\n",
       "collision_id                                                                   \n",
       "4197657       Driver Inattention/Distraction                     Unspecified   \n",
       "4315707                      Other Vehicular                     Unspecified   \n",
       "4189208                          Unspecified                     Unspecified   \n",
       "4332478       Driver Inattention/Distraction  Driver Inattention/Distraction   \n",
       "4202145                          Unspecified                             NaN   \n",
       "\n",
       "                               vehicle_type_code1  \\\n",
       "collision_id                                        \n",
       "4197657       Station Wagon/Sport Utility Vehicle   \n",
       "4315707                                     Sedan   \n",
       "4189208                                     Sedan   \n",
       "4332478                                     Sedan   \n",
       "4202145       Station Wagon/Sport Utility Vehicle   \n",
       "\n",
       "                               vehicle_type_code2  \n",
       "collision_id                                       \n",
       "4197657       Station Wagon/Sport Utility Vehicle  \n",
       "4315707       Station Wagon/Sport Utility Vehicle  \n",
       "4189208                                     Sedan  \n",
       "4332478                                      Bike  \n",
       "4202145                                       NaN  "
      ],
      "text/html": "<div>\n<style scoped>\n    .dataframe tbody tr th:only-of-type {\n        vertical-align: middle;\n    }\n\n    .dataframe tbody tr th {\n        vertical-align: top;\n    }\n\n    .dataframe thead th {\n        text-align: right;\n    }\n</style>\n<table border=\"1\" class=\"dataframe\">\n  <thead>\n    <tr style=\"text-align: right;\">\n      <th></th>\n      <th>crash_date</th>\n      <th>crash_time</th>\n      <th>borough</th>\n      <th>zip_code</th>\n      <th>latitude</th>\n      <th>longitude</th>\n      <th>location</th>\n      <th>on_street_name</th>\n      <th>off_street_name</th>\n      <th>cross_street_name</th>\n      <th>number_of_persons_injured</th>\n      <th>number_of_persons_killed</th>\n      <th>number_of_pedestrians_injured</th>\n      <th>number_of_pedestrians_killed</th>\n      <th>number_of_cyclist_injured</th>\n      <th>number_of_cyclist_killed</th>\n      <th>number_of_motorist_injured</th>\n      <th>number_of_motorist_killed</th>\n      <th>contributing_factor_vehicle_1</th>\n      <th>contributing_factor_vehicle_2</th>\n      <th>vehicle_type_code1</th>\n      <th>vehicle_type_code2</th>\n    </tr>\n    <tr>\n      <th>collision_id</th>\n      <th></th>\n      <th></th>\n      <th></th>\n      <th></th>\n      <th></th>\n      <th></th>\n      <th></th>\n      <th></th>\n      <th></th>\n      <th></th>\n      <th></th>\n      <th></th>\n      <th></th>\n      <th></th>\n      <th></th>\n      <th></th>\n      <th></th>\n      <th></th>\n      <th></th>\n      <th></th>\n      <th></th>\n      <th></th>\n    </tr>\n  </thead>\n  <tbody>\n    <tr>\n      <th>4197657</th>\n      <td>2019-08-31</td>\n      <td>21:05</td>\n      <td>QUEENS</td>\n      <td>11411.0</td>\n      <td>40.690914</td>\n      <td>-73.728190</td>\n      <td>(40.690914, -73.72819)</td>\n      <td>234 STREET</td>\n      <td>LINDEN BOULEVARD</td>\n      <td>NaN</td>\n      <td>0</td>\n      <td>0</td>\n      <td>0</td>\n      <td>0</td>\n      <td>0</td>\n      <td>0</td>\n      <td>0</td>\n      <td>0</td>\n      <td>Driver Inattention/Distraction</td>\n      <td>Unspecified</td>\n      <td>Station Wagon/Sport Utility Vehicle</td>\n      <td>Station Wagon/Sport Utility Vehicle</td>\n    </tr>\n    <tr>\n      <th>4315707</th>\n      <td>2020-05-24</td>\n      <td>20:00</td>\n      <td>BROOKLYN</td>\n      <td>11212.0</td>\n      <td>40.663690</td>\n      <td>-73.924805</td>\n      <td>(40.66369, -73.924805)</td>\n      <td>NaN</td>\n      <td>NaN</td>\n      <td>1060      RUTLAND ROAD</td>\n      <td>0</td>\n      <td>0</td>\n      <td>0</td>\n      <td>0</td>\n      <td>0</td>\n      <td>0</td>\n      <td>0</td>\n      <td>0</td>\n      <td>Other Vehicular</td>\n      <td>Unspecified</td>\n      <td>Sedan</td>\n      <td>Station Wagon/Sport Utility Vehicle</td>\n    </tr>\n    <tr>\n      <th>4189208</th>\n      <td>2019-08-11</td>\n      <td>13:32</td>\n      <td>NaN</td>\n      <td>NaN</td>\n      <td>40.668648</td>\n      <td>-73.928350</td>\n      <td>(40.668648, -73.92835)</td>\n      <td>EASTERN PARKWAY</td>\n      <td>NaN</td>\n      <td>NaN</td>\n      <td>1</td>\n      <td>0</td>\n      <td>0</td>\n      <td>0</td>\n      <td>0</td>\n      <td>0</td>\n      <td>1</td>\n      <td>0</td>\n      <td>Unspecified</td>\n      <td>Unspecified</td>\n      <td>Sedan</td>\n      <td>Sedan</td>\n    </tr>\n    <tr>\n      <th>4332478</th>\n      <td>2020-07-22</td>\n      <td>16:30</td>\n      <td>NaN</td>\n      <td>NaN</td>\n      <td>40.747150</td>\n      <td>-73.985504</td>\n      <td>(40.74715, -73.985504)</td>\n      <td>5 AVENUE</td>\n      <td>NaN</td>\n      <td>NaN</td>\n      <td>1</td>\n      <td>0</td>\n      <td>0</td>\n      <td>0</td>\n      <td>1</td>\n      <td>0</td>\n      <td>0</td>\n      <td>0</td>\n      <td>Driver Inattention/Distraction</td>\n      <td>Driver Inattention/Distraction</td>\n      <td>Sedan</td>\n      <td>Bike</td>\n    </tr>\n    <tr>\n      <th>4202145</th>\n      <td>2019-09-06</td>\n      <td>11:53</td>\n      <td>BRONX</td>\n      <td>10469.0</td>\n      <td>40.875990</td>\n      <td>-73.846890</td>\n      <td>(40.87599, -73.84689)</td>\n      <td>NaN</td>\n      <td>NaN</td>\n      <td>3374      CORSA AVENUE</td>\n      <td>0</td>\n      <td>0</td>\n      <td>0</td>\n      <td>0</td>\n      <td>0</td>\n      <td>0</td>\n      <td>0</td>\n      <td>0</td>\n      <td>Unspecified</td>\n      <td>NaN</td>\n      <td>Station Wagon/Sport Utility Vehicle</td>\n      <td>NaN</td>\n    </tr>\n  </tbody>\n</table>\n</div>"
     },
     "metadata": {},
     "execution_count": 32
    }
   ],
   "source": [
    "#splitting 'crash_date and remove times\n",
    "df['crash_date'] = df['crash_date'].astype(str)\n",
    "df['crash_date'] = df['crash_date'].apply(lambda x: str(x)[:10]).astype(object)\n",
    "\n",
    "df.sample(5)"
   ]
  },
  {
   "cell_type": "code",
   "execution_count": 33,
   "metadata": {},
   "outputs": [],
   "source": [
    "#adding columns of day, month and year of crash\n",
    "df['crash_date'] = pd.to_datetime(df.crash_date, format= \"%Y-%m-%d\")"
   ]
  },
  {
   "cell_type": "code",
   "execution_count": 34,
   "metadata": {},
   "outputs": [],
   "source": [
    "df['day_crash'] = df['crash_date'].dt.day_name()\n",
    "df['month_crash'] = df['crash_date'].dt.month\n",
    "df['year_crash'] = df['crash_date'].dt.year"
   ]
  },
  {
   "cell_type": "code",
   "execution_count": 35,
   "metadata": {},
   "outputs": [
    {
     "output_type": "execute_result",
     "data": {
      "text/plain": [
       "             crash_date crash_time        borough  zip_code   latitude  \\\n",
       "collision_id                                                             \n",
       "3654181      2017-04-18      23:10  STATEN ISLAND   10312.0  40.536728   \n",
       "3665311      2017-05-06      13:00          BRONX   10472.0  40.829052   \n",
       "3658491      2017-04-27      17:15         QUEENS   11420.0  40.677303   \n",
       "3666554      2017-05-09      20:10            NaN       NaN  40.624958   \n",
       "3653269      2017-04-18      14:00          BRONX   10456.0  40.828846   \n",
       "\n",
       "              longitude                 location  \\\n",
       "collision_id                                       \n",
       "3654181      -74.193344  (40.536728, -74.193344)   \n",
       "3665311      -73.850380   (40.829052, -73.85038)   \n",
       "3658491      -73.804565  (40.677303, -73.804565)   \n",
       "3666554      -74.145775  (40.624958, -74.145775)   \n",
       "3653269      -73.903120   (40.828846, -73.90312)   \n",
       "\n",
       "                                on_street_name   off_street_name  \\\n",
       "collision_id                                                       \n",
       "3654181                                    NaN               NaN   \n",
       "3665311       CASTLE HILL AVENUE                BLACKROCK AVENUE   \n",
       "3658491       135 STREET                          FOCH BOULEVARD   \n",
       "3666554       FOREST AVENUE                      RICHMOND AVENUE   \n",
       "3653269                                    NaN               NaN   \n",
       "\n",
       "                                     cross_street_name  \\\n",
       "collision_id                                             \n",
       "3654181       243       DARLINGTON AVENUE                \n",
       "3665311                                            NaN   \n",
       "3658491                                            NaN   \n",
       "3666554                                            NaN   \n",
       "3653269       1167      BOSTON ROAD                      \n",
       "\n",
       "              number_of_persons_injured  number_of_persons_killed  \\\n",
       "collision_id                                                        \n",
       "3654181                               0                         0   \n",
       "3665311                               1                         0   \n",
       "3658491                               0                         0   \n",
       "3666554                               1                         0   \n",
       "3653269                               0                         0   \n",
       "\n",
       "              number_of_pedestrians_injured  number_of_pedestrians_killed  \\\n",
       "collision_id                                                                \n",
       "3654181                                   0                             0   \n",
       "3665311                                   1                             0   \n",
       "3658491                                   0                             0   \n",
       "3666554                                   0                             0   \n",
       "3653269                                   0                             0   \n",
       "\n",
       "              number_of_cyclist_injured  number_of_cyclist_killed  \\\n",
       "collision_id                                                        \n",
       "3654181                               0                         0   \n",
       "3665311                               0                         0   \n",
       "3658491                               0                         0   \n",
       "3666554                               0                         0   \n",
       "3653269                               0                         0   \n",
       "\n",
       "              number_of_motorist_injured  number_of_motorist_killed  \\\n",
       "collision_id                                                          \n",
       "3654181                                0                          0   \n",
       "3665311                                0                          0   \n",
       "3658491                                0                          0   \n",
       "3666554                                1                          0   \n",
       "3653269                                0                          0   \n",
       "\n",
       "               contributing_factor_vehicle_1 contributing_factor_vehicle_2  \\\n",
       "collision_id                                                                 \n",
       "3654181       Driver Inattention/Distraction                   Unspecified   \n",
       "3665311        Failure to Yield Right-of-Way                           NaN   \n",
       "3658491       Driver Inattention/Distraction                   Unspecified   \n",
       "3666554                          Unspecified                   Unspecified   \n",
       "3653269       Driver Inattention/Distraction                   Unspecified   \n",
       "\n",
       "                               vehicle_type_code1  \\\n",
       "collision_id                                        \n",
       "3654181       Station Wagon/Sport Utility Vehicle   \n",
       "3665311                                     Sedan   \n",
       "3658491                                     Sedan   \n",
       "3666554                                Motorcycle   \n",
       "3653269                                     Sedan   \n",
       "\n",
       "                               vehicle_type_code2 day_crash  month_crash  \\\n",
       "collision_id                                                               \n",
       "3654181                                       NaN   Tuesday            4   \n",
       "3665311                                       NaN  Saturday            5   \n",
       "3658491                                     Sedan  Thursday            4   \n",
       "3666554                                     Sedan   Tuesday            5   \n",
       "3653269       Station Wagon/Sport Utility Vehicle   Tuesday            4   \n",
       "\n",
       "              year_crash  \n",
       "collision_id              \n",
       "3654181             2017  \n",
       "3665311             2017  \n",
       "3658491             2017  \n",
       "3666554             2017  \n",
       "3653269             2017  "
      ],
      "text/html": "<div>\n<style scoped>\n    .dataframe tbody tr th:only-of-type {\n        vertical-align: middle;\n    }\n\n    .dataframe tbody tr th {\n        vertical-align: top;\n    }\n\n    .dataframe thead th {\n        text-align: right;\n    }\n</style>\n<table border=\"1\" class=\"dataframe\">\n  <thead>\n    <tr style=\"text-align: right;\">\n      <th></th>\n      <th>crash_date</th>\n      <th>crash_time</th>\n      <th>borough</th>\n      <th>zip_code</th>\n      <th>latitude</th>\n      <th>longitude</th>\n      <th>location</th>\n      <th>on_street_name</th>\n      <th>off_street_name</th>\n      <th>cross_street_name</th>\n      <th>number_of_persons_injured</th>\n      <th>number_of_persons_killed</th>\n      <th>number_of_pedestrians_injured</th>\n      <th>number_of_pedestrians_killed</th>\n      <th>number_of_cyclist_injured</th>\n      <th>number_of_cyclist_killed</th>\n      <th>number_of_motorist_injured</th>\n      <th>number_of_motorist_killed</th>\n      <th>contributing_factor_vehicle_1</th>\n      <th>contributing_factor_vehicle_2</th>\n      <th>vehicle_type_code1</th>\n      <th>vehicle_type_code2</th>\n      <th>day_crash</th>\n      <th>month_crash</th>\n      <th>year_crash</th>\n    </tr>\n    <tr>\n      <th>collision_id</th>\n      <th></th>\n      <th></th>\n      <th></th>\n      <th></th>\n      <th></th>\n      <th></th>\n      <th></th>\n      <th></th>\n      <th></th>\n      <th></th>\n      <th></th>\n      <th></th>\n      <th></th>\n      <th></th>\n      <th></th>\n      <th></th>\n      <th></th>\n      <th></th>\n      <th></th>\n      <th></th>\n      <th></th>\n      <th></th>\n      <th></th>\n      <th></th>\n      <th></th>\n    </tr>\n  </thead>\n  <tbody>\n    <tr>\n      <th>3654181</th>\n      <td>2017-04-18</td>\n      <td>23:10</td>\n      <td>STATEN ISLAND</td>\n      <td>10312.0</td>\n      <td>40.536728</td>\n      <td>-74.193344</td>\n      <td>(40.536728, -74.193344)</td>\n      <td>NaN</td>\n      <td>NaN</td>\n      <td>243       DARLINGTON AVENUE</td>\n      <td>0</td>\n      <td>0</td>\n      <td>0</td>\n      <td>0</td>\n      <td>0</td>\n      <td>0</td>\n      <td>0</td>\n      <td>0</td>\n      <td>Driver Inattention/Distraction</td>\n      <td>Unspecified</td>\n      <td>Station Wagon/Sport Utility Vehicle</td>\n      <td>NaN</td>\n      <td>Tuesday</td>\n      <td>4</td>\n      <td>2017</td>\n    </tr>\n    <tr>\n      <th>3665311</th>\n      <td>2017-05-06</td>\n      <td>13:00</td>\n      <td>BRONX</td>\n      <td>10472.0</td>\n      <td>40.829052</td>\n      <td>-73.850380</td>\n      <td>(40.829052, -73.85038)</td>\n      <td>CASTLE HILL AVENUE</td>\n      <td>BLACKROCK AVENUE</td>\n      <td>NaN</td>\n      <td>1</td>\n      <td>0</td>\n      <td>1</td>\n      <td>0</td>\n      <td>0</td>\n      <td>0</td>\n      <td>0</td>\n      <td>0</td>\n      <td>Failure to Yield Right-of-Way</td>\n      <td>NaN</td>\n      <td>Sedan</td>\n      <td>NaN</td>\n      <td>Saturday</td>\n      <td>5</td>\n      <td>2017</td>\n    </tr>\n    <tr>\n      <th>3658491</th>\n      <td>2017-04-27</td>\n      <td>17:15</td>\n      <td>QUEENS</td>\n      <td>11420.0</td>\n      <td>40.677303</td>\n      <td>-73.804565</td>\n      <td>(40.677303, -73.804565)</td>\n      <td>135 STREET</td>\n      <td>FOCH BOULEVARD</td>\n      <td>NaN</td>\n      <td>0</td>\n      <td>0</td>\n      <td>0</td>\n      <td>0</td>\n      <td>0</td>\n      <td>0</td>\n      <td>0</td>\n      <td>0</td>\n      <td>Driver Inattention/Distraction</td>\n      <td>Unspecified</td>\n      <td>Sedan</td>\n      <td>Sedan</td>\n      <td>Thursday</td>\n      <td>4</td>\n      <td>2017</td>\n    </tr>\n    <tr>\n      <th>3666554</th>\n      <td>2017-05-09</td>\n      <td>20:10</td>\n      <td>NaN</td>\n      <td>NaN</td>\n      <td>40.624958</td>\n      <td>-74.145775</td>\n      <td>(40.624958, -74.145775)</td>\n      <td>FOREST AVENUE</td>\n      <td>RICHMOND AVENUE</td>\n      <td>NaN</td>\n      <td>1</td>\n      <td>0</td>\n      <td>0</td>\n      <td>0</td>\n      <td>0</td>\n      <td>0</td>\n      <td>1</td>\n      <td>0</td>\n      <td>Unspecified</td>\n      <td>Unspecified</td>\n      <td>Motorcycle</td>\n      <td>Sedan</td>\n      <td>Tuesday</td>\n      <td>5</td>\n      <td>2017</td>\n    </tr>\n    <tr>\n      <th>3653269</th>\n      <td>2017-04-18</td>\n      <td>14:00</td>\n      <td>BRONX</td>\n      <td>10456.0</td>\n      <td>40.828846</td>\n      <td>-73.903120</td>\n      <td>(40.828846, -73.90312)</td>\n      <td>NaN</td>\n      <td>NaN</td>\n      <td>1167      BOSTON ROAD</td>\n      <td>0</td>\n      <td>0</td>\n      <td>0</td>\n      <td>0</td>\n      <td>0</td>\n      <td>0</td>\n      <td>0</td>\n      <td>0</td>\n      <td>Driver Inattention/Distraction</td>\n      <td>Unspecified</td>\n      <td>Sedan</td>\n      <td>Station Wagon/Sport Utility Vehicle</td>\n      <td>Tuesday</td>\n      <td>4</td>\n      <td>2017</td>\n    </tr>\n  </tbody>\n</table>\n</div>"
     },
     "metadata": {},
     "execution_count": 35
    }
   ],
   "source": [
    "df.head(5)"
   ]
  },
  {
   "cell_type": "code",
   "execution_count": 36,
   "metadata": {},
   "outputs": [
    {
     "output_type": "execute_result",
     "data": {
      "text/plain": [
       "               zip_code      latitude     longitude  \\\n",
       "year_crash                                            \n",
       "2013            11004.0  2.852361e+02 -5.171712e+02   \n",
       "2014            10469.0  4.086976e+01 -7.384488e+01   \n",
       "2015            21463.0  7.743777e+02 -1.404059e+03   \n",
       "2017         40138014.0  2.253716e+05 -4.094601e+05   \n",
       "2018           559875.0  3.339931e+03 -6.190051e+03   \n",
       "2019        310268806.0  1.637589e+06 -2.971936e+06   \n",
       "2020        357227170.0  1.871153e+06 -3.395780e+06   \n",
       "\n",
       "            number_of_persons_injured  number_of_persons_killed  \\\n",
       "year_crash                                                        \n",
       "2013                               14                         0   \n",
       "2014                                0                         0   \n",
       "2015                               14                         0   \n",
       "2017                             1497                         7   \n",
       "2018                               30                         0   \n",
       "2019                            13630                        49   \n",
       "2020                            22011                       137   \n",
       "\n",
       "            number_of_pedestrians_injured  number_of_pedestrians_killed  \\\n",
       "year_crash                                                                \n",
       "2013                                    1                             0   \n",
       "2014                                    0                             0   \n",
       "2015                                    4                             0   \n",
       "2017                                  267                             0   \n",
       "2018                                    7                             0   \n",
       "2019                                 1853                            24   \n",
       "2020                                 2607                            40   \n",
       "\n",
       "            number_of_cyclist_injured  number_of_cyclist_killed  \\\n",
       "year_crash                                                        \n",
       "2013                                0                         0   \n",
       "2014                                0                         0   \n",
       "2015                                0                         0   \n",
       "2017                              147                         0   \n",
       "2018                                4                         0   \n",
       "2019                             1435                         8   \n",
       "2020                             3378                        17   \n",
       "\n",
       "            number_of_motorist_injured  number_of_motorist_killed  month_crash  \n",
       "year_crash                                                                      \n",
       "2013                                13                          0           82  \n",
       "2014                                 0                          0           10  \n",
       "2015                                10                          0          328  \n",
       "2017                              1083                          7        26035  \n",
       "2018                                19                          0          557  \n",
       "2019                             10341                         17       346090  \n",
       "2020                             16026                         80       329197  "
      ],
      "text/html": "<div>\n<style scoped>\n    .dataframe tbody tr th:only-of-type {\n        vertical-align: middle;\n    }\n\n    .dataframe tbody tr th {\n        vertical-align: top;\n    }\n\n    .dataframe thead th {\n        text-align: right;\n    }\n</style>\n<table border=\"1\" class=\"dataframe\">\n  <thead>\n    <tr style=\"text-align: right;\">\n      <th></th>\n      <th>zip_code</th>\n      <th>latitude</th>\n      <th>longitude</th>\n      <th>number_of_persons_injured</th>\n      <th>number_of_persons_killed</th>\n      <th>number_of_pedestrians_injured</th>\n      <th>number_of_pedestrians_killed</th>\n      <th>number_of_cyclist_injured</th>\n      <th>number_of_cyclist_killed</th>\n      <th>number_of_motorist_injured</th>\n      <th>number_of_motorist_killed</th>\n      <th>month_crash</th>\n    </tr>\n    <tr>\n      <th>year_crash</th>\n      <th></th>\n      <th></th>\n      <th></th>\n      <th></th>\n      <th></th>\n      <th></th>\n      <th></th>\n      <th></th>\n      <th></th>\n      <th></th>\n      <th></th>\n      <th></th>\n    </tr>\n  </thead>\n  <tbody>\n    <tr>\n      <th>2013</th>\n      <td>11004.0</td>\n      <td>2.852361e+02</td>\n      <td>-5.171712e+02</td>\n      <td>14</td>\n      <td>0</td>\n      <td>1</td>\n      <td>0</td>\n      <td>0</td>\n      <td>0</td>\n      <td>13</td>\n      <td>0</td>\n      <td>82</td>\n    </tr>\n    <tr>\n      <th>2014</th>\n      <td>10469.0</td>\n      <td>4.086976e+01</td>\n      <td>-7.384488e+01</td>\n      <td>0</td>\n      <td>0</td>\n      <td>0</td>\n      <td>0</td>\n      <td>0</td>\n      <td>0</td>\n      <td>0</td>\n      <td>0</td>\n      <td>10</td>\n    </tr>\n    <tr>\n      <th>2015</th>\n      <td>21463.0</td>\n      <td>7.743777e+02</td>\n      <td>-1.404059e+03</td>\n      <td>14</td>\n      <td>0</td>\n      <td>4</td>\n      <td>0</td>\n      <td>0</td>\n      <td>0</td>\n      <td>10</td>\n      <td>0</td>\n      <td>328</td>\n    </tr>\n    <tr>\n      <th>2017</th>\n      <td>40138014.0</td>\n      <td>2.253716e+05</td>\n      <td>-4.094601e+05</td>\n      <td>1497</td>\n      <td>7</td>\n      <td>267</td>\n      <td>0</td>\n      <td>147</td>\n      <td>0</td>\n      <td>1083</td>\n      <td>7</td>\n      <td>26035</td>\n    </tr>\n    <tr>\n      <th>2018</th>\n      <td>559875.0</td>\n      <td>3.339931e+03</td>\n      <td>-6.190051e+03</td>\n      <td>30</td>\n      <td>0</td>\n      <td>7</td>\n      <td>0</td>\n      <td>4</td>\n      <td>0</td>\n      <td>19</td>\n      <td>0</td>\n      <td>557</td>\n    </tr>\n    <tr>\n      <th>2019</th>\n      <td>310268806.0</td>\n      <td>1.637589e+06</td>\n      <td>-2.971936e+06</td>\n      <td>13630</td>\n      <td>49</td>\n      <td>1853</td>\n      <td>24</td>\n      <td>1435</td>\n      <td>8</td>\n      <td>10341</td>\n      <td>17</td>\n      <td>346090</td>\n    </tr>\n    <tr>\n      <th>2020</th>\n      <td>357227170.0</td>\n      <td>1.871153e+06</td>\n      <td>-3.395780e+06</td>\n      <td>22011</td>\n      <td>137</td>\n      <td>2607</td>\n      <td>40</td>\n      <td>3378</td>\n      <td>17</td>\n      <td>16026</td>\n      <td>80</td>\n      <td>329197</td>\n    </tr>\n  </tbody>\n</table>\n</div>"
     },
     "metadata": {},
     "execution_count": 36
    }
   ],
   "source": [
    "df2 = df.groupby('year_crash').sum()\n",
    "df2"
   ]
  },
  {
   "cell_type": "code",
   "execution_count": 37,
   "metadata": {},
   "outputs": [],
   "source": [
    "#replacing 'nan' values on 'borough'\n",
    "\n",
    "df['borough'].fillna('UNSPECIFIED', inplace= True)"
   ]
  },
  {
   "cell_type": "code",
   "execution_count": 38,
   "metadata": {},
   "outputs": [
    {
     "output_type": "execute_result",
     "data": {
      "text/plain": [
       "35034"
      ]
     },
     "metadata": {},
     "execution_count": 38
    }
   ],
   "source": [
    "df['zip_code'].isna().sum()\n"
   ]
  },
  {
   "cell_type": "code",
   "execution_count": 39,
   "metadata": {},
   "outputs": [
    {
     "output_type": "execute_result",
     "data": {
      "text/plain": [
       "array([10312., 10472., 11420.,    nan, 10456., 11203., 10474., 10301.,\n",
       "       11223., 11234., 10463., 11419., 10453., 11434., 11207., 10019.,\n",
       "       10309., 11422., 11233., 11417., 11691., 11358., 10013., 11226.,\n",
       "       10002., 10038., 10461., 11214., 10033., 11206., 11221., 10467.,\n",
       "       10011., 10017., 11355., 10027., 11378., 11224., 10305., 10021.,\n",
       "       10035., 11213., 11208., 10036., 11101., 10009., 11235., 11377.,\n",
       "       10470., 11219., 10001., 11228., 11215., 11217., 11372., 11379.,\n",
       "       10460., 11205., 10468., 11416., 10469., 11429., 10007., 11231.,\n",
       "       11236., 10459., 10462., 10012., 11229., 10031., 11238., 11369.,\n",
       "       11423., 10026., 10018., 11365., 11370., 11421., 11209., 10465.,\n",
       "       10025., 10458., 10308., 11375., 10034., 11216., 10455., 11354.,\n",
       "       11230., 10003., 10471., 11222., 10304., 10457., 11428., 11212.,\n",
       "       11418., 11210., 10006., 11360., 10022., 10452., 10016., 11201.,\n",
       "       11432., 10466., 10020., 11232., 11367., 11220., 11218., 11211.,\n",
       "       11364., 10454., 10010., 10037., 11368., 10307., 10023., 10473.,\n",
       "       11361., 11693., 10029., 11435., 10314., 11385., 11373., 11103.,\n",
       "       10310., 10028., 10039., 10475., 11412., 11374., 11433., 10128.,\n",
       "       10075., 10024., 10030., 11102., 10004., 10451., 11411., 11413.,\n",
       "       11225., 11426., 11357., 11356., 10040., 11249., 11692., 11366.,\n",
       "       11237., 11105., 11362., 11204., 11001., 10032., 11427., 10464.,\n",
       "       10065., 11415., 11436., 11414., 11106., 10005., 10000., 10014.,\n",
       "       11104., 10306., 11004., 10119., 10172., 11694., 11697., 11239.,\n",
       "       11040., 11363., 10278., 10302., 10165., 10168., 10069., 10121.,\n",
       "       10167., 11109., 10280., 11430., 11005., 10281., 10282., 10041.,\n",
       "       10105., 10279., 10103., 10271., 10123., 10154., 11251., 11695.,\n",
       "       11359., 10153., 10118., 10169.])"
      ]
     },
     "metadata": {},
     "execution_count": 39
    }
   ],
   "source": [
    "df['zip_code'].unique()"
   ]
  },
  {
   "cell_type": "code",
   "execution_count": 40,
   "metadata": {},
   "outputs": [],
   "source": [
    "#replace 'nan' values in 'zip code' column by '999'\n",
    "df['zip_code'].fillna(0, inplace= True)"
   ]
  },
  {
   "cell_type": "code",
   "execution_count": 41,
   "metadata": {},
   "outputs": [
    {
     "output_type": "execute_result",
     "data": {
      "text/plain": [
       "0"
      ]
     },
     "metadata": {},
     "execution_count": 41
    }
   ],
   "source": [
    "df['zip_code'].isnull().sum()"
   ]
  },
  {
   "cell_type": "code",
   "execution_count": 42,
   "metadata": {},
   "outputs": [],
   "source": [
    "#fill 'nan' values for 'location' column by '0'\n",
    "df['location'].fillna(0, inplace= True)\n"
   ]
  },
  {
   "cell_type": "code",
   "execution_count": 43,
   "metadata": {},
   "outputs": [
    {
     "output_type": "execute_result",
     "data": {
      "text/plain": [
       "0"
      ]
     },
     "metadata": {},
     "execution_count": 43
    }
   ],
   "source": [
    "df['location'].isnull().sum()"
   ]
  },
  {
   "cell_type": "code",
   "execution_count": 44,
   "metadata": {},
   "outputs": [
    {
     "output_type": "execute_result",
     "data": {
      "text/plain": [
       "0"
      ]
     },
     "metadata": {},
     "execution_count": 44
    }
   ],
   "source": [
    "#fill 'nan' values on 'on_street_name' by 'undt' which mean 'undetermied'\n",
    "df['on_street_name'].fillna('unspecified', inplace= True)\n",
    "df['on_street_name'].isnull().sum()"
   ]
  },
  {
   "cell_type": "code",
   "execution_count": 45,
   "metadata": {},
   "outputs": [
    {
     "output_type": "execute_result",
     "data": {
      "text/plain": [
       "collision_id\n",
       "3654181    243       DARLINGTON AVENUE             \n",
       "3665311                            BLACKROCK AVENUE\n",
       "3658491                              FOCH BOULEVARD\n",
       "3666554                             RICHMOND AVENUE\n",
       "3653269    1167      BOSTON ROAD                   \n",
       "                             ...                   \n",
       "4244961    1314      EAST 29 STREET                \n",
       "4250093    150-62    76 ROAD                       \n",
       "4245290                                 KENT AVENUE\n",
       "4243646    1695      UTICA AVENUE                  \n",
       "4247517                                    1 AVENUE\n",
       "Name: near_street, Length: 100000, dtype: object"
      ]
     },
     "metadata": {},
     "execution_count": 45
    }
   ],
   "source": [
    "df['near_street'] = df['cross_street_name'].fillna(df['off_street_name'])\n",
    "#df['near_street'].fillna('Unspecified', inplace= True)\n",
    "df['near_street']"
   ]
  },
  {
   "cell_type": "code",
   "execution_count": 46,
   "metadata": {},
   "outputs": [],
   "source": [
    "#dropping non-essential columns and duplicates\n",
    "df.drop(['longitude', 'latitude', 'off_street_name', 'cross_street_name'], axis= 1, inplace= True)"
   ]
  },
  {
   "cell_type": "code",
   "execution_count": 47,
   "metadata": {},
   "outputs": [
    {
     "output_type": "execute_result",
     "data": {
      "text/plain": [
       "             crash_date crash_time        borough  zip_code  \\\n",
       "collision_id                                                  \n",
       "3654181      2017-04-18      23:10  STATEN ISLAND   10312.0   \n",
       "3665311      2017-05-06      13:00          BRONX   10472.0   \n",
       "3658491      2017-04-27      17:15         QUEENS   11420.0   \n",
       "3666554      2017-05-09      20:10    UNSPECIFIED       0.0   \n",
       "3653269      2017-04-18      14:00          BRONX   10456.0   \n",
       "3666365      2017-05-08      10:33    UNSPECIFIED       0.0   \n",
       "3666842      2017-05-10       6:10    UNSPECIFIED       0.0   \n",
       "3657123      2017-04-24       9:30       BROOKLYN   11203.0   \n",
       "3651039      2017-04-14      13:00    UNSPECIFIED       0.0   \n",
       "3661896      2017-05-02       1:00          BRONX   10474.0   \n",
       "3661330      2017-05-01      14:30  STATEN ISLAND   10301.0   \n",
       "3659418      2017-04-29       8:45    UNSPECIFIED       0.0   \n",
       "3661943      2017-05-01      10:30       BROOKLYN   11223.0   \n",
       "3654121      2017-04-16      15:50       BROOKLYN   11203.0   \n",
       "3673696      2017-04-25      18:00       BROOKLYN   11234.0   \n",
       "3655451      2017-04-22       7:00    UNSPECIFIED       0.0   \n",
       "3654545      2017-04-20      18:00          BRONX   10463.0   \n",
       "3665559      2017-05-06      14:10         QUEENS   11419.0   \n",
       "3662987      2017-04-28      22:14    UNSPECIFIED       0.0   \n",
       "3663956      2017-05-05      16:30          BRONX   10453.0   \n",
       "\n",
       "                             location                    on_street_name  \\\n",
       "collision_id                                                              \n",
       "3654181       (40.536728, -74.193344)                       unspecified   \n",
       "3665311        (40.829052, -73.85038)  CASTLE HILL AVENUE                 \n",
       "3658491       (40.677303, -73.804565)  135 STREET                         \n",
       "3666554       (40.624958, -74.145775)  FOREST AVENUE                      \n",
       "3653269        (40.828846, -73.90312)                       unspecified   \n",
       "3666365        (40.556454, -74.20777)  WEST SHORE EXPRESSWAY              \n",
       "3666842        (40.740025, -73.97626)  1 AVENUE                           \n",
       "3657123        (40.651646, -73.93233)  EAST 48 STREET                     \n",
       "3651039         (40.7518, -73.817314)  ROBINSON STREET                    \n",
       "3661896       (40.816864, -73.882744)                       unspecified   \n",
       "3661330        (40.639614, -74.08727)                       unspecified   \n",
       "3659418         (40.71423, -73.85386)  LOUBET STREET                      \n",
       "3661943        (40.602757, -73.96377)                       unspecified   \n",
       "3654121        (40.652973, -73.94401)  BROOKLYN AVENUE                    \n",
       "3673696         (40.61074, -73.92241)                       unspecified   \n",
       "3655451        (40.69168, -73.999344)  BROOKLYN QUEENS EXPRESSWAY         \n",
       "3654545        (40.886536, -73.89985)  WEST 240 STREET                    \n",
       "3665559        (40.686234, -73.82418)  LEFFERTS BOULEVARD                 \n",
       "3662987        (40.859875, -73.89323)  WEBSTER AVENUE                     \n",
       "3663956        (40.848255, -73.90976)  WALTON AVENUE                      \n",
       "\n",
       "              number_of_persons_injured  number_of_persons_killed  \\\n",
       "collision_id                                                        \n",
       "3654181                        0.000000                       0.0   \n",
       "3665311                        0.066667                       0.0   \n",
       "3658491                        0.000000                       0.0   \n",
       "3666554                        0.066667                       0.0   \n",
       "3653269                        0.000000                       0.0   \n",
       "3666365                        0.000000                       0.0   \n",
       "3666842                        0.000000                       0.0   \n",
       "3657123                        0.000000                       0.0   \n",
       "3651039                        0.000000                       0.0   \n",
       "3661896                        0.000000                       0.0   \n",
       "3661330                        0.000000                       0.0   \n",
       "3659418                        0.000000                       0.0   \n",
       "3661943                        0.000000                       0.0   \n",
       "3654121                        0.200000                       0.0   \n",
       "3673696                        0.000000                       0.0   \n",
       "3655451                        0.066667                       0.0   \n",
       "3654545                        0.000000                       0.0   \n",
       "3665559                        0.000000                       0.0   \n",
       "3662987                        0.200000                       0.0   \n",
       "3663956                        0.000000                       0.0   \n",
       "\n",
       "              number_of_pedestrians_injured  number_of_pedestrians_killed  \\\n",
       "collision_id                                                                \n",
       "3654181                            0.000000                           0.0   \n",
       "3665311                            0.166667                           0.0   \n",
       "3658491                            0.000000                           0.0   \n",
       "3666554                            0.000000                           0.0   \n",
       "3653269                            0.000000                           0.0   \n",
       "3666365                            0.000000                           0.0   \n",
       "3666842                            0.000000                           0.0   \n",
       "3657123                            0.000000                           0.0   \n",
       "3651039                            0.000000                           0.0   \n",
       "3661896                            0.000000                           0.0   \n",
       "3661330                            0.000000                           0.0   \n",
       "3659418                            0.000000                           0.0   \n",
       "3661943                            0.000000                           0.0   \n",
       "3654121                            0.000000                           0.0   \n",
       "3673696                            0.000000                           0.0   \n",
       "3655451                            0.000000                           0.0   \n",
       "3654545                            0.000000                           0.0   \n",
       "3665559                            0.000000                           0.0   \n",
       "3662987                            0.000000                           0.0   \n",
       "3663956                            0.000000                           0.0   \n",
       "\n",
       "              number_of_cyclist_injured  number_of_cyclist_killed  \\\n",
       "collision_id                                                        \n",
       "3654181                             0.0                       0.0   \n",
       "3665311                             0.0                       0.0   \n",
       "3658491                             0.0                       0.0   \n",
       "3666554                             0.0                       0.0   \n",
       "3653269                             0.0                       0.0   \n",
       "3666365                             0.0                       0.0   \n",
       "3666842                             0.0                       0.0   \n",
       "3657123                             0.0                       0.0   \n",
       "3651039                             0.0                       0.0   \n",
       "3661896                             0.0                       0.0   \n",
       "3661330                             0.0                       0.0   \n",
       "3659418                             0.0                       0.0   \n",
       "3661943                             0.0                       0.0   \n",
       "3654121                             0.0                       0.0   \n",
       "3673696                             0.0                       0.0   \n",
       "3655451                             0.0                       0.0   \n",
       "3654545                             0.0                       0.0   \n",
       "3665559                             0.0                       0.0   \n",
       "3662987                             0.0                       0.0   \n",
       "3663956                             0.0                       0.0   \n",
       "\n",
       "              number_of_motorist_injured  number_of_motorist_killed  \\\n",
       "collision_id                                                          \n",
       "3654181                         0.000000                        0.0   \n",
       "3665311                         0.000000                        0.0   \n",
       "3658491                         0.000000                        0.0   \n",
       "3666554                         0.066667                        0.0   \n",
       "3653269                         0.000000                        0.0   \n",
       "3666365                         0.000000                        0.0   \n",
       "3666842                         0.000000                        0.0   \n",
       "3657123                         0.000000                        0.0   \n",
       "3651039                         0.000000                        0.0   \n",
       "3661896                         0.000000                        0.0   \n",
       "3661330                         0.000000                        0.0   \n",
       "3659418                         0.000000                        0.0   \n",
       "3661943                         0.000000                        0.0   \n",
       "3654121                         0.200000                        0.0   \n",
       "3673696                         0.000000                        0.0   \n",
       "3655451                         0.066667                        0.0   \n",
       "3654545                         0.000000                        0.0   \n",
       "3665559                         0.000000                        0.0   \n",
       "3662987                         0.200000                        0.0   \n",
       "3663956                         0.000000                        0.0   \n",
       "\n",
       "               contributing_factor_vehicle_1 contributing_factor_vehicle_2  \\\n",
       "collision_id                                                                 \n",
       "3654181       Driver Inattention/Distraction                   Unspecified   \n",
       "3665311        Failure to Yield Right-of-Way                           NaN   \n",
       "3658491       Driver Inattention/Distraction                   Unspecified   \n",
       "3666554                          Unspecified                   Unspecified   \n",
       "3653269       Driver Inattention/Distraction                   Unspecified   \n",
       "3666365                 Unsafe Lane Changing                   Unspecified   \n",
       "3666842       Passing or Lane Usage Improper                   Unspecified   \n",
       "3657123                      Other Vehicular               Other Vehicular   \n",
       "3651039                  Passing Too Closely                   Unspecified   \n",
       "3661896                          Unspecified                           NaN   \n",
       "3661330                          Unspecified                   Unspecified   \n",
       "3659418                          Unspecified                           NaN   \n",
       "3661943                          Unspecified                   Unspecified   \n",
       "3654121                          Unspecified                   Unspecified   \n",
       "3673696       Driver Inattention/Distraction                   Unspecified   \n",
       "3655451                          Unspecified                           NaN   \n",
       "3654545                          Unspecified                           NaN   \n",
       "3665559                     Backing Unsafely                   Unspecified   \n",
       "3662987                          Unspecified                   Unspecified   \n",
       "3663956                          Unspecified                   Unspecified   \n",
       "\n",
       "                               vehicle_type_code1  \\\n",
       "collision_id                                        \n",
       "3654181       Station Wagon/Sport Utility Vehicle   \n",
       "3665311                                     Sedan   \n",
       "3658491                                     Sedan   \n",
       "3666554                                Motorcycle   \n",
       "3653269                                     Sedan   \n",
       "3666365                                     Sedan   \n",
       "3666842                                      Taxi   \n",
       "3657123       Station Wagon/Sport Utility Vehicle   \n",
       "3651039                                     Sedan   \n",
       "3661896                             Pick-up Truck   \n",
       "3661330       Station Wagon/Sport Utility Vehicle   \n",
       "3659418                                     Sedan   \n",
       "3661943       Station Wagon/Sport Utility Vehicle   \n",
       "3654121       Station Wagon/Sport Utility Vehicle   \n",
       "3673696       Station Wagon/Sport Utility Vehicle   \n",
       "3655451                             Pick-up Truck   \n",
       "3654545       Station Wagon/Sport Utility Vehicle   \n",
       "3665559       Station Wagon/Sport Utility Vehicle   \n",
       "3662987       Station Wagon/Sport Utility Vehicle   \n",
       "3663956       Station Wagon/Sport Utility Vehicle   \n",
       "\n",
       "                               vehicle_type_code2  day_crash  month_crash  \\\n",
       "collision_id                                                                \n",
       "3654181                                       NaN    Tuesday            4   \n",
       "3665311                                       NaN   Saturday            5   \n",
       "3658491                                     Sedan   Thursday            4   \n",
       "3666554                                     Sedan    Tuesday            5   \n",
       "3653269       Station Wagon/Sport Utility Vehicle    Tuesday            4   \n",
       "3666365                                     Sedan     Monday            5   \n",
       "3666842                                 Box Truck  Wednesday            5   \n",
       "3657123       Station Wagon/Sport Utility Vehicle     Monday            4   \n",
       "3651039       Station Wagon/Sport Utility Vehicle     Friday            4   \n",
       "3661896                                       NaN    Tuesday            5   \n",
       "3661330                                       PAS     Monday            5   \n",
       "3659418                                       NaN   Saturday            4   \n",
       "3661943       Station Wagon/Sport Utility Vehicle     Monday            5   \n",
       "3654121                                     Sedan     Sunday            4   \n",
       "3673696                                       NaN    Tuesday            4   \n",
       "3655451                                       NaN   Saturday            4   \n",
       "3654545                                       NaN   Thursday            4   \n",
       "3665559                                     Sedan   Saturday            5   \n",
       "3662987       Station Wagon/Sport Utility Vehicle     Friday            4   \n",
       "3663956                                     Sedan     Friday            5   \n",
       "\n",
       "              year_crash                               near_street  \n",
       "collision_id                                                        \n",
       "3654181             2017  243       DARLINGTON AVENUE               \n",
       "3665311             2017                          BLACKROCK AVENUE  \n",
       "3658491             2017                            FOCH BOULEVARD  \n",
       "3666554             2017                           RICHMOND AVENUE  \n",
       "3653269             2017  1167      BOSTON ROAD                     \n",
       "3666365             2017                                       NaN  \n",
       "3666842             2017                            EAST 28 STREET  \n",
       "3657123             2017                             CHURCH AVENUE  \n",
       "3651039             2017                                       NaN  \n",
       "3661896             2017  772       EDGEWATER ROAD                  \n",
       "3661330             2017  361       JERSEY STREET                   \n",
       "3659418             2017                                       NaN  \n",
       "3661943             2017  802       AVENUE S                        \n",
       "3654121             2017                          LINDEN BOULEVARD  \n",
       "3673696             2017  2074      EAST 52 STREET                  \n",
       "3655451             2017                                       NaN  \n",
       "3654545             2017                                  BROADWAY  \n",
       "3665559             2017                            LIBERTY AVENUE  \n",
       "3662987             2017                                       NaN  \n",
       "3663956             2017                           EAST 176 STREET  "
      ],
      "text/html": "<div>\n<style scoped>\n    .dataframe tbody tr th:only-of-type {\n        vertical-align: middle;\n    }\n\n    .dataframe tbody tr th {\n        vertical-align: top;\n    }\n\n    .dataframe thead th {\n        text-align: right;\n    }\n</style>\n<table border=\"1\" class=\"dataframe\">\n  <thead>\n    <tr style=\"text-align: right;\">\n      <th></th>\n      <th>crash_date</th>\n      <th>crash_time</th>\n      <th>borough</th>\n      <th>zip_code</th>\n      <th>location</th>\n      <th>on_street_name</th>\n      <th>number_of_persons_injured</th>\n      <th>number_of_persons_killed</th>\n      <th>number_of_pedestrians_injured</th>\n      <th>number_of_pedestrians_killed</th>\n      <th>number_of_cyclist_injured</th>\n      <th>number_of_cyclist_killed</th>\n      <th>number_of_motorist_injured</th>\n      <th>number_of_motorist_killed</th>\n      <th>contributing_factor_vehicle_1</th>\n      <th>contributing_factor_vehicle_2</th>\n      <th>vehicle_type_code1</th>\n      <th>vehicle_type_code2</th>\n      <th>day_crash</th>\n      <th>month_crash</th>\n      <th>year_crash</th>\n      <th>near_street</th>\n    </tr>\n    <tr>\n      <th>collision_id</th>\n      <th></th>\n      <th></th>\n      <th></th>\n      <th></th>\n      <th></th>\n      <th></th>\n      <th></th>\n      <th></th>\n      <th></th>\n      <th></th>\n      <th></th>\n      <th></th>\n      <th></th>\n      <th></th>\n      <th></th>\n      <th></th>\n      <th></th>\n      <th></th>\n      <th></th>\n      <th></th>\n      <th></th>\n      <th></th>\n    </tr>\n  </thead>\n  <tbody>\n    <tr>\n      <th>3654181</th>\n      <td>2017-04-18</td>\n      <td>23:10</td>\n      <td>STATEN ISLAND</td>\n      <td>10312.0</td>\n      <td>(40.536728, -74.193344)</td>\n      <td>unspecified</td>\n      <td>0.000000</td>\n      <td>0.0</td>\n      <td>0.000000</td>\n      <td>0.0</td>\n      <td>0.0</td>\n      <td>0.0</td>\n      <td>0.000000</td>\n      <td>0.0</td>\n      <td>Driver Inattention/Distraction</td>\n      <td>Unspecified</td>\n      <td>Station Wagon/Sport Utility Vehicle</td>\n      <td>NaN</td>\n      <td>Tuesday</td>\n      <td>4</td>\n      <td>2017</td>\n      <td>243       DARLINGTON AVENUE</td>\n    </tr>\n    <tr>\n      <th>3665311</th>\n      <td>2017-05-06</td>\n      <td>13:00</td>\n      <td>BRONX</td>\n      <td>10472.0</td>\n      <td>(40.829052, -73.85038)</td>\n      <td>CASTLE HILL AVENUE</td>\n      <td>0.066667</td>\n      <td>0.0</td>\n      <td>0.166667</td>\n      <td>0.0</td>\n      <td>0.0</td>\n      <td>0.0</td>\n      <td>0.000000</td>\n      <td>0.0</td>\n      <td>Failure to Yield Right-of-Way</td>\n      <td>NaN</td>\n      <td>Sedan</td>\n      <td>NaN</td>\n      <td>Saturday</td>\n      <td>5</td>\n      <td>2017</td>\n      <td>BLACKROCK AVENUE</td>\n    </tr>\n    <tr>\n      <th>3658491</th>\n      <td>2017-04-27</td>\n      <td>17:15</td>\n      <td>QUEENS</td>\n      <td>11420.0</td>\n      <td>(40.677303, -73.804565)</td>\n      <td>135 STREET</td>\n      <td>0.000000</td>\n      <td>0.0</td>\n      <td>0.000000</td>\n      <td>0.0</td>\n      <td>0.0</td>\n      <td>0.0</td>\n      <td>0.000000</td>\n      <td>0.0</td>\n      <td>Driver Inattention/Distraction</td>\n      <td>Unspecified</td>\n      <td>Sedan</td>\n      <td>Sedan</td>\n      <td>Thursday</td>\n      <td>4</td>\n      <td>2017</td>\n      <td>FOCH BOULEVARD</td>\n    </tr>\n    <tr>\n      <th>3666554</th>\n      <td>2017-05-09</td>\n      <td>20:10</td>\n      <td>UNSPECIFIED</td>\n      <td>0.0</td>\n      <td>(40.624958, -74.145775)</td>\n      <td>FOREST AVENUE</td>\n      <td>0.066667</td>\n      <td>0.0</td>\n      <td>0.000000</td>\n      <td>0.0</td>\n      <td>0.0</td>\n      <td>0.0</td>\n      <td>0.066667</td>\n      <td>0.0</td>\n      <td>Unspecified</td>\n      <td>Unspecified</td>\n      <td>Motorcycle</td>\n      <td>Sedan</td>\n      <td>Tuesday</td>\n      <td>5</td>\n      <td>2017</td>\n      <td>RICHMOND AVENUE</td>\n    </tr>\n    <tr>\n      <th>3653269</th>\n      <td>2017-04-18</td>\n      <td>14:00</td>\n      <td>BRONX</td>\n      <td>10456.0</td>\n      <td>(40.828846, -73.90312)</td>\n      <td>unspecified</td>\n      <td>0.000000</td>\n      <td>0.0</td>\n      <td>0.000000</td>\n      <td>0.0</td>\n      <td>0.0</td>\n      <td>0.0</td>\n      <td>0.000000</td>\n      <td>0.0</td>\n      <td>Driver Inattention/Distraction</td>\n      <td>Unspecified</td>\n      <td>Sedan</td>\n      <td>Station Wagon/Sport Utility Vehicle</td>\n      <td>Tuesday</td>\n      <td>4</td>\n      <td>2017</td>\n      <td>1167      BOSTON ROAD</td>\n    </tr>\n    <tr>\n      <th>3666365</th>\n      <td>2017-05-08</td>\n      <td>10:33</td>\n      <td>UNSPECIFIED</td>\n      <td>0.0</td>\n      <td>(40.556454, -74.20777)</td>\n      <td>WEST SHORE EXPRESSWAY</td>\n      <td>0.000000</td>\n      <td>0.0</td>\n      <td>0.000000</td>\n      <td>0.0</td>\n      <td>0.0</td>\n      <td>0.0</td>\n      <td>0.000000</td>\n      <td>0.0</td>\n      <td>Unsafe Lane Changing</td>\n      <td>Unspecified</td>\n      <td>Sedan</td>\n      <td>Sedan</td>\n      <td>Monday</td>\n      <td>5</td>\n      <td>2017</td>\n      <td>NaN</td>\n    </tr>\n    <tr>\n      <th>3666842</th>\n      <td>2017-05-10</td>\n      <td>6:10</td>\n      <td>UNSPECIFIED</td>\n      <td>0.0</td>\n      <td>(40.740025, -73.97626)</td>\n      <td>1 AVENUE</td>\n      <td>0.000000</td>\n      <td>0.0</td>\n      <td>0.000000</td>\n      <td>0.0</td>\n      <td>0.0</td>\n      <td>0.0</td>\n      <td>0.000000</td>\n      <td>0.0</td>\n      <td>Passing or Lane Usage Improper</td>\n      <td>Unspecified</td>\n      <td>Taxi</td>\n      <td>Box Truck</td>\n      <td>Wednesday</td>\n      <td>5</td>\n      <td>2017</td>\n      <td>EAST 28 STREET</td>\n    </tr>\n    <tr>\n      <th>3657123</th>\n      <td>2017-04-24</td>\n      <td>9:30</td>\n      <td>BROOKLYN</td>\n      <td>11203.0</td>\n      <td>(40.651646, -73.93233)</td>\n      <td>EAST 48 STREET</td>\n      <td>0.000000</td>\n      <td>0.0</td>\n      <td>0.000000</td>\n      <td>0.0</td>\n      <td>0.0</td>\n      <td>0.0</td>\n      <td>0.000000</td>\n      <td>0.0</td>\n      <td>Other Vehicular</td>\n      <td>Other Vehicular</td>\n      <td>Station Wagon/Sport Utility Vehicle</td>\n      <td>Station Wagon/Sport Utility Vehicle</td>\n      <td>Monday</td>\n      <td>4</td>\n      <td>2017</td>\n      <td>CHURCH AVENUE</td>\n    </tr>\n    <tr>\n      <th>3651039</th>\n      <td>2017-04-14</td>\n      <td>13:00</td>\n      <td>UNSPECIFIED</td>\n      <td>0.0</td>\n      <td>(40.7518, -73.817314)</td>\n      <td>ROBINSON STREET</td>\n      <td>0.000000</td>\n      <td>0.0</td>\n      <td>0.000000</td>\n      <td>0.0</td>\n      <td>0.0</td>\n      <td>0.0</td>\n      <td>0.000000</td>\n      <td>0.0</td>\n      <td>Passing Too Closely</td>\n      <td>Unspecified</td>\n      <td>Sedan</td>\n      <td>Station Wagon/Sport Utility Vehicle</td>\n      <td>Friday</td>\n      <td>4</td>\n      <td>2017</td>\n      <td>NaN</td>\n    </tr>\n    <tr>\n      <th>3661896</th>\n      <td>2017-05-02</td>\n      <td>1:00</td>\n      <td>BRONX</td>\n      <td>10474.0</td>\n      <td>(40.816864, -73.882744)</td>\n      <td>unspecified</td>\n      <td>0.000000</td>\n      <td>0.0</td>\n      <td>0.000000</td>\n      <td>0.0</td>\n      <td>0.0</td>\n      <td>0.0</td>\n      <td>0.000000</td>\n      <td>0.0</td>\n      <td>Unspecified</td>\n      <td>NaN</td>\n      <td>Pick-up Truck</td>\n      <td>NaN</td>\n      <td>Tuesday</td>\n      <td>5</td>\n      <td>2017</td>\n      <td>772       EDGEWATER ROAD</td>\n    </tr>\n    <tr>\n      <th>3661330</th>\n      <td>2017-05-01</td>\n      <td>14:30</td>\n      <td>STATEN ISLAND</td>\n      <td>10301.0</td>\n      <td>(40.639614, -74.08727)</td>\n      <td>unspecified</td>\n      <td>0.000000</td>\n      <td>0.0</td>\n      <td>0.000000</td>\n      <td>0.0</td>\n      <td>0.0</td>\n      <td>0.0</td>\n      <td>0.000000</td>\n      <td>0.0</td>\n      <td>Unspecified</td>\n      <td>Unspecified</td>\n      <td>Station Wagon/Sport Utility Vehicle</td>\n      <td>PAS</td>\n      <td>Monday</td>\n      <td>5</td>\n      <td>2017</td>\n      <td>361       JERSEY STREET</td>\n    </tr>\n    <tr>\n      <th>3659418</th>\n      <td>2017-04-29</td>\n      <td>8:45</td>\n      <td>UNSPECIFIED</td>\n      <td>0.0</td>\n      <td>(40.71423, -73.85386)</td>\n      <td>LOUBET STREET</td>\n      <td>0.000000</td>\n      <td>0.0</td>\n      <td>0.000000</td>\n      <td>0.0</td>\n      <td>0.0</td>\n      <td>0.0</td>\n      <td>0.000000</td>\n      <td>0.0</td>\n      <td>Unspecified</td>\n      <td>NaN</td>\n      <td>Sedan</td>\n      <td>NaN</td>\n      <td>Saturday</td>\n      <td>4</td>\n      <td>2017</td>\n      <td>NaN</td>\n    </tr>\n    <tr>\n      <th>3661943</th>\n      <td>2017-05-01</td>\n      <td>10:30</td>\n      <td>BROOKLYN</td>\n      <td>11223.0</td>\n      <td>(40.602757, -73.96377)</td>\n      <td>unspecified</td>\n      <td>0.000000</td>\n      <td>0.0</td>\n      <td>0.000000</td>\n      <td>0.0</td>\n      <td>0.0</td>\n      <td>0.0</td>\n      <td>0.000000</td>\n      <td>0.0</td>\n      <td>Unspecified</td>\n      <td>Unspecified</td>\n      <td>Station Wagon/Sport Utility Vehicle</td>\n      <td>Station Wagon/Sport Utility Vehicle</td>\n      <td>Monday</td>\n      <td>5</td>\n      <td>2017</td>\n      <td>802       AVENUE S</td>\n    </tr>\n    <tr>\n      <th>3654121</th>\n      <td>2017-04-16</td>\n      <td>15:50</td>\n      <td>BROOKLYN</td>\n      <td>11203.0</td>\n      <td>(40.652973, -73.94401)</td>\n      <td>BROOKLYN AVENUE</td>\n      <td>0.200000</td>\n      <td>0.0</td>\n      <td>0.000000</td>\n      <td>0.0</td>\n      <td>0.0</td>\n      <td>0.0</td>\n      <td>0.200000</td>\n      <td>0.0</td>\n      <td>Unspecified</td>\n      <td>Unspecified</td>\n      <td>Station Wagon/Sport Utility Vehicle</td>\n      <td>Sedan</td>\n      <td>Sunday</td>\n      <td>4</td>\n      <td>2017</td>\n      <td>LINDEN BOULEVARD</td>\n    </tr>\n    <tr>\n      <th>3673696</th>\n      <td>2017-04-25</td>\n      <td>18:00</td>\n      <td>BROOKLYN</td>\n      <td>11234.0</td>\n      <td>(40.61074, -73.92241)</td>\n      <td>unspecified</td>\n      <td>0.000000</td>\n      <td>0.0</td>\n      <td>0.000000</td>\n      <td>0.0</td>\n      <td>0.0</td>\n      <td>0.0</td>\n      <td>0.000000</td>\n      <td>0.0</td>\n      <td>Driver Inattention/Distraction</td>\n      <td>Unspecified</td>\n      <td>Station Wagon/Sport Utility Vehicle</td>\n      <td>NaN</td>\n      <td>Tuesday</td>\n      <td>4</td>\n      <td>2017</td>\n      <td>2074      EAST 52 STREET</td>\n    </tr>\n    <tr>\n      <th>3655451</th>\n      <td>2017-04-22</td>\n      <td>7:00</td>\n      <td>UNSPECIFIED</td>\n      <td>0.0</td>\n      <td>(40.69168, -73.999344)</td>\n      <td>BROOKLYN QUEENS EXPRESSWAY</td>\n      <td>0.066667</td>\n      <td>0.0</td>\n      <td>0.000000</td>\n      <td>0.0</td>\n      <td>0.0</td>\n      <td>0.0</td>\n      <td>0.066667</td>\n      <td>0.0</td>\n      <td>Unspecified</td>\n      <td>NaN</td>\n      <td>Pick-up Truck</td>\n      <td>NaN</td>\n      <td>Saturday</td>\n      <td>4</td>\n      <td>2017</td>\n      <td>NaN</td>\n    </tr>\n    <tr>\n      <th>3654545</th>\n      <td>2017-04-20</td>\n      <td>18:00</td>\n      <td>BRONX</td>\n      <td>10463.0</td>\n      <td>(40.886536, -73.89985)</td>\n      <td>WEST 240 STREET</td>\n      <td>0.000000</td>\n      <td>0.0</td>\n      <td>0.000000</td>\n      <td>0.0</td>\n      <td>0.0</td>\n      <td>0.0</td>\n      <td>0.000000</td>\n      <td>0.0</td>\n      <td>Unspecified</td>\n      <td>NaN</td>\n      <td>Station Wagon/Sport Utility Vehicle</td>\n      <td>NaN</td>\n      <td>Thursday</td>\n      <td>4</td>\n      <td>2017</td>\n      <td>BROADWAY</td>\n    </tr>\n    <tr>\n      <th>3665559</th>\n      <td>2017-05-06</td>\n      <td>14:10</td>\n      <td>QUEENS</td>\n      <td>11419.0</td>\n      <td>(40.686234, -73.82418)</td>\n      <td>LEFFERTS BOULEVARD</td>\n      <td>0.000000</td>\n      <td>0.0</td>\n      <td>0.000000</td>\n      <td>0.0</td>\n      <td>0.0</td>\n      <td>0.0</td>\n      <td>0.000000</td>\n      <td>0.0</td>\n      <td>Backing Unsafely</td>\n      <td>Unspecified</td>\n      <td>Station Wagon/Sport Utility Vehicle</td>\n      <td>Sedan</td>\n      <td>Saturday</td>\n      <td>5</td>\n      <td>2017</td>\n      <td>LIBERTY AVENUE</td>\n    </tr>\n    <tr>\n      <th>3662987</th>\n      <td>2017-04-28</td>\n      <td>22:14</td>\n      <td>UNSPECIFIED</td>\n      <td>0.0</td>\n      <td>(40.859875, -73.89323)</td>\n      <td>WEBSTER AVENUE</td>\n      <td>0.200000</td>\n      <td>0.0</td>\n      <td>0.000000</td>\n      <td>0.0</td>\n      <td>0.0</td>\n      <td>0.0</td>\n      <td>0.200000</td>\n      <td>0.0</td>\n      <td>Unspecified</td>\n      <td>Unspecified</td>\n      <td>Station Wagon/Sport Utility Vehicle</td>\n      <td>Station Wagon/Sport Utility Vehicle</td>\n      <td>Friday</td>\n      <td>4</td>\n      <td>2017</td>\n      <td>NaN</td>\n    </tr>\n    <tr>\n      <th>3663956</th>\n      <td>2017-05-05</td>\n      <td>16:30</td>\n      <td>BRONX</td>\n      <td>10453.0</td>\n      <td>(40.848255, -73.90976)</td>\n      <td>WALTON AVENUE</td>\n      <td>0.000000</td>\n      <td>0.0</td>\n      <td>0.000000</td>\n      <td>0.0</td>\n      <td>0.0</td>\n      <td>0.0</td>\n      <td>0.000000</td>\n      <td>0.0</td>\n      <td>Unspecified</td>\n      <td>Unspecified</td>\n      <td>Station Wagon/Sport Utility Vehicle</td>\n      <td>Sedan</td>\n      <td>Friday</td>\n      <td>5</td>\n      <td>2017</td>\n      <td>EAST 176 STREET</td>\n    </tr>\n  </tbody>\n</table>\n</div>"
     },
     "metadata": {},
     "execution_count": 47
    }
   ],
   "source": [
    "list1 = ['number_of_persons_injured', 'number_of_persons_killed', 'number_of_pedestrians_injured', 'number_of_pedestrians_killed', 'number_of_cyclist_injured', 'number_of_cyclist_killed', 'number_of_motorist_injured', 'number_of_motorist_killed']\n",
    "df[list1] = df[list1].apply(lambda x: (x - x.min()) / (x.max() - x.min()))\n",
    "df.head(20)"
   ]
  },
  {
   "cell_type": "code",
   "execution_count": 48,
   "metadata": {},
   "outputs": [
    {
     "output_type": "execute_result",
     "data": {
      "text/plain": [
       "array(['Driver Inattention/Distraction', 'Failure to Yield Right-of-Way',\n",
       "       'Unspecified', 'Unsafe Lane Changing',\n",
       "       'Passing or Lane Usage Improper', 'Other Vehicular',\n",
       "       'Passing Too Closely', 'Backing Unsafely',\n",
       "       'Traffic Control Disregarded', 'Driver Inexperience',\n",
       "       'Unsafe Speed', 'Following Too Closely', 'Obstruction/Debris',\n",
       "       'Turning Improperly',\n",
       "       'Pedestrian/Bicyclist/Other Pedestrian Error/Confusion',\n",
       "       'Pavement Slippery', 'Aggressive Driving/Road Rage',\n",
       "       'Reaction to Uninvolved Vehicle', 'Steering Failure',\n",
       "       'Oversized Vehicle', 'View Obstructed/Limited',\n",
       "       'Traffic Control Device Improper/Non-Working', 'Fell Asleep',\n",
       "       'Glare', 'Passenger Distraction', 'Accelerator Defective',\n",
       "       'Failure to Keep Right', 'Alcohol Involvement',\n",
       "       'Outside Car Distraction', 'Brakes Defective', nan,\n",
       "       'Pavement Defective', 'Driverless/Runaway Vehicle',\n",
       "       'Fatigued/Drowsy', 'Animals Action', 'Tire Failure/Inadequate',\n",
       "       'Lane Marking Improper/Inadequate', 'Physical Disability',\n",
       "       'Illnes', 'Cell Phone (hand-Held)', 'Lost Consciousness',\n",
       "       'Drugs (illegal)', 'Other Lighting Defects',\n",
       "       'Shoulders Defective/Improper', 'Tinted Windows',\n",
       "       'Using On Board Navigation Device', 'Cell Phone (hands-free)',\n",
       "       'Vehicle Vandalism', 'Tow Hitch Defective',\n",
       "       'Prescription Medication', 'Listening/Using Headphones',\n",
       "       'Eating or Drinking', 'Headlights Defective',\n",
       "       'Other Electronic Device', 'Windshield Inadequate'], dtype=object)"
      ]
     },
     "metadata": {},
     "execution_count": 48
    }
   ],
   "source": [
    "df['contributing_factor_vehicle_1'].unique()"
   ]
  },
  {
   "cell_type": "code",
   "execution_count": 49,
   "metadata": {},
   "outputs": [
    {
     "output_type": "execute_result",
     "data": {
      "text/plain": [
       "0"
      ]
     },
     "metadata": {},
     "execution_count": 49
    }
   ],
   "source": [
    "#replacing all 'nan' values by 'undetermined' \n",
    "df['contributing_factor_vehicle_1'].fillna('Unspecified', inplace= True)\n",
    "df['contributing_factor_vehicle_1'].isnull().sum()"
   ]
  },
  {
   "cell_type": "code",
   "execution_count": 50,
   "metadata": {},
   "outputs": [
    {
     "output_type": "execute_result",
     "data": {
      "text/plain": [
       "array(['Unspecified', 'Other Vehicular', 'Failure to Yield Right-of-Way',\n",
       "       'Backing Unsafely', 'Driver Inattention/Distraction',\n",
       "       'Turning Improperly', 'Unsafe Lane Changing',\n",
       "       'Following Too Closely', 'Pavement Slippery',\n",
       "       'Aggressive Driving/Road Rage',\n",
       "       'Traffic Control Device Improper/Non-Working',\n",
       "       'Passing Too Closely', 'Passing or Lane Usage Improper',\n",
       "       'Pedestrian/Bicyclist/Other Pedestrian Error/Confusion',\n",
       "       'Driver Inexperience', 'Unsafe Speed', 'Oversized Vehicle',\n",
       "       'Passenger Distraction', 'Outside Car Distraction',\n",
       "       'Traffic Control Disregarded', 'Reaction to Uninvolved Vehicle',\n",
       "       'Obstruction/Debris', 'Failure to Keep Right', 'Fatigued/Drowsy',\n",
       "       'Alcohol Involvement', 'View Obstructed/Limited', 'Glare',\n",
       "       'Lane Marking Improper/Inadequate', 'Illnes',\n",
       "       'Accelerator Defective', 'Pavement Defective',\n",
       "       'Tire Failure/Inadequate', 'Brakes Defective',\n",
       "       'Tow Hitch Defective', 'Driverless/Runaway Vehicle',\n",
       "       'Animals Action', 'Lost Consciousness', 'Tinted Windows',\n",
       "       'Using On Board Navigation Device', 'Headlights Defective',\n",
       "       'Fell Asleep', 'Listening/Using Headphones',\n",
       "       'Other Lighting Defects', 'Steering Failure', 'Drugs (illegal)',\n",
       "       'Cell Phone (hand-Held)', 'Other Electronic Device'], dtype=object)"
      ]
     },
     "metadata": {},
     "execution_count": 50
    }
   ],
   "source": [
    "#replace 'nan' by 'undtermined' for 'contributing_factor_vehicle_2' too\n",
    "df['contributing_factor_vehicle_2'].fillna('Unspecified', inplace= True)\n",
    "df['contributing_factor_vehicle_2'].unique() #.isnull().sum()"
   ]
  },
  {
   "cell_type": "code",
   "execution_count": 51,
   "metadata": {},
   "outputs": [
    {
     "output_type": "execute_result",
     "data": {
      "text/plain": [
       "array(['Station Wagon/Sport Utility Vehicle', 'Sedan', 'Motorcycle',\n",
       "       'Taxi', 'Pick-up Truck', 'Ambulance', 'Tractor Truck Diesel',\n",
       "       'Bus', nan, 'Box Truck', 'Bike', 'deliv', 'Van', 'tower', 'PAS',\n",
       "       'Tanker', 'Flat Bed', 'Convertible', 'Motorscooter', 'Moped',\n",
       "       'e-350', 'PASSENGER VEHICLE', 'RV',\n",
       "       'SPORT UTILITY / STATION WAGON', 'Garbage or Refuse',\n",
       "       'Chassis Cab', 'self', 'Concrete Mixer', 'Tractor Truck Gasoline',\n",
       "       '2 dr sedan', 'Tow Truck / Wrecker', 'Beverage Truck', 'Flat Rack',\n",
       "       'Carry All', 'Motorbike', 'REFG', 'van', '4 dr sedan',\n",
       "       'Bulk Agriculture', 'PK', 'POSTA', 'TRACT', 'E-Bike', 'DELV',\n",
       "       'AMB', 'VAN', 'MACK', 'Lift Boom', 'TAXI', '3-Door',\n",
       "       'SMALL COM VEH(4 TIRES) ', 'winne', 'AMBUL', 'p/sh', 'Dump',\n",
       "       'Refrigerated Van', 'BOBCA', 'School Bus', 'truck',\n",
       "       'Armored Truck', 'UNKNO', 'TRUCK', 'WHITE', 'COM', '4D', 'box t',\n",
       "       'E-Scooter', 'Mack', 'fire', 'UTIL', 'LADDER 34', 'moped', 'DUMP',\n",
       "       '4DS', 'Van Camper', 'E-Sco', 'DELIV', 'GOLF', 'Stake or Rack',\n",
       "       'dump', 'E-Bik', 'Ambul', 'CONT', 'LTR', 'SCOOT', 'MOPED', 'forkl',\n",
       "       'Motorized Home', 'Const', 'TRAIL', 'OTHER', 'limo', 'Parce',\n",
       "       'Open Body', 'UT', 'City', 'Truck', 'van t', 'PICKU', 'FDNY',\n",
       "       'vespa', 'COMME', 'Fire', 'PU', 'LIMO', 'Trail',\n",
       "       'Pickup with mounted Camper', 'BOX T', 'BoxTr', 'BACKH', 'bus',\n",
       "       'CAT.', 'AMBU', 'WINEB', 'POLIC', 'Unkno', 'HI TA', 'FIRE',\n",
       "       'E BIK', 'prks', 'Lunch Wagon', 'PICK-', 'Tow Truck', 'Pedicab',\n",
       "       'MINI', 'g spc', 'Multi-Wheeled Vehicle', '35 FT', 'TRLR', 'excav',\n",
       "       'STREE', 'FORK', 'Minibike', 'Tow T', 'tk', 'VAN T', 'NYS A', 'BS',\n",
       "       'FIRET', 'TOWTR', 'CITY', 'APPOR', 'MOBIL', 'Golf', 'Sprin',\n",
       "       'POWER', 'Box t', 'scoot', 'back', 'ambul', 'trail', 'DIRT', 'trl',\n",
       "       'utili', 'RMP V', 'TRK', 'elect', 'stree', 'UHAUL', 'LIMOU',\n",
       "       'USPS', 'FIRE TRUCK', 'Mta', 'firet', 'ELECT', 'MTA B',\n",
       "       'AMBULANCE', 'Minicycle', 'BUS', 'US PO', 'Scoot', 'PICK-UP TRUCK',\n",
       "       'BTM', 'MOTORCYCLE', 'Schoo', 'Delv', 'comm.', 'range', 'TRAC',\n",
       "       'SCHOO', 'BULLD', 'Enclosed Body - Nonremovable Enclosure',\n",
       "       'Pick up tr', 'SKATEBOARD', 'Tractor tr', 'SMART CAR', 'SWT',\n",
       "       'Front-Load', 'Courier', 'PSD', 'DRILL RIG', 'FDNY LADDE',\n",
       "       'PICK UP', 'FDNY AMBUL', 'SUV', 'GARBAGE TR', 'BOX TRUCK',\n",
       "       'Fire Engin', 'MOTOR SKAT', 'Scooter', 'GEN  AMBUL', 'DELIVERY',\n",
       "       'UNKNOWN', 'UNK', 'FLATBED FR', 'POWER SHOV', 'dilevery t',\n",
       "       'Work Van', 'F550', 'Fire Truck', 'forlift', 'message si',\n",
       "       'box truck', 'trailer', 'TRUCK FLAT', 'Lawnmower', 'COURIER',\n",
       "       'FDNY Ambul', 'fdny ems', 'FIRTRUCK', 'utility', 'dark color',\n",
       "       'TRUCK VAN', 'DELIVERY T', 'OTH', 'Pumper', 'E-BIKE', 'scooter',\n",
       "       'Can', 'E-UNICYCLE', 'Golf Cart', 'FORKLIFT', 'ford van',\n",
       "       'TRAILER', 'AMBULACE', 'UTILITY', 'Trac', 'FIRETRUCK', 'ambulance',\n",
       "       'Leased amb', 'PC', 'FDNY TRUCK', 'Cement Tru', 'USPS/GOVT',\n",
       "       'dump truck', 'FLAT', 'almbulance', 'box', 'Fork Lift',\n",
       "       'Fire truck', 'FDNY fire', 'government', 'UTILITY VE', 'Fork lift',\n",
       "       'UNKN', 'FIRE ENGIN', 'UPS TRUCK', 'Trailer', 'forklift',\n",
       "       'Livestock Rack', 'LIGHT TRAI', 'E REVEL SC', 'J1', 'Go kart',\n",
       "       'FDNY ENGIN', '1C', 'gator', 'FREIGHT FL', 'Tractor Tr',\n",
       "       'JOHN DEERE', 'backhoe', 'FDNY #226', 'usps', 'suburban',\n",
       "       'Wh Ford co', 'fire truck', 'commercial', 'MOTORSCOOT', 'CAT',\n",
       "       'FOOD TRUCK', 'MTA BUS', 'FD LADDER', 'Tractor', 'SLINGSHOT',\n",
       "       'ambu', 'Cargo Van', 'ROAD SWEEP', 'SCOOTER', 'CHEVY EXPR',\n",
       "       'abulance', 'MOVING VAN', 'ELECTRIC S', 'MAIL TRUCK', 'DELIVERY V',\n",
       "       'Pick up Tr', 'Horse', 'FDNY Engin', 'AMBULENCE', 'BOBCAT FOR',\n",
       "       'Unknown', '18 WHEELER', 'Bucket Tru', 'cross', 'COMMERCIAL',\n",
       "       'USPS VAN', 'FLATBED', 'ELEC. UNIC', 'USPS TRUCK', 'FDNY FIRE',\n",
       "       'DOT EQUIPM', 'Freight', 'Work van', 'postal tru', 'FREIG DELV',\n",
       "       'CHEVROLET', 'Pick up', 'E-bike', 'DIRT BIKE', 'camper tra',\n",
       "       'NYC FD', 'Utility.', 'White ambu', 'FDNY Fire', 'FREIGHT TR',\n",
       "       'NYC AMBULA', 'GOLF CART', 'Fdny ambul', 'MECHANICAL',\n",
       "       'F150XL PIC', 'Trc', 'tow truck', 'Commercial', 'f-250',\n",
       "       'POSTAL TRU', 'PICK UP TR', 'LCOMM', 'FORK LIFT', 'TOW TRUCK',\n",
       "       'FUSION', 'pc', 'com', 'hrse', '0', 'SUBN WHI', 'e skate bo',\n",
       "       'EMS', 'postal bus', 'CARGO VAN',\n",
       "       'Enclosed Body - Removable Enclosure', 'MOTOR SCOO', 'E bike',\n",
       "       'Ford sprin', 'PICK-UP TR', 'BACK HOE', 'HRSE', 'FREIG',\n",
       "       'WORK VAN', 'Tow truck', 'USPS POSTA', 'Well Driller', 'SELF',\n",
       "       'FORKL', 'Tow t', 'E450', 'Amb', 'UTILI', 'PAYLO'], dtype=object)"
      ]
     },
     "metadata": {},
     "execution_count": 51
    }
   ],
   "source": [
    "df['vehicle_type_code1'].unique()"
   ]
  },
  {
   "cell_type": "code",
   "execution_count": 52,
   "metadata": {},
   "outputs": [
    {
     "output_type": "execute_result",
     "data": {
      "text/plain": [
       "['Tow Truck / Wrecker', 'Tow Truck', 'tow truck', 'TOW TRUCK', 'Tow truck']"
      ]
     },
     "metadata": {},
     "execution_count": 52
    }
   ],
   "source": [
    "#consolidating all 'truck' into one\n",
    "trucks = ['Pick-up Truck', 'Tractor Truck Diesel', 'Box Truck', 'Tractor Truck Gasoline', 'Tow Truck / Wrecker', 'Beverage Truck', 'truck', 'Armored Truck', 'TRUCK', 'Truck', 'Tow Truck', 'FIRE TRUCK', 'PICK-UP TRUCK', 'BOX TRUCK', 'Fire Truck', 'box truck', 'TRUCK FLAT', 'FIRTRUCK', 'TRUCK VAN', 'FIRETRUCK', 'FDNY TRUCK', 'dump truck', 'Fire truck', 'UPS TRUCK', 'fire truck', 'FOOD TRUCK', 'MAIL TRUCK', 'USPS TRUCK', 'tow truck', 'TOW TRUCK', 'Tow truck']\n",
    "[truck for truck in trucks if 'tow' in truck.lower()]"
   ]
  },
  {
   "cell_type": "code",
   "execution_count": 53,
   "metadata": {},
   "outputs": [],
   "source": [
    "df['vehicle_type_code1'] = df['vehicle_type_code1'].astype(str).str.upper()"
   ]
  },
  {
   "cell_type": "code",
   "execution_count": 54,
   "metadata": {},
   "outputs": [
    {
     "output_type": "execute_result",
     "data": {
      "text/plain": [
       "array(['STATION WAGON/SPORT UTILITY VEHICLE', 'SEDAN', 'MOTORCYCLE',\n",
       "       'TAXI', 'PICK-UP TRUCK', 'AMBULANCE', 'TRACTOR TRUCK DIESEL',\n",
       "       'BUS', 'NAN', 'BOX TRUCK', 'BIKE', 'DELIV', 'VAN', 'TOWER', 'PAS',\n",
       "       'TANKER', 'FLAT BED', 'CONVERTIBLE', 'MOTORSCOOTER', 'MOPED',\n",
       "       'E-350', 'PASSENGER VEHICLE', 'RV',\n",
       "       'SPORT UTILITY / STATION WAGON', 'GARBAGE OR REFUSE',\n",
       "       'CHASSIS CAB', 'SELF', 'CONCRETE MIXER', 'TRACTOR TRUCK GASOLINE',\n",
       "       '2 DR SEDAN', 'TOW TRUCK / WRECKER', 'BEVERAGE TRUCK', 'FLAT RACK',\n",
       "       'CARRY ALL', 'MOTORBIKE', 'REFG', '4 DR SEDAN', 'BULK AGRICULTURE',\n",
       "       'PK', 'POSTA', 'TRACT', 'E-BIKE', 'DELV', 'AMB', 'MACK',\n",
       "       'LIFT BOOM', '3-DOOR', 'SMALL COM VEH(4 TIRES) ', 'WINNE', 'AMBUL',\n",
       "       'P/SH', 'DUMP', 'REFRIGERATED VAN', 'BOBCA', 'SCHOOL BUS', 'TRUCK',\n",
       "       'ARMORED TRUCK', 'UNKNO', 'WHITE', 'COM', '4D', 'BOX T',\n",
       "       'E-SCOOTER', 'FIRE', 'UTIL', 'LADDER 34', '4DS', 'VAN CAMPER',\n",
       "       'E-SCO', 'GOLF', 'STAKE OR RACK', 'E-BIK', 'CONT', 'LTR', 'SCOOT',\n",
       "       'FORKL', 'MOTORIZED HOME', 'CONST', 'TRAIL', 'OTHER', 'LIMO',\n",
       "       'PARCE', 'OPEN BODY', 'UT', 'CITY', 'VAN T', 'PICKU', 'FDNY',\n",
       "       'VESPA', 'COMME', 'PU', 'PICKUP WITH MOUNTED CAMPER', 'BOXTR',\n",
       "       'BACKH', 'CAT.', 'AMBU', 'WINEB', 'POLIC', 'HI TA', 'E BIK',\n",
       "       'PRKS', 'LUNCH WAGON', 'PICK-', 'TOW TRUCK', 'PEDICAB', 'MINI',\n",
       "       'G SPC', 'MULTI-WHEELED VEHICLE', '35 FT', 'TRLR', 'EXCAV',\n",
       "       'STREE', 'FORK', 'MINIBIKE', 'TOW T', 'TK', 'NYS A', 'BS', 'FIRET',\n",
       "       'TOWTR', 'APPOR', 'MOBIL', 'SPRIN', 'POWER', 'BACK', 'DIRT', 'TRL',\n",
       "       'UTILI', 'RMP V', 'TRK', 'ELECT', 'UHAUL', 'LIMOU', 'USPS',\n",
       "       'FIRE TRUCK', 'MTA', 'MTA B', 'MINICYCLE', 'US PO', 'BTM', 'SCHOO',\n",
       "       'COMM.', 'RANGE', 'TRAC', 'BULLD',\n",
       "       'ENCLOSED BODY - NONREMOVABLE ENCLOSURE', 'PICK UP TR',\n",
       "       'SKATEBOARD', 'TRACTOR TR', 'SMART CAR', 'SWT', 'FRONT-LOAD',\n",
       "       'COURIER', 'PSD', 'DRILL RIG', 'FDNY LADDE', 'PICK UP',\n",
       "       'FDNY AMBUL', 'SUV', 'GARBAGE TR', 'FIRE ENGIN', 'MOTOR SKAT',\n",
       "       'SCOOTER', 'GEN  AMBUL', 'DELIVERY', 'UNKNOWN', 'UNK',\n",
       "       'FLATBED FR', 'POWER SHOV', 'DILEVERY T', 'WORK VAN', 'F550',\n",
       "       'FORLIFT', 'MESSAGE SI', 'TRAILER', 'TRUCK FLAT', 'LAWNMOWER',\n",
       "       'FDNY EMS', 'FIRTRUCK', 'UTILITY', 'DARK COLOR', 'TRUCK VAN',\n",
       "       'DELIVERY T', 'OTH', 'PUMPER', 'CAN', 'E-UNICYCLE', 'GOLF CART',\n",
       "       'FORKLIFT', 'FORD VAN', 'AMBULACE', 'FIRETRUCK', 'LEASED AMB',\n",
       "       'PC', 'FDNY TRUCK', 'CEMENT TRU', 'USPS/GOVT', 'DUMP TRUCK',\n",
       "       'FLAT', 'ALMBULANCE', 'BOX', 'FORK LIFT', 'FDNY FIRE',\n",
       "       'GOVERNMENT', 'UTILITY VE', 'UNKN', 'UPS TRUCK', 'LIVESTOCK RACK',\n",
       "       'LIGHT TRAI', 'E REVEL SC', 'J1', 'GO KART', 'FDNY ENGIN', '1C',\n",
       "       'GATOR', 'FREIGHT FL', 'JOHN DEERE', 'BACKHOE', 'FDNY #226',\n",
       "       'SUBURBAN', 'WH FORD CO', 'COMMERCIAL', 'MOTORSCOOT', 'CAT',\n",
       "       'FOOD TRUCK', 'MTA BUS', 'FD LADDER', 'TRACTOR', 'SLINGSHOT',\n",
       "       'CARGO VAN', 'ROAD SWEEP', 'CHEVY EXPR', 'ABULANCE', 'MOVING VAN',\n",
       "       'ELECTRIC S', 'MAIL TRUCK', 'DELIVERY V', 'HORSE', 'AMBULENCE',\n",
       "       'BOBCAT FOR', '18 WHEELER', 'BUCKET TRU', 'CROSS', 'USPS VAN',\n",
       "       'FLATBED', 'ELEC. UNIC', 'USPS TRUCK', 'DOT EQUIPM', 'FREIGHT',\n",
       "       'POSTAL TRU', 'FREIG DELV', 'CHEVROLET', 'DIRT BIKE', 'CAMPER TRA',\n",
       "       'NYC FD', 'UTILITY.', 'WHITE AMBU', 'FREIGHT TR', 'NYC AMBULA',\n",
       "       'MECHANICAL', 'F150XL PIC', 'TRC', 'F-250', 'LCOMM', 'FUSION',\n",
       "       'HRSE', '0', 'SUBN WHI', 'E SKATE BO', 'EMS', 'POSTAL BUS',\n",
       "       'ENCLOSED BODY - REMOVABLE ENCLOSURE', 'MOTOR SCOO', 'E BIKE',\n",
       "       'FORD SPRIN', 'PICK-UP TR', 'BACK HOE', 'FREIG', 'USPS POSTA',\n",
       "       'WELL DRILLER', 'E450', 'PAYLO'], dtype=object)"
      ]
     },
     "metadata": {},
     "execution_count": 54
    }
   ],
   "source": [
    "df['vehicle_type_code1'].unique()"
   ]
  },
  {
   "cell_type": "code",
   "execution_count": 55,
   "metadata": {},
   "outputs": [],
   "source": [
    "#collecting duplicate values and change them in the column\n",
    "\n",
    "# AMBULANCE = ['AMBULANCE', 'AMBUL', 'AMB', 'AMBU', 'FDNY AMBUL', 'GEN  AMBUL', 'AMBULACE', 'ALMBULANCE', 'LEASED AMB', 'AMBULENCE', 'ABULANCE', 'WHITE AMBU', 'NYC AMBULA']\n",
    "\n",
    "# OTHER = ['NAN', 'OTHER', 'UNKNO', 'UNKNOWN', 'UNK', 'OTH', 'UNKN', '0']\n",
    "\n",
    "# BIKE = ['E BIK', 'E-BIKE', 'BIKE', 'MINIBIKE', 'MOTORBIKE', 'DIRT BIKE', 'E BIKE']\n",
    "\n",
    "# SKATEBOARD = ['E SKATE BO', 'SKATEBOARD']\n",
    "\n",
    "# SCOOTER = ['E-SCOOTER', 'E-SCO', 'SCOOT', 'VESPA', 'SCOOTER', 'MOTORSCOOTER', 'MOTORSCOOT', 'CROSS', 'MOTOR SCOO']\n",
    "\n",
    "# UTILITY = ['STATION WAGON/SPORT UTILITY VEHICLE', 'SPORT UTILITY / STATION WAGON', 'UTILI', 'UTIL', 'UTILITY VE', 'UTILITY.']\n",
    "\n",
    "# PICK UP = ['PICKU', 'PICK-', 'PU', 'PICK-UP TRUCK', 'PICKUP WITH MOUNTED CAMPER', 'PICK UP TR', 'PICK UP', 'F150XL PIC', 'F-250', 'PICK-UP TR']\n",
    "\n",
    "# POLICE = ['POLIC', 'POLICE']\n",
    "\n",
    "# TOW TRUCK = ['TOW TRUCK', 'TOW T', 'TK', 'TOWTR', 'TOW TRUCK / WRECKER', 'TRK', 'TRUCK', 'CEMENT TRU', 'DUMP TRUCK', 'FREIGHT TR'. 'MAIL TRUCK', '18 WHEELER', 'BUCKET TRU', 'FLATBED', 'FLATBED FR', 'FLAT BED', 'FLAT', 'FREIGHT', 'FREIGHT TR', 'TRC', 'FREIG']\n",
    "\n",
    "\n",
    "# FIRE TRUCK = ['FIRTRUCK', 'FIRE', 'FIRET', 'FDNY LADDE', 'FIRE ENGIN', 'FIRETRUCK'. 'FDNY TRUCK', 'FDNY #226', 'FD LADDER', 'NYC FD']\n",
    "\n",
    "# TRACTOR = ['TRACTOR TRUCK DIESEL', 'TRACTOR TRUCK GASOLINE', 'TRACT', 'TRACTOR TR', 'TRACTOR', 'JOHN DEERE', 'BACKHOE', 'BOBCAT FOR', 'CAT', 'CAMPER TRA', 'BACK HOE']\n",
    "\n",
    "# BUS = ['BUS', 'SCHOO', 'SCHOOL BUS', 'MTA BUS', 'POSTAL BUS']\n",
    "\n",
    "# VAN = ['VAN', 'VAN CAMPER', 'TRUCK VAN', 'WORK VAN', 'FORD VAN', 'USPS VAN']\n",
    "\n",
    "# DELIVERY = ['DELIVERY', 'DILEVERY T', 'DELIVERY T', 'COURIER', 'UPS TRUCK', 'MESSAGE SI', 'DELIVERY V', 'UPS TRUCK', 'MAIL TRUCK', 'POSTAL TRU', 'FREIG DELV', 'USPS POSTA', 'PAYLO']\n",
    "\n",
    "# HORSE = ['HRSE', 'HORSE']\n",
    "\n",
    "# SUBURBAN = ['SUBURBAN', 'SUBN WHI']"
   ]
  },
  {
   "cell_type": "code",
   "execution_count": 56,
   "metadata": {},
   "outputs": [
    {
     "output_type": "execute_result",
     "data": {
      "text/plain": [
       "array(['utility', 'private', 'motorcycle', 'taxi', 'pick_up', 'ambulance',\n",
       "       'tractor', 'bus', 'unspecified', 'box truck', 'bike', 'delivery',\n",
       "       'van', 'other', 'police', 'truck', 'convertible', 'scooter',\n",
       "       'lift', 'fire_truck'], dtype=object)"
      ]
     },
     "metadata": {},
     "execution_count": 56
    }
   ],
   "source": [
    "#ambulance\n",
    "df['vehicle_type_code1'] = df['vehicle_type_code1'].replace(['AMBULANCE', 'AMBUL', 'AMB', 'AMBU', 'FDNY AMBUL', 'GEN  AMBUL', 'AMBULACE', 'ALMBULANCE', 'LEASED AMB', 'AMBULENCE', 'ABULANCE', 'WHITE AMBU', 'NYC AMBULA'], 'AMBULANCE')\n",
    "\n",
    "#others\n",
    "df['vehicle_type_code1'] = df['vehicle_type_code1'].replace(['OTHER', 'OTH', 'CONCRETE MIXER', 'STAKE OR RACK', 'CONT', 'LTR', 'FORKL', 'MOTORIZED HOME', 'CONST', 'TRAIL', 'PARCE', 'HI TA', 'PRKS', 'LUNCH WAGON', 'PEDICAB', 'SWT', 'FRONT-LOAD', 'DRILL RIG', 'MOTOR SKAT', 'TRAILER', 'LAWNMOWER', 'PUMPER', 'CAN', 'GOLF CART', 'PC', 'LIGHT TRAI', 'E REVEL SC', 'GO KART', '1C', 'GATOR', 'SLINGSHOT', 'ROAD SWEEP', 'HRSE', 'HORSE', 'DOT EQUIPM', 'APPOR', 'SPRIN', 'PAS', 'MOTOR', 'HAUL FOR H', 'VEHICLE 2', 'LAWN MOWER', 'SWEEPER', 'NYC ACS VA', 'HOPPER', 'CHURC', 'SKID LOADE', 'ITAS', 'JETSKI', 'DETAC', 'REP', 'SNOW PLOW', 'ART M', 'WORK', 'WAGON', 'ALUMI', 'HAND', 'ACCESS A R', 'TRAIN', 'E SKATE BO', 'SKATEBOARD', 'SKATE', 'E-SKATEBOA', 'E-UNICYCLE', 'ELEC. UNIC'], 'OTHER')\n",
    "\n",
    "#Unspecified\n",
    "df['vehicle_type_code1'] = df['vehicle_type_code1'].replace(['NAN','UNKNO', 'UNKNOWN', 'UNK', 'UNKN', '0', 'UKNOWN', 'UNKNOWN VE', 'UKN'], 'UNSPECIFIED')\n",
    "\n",
    "#BIKES\n",
    "df['vehicle_type_code1'] = df['vehicle_type_code1'].replace(['E BIK', 'E-BIKE', 'BIKE', 'MINIBIKE', 'MOTORBIKE', 'DIRT BIKE', 'E BIKE', 'E-BIK', 'MTA B', 'DIRTBIKE', 'EBIKE', 'MINICYCLE'], 'BIKE')\n",
    "\n",
    "\n",
    "#SCOOTERS\n",
    "df['vehicle_type_code1'] = df['vehicle_type_code1'].replace(['E-SCOOTER', 'E-SCO', 'SCOOT', 'VESPA', 'SCOOTER', 'MOTORSCOOTER', 'MOTORSCOOT', 'CROSS', 'MOTOR SCOO', 'ELECTRIC S', 'E SCO', 'SCOOTER', 'MOPED SCOO', 'MOPED ELEC', 'ELECTRIC M', 'E SCOOTER', 'ESCOOTER', 'PUSH SCOOT','MOPD', 'E-SCOTER', 'GAS SCOOTE'], 'SCOOTER')\n",
    "\n",
    "#UTILITY \n",
    "df['vehicle_type_code1'] = df['vehicle_type_code1'].replace(['STATION WAGON/SPORT UTILITY VEHICLE', 'SPORT UTILITY / STATION WAGON', 'UTILI', 'UTIL', 'UTILITY VE', 'UTILITY.', 'UTIL WH', 'UTILITY TR', 'CARRY ALL', 'PK', '35 FT', 'UHAUL', 'LIVESTOCK RACK', 'MECHANICAL'], 'UTILITY')\n",
    "\n",
    "#PICK UP \n",
    "df['vehicle_type_code1'] = df['vehicle_type_code1'].replace(['PICKU', 'PICK-', 'PU', 'PICK-UP TRUCK', 'PICKUP WITH MOUNTED CAMPER', 'PICK UP TR', 'PICK UP', 'F150XL PIC', 'F-250', 'PICK-UP TR', 'PICKUP', 'PICK TRUCK', 'F550'], 'PICK_UP')\n",
    "\n",
    "#TRUCK\n",
    "df['vehicle_type_code1'] = df['vehicle_type_code1'].replace(['TOW TRUCK', 'TOW T', 'TK', 'TOWTR', 'TOW TRUCK / WRECKER', 'TRK', 'TRUCK', 'CEMENT TRU', 'DUMP TRUCK', 'FREIGHT TR', '18 WHEELER', 'BUCKET TRU', 'FLATBED', 'FLATBED FR', 'FLAT BED', 'FLAT', 'FREIGHT', 'FREIGHT TR', 'TRC', 'FREIG', 'BOXTR', 'BEVERAGE TRUCK', 'DUMP', 'TUCK', 'CEMEN', 'MTA TRUCK', 'UHAUL TRUC', 'TRUCK TRAI', 'GARBAGE OR REFUSE', 'CHASSIS CAB', 'ARMORED TRUCK', 'FLAT RACK', 'MACK', 'GARBAGE TR', 'TRUCK FLAT', 'BOX', 'FOOD TRUCK', 'BS'], 'TRUCK')\n",
    "\n",
    "#FIRE TRUCK \n",
    "df['vehicle_type_code1'] = df['vehicle_type_code1'].replace(['FIRTRUCK', 'FIRE', 'FIRET', 'FDNY LADDE', 'FIRE ENGIN', 'FIRETRUCK', 'FDNY TRUCK', 'FDNY #226', 'FD LADDER', 'NYC FD', 'FDNY FIRE', 'FDNY', 'FDNY ENGIN', 'FDNY FIRET', 'FIRE TRUCK', 'NYC FIRETR', 'LADDER TRU', 'LADDER 34', 'FDNY EMS'], 'FIRE_TRUCK')\n",
    "\n",
    "#TRACTOR\n",
    "df['vehicle_type_code1'] = df['vehicle_type_code1'].replace(['TRACTOR TRUCK DIESEL', 'TRACTOR TRUCK GASOLINE', 'TRACT', 'TRACTOR TR', 'TRACTOR', 'JOHN DEERE', 'BACKHOE', 'BOBCAT FOR', 'CAT', 'CAMPER TRA', 'BACK HOE', 'TRAC', 'JOHN', 'BULK AGRICULTURE', 'CAT.', 'EXCAV'], 'TRACTOR')\n",
    "\n",
    "#BUS\n",
    "df['vehicle_type_code1'] = df['vehicle_type_code1'].replace(['BUS', 'SCHOO', 'SCHOOL BUS', 'MTA BUS', 'POSTAL BUS', 'SCHOOLBUS', 'NYC BUS'], 'BUS')\n",
    "\n",
    "#VAN \n",
    "df['vehicle_type_code1'] = df['vehicle_type_code1'].replace(['VAN', 'VAN CAMPER', 'TRUCK VAN', 'WORK VAN', 'FORD VAN', 'USPS VAN', 'REFRIGERATED VAN', 'CARGO VAN', 'VAN T', 'VAN (', 'ENCLOSED BODY - NONREMOVABLE ENCLOSURE', 'COMMERCIAL', 'CHEVY EXPR', 'MOVING VAN', 'ENCLOSED BODY - REMOVABLE ENCLOSURE', 'MOBIL'], 'VAN')\n",
    "\n",
    "#DELIVERY\n",
    "df['vehicle_type_code1'] = df['vehicle_type_code1'].replace(['DELIVERY', 'DILEVERY T', 'DELIVERY T', 'COURIER', 'UPS TRUCK', 'MESSAGE SI', 'DELIVERY V', 'UPS TRUCK', 'MAIL TRUCK', 'POSTAL TRU', 'FREIG DELV', 'USPS POSTA', 'PAYLO', 'POSTA', 'FREIGHT FL', 'USPS', 'DELV', 'DELIV', 'MAIL', 'DIRTB', 'MOVIN', 'POST', 'USPOS', 'MAILTRUCK', 'AMAZON SPR', 'FREIGHTLIN', 'USPS TRUCK', 'FREIGHTLIN', 'FRIEGHTLIN', 'USPS/GOVT'], 'DELIVERY')\n",
    "\n",
    "#POLICE\n",
    "df['vehicle_type_code1'] = df['vehicle_type_code1'].replace(['POLIC', 'POLICE', 'MULTI-WHEELED VEHICLE', 'EMS', 'NYS A', 'GOVERNMENT', 'TANKER'], 'POLICE')\n",
    "\n",
    "#LIFT \n",
    "df['vehicle_type_code1'] = df['vehicle_type_code1'].replace(['BOOM LIFT', 'FOLK LIFT', 'FORKLIFT', 'LIFT BOOM', 'LIFT', 'FORK LIFT', 'LIFT', 'FORLIFT', 'WELL DRILLER', 'FORK'], 'LIFT')\n",
    "\n",
    "df['vehicle_type_code1'] = df['vehicle_type_code1'].replace(['PASSENGER VEHICLE', 'MOPED', 'E-350', 'RV', 'SMALL COM VEH(4 TIRES) ', 'SEDAN', 'SELF', '2 DR SEDAN', 'REFG', '4 DR SEDAN', 'WINNE', 'P/SH', 'BOBCA', 'WHITE', 'COM', '4D', 'BOX T', '4DS', 'GOLF', 'LIMO', 'PARCE', 'OPEN BODY', 'UT', 'CITY', 'COMME', 'BACKH', 'WINEB', 'MINI', 'G SPC', 'TRLR', 'BACK', 'DIRT', 'TRL', 'RMP V', 'ELECT', 'LIMOU', 'MTA', 'US PO', 'BTM', 'COMM.', 'RANGE', 'BULLD', 'SMART CAR', 'PSD', 'SUV', 'POWER SHOV', '3-DOOR', 'DARK COLOR', 'J1', 'SUBURBAN', 'SUBN WHI','SUBN', 'WH FORD CO', 'CHEVROLET', 'LCOMM', 'FUSION', 'FORD SPRIN', 'E450', 'STREE', 'POWER', 'SUBURBANE', 'TOWER'], 'PRIVATE')\n",
    "\n",
    "df['vehicle_type_code1'] = df['vehicle_type_code1'].astype(str).str.lower()\n",
    "\n",
    "df['vehicle_type_code1'].unique()"
   ]
  },
  {
   "cell_type": "code",
   "execution_count": 57,
   "metadata": {},
   "outputs": [
    {
     "output_type": "execute_result",
     "data": {
      "text/plain": [
       "0"
      ]
     },
     "metadata": {},
     "execution_count": 57
    }
   ],
   "source": [
    "#checking for last 'nan' values\n",
    "df['vehicle_type_code1'].isnull().sum()"
   ]
  },
  {
   "cell_type": "code",
   "execution_count": 58,
   "metadata": {},
   "outputs": [
    {
     "output_type": "execute_result",
     "data": {
      "text/plain": [
       "array(['NAN', 'SEDAN', 'STATION WAGON/SPORT UTILITY VEHICLE', 'BOX TRUCK',\n",
       "       'PAS', 'MOTORCYCLE', 'BIKE', 'TRACTOR TRUCK DIESEL',\n",
       "       'PICK-UP TRUCK', 'TAXI', 'GARBAGE OR REFUSE', 'UNKNO', '3-DOOR',\n",
       "       'DUMP', 'VAN', 'CONVERTIBLE', 'BUS', 'CARRY ALL', '4 DR SEDAN',\n",
       "       'PK', 'SCHOOL BUS', 'FOOD', 'MOPED', 'UHAUL', 'TRAIL',\n",
       "       'ARMORED TRUCK', 'SMALL COM VEH(4 TIRES) ',\n",
       "       'SPORT UTILITY / STATION WAGON', 'FDNY', 'USPS', 'CEMEN',\n",
       "       'WELL DRILLER', 'VAN CAMPER', 'FLAT BED', 'CHASSIS CAB',\n",
       "       'TOW TRUCK / WRECKER', 'TRUCK', 'TUCK', 'DELV',\n",
       "       'TRACTOR TRUCK GASOLINE', 'TANKER', 'CONCRETE MIXER',\n",
       "       'REFRIGERATED VAN', 'PSD', 'RV', 'BOX T', 'UNKNOWN', 'FIRET',\n",
       "       'COM', 'FDNY FIRET', 'AMBUL', 'FIRE', 'AMBULANCE', 'LIFT BOOM',\n",
       "       'UNK', 'INTL', 'SCHOO', 'TOW T', 'MOTOR', 'POLIC', 'P/SH', 'DELIV',\n",
       "       'BEVERAGE TRUCK', 'PASSENGER VEHICLE', 'E-BIK', 'MTA B', 'E-SCO',\n",
       "       'CRANE', 'MOTORBIKE', 'STAKE OR RACK', 'FORKL', 'MAIL', 'DIRTB',\n",
       "       'MOVIN', 'MINIBIKE', 'GARBA', 'IP', 'LIFT', 'OTHER', 'REFG',\n",
       "       'GLASS RACK', 'MOTORSCOOTER', 'PASS', 'US PO', 'E350', 'BOOM',\n",
       "       'LUNCH WAGON', 'FLAT RACK', 'BULK AGRICULTURE', 'YELLO', 'MACK',\n",
       "       'TRAIN', 'HOPPER', 'PICKUP WITH MOUNTED CAMPER', 'LIMO', 'DETAC',\n",
       "       'BACKH', 'TRA/R', 'MULTI-WHEELED VEHICLE', 'TRANS', 'MINICYCLE',\n",
       "       'SCOOT', 'STREE', 'REP', 'E250', 'E SCO', 'PICK UP', 'SPRIN',\n",
       "       'BULLD', 'FORD', 'SNOW PLOW', 'US GOVT VE', 'FIRE TRUCK', 'SUBN',\n",
       "       'E-SCOOTER', 'ART M', 'ASPHA', 'WORK', 'SKATE', 'DEPAR', 'E BIK',\n",
       "       'BLACK', 'PEDICAB', 'FORK', 'LIVERY VEHICLE', 'ALUMI', 'ELECT',\n",
       "       'PALLET', 'DP', 'TRACT', 'JOHN', 'TRLR', 'UTILI', 'MOTORIZED HOME',\n",
       "       'BOBCA', 'VAN T', 'CAT32', 'FLAT', 'SELF-', 'CAMPE', 'TOWER',\n",
       "       'JLG L', 'UTIL WH', 'ENCLOSED BODY - NONREMOVABLE ENCLOSURE',\n",
       "       'OPEN BODY', 'ENGIN', 'VANETTE', 'WAGON', 'FED E', 'CHURC',\n",
       "       'VAN (', 'TOW TRUCK', 'CONST', 'AMBU', 'BOX', 'E-BIKE', 'POST',\n",
       "       'PICK', 'HAND', 'AMB', 'USPOS', 'ENCLO', 'MINI VAN', 'U-HAUL',\n",
       "       'STREET SWE', 'BACKHOE LO', 'CARGO VAN', 'INTERNATIO',\n",
       "       'MOPED SCOO', 'NYC FIRETR', 'SCOOTER', 'UKNOWN', 'DIRT BIKE',\n",
       "       'MOPED ELEC', 'REVEL', 'JOHN DEERE', 'FLATBED', 'DIRTBIKE',\n",
       "       'TRACTOR TR', 'UNKNOWN VE', 'DELIVERY T', 'UTIL', 'CONSTRUCTI',\n",
       "       'MTA TRUCK', 'ELECTRIC M', 'POWER SHOV', 'TRL', 'SANITATION',\n",
       "       'ELECTRIC S', '2 DR SEDAN', 'FDNY TRUCK', 'FIRETRUCK',\n",
       "       'COMMERCIAL', 'POSTAL TRU', 'TILT TANDE', 'I1', 'PICKUP',\n",
       "       'DUMP TRUCK', 'LAWN MOWER', 'FIRE ENGIN', 'GATOR', 'SKATEBOARD',\n",
       "       'TRACTOR', 'TRAILER', 'GARBAGE TR', 'TRAC', 'E SCOOTER',\n",
       "       'PICK UP TR', 'SWEEPER', 'FLEET', 'TRANSPORT', 'LEFT THE S',\n",
       "       'MOTOR SCOO', 'C1', '4DSD', 'STREET CLE', 'MAILTRUCK',\n",
       "       'TRUCK TRAI', 'BOOM LIFT', 'ESCOOTER', 'FOLK LIFT', 'FORKLIFT',\n",
       "       'UHAUL TRUC', 'NYC ACS VA', 'MOPD', 'BOB CAT', 'VEHICLE 2', 'UKN',\n",
       "       'FDNY FIRE', 'GOLF CART', 'PUSH SCOOT', 'UTILITY TR', 'RAZOR SCOO',\n",
       "       'ESCOVATOR', 'MAIL TRUCK', 'AMBULENCE', 'SUV', 'COMMERICAL',\n",
       "       'FREIGHTLIN', 'PALFINGER', 'FDNY EMS', 'SPECIAL PU', 'ICE CREAM',\n",
       "       'HAUL FOR H', 'EMS TRUCK', 'TREE CUTTE', 'E-SKATEBOA',\n",
       "       'USPS POSTA', 'VAN/TRANSI', 'FDNY AMBUL', 'RAM', 'GAS SCOOTE',\n",
       "       'HORSE', 'TOYOTA', 'USPS TRUCK', 'FRIEGHTLIN', 'NYC BUS', 'MOBILE',\n",
       "       'GLP050VXEV', 'PICK TRUCK', 'RDS', 'FRT', 'E-SCOTER', 'PC',\n",
       "       'PICK-UP TR', 'ACCESS A R', 'FD TRUCK', 'LCOM', 'SKID LOADE',\n",
       "       'ITAS', 'JETSKI', 'DELIVERY V', 'CARGO TRUC', 'TL', 'HEARSE',\n",
       "       'T630 FORKL', 'FORK LIFT', 'LIGHT TRAI', 'ROAD SWEEP', 'LMA',\n",
       "       'AMAZON SPR', '18 WEELER', 'GLNEN', 'E-SKA', 'SCHOOLBUS', 'SPEC-',\n",
       "       'LADDER TRU', 'EBIKE'], dtype=object)"
      ]
     },
     "metadata": {},
     "execution_count": 58
    }
   ],
   "source": [
    "#lowercase all columns tfor a first duplicates clean \n",
    "df['vehicle_type_code2'] = df['vehicle_type_code2'].astype(str).str.upper()\n",
    "df['vehicle_type_code2'].unique()"
   ]
  },
  {
   "cell_type": "code",
   "execution_count": 59,
   "metadata": {},
   "outputs": [
    {
     "output_type": "execute_result",
     "data": {
      "text/plain": [
       "array(['unspecified', 'private', 'utility', 'truck', 'other',\n",
       "       'motorcycle', 'bike', 'tractor', 'pick_up', 'taxi', 'van', 'bus',\n",
       "       'fire_truck', 'delivery', 'lift', 'police', 'ambulance', 'scooter'],\n",
       "      dtype=object)"
      ]
     },
     "metadata": {},
     "execution_count": 59
    }
   ],
   "source": [
    "#applying same filter to code 2\n",
    "\n",
    "#ambulance\n",
    "df['vehicle_type_code2'] = df['vehicle_type_code2'].replace(['AMBULANCE', 'AMBUL', 'AMB', 'AMBU', 'FDNY AMBUL', 'GEN  AMBUL', 'AMBULACE', 'ALMBULANCE', 'LEASED AMB', 'AMBULENCE', 'ABULANCE', 'WHITE AMBU', 'NYC AMBULA'], 'AMBULANCE')\n",
    "\n",
    "#others\n",
    "df['vehicle_type_code2'] = df['vehicle_type_code2'].replace(['OTHER', 'OTH', 'CONCRETE MIXER', 'STAKE OR RACK', 'CONT', 'LTR', 'FORKL', 'MOTORIZED HOME', 'CONST', 'TRAIL', 'PARCE', 'HI TA', 'PRKS', 'LUNCH WAGON', 'PEDICAB', 'SWT', 'FRONT-LOAD', 'DRILL RIG', 'MOTOR SKAT', 'TRAILER', 'LAWNMOWER', 'PUMPER', 'CAN', 'GOLF CART', 'PC', 'LIGHT TRAI', 'E REVEL SC', 'GO KART', '1C', 'GATOR', 'SLINGSHOT', 'ROAD SWEEP', 'HRSE', 'HORSE', 'DOT EQUIPM', 'APPOR', 'SPRIN', 'PAS', 'MOTOR', 'HAUL FOR H', 'VEHICLE 2', 'LAWN MOWER', 'SWEEPER', 'NYC ACS VA', 'HOPPER', 'CHURC', 'SKID LOADE', 'ITAS', 'JETSKI', 'DETAC', 'REP', 'SNOW PLOW', 'ART M', 'WORK', 'WAGON', 'ALUMI', 'HAND', 'ACCESS A R', 'TRAIN', 'E SKATE BO', 'SKATEBOARD', 'SKATE', 'E-SKATEBOA', 'E-UNICYCLE', 'ELEC. UNIC', 'E-SKA'], 'OTHER')\n",
    "\n",
    "#Unspecified\n",
    "df['vehicle_type_code2'] = df['vehicle_type_code2'].replace(['NAN','UNKNO', 'UNKNOWN', 'UNK', 'UNKN', '0', 'UKNOWN', 'UNKNOWN VE', 'UKN'], 'UNSPECIFIED')\n",
    "\n",
    "#BIKES\n",
    "df['vehicle_type_code2'] = df['vehicle_type_code2'].replace(['E BIK', 'E-BIKE', 'BIKE', 'MINIBIKE', 'MOTORBIKE', 'DIRT BIKE', 'E BIKE', 'E-BIK', 'MTA B', 'DIRTBIKE', 'EBIKE', 'MINICYCLE', 'T630 FORKL'], 'BIKE')\n",
    "\n",
    "\n",
    "#SCOOTERS\n",
    "df['vehicle_type_code2'] = df['vehicle_type_code2'].replace(['E-SCOOTER', 'E-SCO', 'SCOOT', 'VESPA', 'SCOOTER', 'MOTORSCOOTER', 'MOTORSCOOT', 'CROSS', 'MOTOR SCOO', 'ELECTRIC S', 'E SCO', 'SCOOTER', 'MOPED SCOO', 'MOPED ELEC', 'ELECTRIC M', 'E SCOOTER', 'ESCOOTER', 'PUSH SCOOT','MOPD', 'E-SCOTER', 'GAS SCOOTE', 'RAZOR SCOO'], 'SCOOTER')\n",
    "\n",
    "#UTILITY \n",
    "df['vehicle_type_code2'] = df['vehicle_type_code2'].replace(['STATION WAGON/SPORT UTILITY VEHICLE', 'SPORT UTILITY / STATION WAGON', 'UTILI', 'UTIL', 'UTILITY VE', 'UTILITY.', 'UTIL WH', 'UTILITY TR', 'CARRY ALL', 'PK', '35 FT', 'UHAUL', 'LIVESTOCK RACK', 'MECHANICAL', 'FOOD', 'PASS', 'CONSTRUCTI', 'SANITATION'], 'UTILITY')\n",
    "\n",
    "#PICK UP \n",
    "df['vehicle_type_code2'] = df['vehicle_type_code2'].replace(['PICKU', 'PICK-', 'PU', 'PICK-UP TRUCK', 'PICKUP WITH MOUNTED CAMPER', 'PICK UP TR', 'PICK UP', 'F150XL PIC', 'F-250', 'PICK-UP TR', 'PICKUP', 'PICK TRUCK', 'F550', 'IP', 'PICK', 'RAM'], 'PICK_UP')\n",
    "\n",
    "#TRUCK\n",
    "df['vehicle_type_code2'] = df['vehicle_type_code2'].replace(['TOW TRUCK', 'TOW T', 'TK', 'TOWTR', 'TOW TRUCK / WRECKER', 'TRK', 'TRUCK', 'CEMENT TRU', 'DUMP TRUCK', 'FREIGHT TR', '18 WHEELER', 'BUCKET TRU', 'FLATBED', 'FLATBED FR', 'FLAT BED', 'FLAT', 'FREIGHT', 'FREIGHT TR', 'TRC', 'FREIG', 'BOXTR', 'BEVERAGE TRUCK', 'DUMP', 'TUCK', 'CEMEN', 'MTA TRUCK', 'UHAUL TRUC', 'TRUCK TRAI', 'GARBAGE OR REFUSE', 'CHASSIS CAB', 'ARMORED TRUCK', 'FLAT RACK', 'MACK', 'GARBAGE TR', 'TRUCK FLAT', 'BOX', 'FOOD TRUCK', 'BS', 'BOX TRUCK', 'GARBA', 'FD TRUCK', '18 WEELER', 'CARGO TRUC', 'U-HAUL', 'TILT TANDE', 'EMS TRUCK'], 'TRUCK')\n",
    "\n",
    "#FIRE TRUCK \n",
    "df['vehicle_type_code2'] = df['vehicle_type_code2'].replace(['FIRTRUCK', 'FIRE', 'FIRET', 'FDNY LADDE', 'FIRE ENGIN', 'FIRETRUCK', 'FDNY TRUCK', 'FDNY #226', 'FD LADDER', 'NYC FD', 'FDNY FIRE', 'FDNY', 'FDNY ENGIN', 'FDNY FIRET', 'FIRE TRUCK', 'NYC FIRETR', 'LADDER TRU', 'LADDER 34', 'FDNY EMS'], 'FIRE_TRUCK')\n",
    "\n",
    "#TRACTOR\n",
    "df['vehicle_type_code2'] = df['vehicle_type_code2'].replace(['TRACTOR TRUCK DIESEL', 'TRACTOR TRUCK GASOLINE', 'TRACT', 'TRACTOR TR', 'TRACTOR', 'JOHN DEERE', 'BACKHOE', 'BOBCAT FOR', 'CAT', 'CAMPER TRA', 'BACK HOE', 'TRAC', 'JOHN', 'BULK AGRICULTURE', 'CAT.', 'EXCAV', 'BACKHOE LO', 'TRA/R', 'CAT32', '18 WEELER', 'ESCOVATOR', 'ENGIN'], 'TRACTOR')\n",
    "\n",
    "#BUS\n",
    "df['vehicle_type_code2'] = df['vehicle_type_code2'].replace(['BUS', 'SCHOO', 'SCHOOL BUS', 'MTA BUS', 'POSTAL BUS', 'SCHOOLBUS', 'NYC BUS', 'TRANSPORT', 'TRANS', 'DEPAR', 'INTERNATIO'], 'BUS')\n",
    "\n",
    "#VAN \n",
    "df['vehicle_type_code2'] = df['vehicle_type_code2'].replace(['VAN', 'VAN CAMPER', 'TRUCK VAN', 'WORK VAN', 'FORD VAN', 'USPS VAN', 'REFRIGERATED VAN', 'CARGO VAN', 'VAN T', 'VAN (', 'ENCLOSED BODY - NONREMOVABLE ENCLOSURE', 'COMMERCIAL', 'CHEVY EXPR', 'MOVING VAN', 'ENCLOSED BODY - REMOVABLE ENCLOSURE', 'MOBIL', 'GLASS RACK', 'MINI VAN', 'VANETTE', 'LCOM', 'COMMERICAL', 'ICE CREAM', 'CAMPE', 'VAN/TRANSI', 'REVEL', 'ENCLO', 'MOBILE', 'TL', 'HEARSE'], 'VAN')\n",
    "\n",
    "#DELIVERY\n",
    "df['vehicle_type_code2'] = df['vehicle_type_code2'].replace(['DELIVERY', 'DILEVERY T', 'DELIVERY T', 'COURIER', 'UPS TRUCK', 'MESSAGE SI', 'DELIVERY V', 'UPS TRUCK', 'MAIL TRUCK', 'POSTAL TRU', 'FREIG DELV', 'USPS POSTA', 'PAYLO', 'POSTA', 'FREIGHT FL', 'USPS', 'DELV', 'DELIV', 'MAIL', 'DIRTB', 'MOVIN', 'POST', 'USPOS', 'MAILTRUCK', 'AMAZON SPR', 'FREIGHTLIN', 'USPS TRUCK', 'FREIGHTLIN', 'FRIEGHTLIN', 'USPS/GOVT', 'LIVERY VEHICLE', 'DP'], 'DELIVERY')\n",
    "\n",
    "#POLICE\n",
    "df['vehicle_type_code2'] = df['vehicle_type_code2'].replace(['POLIC', 'POLICE', 'MULTI-WHEELED VEHICLE', 'EMS', 'NYS A', 'GOVERNMENT', 'TANKER', 'US GOVT VE'], 'POLICE')\n",
    "\n",
    "#LIFT \n",
    "df['vehicle_type_code2'] = df['vehicle_type_code2'].replace(['BOOM LIFT', 'FOLK LIFT', 'FORKLIFT', 'LIFT BOOM', 'LIFT', 'FORK LIFT', 'LIFT', 'FORLIFT', 'WELL DRILLER', 'FORK', 'CRANE', 'GLP050VXEV', 'PALLET', 'JLG L', 'TREE CUTTE'], 'LIFT')\n",
    "\n",
    "df['vehicle_type_code2'] = df['vehicle_type_code2'].replace(['PASSENGER VEHICLE', 'MOPED', 'E-350', 'RV', 'SMALL COM VEH(4 TIRES) ', 'SEDAN', 'SELF', '2 DR SEDAN', 'REFG', '4 DR SEDAN', 'WINNE', 'P/SH', 'BOBCA', 'WHITE', 'COM', '4D', 'BOX T', '4DS', 'GOLF', 'LIMO', 'PARCE', 'OPEN BODY', 'UT', 'CITY', 'COMME', 'BACKH', 'WINEB', 'MINI', 'G SPC', 'TRLR', 'BACK', 'DIRT', 'TRL', 'RMP V', 'ELECT', 'LIMOU', 'MTA', 'US PO', 'BTM', 'COMM.', 'RANGE', 'BULLD', 'SMART CAR', 'PSD', 'SUV', 'POWER SHOV', '3-DOOR', 'DARK COLOR', 'J1', 'SUBURBAN', 'SUBN WHI','SUBN', 'WH FORD CO', 'CHEVROLET', 'LCOMM', 'FUSION', 'FORD SPRIN', 'E450', 'STREE', 'POWER', 'SUBURBANE', 'CONVERTIBLE', 'INTL', 'E350', 'BOOM', 'FORD', 'YELLO', 'PALFINGER', 'STREET SWE', 'TOYOTA', 'STREET CLE', 'FLEET', 'LEFT THE S', '4DSD', 'E250', 'ASPHA', 'BLACK', 'TOWER', 'BOB CAT', 'SPECIAL PU', 'LMA', 'SPEC-', 'GLNEN', 'I1', 'C1', 'FED E', 'SELF-', 'RDS', 'FRT'], 'PRIVATE')\n",
    "\n",
    "df['vehicle_type_code2'] = df['vehicle_type_code2'].astype(str).str.lower()\n",
    "\n",
    "df['vehicle_type_code2'].unique()"
   ]
  },
  {
   "cell_type": "code",
   "execution_count": 60,
   "metadata": {},
   "outputs": [
    {
     "output_type": "execute_result",
     "data": {
      "text/plain": [
       "(100000, 22)"
      ]
     },
     "metadata": {},
     "execution_count": 60
    }
   ],
   "source": [
    "df.shape"
   ]
  },
  {
   "cell_type": "code",
   "execution_count": 61,
   "metadata": {},
   "outputs": [
    {
     "output_type": "execute_result",
     "data": {
      "text/plain": [
       "             crash_date crash_time        borough  zip_code  \\\n",
       "collision_id                                                  \n",
       "3654181      2017-04-18      23:10  STATEN ISLAND   10312.0   \n",
       "3665311      2017-05-06      13:00          BRONX   10472.0   \n",
       "3658491      2017-04-27      17:15         QUEENS   11420.0   \n",
       "3666554      2017-05-09      20:10    UNSPECIFIED       0.0   \n",
       "3653269      2017-04-18      14:00          BRONX   10456.0   \n",
       "...                 ...        ...            ...       ...   \n",
       "4244961      2019-11-20      15:00       BROOKLYN   11210.0   \n",
       "4250093      2019-12-01      11:22         QUEENS   11367.0   \n",
       "4245290      2019-11-21      21:30       BROOKLYN   11249.0   \n",
       "4243646      2019-11-18      17:28       BROOKLYN   11234.0   \n",
       "4247517      2019-11-17      20:42      MANHATTAN   10017.0   \n",
       "\n",
       "                             location                    on_street_name  \\\n",
       "collision_id                                                              \n",
       "3654181       (40.536728, -74.193344)                       unspecified   \n",
       "3665311        (40.829052, -73.85038)  CASTLE HILL AVENUE                 \n",
       "3658491       (40.677303, -73.804565)  135 STREET                         \n",
       "3666554       (40.624958, -74.145775)  FOREST AVENUE                      \n",
       "3653269        (40.828846, -73.90312)                       unspecified   \n",
       "...                               ...                               ...   \n",
       "4244961        (40.618893, -73.94642)                       unspecified   \n",
       "4250093         (40.72338, -73.81475)                       unspecified   \n",
       "4245290         (40.71082, -73.96853)  BROADWAY                           \n",
       "4243646        (40.63118, -73.928185)                       unspecified   \n",
       "4247517         (40.75076, -73.96843)  EAST 45 STREET                     \n",
       "\n",
       "              number_of_persons_injured  number_of_persons_killed  \\\n",
       "collision_id                                                        \n",
       "3654181                        0.000000                       0.0   \n",
       "3665311                        0.066667                       0.0   \n",
       "3658491                        0.000000                       0.0   \n",
       "3666554                        0.066667                       0.0   \n",
       "3653269                        0.000000                       0.0   \n",
       "...                                 ...                       ...   \n",
       "4244961                        0.000000                       0.0   \n",
       "4250093                        0.000000                       0.0   \n",
       "4245290                        0.000000                       0.0   \n",
       "4243646                        0.000000                       0.0   \n",
       "4247517                        0.000000                       0.0   \n",
       "\n",
       "              number_of_pedestrians_injured  number_of_pedestrians_killed  \\\n",
       "collision_id                                                                \n",
       "3654181                            0.000000                           0.0   \n",
       "3665311                            0.166667                           0.0   \n",
       "3658491                            0.000000                           0.0   \n",
       "3666554                            0.000000                           0.0   \n",
       "3653269                            0.000000                           0.0   \n",
       "...                                     ...                           ...   \n",
       "4244961                            0.000000                           0.0   \n",
       "4250093                            0.000000                           0.0   \n",
       "4245290                            0.000000                           0.0   \n",
       "4243646                            0.000000                           0.0   \n",
       "4247517                            0.000000                           0.0   \n",
       "\n",
       "              number_of_cyclist_injured  number_of_cyclist_killed  \\\n",
       "collision_id                                                        \n",
       "3654181                             0.0                       0.0   \n",
       "3665311                             0.0                       0.0   \n",
       "3658491                             0.0                       0.0   \n",
       "3666554                             0.0                       0.0   \n",
       "3653269                             0.0                       0.0   \n",
       "...                                 ...                       ...   \n",
       "4244961                             0.0                       0.0   \n",
       "4250093                             0.0                       0.0   \n",
       "4245290                             0.0                       0.0   \n",
       "4243646                             0.0                       0.0   \n",
       "4247517                             0.0                       0.0   \n",
       "\n",
       "              number_of_motorist_injured  number_of_motorist_killed  \\\n",
       "collision_id                                                          \n",
       "3654181                         0.000000                        0.0   \n",
       "3665311                         0.000000                        0.0   \n",
       "3658491                         0.000000                        0.0   \n",
       "3666554                         0.066667                        0.0   \n",
       "3653269                         0.000000                        0.0   \n",
       "...                                  ...                        ...   \n",
       "4244961                         0.000000                        0.0   \n",
       "4250093                         0.000000                        0.0   \n",
       "4245290                         0.000000                        0.0   \n",
       "4243646                         0.000000                        0.0   \n",
       "4247517                         0.000000                        0.0   \n",
       "\n",
       "              day_crash  ...  vehicle_type_code2_delivery  \\\n",
       "collision_id             ...                                \n",
       "3654181         Tuesday  ...                            0   \n",
       "3665311        Saturday  ...                            0   \n",
       "3658491        Thursday  ...                            0   \n",
       "3666554         Tuesday  ...                            0   \n",
       "3653269         Tuesday  ...                            0   \n",
       "...                 ...  ...                          ...   \n",
       "4244961       Wednesday  ...                            0   \n",
       "4250093          Sunday  ...                            0   \n",
       "4245290        Thursday  ...                            0   \n",
       "4243646          Monday  ...                            0   \n",
       "4247517          Sunday  ...                            0   \n",
       "\n",
       "              vehicle_type_code2_fire_truck vehicle_type_code2_lift  \\\n",
       "collision_id                                                          \n",
       "3654181                                   0                       0   \n",
       "3665311                                   0                       0   \n",
       "3658491                                   0                       0   \n",
       "3666554                                   0                       0   \n",
       "3653269                                   0                       0   \n",
       "...                                     ...                     ...   \n",
       "4244961                                   0                       0   \n",
       "4250093                                   0                       0   \n",
       "4245290                                   0                       0   \n",
       "4243646                                   0                       0   \n",
       "4247517                                   0                       0   \n",
       "\n",
       "              vehicle_type_code2_motorcycle  vehicle_type_code2_other  \\\n",
       "collision_id                                                            \n",
       "3654181                                   0                         0   \n",
       "3665311                                   0                         0   \n",
       "3658491                                   0                         0   \n",
       "3666554                                   0                         0   \n",
       "3653269                                   0                         0   \n",
       "...                                     ...                       ...   \n",
       "4244961                                   0                         0   \n",
       "4250093                                   0                         0   \n",
       "4245290                                   0                         0   \n",
       "4243646                                   0                         0   \n",
       "4247517                                   0                         0   \n",
       "\n",
       "              vehicle_type_code2_pick_up  vehicle_type_code2_police  \\\n",
       "collision_id                                                          \n",
       "3654181                                0                          0   \n",
       "3665311                                0                          0   \n",
       "3658491                                0                          0   \n",
       "3666554                                0                          0   \n",
       "3653269                                0                          0   \n",
       "...                                  ...                        ...   \n",
       "4244961                                0                          0   \n",
       "4250093                                0                          0   \n",
       "4245290                                0                          0   \n",
       "4243646                                0                          0   \n",
       "4247517                                0                          0   \n",
       "\n",
       "              vehicle_type_code2_private  vehicle_type_code2_scooter  \\\n",
       "collision_id                                                           \n",
       "3654181                                0                           0   \n",
       "3665311                                0                           0   \n",
       "3658491                                1                           0   \n",
       "3666554                                1                           0   \n",
       "3653269                                0                           0   \n",
       "...                                  ...                         ...   \n",
       "4244961                                0                           0   \n",
       "4250093                                0                           0   \n",
       "4245290                                0                           0   \n",
       "4243646                                0                           0   \n",
       "4247517                                0                           0   \n",
       "\n",
       "              vehicle_type_code2_taxi  vehicle_type_code2_tractor  \\\n",
       "collision_id                                                        \n",
       "3654181                             0                           0   \n",
       "3665311                             0                           0   \n",
       "3658491                             0                           0   \n",
       "3666554                             0                           0   \n",
       "3653269                             0                           0   \n",
       "...                               ...                         ...   \n",
       "4244961                             0                           0   \n",
       "4250093                             0                           0   \n",
       "4245290                             0                           0   \n",
       "4243646                             0                           0   \n",
       "4247517                             0                           0   \n",
       "\n",
       "              vehicle_type_code2_truck  vehicle_type_code2_unspecified  \\\n",
       "collision_id                                                             \n",
       "3654181                              0                               1   \n",
       "3665311                              0                               1   \n",
       "3658491                              0                               0   \n",
       "3666554                              0                               0   \n",
       "3653269                              0                               0   \n",
       "...                                ...                             ...   \n",
       "4244961                              0                               1   \n",
       "4250093                              0                               0   \n",
       "4245290                              1                               0   \n",
       "4243646                              0                               0   \n",
       "4247517                              0                               0   \n",
       "\n",
       "              vehicle_type_code2_utility  vehicle_type_code2_van  \n",
       "collision_id                                                      \n",
       "3654181                                0                       0  \n",
       "3665311                                0                       0  \n",
       "3658491                                0                       0  \n",
       "3666554                                0                       0  \n",
       "3653269                                1                       0  \n",
       "...                                  ...                     ...  \n",
       "4244961                                0                       0  \n",
       "4250093                                1                       0  \n",
       "4245290                                0                       0  \n",
       "4243646                                0                       0  \n",
       "4247517                                1                       0  \n",
       "\n",
       "[100000 rows x 157 columns]"
      ],
      "text/html": "<div>\n<style scoped>\n    .dataframe tbody tr th:only-of-type {\n        vertical-align: middle;\n    }\n\n    .dataframe tbody tr th {\n        vertical-align: top;\n    }\n\n    .dataframe thead th {\n        text-align: right;\n    }\n</style>\n<table border=\"1\" class=\"dataframe\">\n  <thead>\n    <tr style=\"text-align: right;\">\n      <th></th>\n      <th>crash_date</th>\n      <th>crash_time</th>\n      <th>borough</th>\n      <th>zip_code</th>\n      <th>location</th>\n      <th>on_street_name</th>\n      <th>number_of_persons_injured</th>\n      <th>number_of_persons_killed</th>\n      <th>number_of_pedestrians_injured</th>\n      <th>number_of_pedestrians_killed</th>\n      <th>number_of_cyclist_injured</th>\n      <th>number_of_cyclist_killed</th>\n      <th>number_of_motorist_injured</th>\n      <th>number_of_motorist_killed</th>\n      <th>day_crash</th>\n      <th>...</th>\n      <th>vehicle_type_code2_delivery</th>\n      <th>vehicle_type_code2_fire_truck</th>\n      <th>vehicle_type_code2_lift</th>\n      <th>vehicle_type_code2_motorcycle</th>\n      <th>vehicle_type_code2_other</th>\n      <th>vehicle_type_code2_pick_up</th>\n      <th>vehicle_type_code2_police</th>\n      <th>vehicle_type_code2_private</th>\n      <th>vehicle_type_code2_scooter</th>\n      <th>vehicle_type_code2_taxi</th>\n      <th>vehicle_type_code2_tractor</th>\n      <th>vehicle_type_code2_truck</th>\n      <th>vehicle_type_code2_unspecified</th>\n      <th>vehicle_type_code2_utility</th>\n      <th>vehicle_type_code2_van</th>\n    </tr>\n    <tr>\n      <th>collision_id</th>\n      <th></th>\n      <th></th>\n      <th></th>\n      <th></th>\n      <th></th>\n      <th></th>\n      <th></th>\n      <th></th>\n      <th></th>\n      <th></th>\n      <th></th>\n      <th></th>\n      <th></th>\n      <th></th>\n      <th></th>\n      <th></th>\n      <th></th>\n      <th></th>\n      <th></th>\n      <th></th>\n      <th></th>\n      <th></th>\n      <th></th>\n      <th></th>\n      <th></th>\n      <th></th>\n      <th></th>\n      <th></th>\n      <th></th>\n      <th></th>\n      <th></th>\n    </tr>\n  </thead>\n  <tbody>\n    <tr>\n      <th>3654181</th>\n      <td>2017-04-18</td>\n      <td>23:10</td>\n      <td>STATEN ISLAND</td>\n      <td>10312.0</td>\n      <td>(40.536728, -74.193344)</td>\n      <td>unspecified</td>\n      <td>0.000000</td>\n      <td>0.0</td>\n      <td>0.000000</td>\n      <td>0.0</td>\n      <td>0.0</td>\n      <td>0.0</td>\n      <td>0.000000</td>\n      <td>0.0</td>\n      <td>Tuesday</td>\n      <td>...</td>\n      <td>0</td>\n      <td>0</td>\n      <td>0</td>\n      <td>0</td>\n      <td>0</td>\n      <td>0</td>\n      <td>0</td>\n      <td>0</td>\n      <td>0</td>\n      <td>0</td>\n      <td>0</td>\n      <td>0</td>\n      <td>1</td>\n      <td>0</td>\n      <td>0</td>\n    </tr>\n    <tr>\n      <th>3665311</th>\n      <td>2017-05-06</td>\n      <td>13:00</td>\n      <td>BRONX</td>\n      <td>10472.0</td>\n      <td>(40.829052, -73.85038)</td>\n      <td>CASTLE HILL AVENUE</td>\n      <td>0.066667</td>\n      <td>0.0</td>\n      <td>0.166667</td>\n      <td>0.0</td>\n      <td>0.0</td>\n      <td>0.0</td>\n      <td>0.000000</td>\n      <td>0.0</td>\n      <td>Saturday</td>\n      <td>...</td>\n      <td>0</td>\n      <td>0</td>\n      <td>0</td>\n      <td>0</td>\n      <td>0</td>\n      <td>0</td>\n      <td>0</td>\n      <td>0</td>\n      <td>0</td>\n      <td>0</td>\n      <td>0</td>\n      <td>0</td>\n      <td>1</td>\n      <td>0</td>\n      <td>0</td>\n    </tr>\n    <tr>\n      <th>3658491</th>\n      <td>2017-04-27</td>\n      <td>17:15</td>\n      <td>QUEENS</td>\n      <td>11420.0</td>\n      <td>(40.677303, -73.804565)</td>\n      <td>135 STREET</td>\n      <td>0.000000</td>\n      <td>0.0</td>\n      <td>0.000000</td>\n      <td>0.0</td>\n      <td>0.0</td>\n      <td>0.0</td>\n      <td>0.000000</td>\n      <td>0.0</td>\n      <td>Thursday</td>\n      <td>...</td>\n      <td>0</td>\n      <td>0</td>\n      <td>0</td>\n      <td>0</td>\n      <td>0</td>\n      <td>0</td>\n      <td>0</td>\n      <td>1</td>\n      <td>0</td>\n      <td>0</td>\n      <td>0</td>\n      <td>0</td>\n      <td>0</td>\n      <td>0</td>\n      <td>0</td>\n    </tr>\n    <tr>\n      <th>3666554</th>\n      <td>2017-05-09</td>\n      <td>20:10</td>\n      <td>UNSPECIFIED</td>\n      <td>0.0</td>\n      <td>(40.624958, -74.145775)</td>\n      <td>FOREST AVENUE</td>\n      <td>0.066667</td>\n      <td>0.0</td>\n      <td>0.000000</td>\n      <td>0.0</td>\n      <td>0.0</td>\n      <td>0.0</td>\n      <td>0.066667</td>\n      <td>0.0</td>\n      <td>Tuesday</td>\n      <td>...</td>\n      <td>0</td>\n      <td>0</td>\n      <td>0</td>\n      <td>0</td>\n      <td>0</td>\n      <td>0</td>\n      <td>0</td>\n      <td>1</td>\n      <td>0</td>\n      <td>0</td>\n      <td>0</td>\n      <td>0</td>\n      <td>0</td>\n      <td>0</td>\n      <td>0</td>\n    </tr>\n    <tr>\n      <th>3653269</th>\n      <td>2017-04-18</td>\n      <td>14:00</td>\n      <td>BRONX</td>\n      <td>10456.0</td>\n      <td>(40.828846, -73.90312)</td>\n      <td>unspecified</td>\n      <td>0.000000</td>\n      <td>0.0</td>\n      <td>0.000000</td>\n      <td>0.0</td>\n      <td>0.0</td>\n      <td>0.0</td>\n      <td>0.000000</td>\n      <td>0.0</td>\n      <td>Tuesday</td>\n      <td>...</td>\n      <td>0</td>\n      <td>0</td>\n      <td>0</td>\n      <td>0</td>\n      <td>0</td>\n      <td>0</td>\n      <td>0</td>\n      <td>0</td>\n      <td>0</td>\n      <td>0</td>\n      <td>0</td>\n      <td>0</td>\n      <td>0</td>\n      <td>1</td>\n      <td>0</td>\n    </tr>\n    <tr>\n      <th>...</th>\n      <td>...</td>\n      <td>...</td>\n      <td>...</td>\n      <td>...</td>\n      <td>...</td>\n      <td>...</td>\n      <td>...</td>\n      <td>...</td>\n      <td>...</td>\n      <td>...</td>\n      <td>...</td>\n      <td>...</td>\n      <td>...</td>\n      <td>...</td>\n      <td>...</td>\n      <td>...</td>\n      <td>...</td>\n      <td>...</td>\n      <td>...</td>\n      <td>...</td>\n      <td>...</td>\n      <td>...</td>\n      <td>...</td>\n      <td>...</td>\n      <td>...</td>\n      <td>...</td>\n      <td>...</td>\n      <td>...</td>\n      <td>...</td>\n      <td>...</td>\n      <td>...</td>\n    </tr>\n    <tr>\n      <th>4244961</th>\n      <td>2019-11-20</td>\n      <td>15:00</td>\n      <td>BROOKLYN</td>\n      <td>11210.0</td>\n      <td>(40.618893, -73.94642)</td>\n      <td>unspecified</td>\n      <td>0.000000</td>\n      <td>0.0</td>\n      <td>0.000000</td>\n      <td>0.0</td>\n      <td>0.0</td>\n      <td>0.0</td>\n      <td>0.000000</td>\n      <td>0.0</td>\n      <td>Wednesday</td>\n      <td>...</td>\n      <td>0</td>\n      <td>0</td>\n      <td>0</td>\n      <td>0</td>\n      <td>0</td>\n      <td>0</td>\n      <td>0</td>\n      <td>0</td>\n      <td>0</td>\n      <td>0</td>\n      <td>0</td>\n      <td>0</td>\n      <td>1</td>\n      <td>0</td>\n      <td>0</td>\n    </tr>\n    <tr>\n      <th>4250093</th>\n      <td>2019-12-01</td>\n      <td>11:22</td>\n      <td>QUEENS</td>\n      <td>11367.0</td>\n      <td>(40.72338, -73.81475)</td>\n      <td>unspecified</td>\n      <td>0.000000</td>\n      <td>0.0</td>\n      <td>0.000000</td>\n      <td>0.0</td>\n      <td>0.0</td>\n      <td>0.0</td>\n      <td>0.000000</td>\n      <td>0.0</td>\n      <td>Sunday</td>\n      <td>...</td>\n      <td>0</td>\n      <td>0</td>\n      <td>0</td>\n      <td>0</td>\n      <td>0</td>\n      <td>0</td>\n      <td>0</td>\n      <td>0</td>\n      <td>0</td>\n      <td>0</td>\n      <td>0</td>\n      <td>0</td>\n      <td>0</td>\n      <td>1</td>\n      <td>0</td>\n    </tr>\n    <tr>\n      <th>4245290</th>\n      <td>2019-11-21</td>\n      <td>21:30</td>\n      <td>BROOKLYN</td>\n      <td>11249.0</td>\n      <td>(40.71082, -73.96853)</td>\n      <td>BROADWAY</td>\n      <td>0.000000</td>\n      <td>0.0</td>\n      <td>0.000000</td>\n      <td>0.0</td>\n      <td>0.0</td>\n      <td>0.0</td>\n      <td>0.000000</td>\n      <td>0.0</td>\n      <td>Thursday</td>\n      <td>...</td>\n      <td>0</td>\n      <td>0</td>\n      <td>0</td>\n      <td>0</td>\n      <td>0</td>\n      <td>0</td>\n      <td>0</td>\n      <td>0</td>\n      <td>0</td>\n      <td>0</td>\n      <td>0</td>\n      <td>1</td>\n      <td>0</td>\n      <td>0</td>\n      <td>0</td>\n    </tr>\n    <tr>\n      <th>4243646</th>\n      <td>2019-11-18</td>\n      <td>17:28</td>\n      <td>BROOKLYN</td>\n      <td>11234.0</td>\n      <td>(40.63118, -73.928185)</td>\n      <td>unspecified</td>\n      <td>0.000000</td>\n      <td>0.0</td>\n      <td>0.000000</td>\n      <td>0.0</td>\n      <td>0.0</td>\n      <td>0.0</td>\n      <td>0.000000</td>\n      <td>0.0</td>\n      <td>Monday</td>\n      <td>...</td>\n      <td>0</td>\n      <td>0</td>\n      <td>0</td>\n      <td>0</td>\n      <td>0</td>\n      <td>0</td>\n      <td>0</td>\n      <td>0</td>\n      <td>0</td>\n      <td>0</td>\n      <td>0</td>\n      <td>0</td>\n      <td>0</td>\n      <td>0</td>\n      <td>0</td>\n    </tr>\n    <tr>\n      <th>4247517</th>\n      <td>2019-11-17</td>\n      <td>20:42</td>\n      <td>MANHATTAN</td>\n      <td>10017.0</td>\n      <td>(40.75076, -73.96843)</td>\n      <td>EAST 45 STREET</td>\n      <td>0.000000</td>\n      <td>0.0</td>\n      <td>0.000000</td>\n      <td>0.0</td>\n      <td>0.0</td>\n      <td>0.0</td>\n      <td>0.000000</td>\n      <td>0.0</td>\n      <td>Sunday</td>\n      <td>...</td>\n      <td>0</td>\n      <td>0</td>\n      <td>0</td>\n      <td>0</td>\n      <td>0</td>\n      <td>0</td>\n      <td>0</td>\n      <td>0</td>\n      <td>0</td>\n      <td>0</td>\n      <td>0</td>\n      <td>0</td>\n      <td>0</td>\n      <td>1</td>\n      <td>0</td>\n    </tr>\n  </tbody>\n</table>\n<p>100000 rows × 157 columns</p>\n</div>"
     },
     "metadata": {},
     "execution_count": 61
    }
   ],
   "source": [
    "dummies = pd.get_dummies(df, columns=['contributing_factor_vehicle_1', 'contributing_factor_vehicle_2', 'vehicle_type_code1', 'vehicle_type_code2'])\n",
    "dummies"
   ]
  },
  {
   "cell_type": "code",
   "execution_count": 62,
   "metadata": {},
   "outputs": [],
   "source": [
    "df.reset_index(drop= True, inplace= True)"
   ]
  },
  {
   "source": [
    "# Splitting data"
   ],
   "cell_type": "markdown",
   "metadata": {}
  },
  {
   "cell_type": "code",
   "execution_count": 63,
   "metadata": {},
   "outputs": [],
   "source": [
    "#import sklearn for the train-test\n",
    "from sklearn.model_selection import train_test_split\n",
    "from sklearn.preprocessing import OneHotEncoder \n",
    "from sklearn.preprocessing import LabelEncoder \n",
    "import csv\n",
    "\n",
    "#dividing datas into train and test \n",
    "train, test = train_test_split(df, test_size=0.2)"
   ]
  },
  {
   "cell_type": "code",
   "execution_count": 64,
   "metadata": {},
   "outputs": [
    {
     "output_type": "stream",
     "name": "stdout",
     "text": [
      "test data =  20000\n"
     ]
    }
   ],
   "source": [
    "print('test data = ', len(test))"
   ]
  },
  {
   "cell_type": "code",
   "execution_count": 65,
   "metadata": {},
   "outputs": [
    {
     "output_type": "stream",
     "name": "stdout",
     "text": [
      "train data =  80000\n"
     ]
    }
   ],
   "source": [
    "print('train data = ', len(train))"
   ]
  },
  {
   "cell_type": "code",
   "execution_count": 66,
   "metadata": {},
   "outputs": [
    {
     "output_type": "stream",
     "name": "stdout",
     "text": [
      "      crash_date crash_time      borough  zip_code                location  \\\n29855 2019-08-04      15:50    MANHATTAN   10017.0   (40.75182, -73.97904)   \n12755 2019-08-13       9:30  UNSPECIFIED       0.0   (40.84432, -73.89988)   \n11162 2019-08-11      23:24  UNSPECIFIED       0.0    (40.815437, -73.924)   \n12308 2019-09-03      16:52  UNSPECIFIED       0.0                       0   \n97179 2019-11-27      20:20       QUEENS   11694.0   (40.580383, -73.8281)   \n...          ...        ...          ...       ...                     ...   \n50350 2020-08-19       0:00  UNSPECIFIED       0.0  (40.713078, -73.98507)   \n64111 2020-07-15      20:45       QUEENS   11434.0  (40.674744, -73.76368)   \n72184 2020-07-20      14:00     BROOKLYN   11206.0  (40.70196, -73.944016)   \n49317 2020-08-09       0:43  UNSPECIFIED       0.0  (40.666306, -73.79171)   \n66898 2020-06-30      16:39  UNSPECIFIED       0.0   (40.640385, -74.1722)   \n\n                         on_street_name  number_of_persons_injured  \\\n29855                       unspecified                   0.066667   \n12755  CROSS BRONX EXPY                                   0.000000   \n11162  MORRIS AVENUE                                      0.133333   \n12308  ZEREGA AVENUE                                      0.000000   \n97179                       unspecified                   0.000000   \n...                                 ...                        ...   \n50350  MONTGOMERY STREET                                  0.000000   \n64111  FARMERS BOULEVARD                                  0.000000   \n72184  BROADWAY                                           0.000000   \n49317  BELT PARKWAY                                       0.066667   \n66898                       unspecified                   0.000000   \n\n       number_of_persons_killed  number_of_pedestrians_injured  \\\n29855                       0.0                            0.0   \n12755                       0.0                            0.0   \n11162                       0.0                            0.0   \n12308                       0.0                            0.0   \n97179                       0.0                            0.0   \n...                         ...                            ...   \n50350                       0.0                            0.0   \n64111                       0.0                            0.0   \n72184                       0.0                            0.0   \n49317                       0.0                            0.0   \n66898                       0.0                            0.0   \n\n       number_of_pedestrians_killed  number_of_cyclist_injured  \\\n29855                           0.0                        0.0   \n12755                           0.0                        0.0   \n11162                           0.0                        0.0   \n12308                           0.0                        0.0   \n97179                           0.0                        0.0   \n...                             ...                        ...   \n50350                           0.0                        0.0   \n64111                           0.0                        0.0   \n72184                           0.0                        0.0   \n49317                           0.0                        0.0   \n66898                           0.0                        0.0   \n\n       number_of_cyclist_killed  number_of_motorist_injured  \\\n29855                       0.0                    0.066667   \n12755                       0.0                    0.000000   \n11162                       0.0                    0.133333   \n12308                       0.0                    0.000000   \n97179                       0.0                    0.000000   \n...                         ...                         ...   \n50350                       0.0                    0.000000   \n64111                       0.0                    0.000000   \n72184                       0.0                    0.000000   \n49317                       0.0                    0.066667   \n66898                       0.0                    0.000000   \n\n       number_of_motorist_killed   contributing_factor_vehicle_1  \\\n29855                        0.0  Driver Inattention/Distraction   \n12755                        0.0             Alcohol Involvement   \n11162                        0.0  Driver Inattention/Distraction   \n12308                        0.0                     Unspecified   \n97179                        0.0           Following Too Closely   \n...                          ...                             ...   \n50350                        0.0  Passing or Lane Usage Improper   \n64111                        0.0                     Unspecified   \n72184                        0.0  Driver Inattention/Distraction   \n49317                        0.0                     Unspecified   \n66898                        0.0  Driver Inattention/Distraction   \n\n      contributing_factor_vehicle_2 vehicle_type_code1 vehicle_type_code2  \\\n29855                   Unspecified            private            pick_up   \n12755                   Unspecified            private            private   \n11162                   Unspecified               taxi               taxi   \n12308                   Unspecified            private              other   \n97179                   Unspecified            private            private   \n...                             ...                ...                ...   \n50350                   Unspecified            utility                van   \n64111                   Unspecified            private        unspecified   \n72184                   Unspecified            utility              truck   \n49317                   Unspecified            private        unspecified   \n66898                   Unspecified            utility            utility   \n\n       day_crash  month_crash  year_crash  \\\n29855     Sunday            8        2019   \n12755    Tuesday            8        2019   \n11162     Sunday            8        2019   \n12308    Tuesday            9        2019   \n97179  Wednesday           11        2019   \n...          ...          ...         ...   \n50350  Wednesday            8        2020   \n64111  Wednesday            7        2020   \n72184     Monday            7        2020   \n49317     Sunday            8        2020   \n66898    Tuesday            6        2020   \n\n                                    near_street  \n29855  60        EAST 41 STREET                  \n12755                                       NaN  \n11162                                       NaN  \n12308                    CROSS BRONX EXPRESSWAY  \n97179  107-10    SHORE FRONT PARKWAY             \n...                                         ...  \n50350                                       NaN  \n64111                            GARRETT STREET  \n72184                          MANHATTAN AVENUE  \n49317                                       NaN  \n66898  3551      RICHMOND TERRACE                \n\n[80000 rows x 22 columns]\n"
     ]
    }
   ],
   "source": [
    "print(train)"
   ]
  },
  {
   "cell_type": "code",
   "execution_count": 67,
   "metadata": {},
   "outputs": [
    {
     "output_type": "stream",
     "name": "stdout",
     "text": [
      "(80000, 22)\n(20000, 22)\n"
     ]
    }
   ],
   "source": [
    "print(train.shape)\n",
    "print(test.shape)"
   ]
  },
  {
   "cell_type": "code",
   "execution_count": 68,
   "metadata": {},
   "outputs": [],
   "source": [
    "#saving files to csv files\n",
    "train.to_csv('train.csv',index=False)\n",
    "test.to_csv('test.csv',index=False)\n",
    "df.to_csv('without_dummies.csv', index=False)\n",
    "dummies.to_csv('with_dummies.csv', index=False)"
   ]
  }
 ]
}